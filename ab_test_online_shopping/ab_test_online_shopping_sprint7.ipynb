{
 "cells": [
  {
   "cell_type": "markdown",
   "id": "89bc62af",
   "metadata": {},
   "source": [
    "# Исследование гипотез для увеличения выручки"
   ]
  },
  {
   "cell_type": "markdown",
   "id": "12dcc89f",
   "metadata": {
    "toc": true
   },
   "source": [
    "<h1>Содержание<span class=\"tocSkip\"></span></h1>\n",
    "<div class=\"toc\"><ul class=\"toc-item\"><li><span><a href=\"#Изучение-данных-из-файла\" data-toc-modified-id=\"Изучение-данных-из-файла-1\"><span class=\"toc-item-num\">1&nbsp;&nbsp;</span>Изучение данных из файла</a></span><ul class=\"toc-item\"><li><span><a href=\"#Вывод\" data-toc-modified-id=\"Вывод-1.1\"><span class=\"toc-item-num\">1.1&nbsp;&nbsp;</span>Вывод</a></span></li></ul></li><li><span><a href=\"#Предобработка-данных\" data-toc-modified-id=\"Предобработка-данных-2\"><span class=\"toc-item-num\">2&nbsp;&nbsp;</span>Предобработка данных</a></span><ul class=\"toc-item\"><li><span><a href=\"#Стиль-заголовков\" data-toc-modified-id=\"Стиль-заголовков-2.1\"><span class=\"toc-item-num\">2.1&nbsp;&nbsp;</span>Стиль заголовков</a></span></li><li><span><a href=\"#Изменение-типов-данных\" data-toc-modified-id=\"Изменение-типов-данных-2.2\"><span class=\"toc-item-num\">2.2&nbsp;&nbsp;</span>Изменение типов данных</a></span></li><li><span><a href=\"#Проверка-на-дубликаты\" data-toc-modified-id=\"Проверка-на-дубликаты-2.3\"><span class=\"toc-item-num\">2.3&nbsp;&nbsp;</span>Проверка на дубликаты</a></span></li><li><span><a href=\"#Пропуски-значений\" data-toc-modified-id=\"Пропуски-значений-2.4\"><span class=\"toc-item-num\">2.4&nbsp;&nbsp;</span>Пропуски значений</a></span></li><li><span><a href=\"#Проверки-корректности-разбиения-пользователей-на-группы\" data-toc-modified-id=\"Проверки-корректности-разбиения-пользователей-на-группы-2.5\"><span class=\"toc-item-num\">2.5&nbsp;&nbsp;</span>Проверки корректности разбиения пользователей на группы</a></span></li><li><span><a href=\"#Вывод\" data-toc-modified-id=\"Вывод-2.6\"><span class=\"toc-item-num\">2.6&nbsp;&nbsp;</span>Вывод</a></span></li></ul></li><li><span><a href=\"#Приоритизация-гипотез\" data-toc-modified-id=\"Приоритизация-гипотез-3\"><span class=\"toc-item-num\">3&nbsp;&nbsp;</span>Приоритизация гипотез</a></span><ul class=\"toc-item\"><li><span><a href=\"#Применение-фреймворка-ICE\" data-toc-modified-id=\"Применение-фреймворка-ICE-3.1\"><span class=\"toc-item-num\">3.1&nbsp;&nbsp;</span>Применение фреймворка ICE</a></span></li><li><span><a href=\"#Применение-фреймворка-RICE\" data-toc-modified-id=\"Применение-фреймворка-RICE-3.2\"><span class=\"toc-item-num\">3.2&nbsp;&nbsp;</span>Применение фреймворка RICE</a></span></li><li><span><a href=\"#Вывод\" data-toc-modified-id=\"Вывод-3.3\"><span class=\"toc-item-num\">3.3&nbsp;&nbsp;</span>Вывод</a></span></li></ul></li><li><span><a href=\"#Анализ--A/B-теста\" data-toc-modified-id=\"Анализ--A/B-теста-4\"><span class=\"toc-item-num\">4&nbsp;&nbsp;</span>Анализ  A/B-теста</a></span><ul class=\"toc-item\"><li><span><a href=\"#Построение-графика-кумулятивной-выручки-по-группам\" data-toc-modified-id=\"Построение-графика-кумулятивной-выручки-по-группам-4.1\"><span class=\"toc-item-num\">4.1&nbsp;&nbsp;</span>Построение графика кумулятивной выручки по группам</a></span></li><li><span><a href=\"#Построение-графика-кумулятивного-среднего-чека-по-группам\" data-toc-modified-id=\"Построение-графика-кумулятивного-среднего-чека-по-группам-4.2\"><span class=\"toc-item-num\">4.2&nbsp;&nbsp;</span>Построение графика кумулятивного среднего чека по группам</a></span></li><li><span><a href=\"#Построение-графика-относительного-изменения-кумулятивного-среднего-чека-группы-B-к-группе-A\" data-toc-modified-id=\"Построение-графика-относительного-изменения-кумулятивного-среднего-чека-группы-B-к-группе-A-4.3\"><span class=\"toc-item-num\">4.3&nbsp;&nbsp;</span>Построение графика относительного изменения кумулятивного среднего чека группы B к группе A</a></span></li><li><span><a href=\"#Построение-графика-кумулятивной-конверсии-по-группам\" data-toc-modified-id=\"Построение-графика-кумулятивной-конверсии-по-группам-4.4\"><span class=\"toc-item-num\">4.4&nbsp;&nbsp;</span>Построение графика кумулятивной конверсии по группам</a></span></li><li><span><a href=\"#Построение-графика-относительного-изменения-кумулятивной-конверсии-группы-B-к-группе-A\" data-toc-modified-id=\"Построение-графика-относительного-изменения-кумулятивной-конверсии-группы-B-к-группе-A-4.5\"><span class=\"toc-item-num\">4.5&nbsp;&nbsp;</span>Построение графика относительного изменения кумулятивной конверсии группы B к группе A</a></span></li><li><span><a href=\"#Построение-точечного-графика--стоимостей-заказов\" data-toc-modified-id=\"Построение-точечного-графика--стоимостей-заказов-4.6\"><span class=\"toc-item-num\">4.6&nbsp;&nbsp;</span>Построение точечного графика  стоимостей заказов</a></span></li><li><span><a href=\"#Расчет-95-го-и-99-го-перцентилей-стоймости-заказов\" data-toc-modified-id=\"Расчет-95-го-и-99-го-перцентилей-стоймости-заказов-4.7\"><span class=\"toc-item-num\">4.7&nbsp;&nbsp;</span>Расчет 95-го и 99-го перцентилей стоймости заказов</a></span></li><li><span><a href=\"#Построение-точечного-графика-количества-заказов-по-пользователям\" data-toc-modified-id=\"Построение-точечного-графика-количества-заказов-по-пользователям-4.8\"><span class=\"toc-item-num\">4.8&nbsp;&nbsp;</span>Построение точечного графика количества заказов по пользователям</a></span></li><li><span><a href=\"#Расчет-95-го-и-99-го-перцентилей-количества-заказов-на-пользователя\" data-toc-modified-id=\"Расчет-95-го-и-99-го-перцентилей-количества-заказов-на-пользователя-4.9\"><span class=\"toc-item-num\">4.9&nbsp;&nbsp;</span>Расчет 95-го и 99-го перцентилей количества заказов на пользователя</a></span></li><li><span><a href=\"#Расчет-статистической-значимости-различий-в-конверсии-между-группами-по-«сырым»-данным\" data-toc-modified-id=\"Расчет-статистической-значимости-различий-в-конверсии-между-группами-по-«сырым»-данным-4.10\"><span class=\"toc-item-num\">4.10&nbsp;&nbsp;</span>Расчет статистической значимости различий в конверсии между группами по «сырым» данным</a></span></li><li><span><a href=\"#Расчет-статистической-значимости--различий-в-среднем-чеке-заказа-между-группами-по-«сырым»-данным\" data-toc-modified-id=\"Расчет-статистической-значимости--различий-в-среднем-чеке-заказа-между-группами-по-«сырым»-данным-4.11\"><span class=\"toc-item-num\">4.11&nbsp;&nbsp;</span>Расчет статистической значимости  различий в среднем чеке заказа между группами по «сырым» данным</a></span></li><li><span><a href=\"#Расчет-статистической-значимости-различий-в-конверсии--между-группами-по-«очищенным»-данным\" data-toc-modified-id=\"Расчет-статистической-значимости-различий-в-конверсии--между-группами-по-«очищенным»-данным-4.12\"><span class=\"toc-item-num\">4.12&nbsp;&nbsp;</span>Расчет статистической значимости различий в конверсии  между группами по «очищенным» данным</a></span></li><li><span><a href=\"#Расчет-статистической-значимости-различий-в-среднем-чеке-заказа-между-группами-по-«очищенным»-данным\" data-toc-modified-id=\"Расчет-статистической-значимости-различий-в-среднем-чеке-заказа-между-группами-по-«очищенным»-данным-4.13\"><span class=\"toc-item-num\">4.13&nbsp;&nbsp;</span>Расчет статистической значимости различий в среднем чеке заказа между группами по «очищенным» данным</a></span></li><li><span><a href=\"#Вывод\" data-toc-modified-id=\"Вывод-4.14\"><span class=\"toc-item-num\">4.14&nbsp;&nbsp;</span>Вывод</a></span></li></ul></li><li><span><a href=\"#Общий-вывод\" data-toc-modified-id=\"Общий-вывод-5\"><span class=\"toc-item-num\">5&nbsp;&nbsp;</span>Общий вывод</a></span></li></ul></div>"
   ]
  },
  {
   "cell_type": "markdown",
   "id": "cc650fcb",
   "metadata": {},
   "source": [
    "\n",
    "**Описание проекта**\n",
    "\n",
    "Мы —  аналитики крупного интернет-магазина. Вместе с отделом маркетинга мы подготовили список гипотез для увеличения выручки.\n",
    "\n",
    "**Цель исследования** — приоритизировать гипотезы, запустить A/B-тест и проанализировать результаты.\n",
    "\n",
    "**Ход исследования**\n",
    "\n",
    "Нам предстоит разбить задачу на две части:\n",
    "\n",
    "-  Приоритизация гипотез;\n",
    "-  Анализ A/B-теста.\n",
    "\n",
    "\n",
    "Данные о визитах, заказах и гипотезах мы  получим из файлов `visitors.csv, orders.csv, hypothesis.csv`. \n",
    "\n",
    "\n",
    "О качестве данных ничего не известно. Поэтому перед проведением исследования понадобится обзор данных. \n",
    "\n",
    "Мы проверим данные на ошибки и оценим их влияние на исследование. Затем на этапе предобработки мы поищем возможность исправить самые критичные из них.\n",
    " \n",
    "Таким образом, исследование пройдёт в четыре этапа:\n",
    "\n",
    "\n",
    " 1. Изучение данных;\n",
    " 2. Предобработка данных;\n",
    " 3. Приоритизация гипотез;\n",
    " 4. Анализ A/B-теста.\n",
    " "
   ]
  },
  {
   "cell_type": "markdown",
   "id": "480c0e35",
   "metadata": {},
   "source": [
    "## Изучение данных из файла"
   ]
  },
  {
   "cell_type": "markdown",
   "id": "580ee487",
   "metadata": {},
   "source": [
    "Составим первое представление о данных."
   ]
  },
  {
   "cell_type": "markdown",
   "id": "5e49b2f3",
   "metadata": {},
   "source": [
    "Импортируем  библиотеки `pandas, numpy, matplotlib, seaborn, scipy и  datetime`."
   ]
  },
  {
   "cell_type": "code",
   "execution_count": 1,
   "id": "086bbb05",
   "metadata": {
    "cell_style": "center"
   },
   "outputs": [],
   "source": [
    "# импорт библиотек\n",
    "import pandas as pd\n",
    "import numpy as np\n",
    "import matplotlib.pyplot as plt\n",
    "import seaborn as sns\n",
    "import scipy.stats as stats\n",
    "import datetime as dt\n",
    "%matplotlib inline\n",
    "%config InlineBackend.figure_format = 'retina'"
   ]
  },
  {
   "cell_type": "markdown",
   "id": "d46f44f7",
   "metadata": {},
   "source": [
    "Прочитаем файлы `visitors.csv, orders.csv, hypothesis.csv` из папки `/datasets` и сохраним их в переменных `visitors, orders, hypothesis` соответственно."
   ]
  },
  {
   "cell_type": "code",
   "execution_count": 2,
   "id": "2bbe50f9",
   "metadata": {},
   "outputs": [],
   "source": [
    "# чтение файла с данными и сохранение в visitors, orders, hypothesis\n",
    "try:\n",
    "    visitors = pd.read_csv('/datasets/visitors.csv')\n",
    "    orders = pd.read_csv('/datasets/orders.csv')\n",
    "    hypothesis = pd.read_csv('/datasets/hypothesis.csv')\n",
    "except:\n",
    "    visitors = pd.read_csv(\n",
    "        'D:\\\\Аналитик данных\\\\Яндекс-практикум\\\\Sprint7\\\\visitors.csv')\n",
    "    orders = pd.read_csv(\n",
    "        'D:\\\\Аналитик данных\\\\Яндекс-практикум\\\\Sprint7\\\\orders.csv')\n",
    "    hypothesis = pd.read_csv(\n",
    "        'D:\\\\Аналитик данных\\\\Яндекс-практикум\\\\Sprint7\\\\hypothesis.csv')"
   ]
  },
  {
   "cell_type": "markdown",
   "id": "b683f63c",
   "metadata": {},
   "source": [
    "Выведим на экран первые пять строк таблиц. Для этого напишем функцию df_head и осуществим её вызов."
   ]
  },
  {
   "cell_type": "code",
   "execution_count": 3,
   "id": "aad63be2",
   "metadata": {},
   "outputs": [],
   "source": [
    "# функция вывода первых пяти строк таблиц\n",
    "def df_head(lst_table, lst_name):\n",
    "    for i, table in enumerate(lst_table):\n",
    "        display(f'Вывод таблицы {lst_name[i]}')        \n",
    "        display(table.head())"
   ]
  },
  {
   "cell_type": "code",
   "execution_count": 4,
   "id": "753cb775",
   "metadata": {},
   "outputs": [],
   "source": [
    "# объявление переменных\n",
    "table = [hypothesis, orders, visitors]\n",
    "table_name = ['hypothesis','orders','visitors']"
   ]
  },
  {
   "cell_type": "code",
   "execution_count": 5,
   "id": "e1d2c2ee",
   "metadata": {},
   "outputs": [
    {
     "data": {
      "text/plain": [
       "'Вывод таблицы hypothesis'"
      ]
     },
     "metadata": {},
     "output_type": "display_data"
    },
    {
     "data": {
      "text/html": [
       "<div>\n",
       "<style scoped>\n",
       "    .dataframe tbody tr th:only-of-type {\n",
       "        vertical-align: middle;\n",
       "    }\n",
       "\n",
       "    .dataframe tbody tr th {\n",
       "        vertical-align: top;\n",
       "    }\n",
       "\n",
       "    .dataframe thead th {\n",
       "        text-align: right;\n",
       "    }\n",
       "</style>\n",
       "<table border=\"1\" class=\"dataframe\">\n",
       "  <thead>\n",
       "    <tr style=\"text-align: right;\">\n",
       "      <th></th>\n",
       "      <th>Hypothesis</th>\n",
       "      <th>Reach</th>\n",
       "      <th>Impact</th>\n",
       "      <th>Confidence</th>\n",
       "      <th>Efforts</th>\n",
       "    </tr>\n",
       "  </thead>\n",
       "  <tbody>\n",
       "    <tr>\n",
       "      <th>0</th>\n",
       "      <td>Добавить два новых канала привлечения трафика,...</td>\n",
       "      <td>3</td>\n",
       "      <td>10</td>\n",
       "      <td>8</td>\n",
       "      <td>6</td>\n",
       "    </tr>\n",
       "    <tr>\n",
       "      <th>1</th>\n",
       "      <td>Запустить собственную службу доставки, что сок...</td>\n",
       "      <td>2</td>\n",
       "      <td>5</td>\n",
       "      <td>4</td>\n",
       "      <td>10</td>\n",
       "    </tr>\n",
       "    <tr>\n",
       "      <th>2</th>\n",
       "      <td>Добавить блоки рекомендаций товаров на сайт ин...</td>\n",
       "      <td>8</td>\n",
       "      <td>3</td>\n",
       "      <td>7</td>\n",
       "      <td>3</td>\n",
       "    </tr>\n",
       "    <tr>\n",
       "      <th>3</th>\n",
       "      <td>Изменить структура категорий, что увеличит кон...</td>\n",
       "      <td>8</td>\n",
       "      <td>3</td>\n",
       "      <td>3</td>\n",
       "      <td>8</td>\n",
       "    </tr>\n",
       "    <tr>\n",
       "      <th>4</th>\n",
       "      <td>Изменить цвет фона главной страницы, чтобы уве...</td>\n",
       "      <td>3</td>\n",
       "      <td>1</td>\n",
       "      <td>1</td>\n",
       "      <td>1</td>\n",
       "    </tr>\n",
       "  </tbody>\n",
       "</table>\n",
       "</div>"
      ],
      "text/plain": [
       "                                          Hypothesis  Reach  Impact  \\\n",
       "0  Добавить два новых канала привлечения трафика,...      3      10   \n",
       "1  Запустить собственную службу доставки, что сок...      2       5   \n",
       "2  Добавить блоки рекомендаций товаров на сайт ин...      8       3   \n",
       "3  Изменить структура категорий, что увеличит кон...      8       3   \n",
       "4  Изменить цвет фона главной страницы, чтобы уве...      3       1   \n",
       "\n",
       "   Confidence  Efforts  \n",
       "0           8        6  \n",
       "1           4       10  \n",
       "2           7        3  \n",
       "3           3        8  \n",
       "4           1        1  "
      ]
     },
     "metadata": {},
     "output_type": "display_data"
    },
    {
     "data": {
      "text/plain": [
       "'Вывод таблицы orders'"
      ]
     },
     "metadata": {},
     "output_type": "display_data"
    },
    {
     "data": {
      "text/html": [
       "<div>\n",
       "<style scoped>\n",
       "    .dataframe tbody tr th:only-of-type {\n",
       "        vertical-align: middle;\n",
       "    }\n",
       "\n",
       "    .dataframe tbody tr th {\n",
       "        vertical-align: top;\n",
       "    }\n",
       "\n",
       "    .dataframe thead th {\n",
       "        text-align: right;\n",
       "    }\n",
       "</style>\n",
       "<table border=\"1\" class=\"dataframe\">\n",
       "  <thead>\n",
       "    <tr style=\"text-align: right;\">\n",
       "      <th></th>\n",
       "      <th>transactionId</th>\n",
       "      <th>visitorId</th>\n",
       "      <th>date</th>\n",
       "      <th>revenue</th>\n",
       "      <th>group</th>\n",
       "    </tr>\n",
       "  </thead>\n",
       "  <tbody>\n",
       "    <tr>\n",
       "      <th>0</th>\n",
       "      <td>3667963787</td>\n",
       "      <td>3312258926</td>\n",
       "      <td>2019-08-15</td>\n",
       "      <td>1650</td>\n",
       "      <td>B</td>\n",
       "    </tr>\n",
       "    <tr>\n",
       "      <th>1</th>\n",
       "      <td>2804400009</td>\n",
       "      <td>3642806036</td>\n",
       "      <td>2019-08-15</td>\n",
       "      <td>730</td>\n",
       "      <td>B</td>\n",
       "    </tr>\n",
       "    <tr>\n",
       "      <th>2</th>\n",
       "      <td>2961555356</td>\n",
       "      <td>4069496402</td>\n",
       "      <td>2019-08-15</td>\n",
       "      <td>400</td>\n",
       "      <td>A</td>\n",
       "    </tr>\n",
       "    <tr>\n",
       "      <th>3</th>\n",
       "      <td>3797467345</td>\n",
       "      <td>1196621759</td>\n",
       "      <td>2019-08-15</td>\n",
       "      <td>9759</td>\n",
       "      <td>B</td>\n",
       "    </tr>\n",
       "    <tr>\n",
       "      <th>4</th>\n",
       "      <td>2282983706</td>\n",
       "      <td>2322279887</td>\n",
       "      <td>2019-08-15</td>\n",
       "      <td>2308</td>\n",
       "      <td>B</td>\n",
       "    </tr>\n",
       "  </tbody>\n",
       "</table>\n",
       "</div>"
      ],
      "text/plain": [
       "   transactionId   visitorId        date  revenue group\n",
       "0     3667963787  3312258926  2019-08-15     1650     B\n",
       "1     2804400009  3642806036  2019-08-15      730     B\n",
       "2     2961555356  4069496402  2019-08-15      400     A\n",
       "3     3797467345  1196621759  2019-08-15     9759     B\n",
       "4     2282983706  2322279887  2019-08-15     2308     B"
      ]
     },
     "metadata": {},
     "output_type": "display_data"
    },
    {
     "data": {
      "text/plain": [
       "'Вывод таблицы visitors'"
      ]
     },
     "metadata": {},
     "output_type": "display_data"
    },
    {
     "data": {
      "text/html": [
       "<div>\n",
       "<style scoped>\n",
       "    .dataframe tbody tr th:only-of-type {\n",
       "        vertical-align: middle;\n",
       "    }\n",
       "\n",
       "    .dataframe tbody tr th {\n",
       "        vertical-align: top;\n",
       "    }\n",
       "\n",
       "    .dataframe thead th {\n",
       "        text-align: right;\n",
       "    }\n",
       "</style>\n",
       "<table border=\"1\" class=\"dataframe\">\n",
       "  <thead>\n",
       "    <tr style=\"text-align: right;\">\n",
       "      <th></th>\n",
       "      <th>date</th>\n",
       "      <th>group</th>\n",
       "      <th>visitors</th>\n",
       "    </tr>\n",
       "  </thead>\n",
       "  <tbody>\n",
       "    <tr>\n",
       "      <th>0</th>\n",
       "      <td>2019-08-01</td>\n",
       "      <td>A</td>\n",
       "      <td>719</td>\n",
       "    </tr>\n",
       "    <tr>\n",
       "      <th>1</th>\n",
       "      <td>2019-08-02</td>\n",
       "      <td>A</td>\n",
       "      <td>619</td>\n",
       "    </tr>\n",
       "    <tr>\n",
       "      <th>2</th>\n",
       "      <td>2019-08-03</td>\n",
       "      <td>A</td>\n",
       "      <td>507</td>\n",
       "    </tr>\n",
       "    <tr>\n",
       "      <th>3</th>\n",
       "      <td>2019-08-04</td>\n",
       "      <td>A</td>\n",
       "      <td>717</td>\n",
       "    </tr>\n",
       "    <tr>\n",
       "      <th>4</th>\n",
       "      <td>2019-08-05</td>\n",
       "      <td>A</td>\n",
       "      <td>756</td>\n",
       "    </tr>\n",
       "  </tbody>\n",
       "</table>\n",
       "</div>"
      ],
      "text/plain": [
       "         date group  visitors\n",
       "0  2019-08-01     A       719\n",
       "1  2019-08-02     A       619\n",
       "2  2019-08-03     A       507\n",
       "3  2019-08-04     A       717\n",
       "4  2019-08-05     A       756"
      ]
     },
     "metadata": {},
     "output_type": "display_data"
    }
   ],
   "source": [
    "# вызов функции\n",
    "df_head(table, table_name)"
   ]
  },
  {
   "cell_type": "markdown",
   "id": "d967545c",
   "metadata": {},
   "source": [
    "Получим общую информацию о таблицах с помощью метода info(). Для этого напишем функцию df_info и осуществим её вызов."
   ]
  },
  {
   "cell_type": "code",
   "execution_count": 6,
   "id": "626bb157",
   "metadata": {},
   "outputs": [],
   "source": [
    "# функция вывода общей информации о таблицах\n",
    "def df_info(lst_table, lst_name):\n",
    "    for i, table in enumerate(lst_table):\n",
    "        display(f'Информация о таблице {lst_name[i]}')        \n",
    "        display(table.info())"
   ]
  },
  {
   "cell_type": "code",
   "execution_count": 7,
   "id": "a26b8116",
   "metadata": {},
   "outputs": [
    {
     "data": {
      "text/plain": [
       "'Информация о таблице hypothesis'"
      ]
     },
     "metadata": {},
     "output_type": "display_data"
    },
    {
     "name": "stdout",
     "output_type": "stream",
     "text": [
      "<class 'pandas.core.frame.DataFrame'>\n",
      "RangeIndex: 9 entries, 0 to 8\n",
      "Data columns (total 5 columns):\n",
      " #   Column      Non-Null Count  Dtype \n",
      "---  ------      --------------  ----- \n",
      " 0   Hypothesis  9 non-null      object\n",
      " 1   Reach       9 non-null      int64 \n",
      " 2   Impact      9 non-null      int64 \n",
      " 3   Confidence  9 non-null      int64 \n",
      " 4   Efforts     9 non-null      int64 \n",
      "dtypes: int64(4), object(1)\n",
      "memory usage: 488.0+ bytes\n"
     ]
    },
    {
     "data": {
      "text/plain": [
       "None"
      ]
     },
     "metadata": {},
     "output_type": "display_data"
    },
    {
     "data": {
      "text/plain": [
       "'Информация о таблице orders'"
      ]
     },
     "metadata": {},
     "output_type": "display_data"
    },
    {
     "name": "stdout",
     "output_type": "stream",
     "text": [
      "<class 'pandas.core.frame.DataFrame'>\n",
      "RangeIndex: 1197 entries, 0 to 1196\n",
      "Data columns (total 5 columns):\n",
      " #   Column         Non-Null Count  Dtype \n",
      "---  ------         --------------  ----- \n",
      " 0   transactionId  1197 non-null   int64 \n",
      " 1   visitorId      1197 non-null   int64 \n",
      " 2   date           1197 non-null   object\n",
      " 3   revenue        1197 non-null   int64 \n",
      " 4   group          1197 non-null   object\n",
      "dtypes: int64(3), object(2)\n",
      "memory usage: 46.9+ KB\n"
     ]
    },
    {
     "data": {
      "text/plain": [
       "None"
      ]
     },
     "metadata": {},
     "output_type": "display_data"
    },
    {
     "data": {
      "text/plain": [
       "'Информация о таблице visitors'"
      ]
     },
     "metadata": {},
     "output_type": "display_data"
    },
    {
     "name": "stdout",
     "output_type": "stream",
     "text": [
      "<class 'pandas.core.frame.DataFrame'>\n",
      "RangeIndex: 62 entries, 0 to 61\n",
      "Data columns (total 3 columns):\n",
      " #   Column    Non-Null Count  Dtype \n",
      "---  ------    --------------  ----- \n",
      " 0   date      62 non-null     object\n",
      " 1   group     62 non-null     object\n",
      " 2   visitors  62 non-null     int64 \n",
      "dtypes: int64(1), object(2)\n",
      "memory usage: 1.6+ KB\n"
     ]
    },
    {
     "data": {
      "text/plain": [
       "None"
      ]
     },
     "metadata": {},
     "output_type": "display_data"
    }
   ],
   "source": [
    "# вызов функции\n",
    "df_info(table, table_name)"
   ]
  },
  {
   "cell_type": "markdown",
   "id": "7c796ced",
   "metadata": {},
   "source": [
    "Итак:\n",
    "\n",
    "*  в таблице hypothesis пять столбцов. Тип данных: `object, int`;\n",
    "*  в таблице orders пять столбцов. Тип данных: `object, int`;\n",
    "*  в таблице visitors три  столбца. Тип данных: `object, int`.\n",
    "\n",
    "\n",
    "Согласно документации к данным.\n",
    "\n",
    "В файле /datasets/hypothesis.csv 9 гипотез по увеличению выручки интернет-магазина с указанными параметрами Reach, Impact, Confidence, Effort.\n",
    "\n",
    "\n",
    "Структура hypothesis.csv:\n",
    "\n",
    "* Hypothesis — краткое описание гипотезы;\n",
    "* Reach — охват пользователей по 10-балльной шкале;\n",
    "* Impact — влияние на пользователей по 10-балльной шкале;\n",
    "* Confidence — уверенность в гипотезе по 10-балльной шкале;\n",
    "* Efforts — затраты ресурсов на проверку гипотезы по 10-балльной шкале. Чем больше значение Efforts, тем дороже проверка гипотезы.\n",
    "\n",
    "\n",
    "Мы провели A/B-тест и получили результаты, которые описаны в файлах /datasets/orders.csv и /datasets/visitors.csv.\n",
    "\n",
    "Структура orders.csv:\n",
    "\n",
    "* transactionId — идентификатор заказа;\n",
    "* visitorId — идентификатор пользователя, совершившего заказ;\n",
    "* date — дата, когда был совершён заказ;\n",
    "* revenue — выручка заказа;\n",
    "* group — группа A/B-теста, в которую попал заказ.\n",
    "\n",
    "Структура visitors.csv:\n",
    "\n",
    "* date — дата;\n",
    "* group — группа A/B-теста;\n",
    "* visitors — количество пользователей в указанную дату в указанной группе A/B-теста\n",
    "\n",
    "\n",
    "В названиях колонок таблиц orders и hypothesis видно нарушение стиля:\n",
    "\n",
    "1. Строчные буквы сочетаются с прописными,\n",
    "2. Отсутствует полное описание в «змеином_регистре».\n",
    "\n",
    "Осуществим исправление.\n",
    "\n",
    "Вещественный тип данных в столбцах `date` таблиц orders и visitors заменим на значения datetime. \n",
    "\n",
    "Проверим данные на строки-дубликаты и пропуски значений."
   ]
  },
  {
   "cell_type": "markdown",
   "id": "203c141f",
   "metadata": {},
   "source": [
    "\n",
    "Определим корректность разбиения пользователей на группы: может быть, есть пользователи, попавшие в обе группы.\n"
   ]
  },
  {
   "cell_type": "markdown",
   "id": "39b81815",
   "metadata": {},
   "source": [
    "### Вывод"
   ]
  },
  {
   "cell_type": "markdown",
   "id": "921263a2",
   "metadata": {},
   "source": [
    "В таблицах информация о гипотезах по увеличению выручки интернет-магазина и результатах A/B-теста.\n",
    "\n",
    "Предварительно можно утверждать: данных достаточно для проведения исследования. Часть колонок необходимо преобразовать в другой тип данных и исправить их название.\n",
    "\n",
    "Чтобы двигаться дальше, нужно устранить проблемы в данных."
   ]
  },
  {
   "cell_type": "markdown",
   "id": "2a24f758",
   "metadata": {},
   "source": [
    "## Предобработка данных"
   ]
  },
  {
   "cell_type": "markdown",
   "id": "21eafe0d",
   "metadata": {},
   "source": [
    "\n",
    "\n",
    "  \n",
    "Исправим стиль в заголовках столбцов, приведём данные к нужным типам. Затем проверим данные на дубликаты и пропуски значений. Определим корректность разбиения пользователей на группы.\n"
   ]
  },
  {
   "cell_type": "markdown",
   "id": "c0749912",
   "metadata": {},
   "source": [
    "### Стиль заголовков\n",
    "\n",
    "Выведем на экран названия столбцов таблицы hypothesis:"
   ]
  },
  {
   "cell_type": "code",
   "execution_count": 8,
   "id": "7d5e3f51",
   "metadata": {},
   "outputs": [
    {
     "data": {
      "text/plain": [
       "Index(['Hypothesis', 'Reach', 'Impact', 'Confidence', 'Efforts'], dtype='object')"
      ]
     },
     "execution_count": 8,
     "metadata": {},
     "output_type": "execute_result"
    }
   ],
   "source": [
    "# перечень названий столбцов таблицы hypothesis\n",
    "hypothesis.columns"
   ]
  },
  {
   "cell_type": "markdown",
   "id": "118b1a16",
   "metadata": {},
   "source": [
    "Приведем названия в соответствие с хорошим стилем."
   ]
  },
  {
   "cell_type": "code",
   "execution_count": 9,
   "id": "edcf018d",
   "metadata": {},
   "outputs": [],
   "source": [
    "# переименование столбцов\n",
    "hypothesis.columns = hypothesis.columns.str.lower() \n"
   ]
  },
  {
   "cell_type": "markdown",
   "id": "a9a9cd0b",
   "metadata": {
    "id": "1dqbh00J_Zct"
   },
   "source": [
    "Проверим результат. Для этого ещё раз выведем на экран названия столбцов:"
   ]
  },
  {
   "cell_type": "code",
   "execution_count": 10,
   "id": "78392b24",
   "metadata": {
    "code_folding": [],
    "id": "d4NOAmTW_Zct",
    "scrolled": true
   },
   "outputs": [
    {
     "data": {
      "text/plain": [
       "Index(['hypothesis', 'reach', 'impact', 'confidence', 'efforts'], dtype='object')"
      ]
     },
     "execution_count": 10,
     "metadata": {},
     "output_type": "execute_result"
    }
   ],
   "source": [
    "# проверка результатов - перечень названий столбцов\n",
    "hypothesis.columns"
   ]
  },
  {
   "cell_type": "markdown",
   "id": "92e4fdfd",
   "metadata": {},
   "source": [
    "Названия столбцов таблицы hypothesis изменены. Перейдем к таблице orders.\n",
    "\n",
    "\n",
    "Выведем на экран названия столбцов таблицы orders:"
   ]
  },
  {
   "cell_type": "code",
   "execution_count": 11,
   "id": "f0753450",
   "metadata": {},
   "outputs": [
    {
     "data": {
      "text/plain": [
       "Index(['transactionId', 'visitorId', 'date', 'revenue', 'group'], dtype='object')"
      ]
     },
     "execution_count": 11,
     "metadata": {},
     "output_type": "execute_result"
    }
   ],
   "source": [
    "# перечень названий столбцов таблицы orders\n",
    "orders.columns"
   ]
  },
  {
   "cell_type": "markdown",
   "id": "e3e6685d",
   "metadata": {},
   "source": [
    "Приведем названия в соответствие с хорошим стилем."
   ]
  },
  {
   "cell_type": "code",
   "execution_count": 12,
   "id": "68bf7684",
   "metadata": {},
   "outputs": [],
   "source": [
    "# переименование столбцов\n",
    "orders.columns = ['transaction_id', 'visitor_id', 'date', 'revenue', 'group']\n"
   ]
  },
  {
   "cell_type": "markdown",
   "id": "47a7562c",
   "metadata": {
    "id": "1dqbh00J_Zct"
   },
   "source": [
    "Проверим результат. Для этого ещё раз выведем на экран названия столбцов:"
   ]
  },
  {
   "cell_type": "code",
   "execution_count": 13,
   "id": "85707c28",
   "metadata": {
    "code_folding": [],
    "id": "d4NOAmTW_Zct",
    "scrolled": false
   },
   "outputs": [
    {
     "data": {
      "text/plain": [
       "Index(['transaction_id', 'visitor_id', 'date', 'revenue', 'group'], dtype='object')"
      ]
     },
     "execution_count": 13,
     "metadata": {},
     "output_type": "execute_result"
    }
   ],
   "source": [
    "# проверка результатов - перечень названий столбцов\n",
    "\n",
    "orders.columns"
   ]
  },
  {
   "cell_type": "markdown",
   "id": "ed5400ed",
   "metadata": {},
   "source": [
    "Названия столбцов изменены, теперь перейдём к типам данных."
   ]
  },
  {
   "cell_type": "markdown",
   "id": "ce6abe07",
   "metadata": {},
   "source": [
    "### Изменение типов данных"
   ]
  },
  {
   "cell_type": "markdown",
   "id": "a2d8093f",
   "metadata": {},
   "source": [
    "Вещественный тип данных в столбцах `date` таблиц orders и visitors заменим на значения datetime. "
   ]
  },
  {
   "cell_type": "code",
   "execution_count": 14,
   "id": "3201abfe",
   "metadata": {},
   "outputs": [],
   "source": [
    "# изменение типа данных\n",
    "orders['date'] = pd.to_datetime(orders['date'])\n",
    "visitors['date'] = pd.to_datetime(visitors['date'])"
   ]
  },
  {
   "cell_type": "markdown",
   "id": "6de009da",
   "metadata": {},
   "source": [
    "Проверим результат. Вызовем функцию df_info."
   ]
  },
  {
   "cell_type": "code",
   "execution_count": 15,
   "id": "809bcc68",
   "metadata": {},
   "outputs": [
    {
     "data": {
      "text/plain": [
       "'Информация о таблице hypothesis'"
      ]
     },
     "metadata": {},
     "output_type": "display_data"
    },
    {
     "name": "stdout",
     "output_type": "stream",
     "text": [
      "<class 'pandas.core.frame.DataFrame'>\n",
      "RangeIndex: 9 entries, 0 to 8\n",
      "Data columns (total 5 columns):\n",
      " #   Column      Non-Null Count  Dtype \n",
      "---  ------      --------------  ----- \n",
      " 0   hypothesis  9 non-null      object\n",
      " 1   reach       9 non-null      int64 \n",
      " 2   impact      9 non-null      int64 \n",
      " 3   confidence  9 non-null      int64 \n",
      " 4   efforts     9 non-null      int64 \n",
      "dtypes: int64(4), object(1)\n",
      "memory usage: 488.0+ bytes\n"
     ]
    },
    {
     "data": {
      "text/plain": [
       "None"
      ]
     },
     "metadata": {},
     "output_type": "display_data"
    },
    {
     "data": {
      "text/plain": [
       "'Информация о таблице orders'"
      ]
     },
     "metadata": {},
     "output_type": "display_data"
    },
    {
     "name": "stdout",
     "output_type": "stream",
     "text": [
      "<class 'pandas.core.frame.DataFrame'>\n",
      "RangeIndex: 1197 entries, 0 to 1196\n",
      "Data columns (total 5 columns):\n",
      " #   Column          Non-Null Count  Dtype         \n",
      "---  ------          --------------  -----         \n",
      " 0   transaction_id  1197 non-null   int64         \n",
      " 1   visitor_id      1197 non-null   int64         \n",
      " 2   date            1197 non-null   datetime64[ns]\n",
      " 3   revenue         1197 non-null   int64         \n",
      " 4   group           1197 non-null   object        \n",
      "dtypes: datetime64[ns](1), int64(3), object(1)\n",
      "memory usage: 46.9+ KB\n"
     ]
    },
    {
     "data": {
      "text/plain": [
       "None"
      ]
     },
     "metadata": {},
     "output_type": "display_data"
    },
    {
     "data": {
      "text/plain": [
       "'Информация о таблице visitors'"
      ]
     },
     "metadata": {},
     "output_type": "display_data"
    },
    {
     "name": "stdout",
     "output_type": "stream",
     "text": [
      "<class 'pandas.core.frame.DataFrame'>\n",
      "RangeIndex: 62 entries, 0 to 61\n",
      "Data columns (total 3 columns):\n",
      " #   Column    Non-Null Count  Dtype         \n",
      "---  ------    --------------  -----         \n",
      " 0   date      62 non-null     datetime64[ns]\n",
      " 1   group     62 non-null     object        \n",
      " 2   visitors  62 non-null     int64         \n",
      "dtypes: datetime64[ns](1), int64(1), object(1)\n",
      "memory usage: 1.6+ KB\n"
     ]
    },
    {
     "data": {
      "text/plain": [
       "None"
      ]
     },
     "metadata": {},
     "output_type": "display_data"
    }
   ],
   "source": [
    "df_info(table, table_name)"
   ]
  },
  {
   "cell_type": "markdown",
   "id": "09273c1f",
   "metadata": {},
   "source": [
    "Тип данных измененен. Осуществим проверку таблиц на дубликаты."
   ]
  },
  {
   "cell_type": "markdown",
   "id": "f1f65606",
   "metadata": {},
   "source": [
    "###  Проверка на дубликаты\n"
   ]
  },
  {
   "cell_type": "markdown",
   "id": "29d16dfe",
   "metadata": {},
   "source": [
    "Посчитаем явные дубликаты в таблицах одной командой."
   ]
  },
  {
   "cell_type": "code",
   "execution_count": 16,
   "id": "8f8f3895",
   "metadata": {},
   "outputs": [
    {
     "data": {
      "text/plain": [
       "0"
      ]
     },
     "metadata": {},
     "output_type": "display_data"
    },
    {
     "data": {
      "text/plain": [
       "0"
      ]
     },
     "metadata": {},
     "output_type": "display_data"
    },
    {
     "data": {
      "text/plain": [
       "0"
      ]
     },
     "metadata": {},
     "output_type": "display_data"
    }
   ],
   "source": [
    "# подсчёт явных дубликатов\n",
    "for i in table:\n",
    "    display(i.duplicated().sum())"
   ]
  },
  {
   "cell_type": "markdown",
   "id": "3289d773",
   "metadata": {},
   "source": [
    "Явные дубликаты отсутствуют."
   ]
  },
  {
   "cell_type": "markdown",
   "id": "69c9fee6",
   "metadata": {},
   "source": [
    "### Пропуски значений"
   ]
  },
  {
   "cell_type": "markdown",
   "id": "1207e749",
   "metadata": {},
   "source": [
    "Посчитаем сколько в таблицах пропущенных значений. Для этого достаточно двух методов `pandas`:"
   ]
  },
  {
   "cell_type": "code",
   "execution_count": 17,
   "id": "8efbb2dd",
   "metadata": {},
   "outputs": [
    {
     "data": {
      "text/plain": [
       "hypothesis    0\n",
       "reach         0\n",
       "impact        0\n",
       "confidence    0\n",
       "efforts       0\n",
       "dtype: int64"
      ]
     },
     "metadata": {},
     "output_type": "display_data"
    },
    {
     "data": {
      "text/plain": [
       "transaction_id    0\n",
       "visitor_id        0\n",
       "date              0\n",
       "revenue           0\n",
       "group             0\n",
       "dtype: int64"
      ]
     },
     "metadata": {},
     "output_type": "display_data"
    },
    {
     "data": {
      "text/plain": [
       "date        0\n",
       "group       0\n",
       "visitors    0\n",
       "dtype: int64"
      ]
     },
     "metadata": {},
     "output_type": "display_data"
    }
   ],
   "source": [
    "# подсчёт пропущенных значений\n",
    "for i in table:\n",
    "    display(i.isna().sum())\n"
   ]
  },
  {
   "cell_type": "markdown",
   "id": "3fc71aa0",
   "metadata": {},
   "source": [
    "Пропуски отсутствуют."
   ]
  },
  {
   "cell_type": "markdown",
   "id": "62fd6759",
   "metadata": {},
   "source": [
    "### Проверки корректности разбиения пользователей на группы"
   ]
  },
  {
   "cell_type": "markdown",
   "id": "8928937c",
   "metadata": {},
   "source": [
    "\n",
    "  \n",
    "Определим корректность разбиения пользователей на группы: может быть, есть пользователи, попавшие в обе группы.\n"
   ]
  },
  {
   "cell_type": "markdown",
   "id": "99f3dffe",
   "metadata": {},
   "source": [
    "\n",
    "  \n",
    "Сначала проверим таблицу `visitors`. Действительно ли каждой дате соответствует группа А и группа В.\n",
    "\n",
    "\n",
    "Сгруппируем таблицу по дате и посчитаем количество уникальных групп.\n",
    "\n",
    "\n"
   ]
  },
  {
   "cell_type": "code",
   "execution_count": 18,
   "id": "8ff3784c",
   "metadata": {
    "scrolled": false
   },
   "outputs": [
    {
     "data": {
      "text/html": [
       "<div>\n",
       "<style scoped>\n",
       "    .dataframe tbody tr th:only-of-type {\n",
       "        vertical-align: middle;\n",
       "    }\n",
       "\n",
       "    .dataframe tbody tr th {\n",
       "        vertical-align: top;\n",
       "    }\n",
       "\n",
       "    .dataframe thead th {\n",
       "        text-align: right;\n",
       "    }\n",
       "</style>\n",
       "<table border=\"1\" class=\"dataframe\">\n",
       "  <thead>\n",
       "    <tr style=\"text-align: right;\">\n",
       "      <th></th>\n",
       "      <th>group</th>\n",
       "    </tr>\n",
       "    <tr>\n",
       "      <th>date</th>\n",
       "      <th></th>\n",
       "    </tr>\n",
       "  </thead>\n",
       "  <tbody>\n",
       "    <tr>\n",
       "      <th>2019-08-01</th>\n",
       "      <td>2</td>\n",
       "    </tr>\n",
       "    <tr>\n",
       "      <th>2019-08-02</th>\n",
       "      <td>2</td>\n",
       "    </tr>\n",
       "    <tr>\n",
       "      <th>2019-08-03</th>\n",
       "      <td>2</td>\n",
       "    </tr>\n",
       "    <tr>\n",
       "      <th>2019-08-04</th>\n",
       "      <td>2</td>\n",
       "    </tr>\n",
       "    <tr>\n",
       "      <th>2019-08-05</th>\n",
       "      <td>2</td>\n",
       "    </tr>\n",
       "    <tr>\n",
       "      <th>2019-08-06</th>\n",
       "      <td>2</td>\n",
       "    </tr>\n",
       "    <tr>\n",
       "      <th>2019-08-07</th>\n",
       "      <td>2</td>\n",
       "    </tr>\n",
       "    <tr>\n",
       "      <th>2019-08-08</th>\n",
       "      <td>2</td>\n",
       "    </tr>\n",
       "    <tr>\n",
       "      <th>2019-08-09</th>\n",
       "      <td>2</td>\n",
       "    </tr>\n",
       "    <tr>\n",
       "      <th>2019-08-10</th>\n",
       "      <td>2</td>\n",
       "    </tr>\n",
       "    <tr>\n",
       "      <th>2019-08-11</th>\n",
       "      <td>2</td>\n",
       "    </tr>\n",
       "    <tr>\n",
       "      <th>2019-08-12</th>\n",
       "      <td>2</td>\n",
       "    </tr>\n",
       "    <tr>\n",
       "      <th>2019-08-13</th>\n",
       "      <td>2</td>\n",
       "    </tr>\n",
       "    <tr>\n",
       "      <th>2019-08-14</th>\n",
       "      <td>2</td>\n",
       "    </tr>\n",
       "    <tr>\n",
       "      <th>2019-08-15</th>\n",
       "      <td>2</td>\n",
       "    </tr>\n",
       "    <tr>\n",
       "      <th>2019-08-16</th>\n",
       "      <td>2</td>\n",
       "    </tr>\n",
       "    <tr>\n",
       "      <th>2019-08-17</th>\n",
       "      <td>2</td>\n",
       "    </tr>\n",
       "    <tr>\n",
       "      <th>2019-08-18</th>\n",
       "      <td>2</td>\n",
       "    </tr>\n",
       "    <tr>\n",
       "      <th>2019-08-19</th>\n",
       "      <td>2</td>\n",
       "    </tr>\n",
       "    <tr>\n",
       "      <th>2019-08-20</th>\n",
       "      <td>2</td>\n",
       "    </tr>\n",
       "    <tr>\n",
       "      <th>2019-08-21</th>\n",
       "      <td>2</td>\n",
       "    </tr>\n",
       "    <tr>\n",
       "      <th>2019-08-22</th>\n",
       "      <td>2</td>\n",
       "    </tr>\n",
       "    <tr>\n",
       "      <th>2019-08-23</th>\n",
       "      <td>2</td>\n",
       "    </tr>\n",
       "    <tr>\n",
       "      <th>2019-08-24</th>\n",
       "      <td>2</td>\n",
       "    </tr>\n",
       "    <tr>\n",
       "      <th>2019-08-25</th>\n",
       "      <td>2</td>\n",
       "    </tr>\n",
       "    <tr>\n",
       "      <th>2019-08-26</th>\n",
       "      <td>2</td>\n",
       "    </tr>\n",
       "    <tr>\n",
       "      <th>2019-08-27</th>\n",
       "      <td>2</td>\n",
       "    </tr>\n",
       "    <tr>\n",
       "      <th>2019-08-28</th>\n",
       "      <td>2</td>\n",
       "    </tr>\n",
       "    <tr>\n",
       "      <th>2019-08-29</th>\n",
       "      <td>2</td>\n",
       "    </tr>\n",
       "    <tr>\n",
       "      <th>2019-08-30</th>\n",
       "      <td>2</td>\n",
       "    </tr>\n",
       "    <tr>\n",
       "      <th>2019-08-31</th>\n",
       "      <td>2</td>\n",
       "    </tr>\n",
       "  </tbody>\n",
       "</table>\n",
       "</div>"
      ],
      "text/plain": [
       "            group\n",
       "date             \n",
       "2019-08-01      2\n",
       "2019-08-02      2\n",
       "2019-08-03      2\n",
       "2019-08-04      2\n",
       "2019-08-05      2\n",
       "2019-08-06      2\n",
       "2019-08-07      2\n",
       "2019-08-08      2\n",
       "2019-08-09      2\n",
       "2019-08-10      2\n",
       "2019-08-11      2\n",
       "2019-08-12      2\n",
       "2019-08-13      2\n",
       "2019-08-14      2\n",
       "2019-08-15      2\n",
       "2019-08-16      2\n",
       "2019-08-17      2\n",
       "2019-08-18      2\n",
       "2019-08-19      2\n",
       "2019-08-20      2\n",
       "2019-08-21      2\n",
       "2019-08-22      2\n",
       "2019-08-23      2\n",
       "2019-08-24      2\n",
       "2019-08-25      2\n",
       "2019-08-26      2\n",
       "2019-08-27      2\n",
       "2019-08-28      2\n",
       "2019-08-29      2\n",
       "2019-08-30      2\n",
       "2019-08-31      2"
      ]
     },
     "execution_count": 18,
     "metadata": {},
     "output_type": "execute_result"
    }
   ],
   "source": [
    "visitors.groupby('date').agg({ 'group' : 'nunique'})"
   ]
  },
  {
   "cell_type": "markdown",
   "id": "2a0f2511",
   "metadata": {},
   "source": [
    "\n",
    "Всё верно. Перейдем к проверке таблицы `orders`.\n",
    "\n",
    "\n"
   ]
  },
  {
   "cell_type": "code",
   "execution_count": 19,
   "id": "22540f7f",
   "metadata": {},
   "outputs": [
    {
     "data": {
      "text/plain": [
       "group    58\n",
       "dtype: int64"
      ]
     },
     "execution_count": 19,
     "metadata": {},
     "output_type": "execute_result"
    }
   ],
   "source": [
    "# подсчет пользователей, попавших в группы А и В\n",
    "a = orders.groupby('visitor_id').agg({ 'group' : 'nunique'}).query('group == 2').count()\n",
    "a"
   ]
  },
  {
   "cell_type": "code",
   "execution_count": 20,
   "id": "9c2ae99a",
   "metadata": {},
   "outputs": [
    {
     "data": {
      "text/plain": [
       "1031"
      ]
     },
     "execution_count": 20,
     "metadata": {},
     "output_type": "execute_result"
    }
   ],
   "source": [
    "# подсчет уникальных пользователей\n",
    "b = len(orders['visitor_id'].unique())\n",
    "b"
   ]
  },
  {
   "cell_type": "code",
   "execution_count": 21,
   "id": "66ec442b",
   "metadata": {},
   "outputs": [
    {
     "data": {
      "text/plain": [
       "group    5.625606\n",
       "dtype: float64"
      ]
     },
     "execution_count": 21,
     "metadata": {},
     "output_type": "execute_result"
    }
   ],
   "source": [
    "# расчет процента пользователей, попавших в группы А и В\n",
    "(a/b)*100"
   ]
  },
  {
   "cell_type": "markdown",
   "id": "4972618c",
   "metadata": {},
   "source": [
    "\n",
    "Таким образом 58 пользователей из 1031 попали в обе группы, что составляет порядка шести процентов.\n",
    "\n",
    "Ввиду того, что процент пользователей, попавших в обе группы, относительно небольшой, осуществим их удаление. Но к результатам такого тестирования необходимо относиться достаточно осторожно.\n",
    "    \n",
    "\n"
   ]
  },
  {
   "cell_type": "code",
   "execution_count": 22,
   "id": "0b071582",
   "metadata": {},
   "outputs": [],
   "source": [
    "# удаление пользователей попавших в обе группы\n",
    "filt = orders.groupby('visitor_id').agg({ 'group' : 'nunique'}).query('group == 2').reset_index()['visitor_id']\n",
    "orders = orders.query('visitor_id not in @filt')"
   ]
  },
  {
   "cell_type": "markdown",
   "id": "420faad8",
   "metadata": {},
   "source": [
    "\n",
    "Осуществим проверку.\n",
    "    \n"
   ]
  },
  {
   "cell_type": "code",
   "execution_count": 23,
   "id": "58e12e45",
   "metadata": {},
   "outputs": [
    {
     "data": {
      "text/plain": [
       "group    0\n",
       "dtype: int64"
      ]
     },
     "execution_count": 23,
     "metadata": {},
     "output_type": "execute_result"
    }
   ],
   "source": [
    "# подсчет пользователей, попавших в группы А и В\n",
    "orders.groupby('visitor_id').agg({ 'group' : 'nunique'}).query('group == 2').count()"
   ]
  },
  {
   "cell_type": "markdown",
   "id": "12c0b797",
   "metadata": {},
   "source": [
    "\n",
    "Удаление выполнено корректно.\n",
    "\n"
   ]
  },
  {
   "cell_type": "markdown",
   "id": "05f9fabb",
   "metadata": {},
   "source": [
    "### Вывод"
   ]
  },
  {
   "cell_type": "markdown",
   "id": "29d5f560",
   "metadata": {},
   "source": [
    "\n",
    "Предобработка обнаружила следующие проблемы в данных:\n",
    "\n",
    "- нарушения в стиле заголовков,\n",
    "\n",
    "- несоответствия в типе данных,\n",
    "    \n",
    "- пользователей, которые попали в обе группы.    \n",
    "\n",
    "\n",
    "Мы исправили заголовки, чтобы упростить работу с таблицей.\n",
    "\n",
    "Вещественный тип данных в столбцах date заменили на значения формата datetime для дальнейшей возможности осуществления действий с датами. \n",
    "    \n",
    "Удалили пользователей, которые попали в обе группы, ввиду их небольшого процента.\n",
    "    \n",
    "    \n",
    "Перейдем к приоритизации гипотез.\n"
   ]
  },
  {
   "cell_type": "markdown",
   "id": "6154ea19",
   "metadata": {},
   "source": [
    "## Приоритизация гипотез"
   ]
  },
  {
   "cell_type": "markdown",
   "id": "3cf4d864",
   "metadata": {},
   "source": [
    " Применим фреймворк ICE для приоритизации гипотез. ICE (от англ. impact, confidence, effort / ease «влияние, уверенность, усилия / простота») — один из самых популярных способов приоритизации задач. Отсортируем гипотезы по убыванию приоритета.\n",
    " \n",
    " "
   ]
  },
  {
   "cell_type": "markdown",
   "id": "6b82024b",
   "metadata": {},
   "source": [
    "### Применение фреймворка ICE"
   ]
  },
  {
   "cell_type": "code",
   "execution_count": 24,
   "id": "b4aff534",
   "metadata": {},
   "outputs": [
    {
     "data": {
      "text/html": [
       "<style  type=\"text/css\" >\n",
       "#T_3f047_row0_col0,#T_3f047_row1_col0,#T_3f047_row2_col0,#T_3f047_row3_col0,#T_3f047_row4_col0,#T_3f047_row5_col0,#T_3f047_row6_col0,#T_3f047_row7_col0,#T_3f047_row8_col0{\n",
       "            text-align:  left;\n",
       "        }</style><table id=\"T_3f047_\" ><thead>    <tr>        <th class=\"blank level0\" ></th>        <th class=\"col_heading level0 col0\" >hypothesis</th>        <th class=\"col_heading level0 col1\" >reach</th>        <th class=\"col_heading level0 col2\" >impact</th>        <th class=\"col_heading level0 col3\" >confidence</th>        <th class=\"col_heading level0 col4\" >efforts</th>        <th class=\"col_heading level0 col5\" >ICE</th>    </tr></thead><tbody>\n",
       "                <tr>\n",
       "                        <th id=\"T_3f047_level0_row0\" class=\"row_heading level0 row0\" >8</th>\n",
       "                        <td id=\"T_3f047_row0_col0\" class=\"data row0 col0\" >Запустить акцию, дающую скидку на товар в день рождения</td>\n",
       "                        <td id=\"T_3f047_row0_col1\" class=\"data row0 col1\" >1</td>\n",
       "                        <td id=\"T_3f047_row0_col2\" class=\"data row0 col2\" >9</td>\n",
       "                        <td id=\"T_3f047_row0_col3\" class=\"data row0 col3\" >9</td>\n",
       "                        <td id=\"T_3f047_row0_col4\" class=\"data row0 col4\" >5</td>\n",
       "                        <td id=\"T_3f047_row0_col5\" class=\"data row0 col5\" >16.200000</td>\n",
       "            </tr>\n",
       "            <tr>\n",
       "                        <th id=\"T_3f047_level0_row1\" class=\"row_heading level0 row1\" >0</th>\n",
       "                        <td id=\"T_3f047_row1_col0\" class=\"data row1 col0\" >Добавить два новых канала привлечения трафика, что позволит привлекать на 30% больше пользователей</td>\n",
       "                        <td id=\"T_3f047_row1_col1\" class=\"data row1 col1\" >3</td>\n",
       "                        <td id=\"T_3f047_row1_col2\" class=\"data row1 col2\" >10</td>\n",
       "                        <td id=\"T_3f047_row1_col3\" class=\"data row1 col3\" >8</td>\n",
       "                        <td id=\"T_3f047_row1_col4\" class=\"data row1 col4\" >6</td>\n",
       "                        <td id=\"T_3f047_row1_col5\" class=\"data row1 col5\" >13.333333</td>\n",
       "            </tr>\n",
       "            <tr>\n",
       "                        <th id=\"T_3f047_level0_row2\" class=\"row_heading level0 row2\" >7</th>\n",
       "                        <td id=\"T_3f047_row2_col0\" class=\"data row2 col0\" >Добавить форму подписки на все основные страницы, чтобы собрать базу клиентов для email-рассылок</td>\n",
       "                        <td id=\"T_3f047_row2_col1\" class=\"data row2 col1\" >10</td>\n",
       "                        <td id=\"T_3f047_row2_col2\" class=\"data row2 col2\" >7</td>\n",
       "                        <td id=\"T_3f047_row2_col3\" class=\"data row2 col3\" >8</td>\n",
       "                        <td id=\"T_3f047_row2_col4\" class=\"data row2 col4\" >5</td>\n",
       "                        <td id=\"T_3f047_row2_col5\" class=\"data row2 col5\" >11.200000</td>\n",
       "            </tr>\n",
       "            <tr>\n",
       "                        <th id=\"T_3f047_level0_row3\" class=\"row_heading level0 row3\" >6</th>\n",
       "                        <td id=\"T_3f047_row3_col0\" class=\"data row3 col0\" >Показать на главной странице баннеры с актуальными акциями и распродажами, чтобы увеличить конверсию</td>\n",
       "                        <td id=\"T_3f047_row3_col1\" class=\"data row3 col1\" >5</td>\n",
       "                        <td id=\"T_3f047_row3_col2\" class=\"data row3 col2\" >3</td>\n",
       "                        <td id=\"T_3f047_row3_col3\" class=\"data row3 col3\" >8</td>\n",
       "                        <td id=\"T_3f047_row3_col4\" class=\"data row3 col4\" >3</td>\n",
       "                        <td id=\"T_3f047_row3_col5\" class=\"data row3 col5\" >8.000000</td>\n",
       "            </tr>\n",
       "            <tr>\n",
       "                        <th id=\"T_3f047_level0_row4\" class=\"row_heading level0 row4\" >2</th>\n",
       "                        <td id=\"T_3f047_row4_col0\" class=\"data row4 col0\" >Добавить блоки рекомендаций товаров на сайт интернет магазина, чтобы повысить конверсию и средний чек заказа</td>\n",
       "                        <td id=\"T_3f047_row4_col1\" class=\"data row4 col1\" >8</td>\n",
       "                        <td id=\"T_3f047_row4_col2\" class=\"data row4 col2\" >3</td>\n",
       "                        <td id=\"T_3f047_row4_col3\" class=\"data row4 col3\" >7</td>\n",
       "                        <td id=\"T_3f047_row4_col4\" class=\"data row4 col4\" >3</td>\n",
       "                        <td id=\"T_3f047_row4_col5\" class=\"data row4 col5\" >7.000000</td>\n",
       "            </tr>\n",
       "            <tr>\n",
       "                        <th id=\"T_3f047_level0_row5\" class=\"row_heading level0 row5\" >1</th>\n",
       "                        <td id=\"T_3f047_row5_col0\" class=\"data row5 col0\" >Запустить собственную службу доставки, что сократит срок доставки заказов</td>\n",
       "                        <td id=\"T_3f047_row5_col1\" class=\"data row5 col1\" >2</td>\n",
       "                        <td id=\"T_3f047_row5_col2\" class=\"data row5 col2\" >5</td>\n",
       "                        <td id=\"T_3f047_row5_col3\" class=\"data row5 col3\" >4</td>\n",
       "                        <td id=\"T_3f047_row5_col4\" class=\"data row5 col4\" >10</td>\n",
       "                        <td id=\"T_3f047_row5_col5\" class=\"data row5 col5\" >2.000000</td>\n",
       "            </tr>\n",
       "            <tr>\n",
       "                        <th id=\"T_3f047_level0_row6\" class=\"row_heading level0 row6\" >5</th>\n",
       "                        <td id=\"T_3f047_row6_col0\" class=\"data row6 col0\" >Добавить страницу отзывов клиентов о магазине, что позволит увеличить количество заказов</td>\n",
       "                        <td id=\"T_3f047_row6_col1\" class=\"data row6 col1\" >3</td>\n",
       "                        <td id=\"T_3f047_row6_col2\" class=\"data row6 col2\" >2</td>\n",
       "                        <td id=\"T_3f047_row6_col3\" class=\"data row6 col3\" >2</td>\n",
       "                        <td id=\"T_3f047_row6_col4\" class=\"data row6 col4\" >3</td>\n",
       "                        <td id=\"T_3f047_row6_col5\" class=\"data row6 col5\" >1.333333</td>\n",
       "            </tr>\n",
       "            <tr>\n",
       "                        <th id=\"T_3f047_level0_row7\" class=\"row_heading level0 row7\" >3</th>\n",
       "                        <td id=\"T_3f047_row7_col0\" class=\"data row7 col0\" >Изменить структура категорий, что увеличит конверсию, т.к. пользователи быстрее найдут нужный товар</td>\n",
       "                        <td id=\"T_3f047_row7_col1\" class=\"data row7 col1\" >8</td>\n",
       "                        <td id=\"T_3f047_row7_col2\" class=\"data row7 col2\" >3</td>\n",
       "                        <td id=\"T_3f047_row7_col3\" class=\"data row7 col3\" >3</td>\n",
       "                        <td id=\"T_3f047_row7_col4\" class=\"data row7 col4\" >8</td>\n",
       "                        <td id=\"T_3f047_row7_col5\" class=\"data row7 col5\" >1.125000</td>\n",
       "            </tr>\n",
       "            <tr>\n",
       "                        <th id=\"T_3f047_level0_row8\" class=\"row_heading level0 row8\" >4</th>\n",
       "                        <td id=\"T_3f047_row8_col0\" class=\"data row8 col0\" >Изменить цвет фона главной страницы, чтобы увеличить вовлеченность пользователей</td>\n",
       "                        <td id=\"T_3f047_row8_col1\" class=\"data row8 col1\" >3</td>\n",
       "                        <td id=\"T_3f047_row8_col2\" class=\"data row8 col2\" >1</td>\n",
       "                        <td id=\"T_3f047_row8_col3\" class=\"data row8 col3\" >1</td>\n",
       "                        <td id=\"T_3f047_row8_col4\" class=\"data row8 col4\" >1</td>\n",
       "                        <td id=\"T_3f047_row8_col5\" class=\"data row8 col5\" >1.000000</td>\n",
       "            </tr>\n",
       "    </tbody></table>"
      ],
      "text/plain": [
       "<pandas.io.formats.style.Styler at 0x7f2f223173a0>"
      ]
     },
     "execution_count": 24,
     "metadata": {},
     "output_type": "execute_result"
    }
   ],
   "source": [
    "# расчет ICE и добавление в таблицу\n",
    "hypothesis['ICE'] = (hypothesis['impact'] * hypothesis['confidence'])/hypothesis['efforts']\n",
    "hypothesis = hypothesis.sort_values(by ='ICE',ascending = False)\n",
    "# вывод полного текста гипотезы\n",
    "pd.options.display.max_colwidth = 400 \n",
    "hypothesis.style.set_properties(subset=['hypothesis'],**{'text-align': 'left'})\n"
   ]
  },
  {
   "cell_type": "markdown",
   "id": "0eaf326f",
   "metadata": {},
   "source": [
    "Таким образом, в топ 3 вошли гипотезы под индексами 8, 0, 7, которые имеют наибольший ICE."
   ]
  },
  {
   "cell_type": "markdown",
   "id": "7339aaee",
   "metadata": {},
   "source": [
    "У  метода ICE есть модификация RICE (R от англ. reach, «охват»).\n",
    "Фреймворк RICE состоит из четырёх компонент:\n",
    "\n",
    "* Reach — скольких пользователей затронет изменение, которое вы хотите внести;\n",
    "* Impact — насколько сильно изменение повлияет на пользователей, их опыт и удовлетворение от продукта;\n",
    "* Confidence — насколько вы уверены, что это изменение повлияет на пользователей именно так;\n",
    "* Efforts — сколько стоит протестировать эту гипотезу.\n",
    "\n",
    "\n",
    "Применим фреймворк RICE для приоритизации гипотез. Отсортируем их по убыванию приоритета."
   ]
  },
  {
   "cell_type": "markdown",
   "id": "085b6197",
   "metadata": {},
   "source": [
    "### Применение фреймворка RICE"
   ]
  },
  {
   "cell_type": "code",
   "execution_count": 25,
   "id": "b006a877",
   "metadata": {
    "scrolled": true
   },
   "outputs": [
    {
     "data": {
      "text/html": [
       "<style  type=\"text/css\" >\n",
       "#T_edc67_row0_col0,#T_edc67_row1_col0,#T_edc67_row2_col0,#T_edc67_row3_col0,#T_edc67_row4_col0,#T_edc67_row5_col0,#T_edc67_row6_col0,#T_edc67_row7_col0,#T_edc67_row8_col0{\n",
       "            text-align:  left;\n",
       "        }</style><table id=\"T_edc67_\" ><thead>    <tr>        <th class=\"blank level0\" ></th>        <th class=\"col_heading level0 col0\" >hypothesis</th>        <th class=\"col_heading level0 col1\" >reach</th>        <th class=\"col_heading level0 col2\" >impact</th>        <th class=\"col_heading level0 col3\" >confidence</th>        <th class=\"col_heading level0 col4\" >efforts</th>        <th class=\"col_heading level0 col5\" >ICE</th>        <th class=\"col_heading level0 col6\" >RICE</th>    </tr></thead><tbody>\n",
       "                <tr>\n",
       "                        <th id=\"T_edc67_level0_row0\" class=\"row_heading level0 row0\" >7</th>\n",
       "                        <td id=\"T_edc67_row0_col0\" class=\"data row0 col0\" >Добавить форму подписки на все основные страницы, чтобы собрать базу клиентов для email-рассылок</td>\n",
       "                        <td id=\"T_edc67_row0_col1\" class=\"data row0 col1\" >10</td>\n",
       "                        <td id=\"T_edc67_row0_col2\" class=\"data row0 col2\" >7</td>\n",
       "                        <td id=\"T_edc67_row0_col3\" class=\"data row0 col3\" >8</td>\n",
       "                        <td id=\"T_edc67_row0_col4\" class=\"data row0 col4\" >5</td>\n",
       "                        <td id=\"T_edc67_row0_col5\" class=\"data row0 col5\" >11.200000</td>\n",
       "                        <td id=\"T_edc67_row0_col6\" class=\"data row0 col6\" >112.000000</td>\n",
       "            </tr>\n",
       "            <tr>\n",
       "                        <th id=\"T_edc67_level0_row1\" class=\"row_heading level0 row1\" >2</th>\n",
       "                        <td id=\"T_edc67_row1_col0\" class=\"data row1 col0\" >Добавить блоки рекомендаций товаров на сайт интернет магазина, чтобы повысить конверсию и средний чек заказа</td>\n",
       "                        <td id=\"T_edc67_row1_col1\" class=\"data row1 col1\" >8</td>\n",
       "                        <td id=\"T_edc67_row1_col2\" class=\"data row1 col2\" >3</td>\n",
       "                        <td id=\"T_edc67_row1_col3\" class=\"data row1 col3\" >7</td>\n",
       "                        <td id=\"T_edc67_row1_col4\" class=\"data row1 col4\" >3</td>\n",
       "                        <td id=\"T_edc67_row1_col5\" class=\"data row1 col5\" >7.000000</td>\n",
       "                        <td id=\"T_edc67_row1_col6\" class=\"data row1 col6\" >56.000000</td>\n",
       "            </tr>\n",
       "            <tr>\n",
       "                        <th id=\"T_edc67_level0_row2\" class=\"row_heading level0 row2\" >0</th>\n",
       "                        <td id=\"T_edc67_row2_col0\" class=\"data row2 col0\" >Добавить два новых канала привлечения трафика, что позволит привлекать на 30% больше пользователей</td>\n",
       "                        <td id=\"T_edc67_row2_col1\" class=\"data row2 col1\" >3</td>\n",
       "                        <td id=\"T_edc67_row2_col2\" class=\"data row2 col2\" >10</td>\n",
       "                        <td id=\"T_edc67_row2_col3\" class=\"data row2 col3\" >8</td>\n",
       "                        <td id=\"T_edc67_row2_col4\" class=\"data row2 col4\" >6</td>\n",
       "                        <td id=\"T_edc67_row2_col5\" class=\"data row2 col5\" >13.333333</td>\n",
       "                        <td id=\"T_edc67_row2_col6\" class=\"data row2 col6\" >40.000000</td>\n",
       "            </tr>\n",
       "            <tr>\n",
       "                        <th id=\"T_edc67_level0_row3\" class=\"row_heading level0 row3\" >6</th>\n",
       "                        <td id=\"T_edc67_row3_col0\" class=\"data row3 col0\" >Показать на главной странице баннеры с актуальными акциями и распродажами, чтобы увеличить конверсию</td>\n",
       "                        <td id=\"T_edc67_row3_col1\" class=\"data row3 col1\" >5</td>\n",
       "                        <td id=\"T_edc67_row3_col2\" class=\"data row3 col2\" >3</td>\n",
       "                        <td id=\"T_edc67_row3_col3\" class=\"data row3 col3\" >8</td>\n",
       "                        <td id=\"T_edc67_row3_col4\" class=\"data row3 col4\" >3</td>\n",
       "                        <td id=\"T_edc67_row3_col5\" class=\"data row3 col5\" >8.000000</td>\n",
       "                        <td id=\"T_edc67_row3_col6\" class=\"data row3 col6\" >40.000000</td>\n",
       "            </tr>\n",
       "            <tr>\n",
       "                        <th id=\"T_edc67_level0_row4\" class=\"row_heading level0 row4\" >8</th>\n",
       "                        <td id=\"T_edc67_row4_col0\" class=\"data row4 col0\" >Запустить акцию, дающую скидку на товар в день рождения</td>\n",
       "                        <td id=\"T_edc67_row4_col1\" class=\"data row4 col1\" >1</td>\n",
       "                        <td id=\"T_edc67_row4_col2\" class=\"data row4 col2\" >9</td>\n",
       "                        <td id=\"T_edc67_row4_col3\" class=\"data row4 col3\" >9</td>\n",
       "                        <td id=\"T_edc67_row4_col4\" class=\"data row4 col4\" >5</td>\n",
       "                        <td id=\"T_edc67_row4_col5\" class=\"data row4 col5\" >16.200000</td>\n",
       "                        <td id=\"T_edc67_row4_col6\" class=\"data row4 col6\" >16.200000</td>\n",
       "            </tr>\n",
       "            <tr>\n",
       "                        <th id=\"T_edc67_level0_row5\" class=\"row_heading level0 row5\" >3</th>\n",
       "                        <td id=\"T_edc67_row5_col0\" class=\"data row5 col0\" >Изменить структура категорий, что увеличит конверсию, т.к. пользователи быстрее найдут нужный товар</td>\n",
       "                        <td id=\"T_edc67_row5_col1\" class=\"data row5 col1\" >8</td>\n",
       "                        <td id=\"T_edc67_row5_col2\" class=\"data row5 col2\" >3</td>\n",
       "                        <td id=\"T_edc67_row5_col3\" class=\"data row5 col3\" >3</td>\n",
       "                        <td id=\"T_edc67_row5_col4\" class=\"data row5 col4\" >8</td>\n",
       "                        <td id=\"T_edc67_row5_col5\" class=\"data row5 col5\" >1.125000</td>\n",
       "                        <td id=\"T_edc67_row5_col6\" class=\"data row5 col6\" >9.000000</td>\n",
       "            </tr>\n",
       "            <tr>\n",
       "                        <th id=\"T_edc67_level0_row6\" class=\"row_heading level0 row6\" >1</th>\n",
       "                        <td id=\"T_edc67_row6_col0\" class=\"data row6 col0\" >Запустить собственную службу доставки, что сократит срок доставки заказов</td>\n",
       "                        <td id=\"T_edc67_row6_col1\" class=\"data row6 col1\" >2</td>\n",
       "                        <td id=\"T_edc67_row6_col2\" class=\"data row6 col2\" >5</td>\n",
       "                        <td id=\"T_edc67_row6_col3\" class=\"data row6 col3\" >4</td>\n",
       "                        <td id=\"T_edc67_row6_col4\" class=\"data row6 col4\" >10</td>\n",
       "                        <td id=\"T_edc67_row6_col5\" class=\"data row6 col5\" >2.000000</td>\n",
       "                        <td id=\"T_edc67_row6_col6\" class=\"data row6 col6\" >4.000000</td>\n",
       "            </tr>\n",
       "            <tr>\n",
       "                        <th id=\"T_edc67_level0_row7\" class=\"row_heading level0 row7\" >5</th>\n",
       "                        <td id=\"T_edc67_row7_col0\" class=\"data row7 col0\" >Добавить страницу отзывов клиентов о магазине, что позволит увеличить количество заказов</td>\n",
       "                        <td id=\"T_edc67_row7_col1\" class=\"data row7 col1\" >3</td>\n",
       "                        <td id=\"T_edc67_row7_col2\" class=\"data row7 col2\" >2</td>\n",
       "                        <td id=\"T_edc67_row7_col3\" class=\"data row7 col3\" >2</td>\n",
       "                        <td id=\"T_edc67_row7_col4\" class=\"data row7 col4\" >3</td>\n",
       "                        <td id=\"T_edc67_row7_col5\" class=\"data row7 col5\" >1.333333</td>\n",
       "                        <td id=\"T_edc67_row7_col6\" class=\"data row7 col6\" >4.000000</td>\n",
       "            </tr>\n",
       "            <tr>\n",
       "                        <th id=\"T_edc67_level0_row8\" class=\"row_heading level0 row8\" >4</th>\n",
       "                        <td id=\"T_edc67_row8_col0\" class=\"data row8 col0\" >Изменить цвет фона главной страницы, чтобы увеличить вовлеченность пользователей</td>\n",
       "                        <td id=\"T_edc67_row8_col1\" class=\"data row8 col1\" >3</td>\n",
       "                        <td id=\"T_edc67_row8_col2\" class=\"data row8 col2\" >1</td>\n",
       "                        <td id=\"T_edc67_row8_col3\" class=\"data row8 col3\" >1</td>\n",
       "                        <td id=\"T_edc67_row8_col4\" class=\"data row8 col4\" >1</td>\n",
       "                        <td id=\"T_edc67_row8_col5\" class=\"data row8 col5\" >1.000000</td>\n",
       "                        <td id=\"T_edc67_row8_col6\" class=\"data row8 col6\" >3.000000</td>\n",
       "            </tr>\n",
       "    </tbody></table>"
      ],
      "text/plain": [
       "<pandas.io.formats.style.Styler at 0x7f2f22132b50>"
      ]
     },
     "execution_count": 25,
     "metadata": {},
     "output_type": "execute_result"
    }
   ],
   "source": [
    "# расчет RICE и добавление в таблицу\n",
    "hypothesis['RICE'] = (hypothesis['impact'] * hypothesis['confidence']*hypothesis['reach'])/hypothesis['efforts']\n",
    "hypothesis = hypothesis.sort_values(by ='RICE',ascending = False)\n",
    "hypothesis.style.set_properties(subset=['hypothesis'],**{'text-align': 'left'})"
   ]
  },
  {
   "cell_type": "markdown",
   "id": "af24df2e",
   "metadata": {},
   "source": [
    "### Вывод"
   ]
  },
  {
   "cell_type": "markdown",
   "id": "c7ef35be",
   "metadata": {},
   "source": [
    "Заметим, что при использовании фреймовка RICE в топ 3 вошли гипотезы под индексами 7, 2, 0. Данная смена лидерства среди гипотез обусловлена введением показателя Reach — на какое количество пользователей повлияет гипотеза. Это всегда точная цифра, которую можно посмотреть, поэтому результат приоритизации будет более data-driven.\n",
    "\n",
    "Перейдем к анализу данных A/B-теста."
   ]
  },
  {
   "cell_type": "markdown",
   "id": "76ce1ff6",
   "metadata": {},
   "source": [
    "## Анализ  A/B-теста"
   ]
  },
  {
   "cell_type": "markdown",
   "id": "25c58bc7",
   "metadata": {},
   "source": [
    "Чтобы исключить проблему подсматривания, анализируют графики метрик.\n",
    "\n",
    "\n",
    "Изучают графики кумулятивных, или накапливаемых данных. Например, тест шёл 31 день. Если построить график по кумулятивным данным, в точке первого дня будут значения метрик за этот день, в точке второго дня — набор метрик за два дня, в точке третьего — набор за три. Так отслеживают изменения результатов эксперимента на каждый день тестирования.\n",
    "По центральной предельной теореме значение кумулятивных метрик часто сходится и устанавливается около некоторого среднего. Тогда по графику кумулятивных метрик определяют, стоит останавливать тест или нет.\n",
    "\n",
    "Построим график кумулятивной выручки по группам. "
   ]
  },
  {
   "cell_type": "markdown",
   "id": "f64b8e92",
   "metadata": {},
   "source": [
    "### Построение графика кумулятивной выручки по группам"
   ]
  },
  {
   "cell_type": "markdown",
   "id": "35fb7aaf",
   "metadata": {
    "scrolled": true
   },
   "source": [
    "Чтобы построить графики, нужно собрать кумулятивные данные. Объявим датафрейм cumulativeData со столбцами:\n",
    "\n",
    "- date — дата;\n",
    "- group — группа A/B-теста (A или B);\n",
    "- orders — кумулятивное количество заказов на указанную дату в указанной группе;\n",
    "- buyers — кумулятивное количество пользователей, совершивших хотя бы один заказ, на указанную дату в указанной группе;\n",
    "- revenue — кумулятивная выручка на указанную дату в указанной группе (средний чек);\n",
    "- visitors — кумулятивное количество посетителей интернет-магазина на указанную дату в определённой группе.\n",
    "\n",
    "\n",
    "Создадим массив уникальных пар значений дат и групп теста методом drop_duplicates():"
   ]
  },
  {
   "cell_type": "code",
   "execution_count": 26,
   "id": "91150251",
   "metadata": {},
   "outputs": [
    {
     "data": {
      "text/html": [
       "<div>\n",
       "<style scoped>\n",
       "    .dataframe tbody tr th:only-of-type {\n",
       "        vertical-align: middle;\n",
       "    }\n",
       "\n",
       "    .dataframe tbody tr th {\n",
       "        vertical-align: top;\n",
       "    }\n",
       "\n",
       "    .dataframe thead th {\n",
       "        text-align: right;\n",
       "    }\n",
       "</style>\n",
       "<table border=\"1\" class=\"dataframe\">\n",
       "  <thead>\n",
       "    <tr style=\"text-align: right;\">\n",
       "      <th></th>\n",
       "      <th>date</th>\n",
       "      <th>group</th>\n",
       "    </tr>\n",
       "  </thead>\n",
       "  <tbody>\n",
       "    <tr>\n",
       "      <th>0</th>\n",
       "      <td>2019-08-15</td>\n",
       "      <td>B</td>\n",
       "    </tr>\n",
       "    <tr>\n",
       "      <th>7</th>\n",
       "      <td>2019-08-15</td>\n",
       "      <td>A</td>\n",
       "    </tr>\n",
       "    <tr>\n",
       "      <th>45</th>\n",
       "      <td>2019-08-16</td>\n",
       "      <td>A</td>\n",
       "    </tr>\n",
       "    <tr>\n",
       "      <th>47</th>\n",
       "      <td>2019-08-16</td>\n",
       "      <td>B</td>\n",
       "    </tr>\n",
       "    <tr>\n",
       "      <th>55</th>\n",
       "      <td>2019-08-01</td>\n",
       "      <td>A</td>\n",
       "    </tr>\n",
       "  </tbody>\n",
       "</table>\n",
       "</div>"
      ],
      "text/plain": [
       "         date group\n",
       "0  2019-08-15     B\n",
       "7  2019-08-15     A\n",
       "45 2019-08-16     A\n",
       "47 2019-08-16     B\n",
       "55 2019-08-01     A"
      ]
     },
     "execution_count": 26,
     "metadata": {},
     "output_type": "execute_result"
    }
   ],
   "source": [
    "# создаем массив уникальных пар значений дат и групп теста\n",
    "datesGroups = orders[['date','group']].drop_duplicates() \n",
    "datesGroups.head()"
   ]
  },
  {
   "cell_type": "markdown",
   "id": "9d487a41",
   "metadata": {},
   "source": [
    "Соберём агрегированные кумулятивные по дням данные о заказах в несколько действий.\n",
    "\n",
    "Получим строки таблицы orders, дата которых меньше или равна дате элемента из datesGroups['date'], а группа теста равна группе из datesGroups['group']:\n",
    "`orders[np.logical_and(orders['date'] <= x['date'], orders['group'] == x['group'])]`\n",
    "\n",
    "Агрегируем значения. Вычислим максимальную дату. Для группы тоже рассчитаем максимум, и хотя она будет определённой, сделаем это, чтобы столбец 'group' не пропал из итогового вывода. Найдём число уникальных ID заказов и пользователей. Подсчитаем сумму средних чеков:\n",
    ".agg({'date' : 'max', 'group' : 'max', 'transaction_id' : 'nunique', 'visitor_id' : 'nunique', 'revenue' : 'sum'}). Применим методы к каждой строке датафрейма: apply(axis=1) и отсортируем результаты по столбцам 'date' и 'group':"
   ]
  },
  {
   "cell_type": "code",
   "execution_count": 27,
   "id": "b68b05ae",
   "metadata": {},
   "outputs": [
    {
     "data": {
      "text/html": [
       "<div>\n",
       "<style scoped>\n",
       "    .dataframe tbody tr th:only-of-type {\n",
       "        vertical-align: middle;\n",
       "    }\n",
       "\n",
       "    .dataframe tbody tr th {\n",
       "        vertical-align: top;\n",
       "    }\n",
       "\n",
       "    .dataframe thead th {\n",
       "        text-align: right;\n",
       "    }\n",
       "</style>\n",
       "<table border=\"1\" class=\"dataframe\">\n",
       "  <thead>\n",
       "    <tr style=\"text-align: right;\">\n",
       "      <th></th>\n",
       "      <th>date</th>\n",
       "      <th>group</th>\n",
       "      <th>transaction_id</th>\n",
       "      <th>visitor_id</th>\n",
       "      <th>revenue</th>\n",
       "    </tr>\n",
       "  </thead>\n",
       "  <tbody>\n",
       "    <tr>\n",
       "      <th>55</th>\n",
       "      <td>2019-08-01</td>\n",
       "      <td>A</td>\n",
       "      <td>23</td>\n",
       "      <td>19</td>\n",
       "      <td>142779</td>\n",
       "    </tr>\n",
       "    <tr>\n",
       "      <th>66</th>\n",
       "      <td>2019-08-01</td>\n",
       "      <td>B</td>\n",
       "      <td>17</td>\n",
       "      <td>17</td>\n",
       "      <td>59758</td>\n",
       "    </tr>\n",
       "    <tr>\n",
       "      <th>175</th>\n",
       "      <td>2019-08-02</td>\n",
       "      <td>A</td>\n",
       "      <td>42</td>\n",
       "      <td>36</td>\n",
       "      <td>234381</td>\n",
       "    </tr>\n",
       "    <tr>\n",
       "      <th>173</th>\n",
       "      <td>2019-08-02</td>\n",
       "      <td>B</td>\n",
       "      <td>40</td>\n",
       "      <td>39</td>\n",
       "      <td>221801</td>\n",
       "    </tr>\n",
       "    <tr>\n",
       "      <th>291</th>\n",
       "      <td>2019-08-03</td>\n",
       "      <td>A</td>\n",
       "      <td>66</td>\n",
       "      <td>60</td>\n",
       "      <td>346854</td>\n",
       "    </tr>\n",
       "  </tbody>\n",
       "</table>\n",
       "</div>"
      ],
      "text/plain": [
       "          date group  transaction_id  visitor_id  revenue\n",
       "55  2019-08-01     A              23          19   142779\n",
       "66  2019-08-01     B              17          17    59758\n",
       "175 2019-08-02     A              42          36   234381\n",
       "173 2019-08-02     B              40          39   221801\n",
       "291 2019-08-03     A              66          60   346854"
      ]
     },
     "execution_count": 27,
     "metadata": {},
     "output_type": "execute_result"
    }
   ],
   "source": [
    "ordersAggregated = datesGroups.apply(lambda x: orders[np.logical_and(orders['date'] <= x['date'], orders['group'] == x['group'])]\\\n",
    ".agg({'date' : 'max', 'group' : 'max', 'transaction_id' : 'nunique', 'visitor_id' : 'nunique', 'revenue' : 'sum'}), axis=1).sort_values(by=['date','group']) \n",
    "ordersAggregated.head()"
   ]
  },
  {
   "cell_type": "markdown",
   "id": "ba7a2d4f",
   "metadata": {},
   "source": [
    "Этот код работает так, будто мы ежедневно считали результаты тестирования до выбранного дня включительно и сохраняли их в строках таблицы ordersAggregated.\n",
    "Аналогично получим агрегированные кумулятивные по дням данные о посетителях интернет-магазина:\n"
   ]
  },
  {
   "cell_type": "code",
   "execution_count": 28,
   "id": "6c4a58e1",
   "metadata": {},
   "outputs": [
    {
     "data": {
      "text/html": [
       "<div>\n",
       "<style scoped>\n",
       "    .dataframe tbody tr th:only-of-type {\n",
       "        vertical-align: middle;\n",
       "    }\n",
       "\n",
       "    .dataframe tbody tr th {\n",
       "        vertical-align: top;\n",
       "    }\n",
       "\n",
       "    .dataframe thead th {\n",
       "        text-align: right;\n",
       "    }\n",
       "</style>\n",
       "<table border=\"1\" class=\"dataframe\">\n",
       "  <thead>\n",
       "    <tr style=\"text-align: right;\">\n",
       "      <th></th>\n",
       "      <th>date</th>\n",
       "      <th>group</th>\n",
       "      <th>visitors</th>\n",
       "    </tr>\n",
       "  </thead>\n",
       "  <tbody>\n",
       "    <tr>\n",
       "      <th>55</th>\n",
       "      <td>2019-08-01</td>\n",
       "      <td>A</td>\n",
       "      <td>719</td>\n",
       "    </tr>\n",
       "    <tr>\n",
       "      <th>66</th>\n",
       "      <td>2019-08-01</td>\n",
       "      <td>B</td>\n",
       "      <td>713</td>\n",
       "    </tr>\n",
       "    <tr>\n",
       "      <th>175</th>\n",
       "      <td>2019-08-02</td>\n",
       "      <td>A</td>\n",
       "      <td>1338</td>\n",
       "    </tr>\n",
       "    <tr>\n",
       "      <th>173</th>\n",
       "      <td>2019-08-02</td>\n",
       "      <td>B</td>\n",
       "      <td>1294</td>\n",
       "    </tr>\n",
       "    <tr>\n",
       "      <th>291</th>\n",
       "      <td>2019-08-03</td>\n",
       "      <td>A</td>\n",
       "      <td>1845</td>\n",
       "    </tr>\n",
       "  </tbody>\n",
       "</table>\n",
       "</div>"
      ],
      "text/plain": [
       "          date group  visitors\n",
       "55  2019-08-01     A       719\n",
       "66  2019-08-01     B       713\n",
       "175 2019-08-02     A      1338\n",
       "173 2019-08-02     B      1294\n",
       "291 2019-08-03     A      1845"
      ]
     },
     "execution_count": 28,
     "metadata": {},
     "output_type": "execute_result"
    }
   ],
   "source": [
    "visitorsAggregated = datesGroups.apply(lambda x: visitors[np.logical_and(visitors['date'] <= x['date'], visitors['group'] == x['group'])].agg({'date' : 'max', 'group' : 'max', 'visitors' : 'sum'}), axis=1).sort_values(by=['date','group'])\n",
    "visitorsAggregated.head()"
   ]
  },
  {
   "cell_type": "markdown",
   "id": "acc2bf18",
   "metadata": {},
   "source": [
    "Объединим обе таблицы в одну с понятными названиями столбцов:"
   ]
  },
  {
   "cell_type": "code",
   "execution_count": 29,
   "id": "076c95f9",
   "metadata": {
    "scrolled": true
   },
   "outputs": [
    {
     "data": {
      "text/html": [
       "<div>\n",
       "<style scoped>\n",
       "    .dataframe tbody tr th:only-of-type {\n",
       "        vertical-align: middle;\n",
       "    }\n",
       "\n",
       "    .dataframe tbody tr th {\n",
       "        vertical-align: top;\n",
       "    }\n",
       "\n",
       "    .dataframe thead th {\n",
       "        text-align: right;\n",
       "    }\n",
       "</style>\n",
       "<table border=\"1\" class=\"dataframe\">\n",
       "  <thead>\n",
       "    <tr style=\"text-align: right;\">\n",
       "      <th></th>\n",
       "      <th>date</th>\n",
       "      <th>group</th>\n",
       "      <th>orders</th>\n",
       "      <th>buyers</th>\n",
       "      <th>revenue</th>\n",
       "      <th>visitors</th>\n",
       "    </tr>\n",
       "  </thead>\n",
       "  <tbody>\n",
       "    <tr>\n",
       "      <th>0</th>\n",
       "      <td>2019-08-01</td>\n",
       "      <td>A</td>\n",
       "      <td>23</td>\n",
       "      <td>19</td>\n",
       "      <td>142779</td>\n",
       "      <td>719</td>\n",
       "    </tr>\n",
       "    <tr>\n",
       "      <th>1</th>\n",
       "      <td>2019-08-01</td>\n",
       "      <td>B</td>\n",
       "      <td>17</td>\n",
       "      <td>17</td>\n",
       "      <td>59758</td>\n",
       "      <td>713</td>\n",
       "    </tr>\n",
       "    <tr>\n",
       "      <th>2</th>\n",
       "      <td>2019-08-02</td>\n",
       "      <td>A</td>\n",
       "      <td>42</td>\n",
       "      <td>36</td>\n",
       "      <td>234381</td>\n",
       "      <td>1338</td>\n",
       "    </tr>\n",
       "    <tr>\n",
       "      <th>3</th>\n",
       "      <td>2019-08-02</td>\n",
       "      <td>B</td>\n",
       "      <td>40</td>\n",
       "      <td>39</td>\n",
       "      <td>221801</td>\n",
       "      <td>1294</td>\n",
       "    </tr>\n",
       "    <tr>\n",
       "      <th>4</th>\n",
       "      <td>2019-08-03</td>\n",
       "      <td>A</td>\n",
       "      <td>66</td>\n",
       "      <td>60</td>\n",
       "      <td>346854</td>\n",
       "      <td>1845</td>\n",
       "    </tr>\n",
       "  </tbody>\n",
       "</table>\n",
       "</div>"
      ],
      "text/plain": [
       "        date group  orders  buyers  revenue  visitors\n",
       "0 2019-08-01     A      23      19   142779       719\n",
       "1 2019-08-01     B      17      17    59758       713\n",
       "2 2019-08-02     A      42      36   234381      1338\n",
       "3 2019-08-02     B      40      39   221801      1294\n",
       "4 2019-08-03     A      66      60   346854      1845"
      ]
     },
     "execution_count": 29,
     "metadata": {},
     "output_type": "execute_result"
    }
   ],
   "source": [
    "# объединяем кумулятивные данные в одной таблице и присваиваем ее столбцам понятные названия\n",
    "cumulativeData = ordersAggregated.merge(visitorsAggregated, left_on=['date', 'group'], right_on=['date', 'group'])\n",
    "cumulativeData.columns = ['date', 'group', 'orders', 'buyers', 'revenue', 'visitors']\n",
    "\n",
    "cumulativeData.head()"
   ]
  },
  {
   "cell_type": "markdown",
   "id": "3a482528",
   "metadata": {},
   "source": [
    "Построим графики кумулятивной выручки по дням и группам A/B-тестирования:"
   ]
  },
  {
   "cell_type": "code",
   "execution_count": 30,
   "id": "a6d00818",
   "metadata": {},
   "outputs": [
    {
     "data": {
      "image/png": "[encoded data removed]",
      "text/plain": [
       "<Figure size 576x360 with 1 Axes>"
      ]
     },
     "metadata": {
      "image/png": {
       "height": 384,
       "width": 535
      },
      "needs_background": "light"
     },
     "output_type": "display_data"
    }
   ],
   "source": [
    "fig, ax = plt.subplots(figsize = (8,5))\n",
    "ax = sns.lineplot(data = cumulativeData, x='date',y='revenue', hue = 'group')\n",
    "plt.title('Зависимость кумулятивной выручки \\n по дням и группам A/B-тестирования')\n",
    "plt.grid()\n",
    "plt.xticks(rotation=45)\n",
    "plt.xlabel(\"Дата\"), plt.ylabel(\"Выручка\")\n",
    "plt.legend(loc = 'upper left', bbox_to_anchor = (1,1)) # положение легенды\n",
    "plt.show()"
   ]
  },
  {
   "cell_type": "markdown",
   "id": "20b6414c",
   "metadata": {},
   "source": [
    "Выручка почти равномерно увеличивается в течение всего теста. Хороший знак.\n",
    "Однако графики выручки обеих групп в нескольких точках резко растут. Это может сигнализировать о всплесках числа заказов, либо о появлении очень дорогих заказов в выборке. Кумулятивная выручка группы В выше группы А."
   ]
  },
  {
   "cell_type": "markdown",
   "id": "f06cd90c",
   "metadata": {},
   "source": [
    "Построим графики среднего чека по группам — разделим кумулятивную выручку на кумулятивное число заказов."
   ]
  },
  {
   "cell_type": "code",
   "execution_count": 31,
   "id": "1b5afa00",
   "metadata": {},
   "outputs": [],
   "source": [
    "cumulativeData['average_check'] = cumulativeData['revenue']/cumulativeData['orders']"
   ]
  },
  {
   "cell_type": "markdown",
   "id": "47fcaf5d",
   "metadata": {},
   "source": [
    "### Построение графика кумулятивного среднего чека по группам"
   ]
  },
  {
   "cell_type": "code",
   "execution_count": 32,
   "id": "09f429f3",
   "metadata": {
    "scrolled": false
   },
   "outputs": [
    {
     "data": {
      "image/png": "[encoded data removed]",
      "text/plain": [
       "<Figure size 576x360 with 1 Axes>"
      ]
     },
     "metadata": {
      "image/png": {
       "height": 370,
       "width": 561
      },
      "needs_background": "light"
     },
     "output_type": "display_data"
    }
   ],
   "source": [
    "fig, ax = plt.subplots(figsize = (8,5))\n",
    "ax = sns.lineplot(data = cumulativeData, x='date',y='average_check', hue = 'group')\n",
    "plt.title('Кумулятивный средний чек по группам')\n",
    "plt.grid()\n",
    "plt.xticks(rotation=45)\n",
    "plt.xlabel(\"Дата\"), plt.ylabel(\"Средний чек\")\n",
    "plt.legend(loc = 'upper left', bbox_to_anchor = (1,1)) # положение легенды\n",
    "plt.show()"
   ]
  },
  {
   "cell_type": "markdown",
   "id": "cf756d6f",
   "metadata": {},
   "source": [
    "В группе А средний чек становится равномерным ближе к концу теста.  Возможно, в группу B во второй половине теста попали крупные заказы (резкий всплеск на графике). Тогда ей нужно больше данных, чтобы прийти к реальному среднему чеку и установиться на его уровне."
   ]
  },
  {
   "cell_type": "markdown",
   "id": "794e8db4",
   "metadata": {},
   "source": [
    "Построим график относительного различия для среднего чека. Добавим горизонтальную ось методом axhline() (от англ. horizontal line across the axis*, «горизонтальная линия поперек оси»)."
   ]
  },
  {
   "cell_type": "markdown",
   "id": "e0f9cb80",
   "metadata": {},
   "source": [
    "### Построение графика относительного изменения кумулятивного среднего чека группы B к группе A"
   ]
  },
  {
   "cell_type": "code",
   "execution_count": 33,
   "id": "cc5bed03",
   "metadata": {
    "scrolled": false
   },
   "outputs": [
    {
     "data": {
      "image/png": "[encoded data removed]",
      "text/plain": [
       "<Figure size 576x360 with 1 Axes>"
      ]
     },
     "metadata": {
      "image/png": {
       "height": 384,
       "width": 522
      },
      "needs_background": "light"
     },
     "output_type": "display_data"
    }
   ],
   "source": [
    "# датафрейм с кумулятивным количеством заказов и кумулятивной выручкой по дням в группе А\n",
    "cumulativeRevenueA = cumulativeData[cumulativeData['group']=='A'][['date','revenue', 'orders']]\n",
    "\n",
    "# датафрейм с кумулятивным количеством заказов и кумулятивной выручкой по дням в группе B\n",
    "cumulativeRevenueB = cumulativeData[cumulativeData['group']=='B'][['date','revenue', 'orders']]\n",
    "\n",
    "# собираем данные в одном датафрейме\n",
    "mergedCumulativeRevenue = cumulativeRevenueA.merge(cumulativeRevenueB, left_on='date', right_on='date', how='left', suffixes=['A', 'B'])\n",
    "\n",
    "# cтроим отношение средних чеков\n",
    "fig, ax = plt.subplots(figsize = (8,5))\n",
    "ax = plt.plot(mergedCumulativeRevenue['date'], (mergedCumulativeRevenue['revenueB']/mergedCumulativeRevenue['ordersB'])/(mergedCumulativeRevenue['revenueA']/mergedCumulativeRevenue['ordersA'])-1)\n",
    "# добавляем ось X\n",
    "plt.axhline(y=0, color='black', linestyle='--') \n",
    "plt.title('Относительное изменение кумулятивного \\n среднего чека  группы B к группе A')\n",
    "plt.grid()\n",
    "plt.xticks(rotation=45)\n",
    "plt.xlabel(\"Дата\"), plt.ylabel(\"Отношение\")\n",
    "\n",
    "plt.show()"
   ]
  },
  {
   "cell_type": "markdown",
   "id": "16177d0e",
   "metadata": {},
   "source": [
    "Во многих  точках график различия между сегментами резко «скачет». Где-то уж точно спрятались крупные заказы и выбросы!"
   ]
  },
  {
   "cell_type": "markdown",
   "id": "bac8d03f",
   "metadata": {},
   "source": [
    "Аналогично проанализируем график кумулятивной конверсии. "
   ]
  },
  {
   "cell_type": "code",
   "execution_count": 34,
   "id": "3b238918",
   "metadata": {},
   "outputs": [],
   "source": [
    "# считаем кумулятивную конверсию\n",
    "cumulativeData['conversion'] = cumulativeData['orders']/cumulativeData['visitors']"
   ]
  },
  {
   "cell_type": "markdown",
   "id": "ca63da54",
   "metadata": {},
   "source": [
    "### Построение графика кумулятивной конверсии по группам"
   ]
  },
  {
   "cell_type": "code",
   "execution_count": 35,
   "id": "57e374de",
   "metadata": {},
   "outputs": [
    {
     "data": {
      "image/png": "[encoded data removed]",
      "text/plain": [
       "<Figure size 576x360 with 1 Axes>"
      ]
     },
     "metadata": {
      "image/png": {
       "height": 370,
       "width": 557
      },
      "needs_background": "light"
     },
     "output_type": "display_data"
    }
   ],
   "source": [
    "fig, ax = plt.subplots(figsize = (8,5))\n",
    "ax = sns.lineplot(data = cumulativeData, x='date',y='conversion', hue = 'group')\n",
    "plt.title('Кумулятивная  конверсия по группам')\n",
    "plt.grid()\n",
    "plt.xticks(rotation=45)\n",
    "plt.xlabel(\"Дата\"), plt.ylabel(\"Значение конверсии\")\n",
    "plt.legend(loc = 'upper left', bbox_to_anchor = (1,1)) # положение легенды\n",
    "plt.show()"
   ]
  },
  {
   "cell_type": "markdown",
   "id": "48dc0cd3",
   "metadata": {},
   "source": [
    "Отметим, что в целом конверсия группы В выше, чем в группе А, хотя в первые несколько дней ситуация была иной."
   ]
  },
  {
   "cell_type": "markdown",
   "id": "f3aa5a3b",
   "metadata": {},
   "source": [
    "Построим график относительного различия кумулятивных конверсий."
   ]
  },
  {
   "cell_type": "markdown",
   "id": "4e3f2d6f",
   "metadata": {},
   "source": [
    "### Построение графика относительного изменения кумулятивной конверсии группы B к группе A"
   ]
  },
  {
   "cell_type": "code",
   "execution_count": 36,
   "id": "4dddc12a",
   "metadata": {
    "scrolled": false
   },
   "outputs": [
    {
     "data": {
      "image/png": "[encoded data removed]",
      "text/plain": [
       "<Figure size 576x360 with 1 Axes>"
      ]
     },
     "metadata": {
      "image/png": {
       "height": 370,
       "width": 522
      },
      "needs_background": "light"
     },
     "output_type": "display_data"
    }
   ],
   "source": [
    "# отделяем данные по группе A\n",
    "cumulativeDataA = cumulativeData[cumulativeData['group']=='A']\n",
    "\n",
    "# отделяем данные по группе B\n",
    "cumulativeDataB = cumulativeData[cumulativeData['group']=='B']\n",
    "\n",
    "mergedCumulativeConversions = cumulativeDataA[['date','conversion']].merge(cumulativeDataB[['date','conversion']], left_on='date', right_on='date', how='left', suffixes=['A', 'B'])\n",
    "\n",
    "\n",
    "fig, ax = plt.subplots(figsize = (8,5))\n",
    "ax = plt.plot(mergedCumulativeConversions['date'], mergedCumulativeConversions['conversionB']/mergedCumulativeConversions['conversionA']-1) \n",
    "plt.axhline(y=0, color='black', linestyle='--') \n",
    "plt.title(\"Относительный прирост конверсии группы B относительно группы A\")\n",
    "plt.grid()\n",
    "plt.xticks(rotation=45)\n",
    "plt.xlabel(\"Дата\"), plt.ylabel(\"Отношение\")\n",
    "plt.show()"
   ]
  },
  {
   "cell_type": "markdown",
   "id": "97ff9071",
   "metadata": {},
   "source": [
    "В начале теста группа B  проигрывала группе A, затем вырвалась вперёд. В целом делать какие-либо выводы преждевременно. Сперва стоит проанализировать аномалии, возможно, они изменят картину. Напомним, что аномалия — такое значение, которое бывает в генеральной совокупности редко, но его попадание в выборку способно внести погрешность."
   ]
  },
  {
   "cell_type": "markdown",
   "id": "ef24237d",
   "metadata": {},
   "source": [
    "Перейдем к поиску аномалий."
   ]
  },
  {
   "cell_type": "markdown",
   "id": "1795b055",
   "metadata": {},
   "source": [
    "### Построение точечного графика  стоимостей заказов"
   ]
  },
  {
   "cell_type": "markdown",
   "id": "f4d05489",
   "metadata": {},
   "source": [
    "Выведем последние десять строк таблицы orders."
   ]
  },
  {
   "cell_type": "code",
   "execution_count": 37,
   "id": "cf0d3a36",
   "metadata": {},
   "outputs": [
    {
     "data": {
      "text/html": [
       "<div>\n",
       "<style scoped>\n",
       "    .dataframe tbody tr th:only-of-type {\n",
       "        vertical-align: middle;\n",
       "    }\n",
       "\n",
       "    .dataframe tbody tr th {\n",
       "        vertical-align: top;\n",
       "    }\n",
       "\n",
       "    .dataframe thead th {\n",
       "        text-align: right;\n",
       "    }\n",
       "</style>\n",
       "<table border=\"1\" class=\"dataframe\">\n",
       "  <thead>\n",
       "    <tr style=\"text-align: right;\">\n",
       "      <th></th>\n",
       "      <th>transaction_id</th>\n",
       "      <th>visitor_id</th>\n",
       "      <th>date</th>\n",
       "      <th>revenue</th>\n",
       "      <th>group</th>\n",
       "    </tr>\n",
       "  </thead>\n",
       "  <tbody>\n",
       "    <tr>\n",
       "      <th>1196</th>\n",
       "      <td>3936777065</td>\n",
       "      <td>2108080724</td>\n",
       "      <td>2019-08-15</td>\n",
       "      <td>202740</td>\n",
       "      <td>B</td>\n",
       "    </tr>\n",
       "    <tr>\n",
       "      <th>1191</th>\n",
       "      <td>3592955527</td>\n",
       "      <td>608641596</td>\n",
       "      <td>2019-08-14</td>\n",
       "      <td>16490</td>\n",
       "      <td>B</td>\n",
       "    </tr>\n",
       "    <tr>\n",
       "      <th>1186</th>\n",
       "      <td>2116724386</td>\n",
       "      <td>2146711261</td>\n",
       "      <td>2019-08-14</td>\n",
       "      <td>15380</td>\n",
       "      <td>B</td>\n",
       "    </tr>\n",
       "    <tr>\n",
       "      <th>1194</th>\n",
       "      <td>1807773912</td>\n",
       "      <td>573423106</td>\n",
       "      <td>2019-08-14</td>\n",
       "      <td>10550</td>\n",
       "      <td>A</td>\n",
       "    </tr>\n",
       "    <tr>\n",
       "      <th>1190</th>\n",
       "      <td>38478481</td>\n",
       "      <td>1197745035</td>\n",
       "      <td>2019-08-14</td>\n",
       "      <td>8600</td>\n",
       "      <td>B</td>\n",
       "    </tr>\n",
       "    <tr>\n",
       "      <th>1192</th>\n",
       "      <td>2662137336</td>\n",
       "      <td>3733762160</td>\n",
       "      <td>2019-08-14</td>\n",
       "      <td>6490</td>\n",
       "      <td>B</td>\n",
       "    </tr>\n",
       "    <tr>\n",
       "      <th>1193</th>\n",
       "      <td>2203539145</td>\n",
       "      <td>370388673</td>\n",
       "      <td>2019-08-14</td>\n",
       "      <td>3190</td>\n",
       "      <td>A</td>\n",
       "    </tr>\n",
       "    <tr>\n",
       "      <th>1187</th>\n",
       "      <td>2274188238</td>\n",
       "      <td>132143192</td>\n",
       "      <td>2019-08-14</td>\n",
       "      <td>750</td>\n",
       "      <td>A</td>\n",
       "    </tr>\n",
       "    <tr>\n",
       "      <th>1185</th>\n",
       "      <td>948555526</td>\n",
       "      <td>2710193528</td>\n",
       "      <td>2019-08-14</td>\n",
       "      <td>730</td>\n",
       "      <td>A</td>\n",
       "    </tr>\n",
       "    <tr>\n",
       "      <th>1188</th>\n",
       "      <td>1692103379</td>\n",
       "      <td>1022829655</td>\n",
       "      <td>2019-08-14</td>\n",
       "      <td>112</td>\n",
       "      <td>A</td>\n",
       "    </tr>\n",
       "  </tbody>\n",
       "</table>\n",
       "</div>"
      ],
      "text/plain": [
       "      transaction_id  visitor_id       date  revenue group\n",
       "1196      3936777065  2108080724 2019-08-15   202740     B\n",
       "1191      3592955527   608641596 2019-08-14    16490     B\n",
       "1186      2116724386  2146711261 2019-08-14    15380     B\n",
       "1194      1807773912   573423106 2019-08-14    10550     A\n",
       "1190        38478481  1197745035 2019-08-14     8600     B\n",
       "1192      2662137336  3733762160 2019-08-14     6490     B\n",
       "1193      2203539145   370388673 2019-08-14     3190     A\n",
       "1187      2274188238   132143192 2019-08-14      750     A\n",
       "1185       948555526  2710193528 2019-08-14      730     A\n",
       "1188      1692103379  1022829655 2019-08-14      112     A"
      ]
     },
     "execution_count": 37,
     "metadata": {},
     "output_type": "execute_result"
    }
   ],
   "source": [
    "# вывод таблицы\n",
    "orders.tail(10).sort_values(by='revenue', ascending=False)"
   ]
  },
  {
   "cell_type": "markdown",
   "id": "324744a7",
   "metadata": {},
   "source": [
    "Среди последних 10 строк цены заказов находятся в диапазоне от 100 до 31 550\t рублей. Кроме одного — заказ с индексом 1196 составил целых 202 740 рублей!\n",
    "\n",
    "Если такой дорогой заказ попадёт в одну из групп теста, он сразу же исказит результаты и сделает победителем ту группу, где оказался. При этом такие покупки — редкость, исключение, которое проявилось не из-за тестирования гипотезы, а случайно.\n",
    "\n",
    "Такие аномально дорогие заказы следует удалять из теста."
   ]
  },
  {
   "cell_type": "markdown",
   "id": "65e23973",
   "metadata": {},
   "source": [
    "Оценим стоимость заказов путем построения точечного графика по пользователям."
   ]
  },
  {
   "cell_type": "code",
   "execution_count": 38,
   "id": "092b0a02",
   "metadata": {
    "scrolled": false
   },
   "outputs": [
    {
     "data": {
      "image/png": "[encoded data removed]",
      "text/plain": [
       "<Figure size 576x576 with 1 Axes>"
      ]
     },
     "metadata": {
      "image/png": {
       "height": 494,
       "width": 497
      },
      "needs_background": "light"
     },
     "output_type": "display_data"
    }
   ],
   "source": [
    "# построение диаграммы \n",
    "fig, ax = plt.subplots(figsize = (8,8))\n",
    "x_values = pd.Series(range(0,len(orders['revenue'])))\n",
    "ax = plt.scatter(x_values, orders['revenue']) \n",
    "plt.title(\"Стоймость заказов по пользователям\")\n",
    "plt.grid()\n",
    "plt.xlabel(\"Номер заказа\"), plt.ylabel(\"Цена\")\n",
    "plt.show()"
   ]
  },
  {
   "cell_type": "markdown",
   "id": "d83208c1",
   "metadata": {},
   "source": [
    "Всё, как предполагали: есть немного дорогих заказов. По графику можно выбрать границу аномальных заказов между 20 000 и 30 000 рублей. Однако принято отсеивать от 1% до 5% наблюдений с крайними значениями.\n",
    "\n",
    "Определим  95 и 99 перцентили среднего чека в выборке."
   ]
  },
  {
   "cell_type": "markdown",
   "id": "fe0f8386",
   "metadata": {},
   "source": [
    "### Расчет 95-го и 99-го перцентилей стоймости заказов"
   ]
  },
  {
   "cell_type": "code",
   "execution_count": 39,
   "id": "8b00cc4b",
   "metadata": {},
   "outputs": [
    {
     "data": {
      "text/plain": [
       "array([26785., 53904.])"
      ]
     },
     "execution_count": 39,
     "metadata": {},
     "output_type": "execute_result"
    }
   ],
   "source": [
    "# расчет перцентилей стоймости заказов\n",
    "np.percentile(orders['revenue'], [95, 99])"
   ]
  },
  {
   "cell_type": "markdown",
   "id": "a92a61d6",
   "metadata": {},
   "source": [
    "\n",
    "\n",
    "  \n",
    "Не более 5% заказов дороже 26 785  рублей и не более 1% дороже 53 904 рублей.\n"
   ]
  },
  {
   "cell_type": "markdown",
   "id": "592f31aa",
   "metadata": {},
   "source": [
    "Помимо среднего чека, анализируют и конверсию. Напомним, что она равна отношению числа заказов к количеству посетителей сайта за время теста.\n",
    "\n",
    "\n",
    "Пользователи, совершившие много заказов, влияют на числитель формулы конверсии. Скорее всего, их поведение отличается от нормального. Если речь не идёт об интернет-магазине с регулярным спросом, «обычный» пользователь совершает не больше двух заказов за короткий срок."
   ]
  },
  {
   "cell_type": "markdown",
   "id": "9728fc19",
   "metadata": {},
   "source": [
    "Подсчитаем количество заказов по пользователям и посмотрим на результат."
   ]
  },
  {
   "cell_type": "markdown",
   "id": "9df0d8a9",
   "metadata": {},
   "source": [
    "### Построение точечного графика количества заказов по пользователям"
   ]
  },
  {
   "cell_type": "code",
   "execution_count": 40,
   "id": "96f48bfb",
   "metadata": {},
   "outputs": [
    {
     "data": {
      "text/html": [
       "<div>\n",
       "<style scoped>\n",
       "    .dataframe tbody tr th:only-of-type {\n",
       "        vertical-align: middle;\n",
       "    }\n",
       "\n",
       "    .dataframe tbody tr th {\n",
       "        vertical-align: top;\n",
       "    }\n",
       "\n",
       "    .dataframe thead th {\n",
       "        text-align: right;\n",
       "    }\n",
       "</style>\n",
       "<table border=\"1\" class=\"dataframe\">\n",
       "  <thead>\n",
       "    <tr style=\"text-align: right;\">\n",
       "      <th></th>\n",
       "      <th>user_id</th>\n",
       "      <th>orders</th>\n",
       "    </tr>\n",
       "  </thead>\n",
       "  <tbody>\n",
       "    <tr>\n",
       "      <th>908</th>\n",
       "      <td>3967698036</td>\n",
       "      <td>3</td>\n",
       "    </tr>\n",
       "    <tr>\n",
       "      <th>55</th>\n",
       "      <td>249864742</td>\n",
       "      <td>3</td>\n",
       "    </tr>\n",
       "    <tr>\n",
       "      <th>478</th>\n",
       "      <td>2108163459</td>\n",
       "      <td>3</td>\n",
       "    </tr>\n",
       "    <tr>\n",
       "      <th>687</th>\n",
       "      <td>2988190573</td>\n",
       "      <td>3</td>\n",
       "    </tr>\n",
       "    <tr>\n",
       "      <th>890</th>\n",
       "      <td>3908431265</td>\n",
       "      <td>3</td>\n",
       "    </tr>\n",
       "    <tr>\n",
       "      <th>138</th>\n",
       "      <td>611059232</td>\n",
       "      <td>3</td>\n",
       "    </tr>\n",
       "    <tr>\n",
       "      <th>632</th>\n",
       "      <td>2742574263</td>\n",
       "      <td>3</td>\n",
       "    </tr>\n",
       "    <tr>\n",
       "      <th>157</th>\n",
       "      <td>678354126</td>\n",
       "      <td>2</td>\n",
       "    </tr>\n",
       "    <tr>\n",
       "      <th>323</th>\n",
       "      <td>1404560065</td>\n",
       "      <td>2</td>\n",
       "    </tr>\n",
       "    <tr>\n",
       "      <th>452</th>\n",
       "      <td>1985475298</td>\n",
       "      <td>2</td>\n",
       "    </tr>\n",
       "  </tbody>\n",
       "</table>\n",
       "</div>"
      ],
      "text/plain": [
       "        user_id  orders\n",
       "908  3967698036       3\n",
       "55    249864742       3\n",
       "478  2108163459       3\n",
       "687  2988190573       3\n",
       "890  3908431265       3\n",
       "138   611059232       3\n",
       "632  2742574263       3\n",
       "157   678354126       2\n",
       "323  1404560065       2\n",
       "452  1985475298       2"
      ]
     },
     "execution_count": 40,
     "metadata": {},
     "output_type": "execute_result"
    }
   ],
   "source": [
    "# расчет кол-ва заказов\n",
    "ordersByUsers = (\n",
    "    orders.groupby('visitor_id', as_index=False)\n",
    "    .agg({'transaction_id': 'nunique'})\n",
    ")\n",
    "ordersByUsers.columns = ['user_id', 'orders']\n",
    "ordersByUsers.sort_values(by='orders', ascending=False).head(10)"
   ]
  },
  {
   "cell_type": "markdown",
   "id": "eb05e6f1",
   "metadata": {},
   "source": [
    "\n",
    "  \n",
    "Есть пользователи, которые совершали 3 заказа. Больше, чем обычный пользователь за неделю.\n"
   ]
  },
  {
   "cell_type": "markdown",
   "id": "35e6c092",
   "metadata": {},
   "source": [
    "Построим точечную диаграмму числа заказов на одного пользователя."
   ]
  },
  {
   "cell_type": "code",
   "execution_count": 41,
   "id": "7d058c0d",
   "metadata": {},
   "outputs": [
    {
     "data": {
      "image/png": "[encoded data removed]",
      "text/plain": [
       "<Figure size 576x576 with 1 Axes>"
      ]
     },
     "metadata": {
      "image/png": {
       "height": 494,
       "width": 507
      },
      "needs_background": "light"
     },
     "output_type": "display_data"
    }
   ],
   "source": [
    "# построение диаграммы \n",
    "fig, ax = plt.subplots(figsize = (8,8))\n",
    "x_values = pd.Series(range(0,len(ordersByUsers)))\n",
    "ax = plt.scatter(x_values, ordersByUsers['orders'])  \n",
    "plt.title(\"Число заказов по пользователям\")\n",
    "plt.grid()\n",
    "plt.xlabel(\"Пользователь\"), plt.ylabel(\"Кол-во заказов\")\n",
    "plt.show()"
   ]
  },
  {
   "cell_type": "markdown",
   "id": "6030c39f",
   "metadata": {},
   "source": [
    "Выводы подтверждаются: много пользователей с 2-3 заказами. Их точная доля не ясна — непонятно, считать их аномалиями или нет.\n",
    "Посчитаем выборочные перцентили количества заказов на одного пользователя."
   ]
  },
  {
   "cell_type": "markdown",
   "id": "62f5eea9",
   "metadata": {},
   "source": [
    "### Расчет 95-го и 99-го перцентилей количества заказов на пользователя"
   ]
  },
  {
   "cell_type": "code",
   "execution_count": 42,
   "id": "5857ae3d",
   "metadata": {
    "scrolled": true
   },
   "outputs": [
    {
     "data": {
      "text/plain": [
       "array([1., 2.])"
      ]
     },
     "execution_count": 42,
     "metadata": {},
     "output_type": "execute_result"
    }
   ],
   "source": [
    "# расчет перцентилей кол-ва заказов\n",
    "np.percentile(ordersByUsers['orders'], [95, 99])"
   ]
  },
  {
   "cell_type": "markdown",
   "id": "9d6cf818",
   "metadata": {},
   "source": [
    "\n",
    "  \n",
    "Не более 5% пользователей оформляли больше чем 1 заказ. И 1% пользователей заказывали более двух раз.\n",
    "\n",
    "Разумно выбрать 1 заказ на одного пользователя за нижнюю границу числа заказов и отсеять аномальных пользователей по ней. \n"
   ]
  },
  {
   "cell_type": "markdown",
   "id": "1e81403b",
   "metadata": {},
   "source": [
    "Посчитаем статистическую значимость различий в конверсии и среднем чеке между группами по «сырым» данным — без удаления аномальных пользователей."
   ]
  },
  {
   "cell_type": "markdown",
   "id": "b1c1dd7e",
   "metadata": {},
   "source": [
    "### Расчет статистической значимости различий в конверсии между группами по «сырым» данным"
   ]
  },
  {
   "cell_type": "markdown",
   "id": "19de1318",
   "metadata": {},
   "source": [
    "Сформулируем гипотезы. Нулевая: различий в конверсии между группами нет. Альтернативная: различия в конверсии между группами есть."
   ]
  },
  {
   "cell_type": "markdown",
   "id": "72499ce0",
   "metadata": {},
   "source": [
    "Начнём с подготовки данных(см.комментарии в коде)."
   ]
  },
  {
   "cell_type": "code",
   "execution_count": 43,
   "id": "42f6eadb",
   "metadata": {},
   "outputs": [
    {
     "data": {
      "text/html": [
       "<div>\n",
       "<style scoped>\n",
       "    .dataframe tbody tr th:only-of-type {\n",
       "        vertical-align: middle;\n",
       "    }\n",
       "\n",
       "    .dataframe tbody tr th {\n",
       "        vertical-align: top;\n",
       "    }\n",
       "\n",
       "    .dataframe thead th {\n",
       "        text-align: right;\n",
       "    }\n",
       "</style>\n",
       "<table border=\"1\" class=\"dataframe\">\n",
       "  <thead>\n",
       "    <tr style=\"text-align: right;\">\n",
       "      <th></th>\n",
       "      <th>date</th>\n",
       "      <th>ordersPerDateA</th>\n",
       "      <th>revenuePerDateA</th>\n",
       "      <th>ordersPerDateB</th>\n",
       "      <th>revenuePerDateB</th>\n",
       "      <th>ordersCummulativeA</th>\n",
       "      <th>revenueCummulativeA</th>\n",
       "      <th>ordersCummulativeB</th>\n",
       "      <th>revenueCummulativeB</th>\n",
       "      <th>visitorsPerDateA</th>\n",
       "      <th>visitorsPerDateB</th>\n",
       "      <th>visitorsCummulativeA</th>\n",
       "      <th>visitorsCummulativeB</th>\n",
       "    </tr>\n",
       "  </thead>\n",
       "  <tbody>\n",
       "    <tr>\n",
       "      <th>0</th>\n",
       "      <td>2019-08-01</td>\n",
       "      <td>23</td>\n",
       "      <td>142779</td>\n",
       "      <td>17</td>\n",
       "      <td>59758</td>\n",
       "      <td>23</td>\n",
       "      <td>142779</td>\n",
       "      <td>17</td>\n",
       "      <td>59758</td>\n",
       "      <td>719</td>\n",
       "      <td>713</td>\n",
       "      <td>719</td>\n",
       "      <td>713</td>\n",
       "    </tr>\n",
       "    <tr>\n",
       "      <th>1</th>\n",
       "      <td>2019-08-02</td>\n",
       "      <td>19</td>\n",
       "      <td>91602</td>\n",
       "      <td>23</td>\n",
       "      <td>162043</td>\n",
       "      <td>42</td>\n",
       "      <td>234381</td>\n",
       "      <td>40</td>\n",
       "      <td>221801</td>\n",
       "      <td>619</td>\n",
       "      <td>581</td>\n",
       "      <td>1338</td>\n",
       "      <td>1294</td>\n",
       "    </tr>\n",
       "    <tr>\n",
       "      <th>2</th>\n",
       "      <td>2019-08-03</td>\n",
       "      <td>24</td>\n",
       "      <td>112473</td>\n",
       "      <td>14</td>\n",
       "      <td>67049</td>\n",
       "      <td>66</td>\n",
       "      <td>346854</td>\n",
       "      <td>54</td>\n",
       "      <td>288850</td>\n",
       "      <td>507</td>\n",
       "      <td>509</td>\n",
       "      <td>1845</td>\n",
       "      <td>1803</td>\n",
       "    </tr>\n",
       "    <tr>\n",
       "      <th>3</th>\n",
       "      <td>2019-08-04</td>\n",
       "      <td>11</td>\n",
       "      <td>41176</td>\n",
       "      <td>14</td>\n",
       "      <td>96890</td>\n",
       "      <td>77</td>\n",
       "      <td>388030</td>\n",
       "      <td>68</td>\n",
       "      <td>385740</td>\n",
       "      <td>717</td>\n",
       "      <td>770</td>\n",
       "      <td>2562</td>\n",
       "      <td>2573</td>\n",
       "    </tr>\n",
       "    <tr>\n",
       "      <th>4</th>\n",
       "      <td>2019-08-05</td>\n",
       "      <td>22</td>\n",
       "      <td>86383</td>\n",
       "      <td>21</td>\n",
       "      <td>89908</td>\n",
       "      <td>99</td>\n",
       "      <td>474413</td>\n",
       "      <td>89</td>\n",
       "      <td>475648</td>\n",
       "      <td>756</td>\n",
       "      <td>707</td>\n",
       "      <td>3318</td>\n",
       "      <td>3280</td>\n",
       "    </tr>\n",
       "  </tbody>\n",
       "</table>\n",
       "</div>"
      ],
      "text/plain": [
       "        date  ordersPerDateA  revenuePerDateA  ordersPerDateB  \\\n",
       "0 2019-08-01              23           142779              17   \n",
       "1 2019-08-02              19            91602              23   \n",
       "2 2019-08-03              24           112473              14   \n",
       "3 2019-08-04              11            41176              14   \n",
       "4 2019-08-05              22            86383              21   \n",
       "\n",
       "   revenuePerDateB  ordersCummulativeA  revenueCummulativeA  \\\n",
       "0            59758                  23               142779   \n",
       "1           162043                  42               234381   \n",
       "2            67049                  66               346854   \n",
       "3            96890                  77               388030   \n",
       "4            89908                  99               474413   \n",
       "\n",
       "   ordersCummulativeB  revenueCummulativeB  visitorsPerDateA  \\\n",
       "0                  17                59758               719   \n",
       "1                  40               221801               619   \n",
       "2                  54               288850               507   \n",
       "3                  68               385740               717   \n",
       "4                  89               475648               756   \n",
       "\n",
       "   visitorsPerDateB  visitorsCummulativeA  visitorsCummulativeB  \n",
       "0               713                   719                   713  \n",
       "1               581                  1338                  1294  \n",
       "2               509                  1845                  1803  \n",
       "3               770                  2562                  2573  \n",
       "4               707                  3318                  3280  "
      ]
     },
     "execution_count": 43,
     "metadata": {},
     "output_type": "execute_result"
    }
   ],
   "source": [
    "# Выберем только группу А из таблицы visitors и переименуем столбцы\n",
    "visitorsADaily = visitors[visitors['group'] == 'A'][['date', 'visitors']]\n",
    "visitorsADaily.columns = ['date', 'visitorsPerDateA']\n",
    "\n",
    "# Рассчитаем количество пользователей до выбранной даты включительно в группе A\n",
    "visitorsACummulative = visitorsADaily.apply(\n",
    "    lambda x: visitorsADaily[visitorsADaily['date'] <= x['date']].agg(\n",
    "        {'date': 'max', 'visitorsPerDateA': 'sum'}\n",
    "    ),\n",
    "    axis=1,\n",
    ")\n",
    "# Переименуем колонки\n",
    "visitorsACummulative.columns = ['date', 'visitorsCummulativeA']\n",
    "\n",
    "\n",
    "# Выберем только группу В из таблицы visitors и переименуем столбцы\n",
    "visitorsBDaily = visitors[visitors['group'] == 'B'][['date', 'visitors']]\n",
    "visitorsBDaily.columns = ['date', 'visitorsPerDateB']\n",
    "\n",
    "# Рассчитаем количество пользователей до выбранной даты включительно в группе В\n",
    "visitorsBCummulative = visitorsBDaily.apply(\n",
    "    lambda x: visitorsBDaily[visitorsBDaily['date'] <= x['date']].agg(\n",
    "        {'date': 'max', 'visitorsPerDateB': 'sum'}\n",
    "    ),\n",
    "    axis=1,\n",
    ")\n",
    "# Переименуем колонки\n",
    "visitorsBCummulative.columns = ['date', 'visitorsCummulativeB']\n",
    "\n",
    "\n",
    "# Выберем только заказы группы А, сгруппируем по дате и посчитаем кол-во уникальных транзацкций и сумму выручки за день\n",
    "ordersADaily = (\n",
    "    orders[orders['group'] == 'A'][['date',  'transaction_id', 'visitor_id', 'revenue']]\n",
    "    .groupby('date', as_index=False)\n",
    "    .agg({'transaction_id': pd.Series.nunique, 'revenue': 'sum'})\n",
    ")\n",
    "# Переименуем колонки\n",
    "ordersADaily.columns = ['date', 'ordersPerDateA', 'revenuePerDateA']\n",
    "\n",
    "# Рассчитаем суммарную выручку до выбранной даты включительно в группе A\n",
    "ordersACummulative = ordersADaily.apply(\n",
    "    lambda x: ordersADaily[ordersADaily['date'] <= x['date']].agg(\n",
    "        {'date': 'max', 'ordersPerDateA': 'sum', 'revenuePerDateA': 'sum'}\n",
    "    ),\n",
    "    axis=1,\n",
    ").sort_values(by=['date'])\n",
    "ordersACummulative.columns = [\n",
    "    'date',\n",
    "    'ordersCummulativeA',\n",
    "    'revenueCummulativeA',\n",
    "]\n",
    "\n",
    "# Выберем только заказы группы В, сгруппируем по дате и посчитаем кол-во уникальных транзацкций и сумму выручки за день\n",
    "ordersBDaily = (\n",
    "    orders[orders['group'] == 'B'][['date', 'transaction_id', 'visitor_id', 'revenue']]\n",
    "    .groupby('date', as_index=False)\n",
    "    .agg({'transaction_id': pd.Series.nunique, 'revenue': 'sum'})\n",
    ")\n",
    "\n",
    "# Переименуем колонки\n",
    "ordersBDaily.columns = ['date', 'ordersPerDateB', 'revenuePerDateB']\n",
    "\n",
    "# Рассчитаем суммарную выручку до выбранной даты включительно в группе В\n",
    "ordersBCummulative = ordersBDaily.apply(\n",
    "    lambda x: ordersBDaily[ordersBDaily['date'] <= x['date']].agg(\n",
    "        {'date': 'max', 'ordersPerDateB': 'sum', 'revenuePerDateB': 'sum'}\n",
    "    ),\n",
    "    axis=1,\n",
    ").sort_values(by=['date'])\n",
    "\n",
    "# Переименуем колонки\n",
    "ordersBCummulative.columns = [\n",
    "    'date',\n",
    "    'ordersCummulativeB',\n",
    "    'revenueCummulativeB',\n",
    "]\n",
    "\n",
    "# Объединим таблицы\n",
    "data = (\n",
    "    ordersADaily.merge(\n",
    "        ordersBDaily, left_on='date', right_on='date', how='left'\n",
    "    )\n",
    "    .merge(ordersACummulative, left_on='date', right_on='date', how='left')\n",
    "    .merge(ordersBCummulative, left_on='date', right_on='date', how='left')\n",
    "    .merge(visitorsADaily, left_on='date', right_on='date', how='left')\n",
    "    .merge(visitorsBDaily, left_on='date', right_on='date', how='left')\n",
    "    .merge(visitorsACummulative, left_on='date', right_on='date', how='left')\n",
    "    .merge(visitorsBCummulative, left_on='date', right_on='date', how='left')\n",
    ")\n",
    "\n",
    "data.head(5) "
   ]
  },
  {
   "cell_type": "markdown",
   "id": "fbdea5eb",
   "metadata": {},
   "source": [
    "Итак, мы получили таблицу data, состоящую из следующих столбцов:\n",
    "\n",
    "- date — дата;\n",
    "- ordersPerDateA — количество заказов в выбранную дату в группе A;\n",
    "- revenuePerDateA — суммарная выручка в выбранную дату в группе A;\n",
    "- ordersPerDateB — количество заказов в выбранную дату в группе B;\n",
    "- revenuePerDateB — суммарная выручка в выбранную дату в группе B;\n",
    "- ordersCummulativeA — суммарное число заказов до выбранной даты включительно в группе A;\n",
    "- revenueCummulativeA — суммарная выручка до выбранной даты включительно в группе A;\n",
    "- ordersCummulativeB — суммарное количество заказов до выбранной даты включительно в группе B;\n",
    "- revenueCummulativeB — суммарная выручка до выбранной даты включительно в группе B;\n",
    "- visitorsPerDateA — количество пользователей в выбранную дату в группе A;\n",
    "- visitorsPerDateB — количество пользователей в выбранную дату в группе B;\n",
    "- visitorsCummulativeA — количество пользователей до выбранной даты включительно в группе A;\n",
    "- visitorsCummulativeB — количество пользователей до выбранной даты включительно в группе B."
   ]
  },
  {
   "cell_type": "markdown",
   "id": "de24c2da",
   "metadata": {},
   "source": [
    "Посчитаем статистическую значимость различия в конверсии между группами.\n",
    "Создадим переменные `ordersByUsersA и ordersByUsersB` со столбцами `['userId', 'orders']`. В них для пользователей, которые заказывали хотя бы 1 раз, укажем число совершённых заказов."
   ]
  },
  {
   "cell_type": "code",
   "execution_count": 44,
   "id": "73294f39",
   "metadata": {},
   "outputs": [],
   "source": [
    "ordersByUsersA = (\n",
    "    orders[orders['group'] == 'A']\n",
    "    .groupby('visitor_id', as_index=False)\n",
    "    .agg({'transaction_id': pd.Series.nunique})\n",
    ")\n",
    "ordersByUsersA.columns = ['userId', 'orders']\n",
    "\n",
    "ordersByUsersB = (\n",
    "    orders[orders['group'] == 'B']\n",
    "    .groupby('visitor_id', as_index=False)\n",
    "    .agg({'transaction_id': pd.Series.nunique})\n",
    ")\n",
    "ordersByUsersB.columns = ['userId', 'orders'] "
   ]
  },
  {
   "cell_type": "markdown",
   "id": "12f89f2e",
   "metadata": {},
   "source": [
    "Объявим переменные sampleA и sampleB, в которых пользователям из разных групп будет соответствовать количество заказов. Тем, кто ничего не заказал, будут соответствовать нули. Это нужно, чтобы подготовить выборки к проверке критерием Манна-Уитни."
   ]
  },
  {
   "cell_type": "markdown",
   "id": "ba626d90",
   "metadata": {},
   "source": [
    "Переменная sampleA должна состоять из двух частей:\n",
    "- Список с количеством заказов для каждого из пользователей: ordersByUsersA['orders'].\n",
    "- Нули для пользователей, которые ничего не заказывали. Их количество равно разнице между суммой посетителей и количеством записей о заказах: data['visitorsPerDateA'].sum() - len(ordersByUsersA['orders']). \n",
    "\n",
    "Создадим объект pd.Series нужной длины:"
   ]
  },
  {
   "cell_type": "code",
   "execution_count": 45,
   "id": "07b33556",
   "metadata": {},
   "outputs": [
    {
     "data": {
      "text/plain": [
       "0        0\n",
       "1        0\n",
       "2        0\n",
       "3        0\n",
       "4        0\n",
       "        ..\n",
       "18286    0\n",
       "18287    0\n",
       "18288    0\n",
       "18289    0\n",
       "18290    0\n",
       "Name: orders, Length: 18291, dtype: int64"
      ]
     },
     "execution_count": 45,
     "metadata": {},
     "output_type": "execute_result"
    }
   ],
   "source": [
    "pd.Series(0, index=np.arange(data['visitorsPerDateA'].sum() - len(ordersByUsersA['orders'])), name='orders')\n",
    " "
   ]
  },
  {
   "cell_type": "markdown",
   "id": "1fe332eb",
   "metadata": {},
   "source": [
    "Список индексов создали функцией np.arange(). Она работает так же, как функция range(), только создаёт массив индексов в формате np.array, который требуется в pd.Series."
   ]
  },
  {
   "cell_type": "markdown",
   "id": "67b374df",
   "metadata": {},
   "source": [
    "В Pandas последовательности объединяют функцией pd.concat() (от англ. concatenate, «сцеплять»). Осуществим сцепление."
   ]
  },
  {
   "cell_type": "code",
   "execution_count": 46,
   "id": "44f0e651",
   "metadata": {},
   "outputs": [],
   "source": [
    "sampleA = pd.concat([ordersByUsersA['orders'],pd.Series(0, index=np.arange(data['visitorsPerDateA'].sum() - len(ordersByUsersA['orders'])), name='orders')],axis=0)\n",
    "\n",
    "sampleB = pd.concat([ordersByUsersB['orders'],pd.Series(0, index=np.arange(data['visitorsPerDateB'].sum() - len(ordersByUsersB['orders'])), name='orders')],axis=0)"
   ]
  },
  {
   "cell_type": "markdown",
   "id": "8ed5b27d",
   "metadata": {},
   "source": [
    "Применим критерий и отформатируем p-value, округлив его до трёх знаков после запятой.\n",
    "\n",
    "\n",
    "Напомним, что в sampleA сохранили выборку, где каждый элемент — число заказов определённого пользователя, в том числе ноль. Значит, число элементов sampleA — это количество пользователей, сумма всех элементов — количество заказов. Чтобы получить конверсию в группе, поделим сумму заказов на число пользователей — найдём среднее в выборке sampleA методом mean(). Аналогично найдём конверсию группы B: SampleB.mean().\n",
    "\n",
    "\n",
    "Выведем относительный прирост конверсии группы B: конверсия группы B / конверсия группы A - 1. Округлим до трёх знаков после запятой."
   ]
  },
  {
   "cell_type": "code",
   "execution_count": 47,
   "id": "72e0e0bd",
   "metadata": {},
   "outputs": [
    {
     "name": "stdout",
     "output_type": "stream",
     "text": [
      "0.011\n",
      "0.160\n"
     ]
    }
   ],
   "source": [
    "print(\"{0:.3f}\".format(stats.mannwhitneyu(sampleA, sampleB)[1]))\n",
    "\n",
    "print(\"{0:.3f}\".format(sampleB.mean() / sampleA.mean() - 1))"
   ]
  },
  {
   "cell_type": "markdown",
   "id": "678fa30a",
   "metadata": {},
   "source": [
    "\n",
    "  \n",
    "Вывод: По «сырым» данным существует различие в конверсии групп A и B.\n",
    "Первое число — p-value = 0.011 меньше 0.05. Значит, нулевую гипотезу о том, что статистически значимых различий в конверсии между группами нет, отвергаем. Относительный проигрыш группы А равен 16% — второе число в выводе.\n"
   ]
  },
  {
   "cell_type": "markdown",
   "id": "a85154c0",
   "metadata": {},
   "source": [
    "Теперь проверим статистическую значимость различий в среднем чеке между сегментами. "
   ]
  },
  {
   "cell_type": "markdown",
   "id": "4a9ae659",
   "metadata": {},
   "source": [
    "### Расчет статистической значимости  различий в среднем чеке заказа между группами по «сырым» данным"
   ]
  },
  {
   "cell_type": "markdown",
   "id": "c502993e",
   "metadata": {},
   "source": [
    "Нулевая гипотеза: различий в среднем чеке между группами нет. Альтернативная гипотеза: различия в среднем чеке между группами есть.\n",
    "\n",
    "\n",
    "Чтобы рассчитать статистическую значимость различий в среднем чеке, передадим критерию mannwhitneyu() данные о выручке с заказов.\n",
    "\n",
    "А ещё найдём относительные различия в среднем чеке между группами:"
   ]
  },
  {
   "cell_type": "code",
   "execution_count": 48,
   "id": "0784e669",
   "metadata": {
    "scrolled": true
   },
   "outputs": [
    {
     "name": "stdout",
     "output_type": "stream",
     "text": [
      "0.829\n",
      "0.287\n"
     ]
    }
   ],
   "source": [
    "print('{0:.3f}'.format(stats.mannwhitneyu(orders[orders['group']=='A']['revenue'], orders[orders['group']=='B']['revenue'])[1]))\n",
    "print('{0:.3f}'.format(orders[orders['group']=='B']['revenue'].mean()/orders[orders['group']=='A']['revenue'].mean()-1))"
   ]
  },
  {
   "cell_type": "markdown",
   "id": "00e88316",
   "metadata": {},
   "source": [
    "\n",
    "Средний чек группы B  выше среднего чека группы A на 28 процентов.  \n",
    "P-value значительно больше 0.05. Значит, наблюдаемое различие не является статически значимым и нет оснований отклонять нулевую гипотезу.\n"
   ]
  },
  {
   "cell_type": "markdown",
   "id": "b409c338",
   "metadata": {},
   "source": [
    "\n",
    "  \n",
    "Примем за аномальных пользователей тех, кто совершил от 1 заказов или совершил заказ дороже 26 785 рублей. Так мы уберём 5% пользователей с наибольшим числом заказов и 5% пользователей с дорогими заказами. Сделаем срезы пользователей с числом заказов больше 1 — usersWithManyOrders и пользователей, совершивших заказы дороже 26 785 — usersWithExpensiveOrders. Объединим их в таблице abnormalUsers.\n"
   ]
  },
  {
   "cell_type": "markdown",
   "id": "837c5c2f",
   "metadata": {},
   "source": [
    "Узнаем, сколько всего аномальных пользователей методом shape()"
   ]
  },
  {
   "cell_type": "code",
   "execution_count": 49,
   "id": "f4975eda",
   "metadata": {},
   "outputs": [
    {
     "name": "stdout",
     "output_type": "stream",
     "text": [
      "568     113298937\n",
      "1099    148427295\n",
      "928     204675465\n",
      "33      249864742\n",
      "684     358944393\n",
      "dtype: int64\n",
      "86\n"
     ]
    }
   ],
   "source": [
    "usersWithManyOrders = pd.concat(\n",
    "    [\n",
    "        ordersByUsersA[ordersByUsersA['orders'] > np.percentile(ordersByUsers['orders'],95)]['userId'],\n",
    "        ordersByUsersB[ordersByUsersB['orders'] > np.percentile(ordersByUsers['orders'],95)]['userId'],\n",
    "    ],\n",
    "    axis=0,\n",
    ")\n",
    "usersWithExpensiveOrders = orders[orders['revenue'] > np.percentile(orders['revenue'], 95)]['visitor_id']\n",
    "abnormalUsers = (\n",
    "    pd.concat([usersWithManyOrders, usersWithExpensiveOrders], axis=0)\n",
    "    .drop_duplicates()\n",
    "    .sort_values()\n",
    ")\n",
    "print(abnormalUsers.head(5))\n",
    "print(abnormalUsers.shape[0]) "
   ]
  },
  {
   "cell_type": "markdown",
   "id": "f83a9824",
   "metadata": {},
   "source": [
    "\n",
    "Всего 86 аномальных пользователей.\n",
    "    \n",
    "    \n",
    "Узнаем, как их действия повлияли на результаты теста. Посчитаем статистическую значимость различий в конверсии между группами теста по очищенным данным. \n"
   ]
  },
  {
   "cell_type": "markdown",
   "id": "872a683c",
   "metadata": {},
   "source": [
    "### Расчет статистической значимости различий в конверсии  между группами по «очищенным» данным"
   ]
  },
  {
   "cell_type": "markdown",
   "id": "c6096f22",
   "metadata": {},
   "source": [
    "Сначала подготовим выборки количества заказов по пользователям по группам теста."
   ]
  },
  {
   "cell_type": "code",
   "execution_count": 50,
   "id": "f7d6a725",
   "metadata": {},
   "outputs": [],
   "source": [
    "sampleAFiltered = pd.concat(\n",
    "    [\n",
    "        ordersByUsersA[\n",
    "            np.logical_not(ordersByUsersA['userId'].isin(abnormalUsers))\n",
    "        ]['orders'],\n",
    "        pd.Series(\n",
    "            0,\n",
    "            index=np.arange(\n",
    "                data['visitorsPerDateA'].sum() - len(ordersByUsersA['orders'])\n",
    "            ),\n",
    "            name='orders',\n",
    "        ),\n",
    "    ],\n",
    "    axis=0,\n",
    ")\n",
    "\n",
    "sampleBFiltered = pd.concat(\n",
    "    [\n",
    "        ordersByUsersB[\n",
    "            np.logical_not(ordersByUsersB['userId'].isin(abnormalUsers))\n",
    "        ]['orders'],\n",
    "        pd.Series(\n",
    "            0,\n",
    "            index=np.arange(\n",
    "                data['visitorsPerDateB'].sum() - len(ordersByUsersB['orders'])\n",
    "            ),\n",
    "            name='orders',\n",
    "        ),\n",
    "    ],\n",
    "    axis=0,\n",
    ")"
   ]
  },
  {
   "cell_type": "markdown",
   "id": "bda35dcd",
   "metadata": {},
   "source": [
    "Применим статистический критерий Манна-Уитни к полученным выборкам."
   ]
  },
  {
   "cell_type": "code",
   "execution_count": 51,
   "id": "ce0c8127",
   "metadata": {},
   "outputs": [
    {
     "name": "stdout",
     "output_type": "stream",
     "text": [
      "0.016\n",
      "0.174\n"
     ]
    }
   ],
   "source": [
    "print('{0:.3f}'.format(stats.mannwhitneyu(sampleAFiltered, sampleBFiltered)[1]))\n",
    "print('{0:.3f}'.format(sampleBFiltered.mean()/sampleAFiltered.mean()-1)) "
   ]
  },
  {
   "cell_type": "markdown",
   "id": "9671d9ef",
   "metadata": {},
   "source": [
    "Результаты по конверсии практически не изменились. Произошло ли что-нибудь с результатами по среднему чеку?"
   ]
  },
  {
   "cell_type": "markdown",
   "id": "18bb36d0",
   "metadata": {},
   "source": [
    "### Расчет статистической значимости различий в среднем чеке заказа между группами по «очищенным» данным"
   ]
  },
  {
   "cell_type": "code",
   "execution_count": 52,
   "id": "7dcba0b7",
   "metadata": {},
   "outputs": [
    {
     "name": "stdout",
     "output_type": "stream",
     "text": [
      "0.727\n",
      "-0.034\n"
     ]
    }
   ],
   "source": [
    "print(\n",
    "    '{0:.3f}'.format(\n",
    "        stats.mannwhitneyu(\n",
    "            orders[\n",
    "                np.logical_and(\n",
    "                    orders['group'] == 'A',\n",
    "                    np.logical_not(orders['visitor_id'].isin(abnormalUsers)),\n",
    "                )\n",
    "            ]['revenue'],\n",
    "            orders[\n",
    "                np.logical_and(\n",
    "                    orders['group'] == 'B',\n",
    "                    np.logical_not(orders['visitor_id'].isin(abnormalUsers)),\n",
    "                )\n",
    "            ]['revenue'],\n",
    "        )[1]\n",
    "    )\n",
    ")\n",
    "\n",
    "print(\n",
    "    \"{0:.3f}\".format(\n",
    "        orders[\n",
    "            np.logical_and(\n",
    "                orders['group'] == 'B',\n",
    "                np.logical_not(orders['visitor_id'].isin(abnormalUsers)),\n",
    "            )\n",
    "        ]['revenue'].mean()\n",
    "        / orders[\n",
    "            np.logical_and(\n",
    "                orders['group'] == 'A',\n",
    "                np.logical_not(orders['visitor_id'].isin(abnormalUsers)),\n",
    "            )\n",
    "        ]['revenue'].mean()\n",
    "        - 1\n",
    "    )\n",
    ")"
   ]
  },
  {
   "cell_type": "markdown",
   "id": "7d595247",
   "metadata": {},
   "source": [
    "\n"
   ]
  },
  {
   "cell_type": "markdown",
   "id": "d82f0dc8",
   "metadata": {},
   "source": [
    "\n",
    "Разница между сегментами поменялась координальным образом. С 28% в пользу группы В на 3% в пользу группы А.  \n",
    "P-value  практически не изменился. Нет оснований отклонять нулевую гипотезу. \n",
    "\n"
   ]
  },
  {
   "cell_type": "markdown",
   "id": "6c56fce3",
   "metadata": {},
   "source": [
    "### Вывод "
   ]
  },
  {
   "cell_type": "markdown",
   "id": "f25cd3a2",
   "metadata": {},
   "source": [
    "Хотя общие выводы по результатам теста по «очищенным» данным не изменились, такой пример хорошо показывает, как сильно аномалии могут влиять на результаты A/B-теста!"
   ]
  },
  {
   "cell_type": "markdown",
   "id": "8332c60f",
   "metadata": {},
   "source": [
    "## Общий вывод"
   ]
  },
  {
   "cell_type": "markdown",
   "id": "bc1ac691",
   "metadata": {},
   "source": [
    "Какие выводы по тесту можем сделать?\n",
    "\n",
    "Имеющиеся факты:\n",
    "\n",
    "- Существует статистически значимое различие по конверсии между группами  по «сырым» и по данным после фильтрации аномалий;\n",
    "- Относительный прирост конверсии группы B 16% по данным после фильтрации;\n",
    "- Нет статистически значимого различия по среднему чеку между группами ни по «сырым», ни по данным после фильтрации аномалий;\n",
    "- График различия конверсии между группами сообщает, что результаты группы B лучше группы A и нет значительной тенденции к ухудшению.\n",
    "\n",
    "Исходя из обнаруженных фактов, тест следует остановить и признать победу группы B. Продолжать смысла нет, потому как вероятность, что при имеющихся данных сегмент A на самом деле лучше сегмента B очень мала.\n",
    "\n"
   ]
  }
 ],
 "metadata": {
  "ExecuteTimeLog": [
   {
    "duration": 1550,
    "start_time": "2022-02-23T02:29:40.981Z"
   },
   {
    "duration": 322,
    "start_time": "2022-02-23T02:30:54.787Z"
   },
   {
    "duration": 297,
    "start_time": "2022-02-23T02:31:33.602Z"
   },
   {
    "duration": 296,
    "start_time": "2022-02-23T02:31:37.275Z"
   },
   {
    "duration": 66,
    "start_time": "2022-02-23T02:33:16.579Z"
   },
   {
    "duration": 69,
    "start_time": "2022-02-23T02:33:21.908Z"
   },
   {
    "duration": 247,
    "start_time": "2022-02-23T02:33:47.770Z"
   },
   {
    "duration": 1325,
    "start_time": "2022-04-03T13:59:18.794Z"
   },
   {
    "duration": 39,
    "start_time": "2022-04-03T13:59:20.121Z"
   },
   {
    "duration": 21,
    "start_time": "2022-04-03T13:59:20.161Z"
   },
   {
    "duration": 29,
    "start_time": "2022-04-03T13:59:20.184Z"
   },
   {
    "duration": 3,
    "start_time": "2022-04-03T13:59:20.216Z"
   },
   {
    "duration": 24,
    "start_time": "2022-04-03T13:59:20.221Z"
   },
   {
    "duration": 4,
    "start_time": "2022-04-03T13:59:20.247Z"
   },
   {
    "duration": 12,
    "start_time": "2022-04-03T13:59:20.253Z"
   },
   {
    "duration": 13,
    "start_time": "2022-04-03T13:59:20.266Z"
   },
   {
    "duration": 34,
    "start_time": "2022-04-03T13:59:20.281Z"
   },
   {
    "duration": 31,
    "start_time": "2022-04-03T13:59:20.317Z"
   },
   {
    "duration": 10,
    "start_time": "2022-04-03T13:59:20.350Z"
   },
   {
    "duration": 11,
    "start_time": "2022-04-03T13:59:20.362Z"
   },
   {
    "duration": 16,
    "start_time": "2022-04-03T13:59:20.408Z"
   },
   {
    "duration": 12,
    "start_time": "2022-04-03T13:59:20.426Z"
   },
   {
    "duration": 16,
    "start_time": "2022-04-03T13:59:20.439Z"
   },
   {
    "duration": 5,
    "start_time": "2022-04-03T13:59:20.457Z"
   },
   {
    "duration": 9,
    "start_time": "2022-04-03T13:59:20.464Z"
   },
   {
    "duration": 36,
    "start_time": "2022-04-03T13:59:20.475Z"
   },
   {
    "duration": 19,
    "start_time": "2022-04-03T13:59:20.512Z"
   },
   {
    "duration": 12,
    "start_time": "2022-04-03T13:59:20.532Z"
   },
   {
    "duration": 6,
    "start_time": "2022-04-03T13:59:20.546Z"
   },
   {
    "duration": 6,
    "start_time": "2022-04-03T13:59:20.553Z"
   },
   {
    "duration": 7,
    "start_time": "2022-04-03T13:59:20.561Z"
   },
   {
    "duration": 15,
    "start_time": "2022-04-03T13:59:20.569Z"
   },
   {
    "duration": 32,
    "start_time": "2022-04-03T13:59:20.585Z"
   },
   {
    "duration": 12,
    "start_time": "2022-04-03T13:59:20.619Z"
   },
   {
    "duration": 8,
    "start_time": "2022-04-03T13:59:20.633Z"
   },
   {
    "duration": 14,
    "start_time": "2022-04-03T13:59:20.642Z"
   },
   {
    "duration": 16,
    "start_time": "2022-04-03T13:59:20.657Z"
   },
   {
    "duration": 40,
    "start_time": "2022-04-03T13:59:20.674Z"
   },
   {
    "duration": 10,
    "start_time": "2022-04-03T13:59:20.716Z"
   },
   {
    "duration": 17,
    "start_time": "2022-04-03T13:59:20.728Z"
   },
   {
    "duration": 13,
    "start_time": "2022-04-03T13:59:20.747Z"
   },
   {
    "duration": 10,
    "start_time": "2022-04-03T13:59:20.761Z"
   },
   {
    "duration": 51,
    "start_time": "2022-04-03T13:59:20.773Z"
   },
   {
    "duration": 13,
    "start_time": "2022-04-03T13:59:20.826Z"
   },
   {
    "duration": 16,
    "start_time": "2022-04-03T13:59:20.841Z"
   },
   {
    "duration": 15,
    "start_time": "2022-04-03T13:59:20.860Z"
   },
   {
    "duration": 47,
    "start_time": "2022-04-03T13:59:20.877Z"
   },
   {
    "duration": 205,
    "start_time": "2022-04-03T13:59:20.930Z"
   },
   {
    "duration": 20,
    "start_time": "2022-04-03T13:59:21.137Z"
   },
   {
    "duration": 4,
    "start_time": "2022-04-03T13:59:21.159Z"
   },
   {
    "duration": 96,
    "start_time": "2022-04-03T13:59:21.164Z"
   },
   {
    "duration": 25,
    "start_time": "2022-04-03T13:59:21.262Z"
   },
   {
    "duration": 286,
    "start_time": "2022-04-03T13:59:21.289Z"
   },
   {
    "duration": 17,
    "start_time": "2022-04-03T13:59:21.577Z"
   },
   {
    "duration": 12,
    "start_time": "2022-04-03T13:59:21.609Z"
   },
   {
    "duration": 19,
    "start_time": "2022-04-03T13:59:21.623Z"
   },
   {
    "duration": 4,
    "start_time": "2022-04-03T13:59:21.644Z"
   },
   {
    "duration": 17,
    "start_time": "2022-04-03T13:59:21.649Z"
   },
   {
    "duration": 42,
    "start_time": "2022-04-03T13:59:21.668Z"
   },
   {
    "duration": 332,
    "start_time": "2022-04-03T13:59:21.711Z"
   },
   {
    "duration": 276,
    "start_time": "2022-04-03T13:59:22.045Z"
   },
   {
    "duration": 23,
    "start_time": "2022-04-03T13:59:22.323Z"
   },
   {
    "duration": 9,
    "start_time": "2022-04-03T13:59:22.348Z"
   },
   {
    "duration": 14,
    "start_time": "2022-04-03T13:59:22.358Z"
   },
   {
    "duration": 36,
    "start_time": "2022-04-03T13:59:22.373Z"
   },
   {
    "duration": 11,
    "start_time": "2022-04-03T13:59:22.411Z"
   },
   {
    "duration": 1542,
    "start_time": "2022-04-03T13:59:22.423Z"
   },
   {
    "duration": 55,
    "start_time": "2022-04-03T13:59:23.967Z"
   },
   {
    "duration": 15,
    "start_time": "2022-04-03T13:59:24.024Z"
   },
   {
    "duration": 199,
    "start_time": "2022-04-03T13:59:24.041Z"
   },
   {
    "duration": 3,
    "start_time": "2022-04-03T13:59:24.242Z"
   },
   {
    "duration": 5,
    "start_time": "2022-04-03T13:59:24.246Z"
   },
   {
    "duration": 5,
    "start_time": "2022-04-03T13:59:24.253Z"
   },
   {
    "duration": 349,
    "start_time": "2022-04-03T13:59:24.259Z"
   },
   {
    "duration": 30,
    "start_time": "2022-04-03T13:59:24.610Z"
   },
   {
    "duration": 2,
    "start_time": "2022-04-03T13:59:24.642Z"
   },
   {
    "duration": 382,
    "start_time": "2022-04-03T13:59:24.646Z"
   },
   {
    "duration": 32,
    "start_time": "2022-04-03T13:59:25.030Z"
   },
   {
    "duration": 2,
    "start_time": "2022-04-03T13:59:25.064Z"
   },
   {
    "duration": 455,
    "start_time": "2022-04-03T13:59:25.068Z"
   },
   {
    "duration": 29,
    "start_time": "2022-04-03T13:59:25.525Z"
   },
   {
    "duration": 7,
    "start_time": "2022-04-03T13:59:25.556Z"
   },
   {
    "duration": 8,
    "start_time": "2022-04-03T13:59:25.564Z"
   },
   {
    "duration": 9,
    "start_time": "2022-04-03T13:59:25.574Z"
   },
   {
    "duration": 24,
    "start_time": "2022-04-03T13:59:25.584Z"
   },
   {
    "duration": 3,
    "start_time": "2022-04-03T13:59:25.610Z"
   },
   {
    "duration": 12,
    "start_time": "2022-04-03T13:59:25.615Z"
   },
   {
    "duration": 8,
    "start_time": "2022-04-03T13:59:25.628Z"
   },
   {
    "duration": 5,
    "start_time": "2022-04-03T13:59:25.637Z"
   },
   {
    "duration": 5,
    "start_time": "2022-04-03T13:59:25.644Z"
   },
   {
    "duration": 8,
    "start_time": "2022-04-03T13:59:25.650Z"
   },
   {
    "duration": 5,
    "start_time": "2022-04-03T13:59:25.660Z"
   },
   {
    "duration": 106,
    "start_time": "2022-04-03T15:05:21.437Z"
   },
   {
    "duration": 35,
    "start_time": "2022-04-03T15:06:12.737Z"
   },
   {
    "duration": 23,
    "start_time": "2022-04-03T15:07:05.315Z"
   },
   {
    "duration": 12,
    "start_time": "2022-04-03T15:08:01.697Z"
   },
   {
    "duration": 11,
    "start_time": "2022-04-03T15:08:25.013Z"
   },
   {
    "duration": 25,
    "start_time": "2022-04-03T15:08:41.344Z"
   },
   {
    "duration": 29,
    "start_time": "2022-04-03T15:09:15.079Z"
   },
   {
    "duration": 65,
    "start_time": "2022-04-03T15:09:43.514Z"
   },
   {
    "duration": 10,
    "start_time": "2022-04-03T15:09:50.152Z"
   },
   {
    "duration": 23,
    "start_time": "2022-04-03T15:11:16.073Z"
   },
   {
    "duration": 29,
    "start_time": "2022-04-03T15:11:17.008Z"
   },
   {
    "duration": 14,
    "start_time": "2022-04-03T15:13:49.649Z"
   },
   {
    "duration": 14,
    "start_time": "2022-04-03T15:14:58.466Z"
   },
   {
    "duration": 1197,
    "start_time": "2022-04-03T15:17:26.800Z"
   },
   {
    "duration": 42,
    "start_time": "2022-04-03T15:17:27.999Z"
   },
   {
    "duration": 18,
    "start_time": "2022-04-03T15:17:28.042Z"
   },
   {
    "duration": 14,
    "start_time": "2022-04-03T15:17:28.061Z"
   },
   {
    "duration": 2,
    "start_time": "2022-04-03T15:17:28.077Z"
   },
   {
    "duration": 38,
    "start_time": "2022-04-03T15:17:28.081Z"
   },
   {
    "duration": 3,
    "start_time": "2022-04-03T15:17:28.121Z"
   },
   {
    "duration": 4,
    "start_time": "2022-04-03T15:17:28.126Z"
   },
   {
    "duration": 6,
    "start_time": "2022-04-03T15:17:28.131Z"
   },
   {
    "duration": 10,
    "start_time": "2022-04-03T15:17:28.138Z"
   },
   {
    "duration": 24,
    "start_time": "2022-04-03T15:17:28.149Z"
   },
   {
    "duration": 9,
    "start_time": "2022-04-03T15:17:28.208Z"
   },
   {
    "duration": 8,
    "start_time": "2022-04-03T15:17:28.218Z"
   },
   {
    "duration": 13,
    "start_time": "2022-04-03T15:17:28.229Z"
   },
   {
    "duration": 8,
    "start_time": "2022-04-03T15:17:28.243Z"
   },
   {
    "duration": 12,
    "start_time": "2022-04-03T15:17:28.253Z"
   },
   {
    "duration": 48,
    "start_time": "2022-04-03T15:17:28.267Z"
   },
   {
    "duration": 6,
    "start_time": "2022-04-03T15:17:28.317Z"
   },
   {
    "duration": 8,
    "start_time": "2022-04-03T15:17:28.325Z"
   },
   {
    "duration": 4,
    "start_time": "2022-04-03T15:17:28.335Z"
   },
   {
    "duration": 13,
    "start_time": "2022-04-03T15:17:28.341Z"
   },
   {
    "duration": 9,
    "start_time": "2022-04-03T15:17:28.355Z"
   },
   {
    "duration": 7,
    "start_time": "2022-04-03T15:17:28.366Z"
   },
   {
    "duration": 35,
    "start_time": "2022-04-03T15:17:28.374Z"
   },
   {
    "duration": 8,
    "start_time": "2022-04-03T15:17:28.410Z"
   },
   {
    "duration": 14,
    "start_time": "2022-04-03T15:17:28.419Z"
   },
   {
    "duration": 14,
    "start_time": "2022-04-03T15:17:28.434Z"
   },
   {
    "duration": 12,
    "start_time": "2022-04-03T15:17:28.450Z"
   },
   {
    "duration": 8,
    "start_time": "2022-04-03T15:17:28.463Z"
   },
   {
    "duration": 38,
    "start_time": "2022-04-03T15:17:28.472Z"
   },
   {
    "duration": 14,
    "start_time": "2022-04-03T15:17:28.511Z"
   },
   {
    "duration": 14,
    "start_time": "2022-04-03T15:17:28.526Z"
   },
   {
    "duration": 10,
    "start_time": "2022-04-03T15:17:28.542Z"
   },
   {
    "duration": 19,
    "start_time": "2022-04-03T15:17:28.553Z"
   },
   {
    "duration": 47,
    "start_time": "2022-04-03T15:17:28.573Z"
   },
   {
    "duration": 11,
    "start_time": "2022-04-03T15:17:28.621Z"
   },
   {
    "duration": 15,
    "start_time": "2022-04-03T15:17:28.634Z"
   },
   {
    "duration": 13,
    "start_time": "2022-04-03T15:17:28.650Z"
   },
   {
    "duration": 49,
    "start_time": "2022-04-03T15:17:28.665Z"
   },
   {
    "duration": 15,
    "start_time": "2022-04-03T15:17:28.715Z"
   },
   {
    "duration": 16,
    "start_time": "2022-04-03T15:17:28.735Z"
   },
   {
    "duration": 216,
    "start_time": "2022-04-03T15:17:28.753Z"
   },
   {
    "duration": 19,
    "start_time": "2022-04-03T15:17:28.971Z"
   },
   {
    "duration": 17,
    "start_time": "2022-04-03T15:17:28.992Z"
   },
   {
    "duration": 71,
    "start_time": "2022-04-03T15:17:29.010Z"
   },
   {
    "duration": 45,
    "start_time": "2022-04-03T15:17:29.083Z"
   },
   {
    "duration": 276,
    "start_time": "2022-04-03T15:17:29.130Z"
   },
   {
    "duration": 19,
    "start_time": "2022-04-03T15:17:29.409Z"
   },
   {
    "duration": 12,
    "start_time": "2022-04-03T15:17:29.429Z"
   },
   {
    "duration": 18,
    "start_time": "2022-04-03T15:17:29.443Z"
   },
   {
    "duration": 4,
    "start_time": "2022-04-03T15:17:29.463Z"
   },
   {
    "duration": 54,
    "start_time": "2022-04-03T15:17:29.469Z"
   },
   {
    "duration": 9,
    "start_time": "2022-04-03T15:17:29.525Z"
   },
   {
    "duration": 354,
    "start_time": "2022-04-03T15:17:29.536Z"
   },
   {
    "duration": 281,
    "start_time": "2022-04-03T15:17:29.892Z"
   },
   {
    "duration": 24,
    "start_time": "2022-04-03T15:17:30.174Z"
   },
   {
    "duration": 15,
    "start_time": "2022-04-03T15:17:30.209Z"
   },
   {
    "duration": 18,
    "start_time": "2022-04-03T15:17:30.226Z"
   },
   {
    "duration": 27,
    "start_time": "2022-04-03T15:17:30.245Z"
   },
   {
    "duration": 14,
    "start_time": "2022-04-03T15:17:30.274Z"
   },
   {
    "duration": 1539,
    "start_time": "2022-04-03T15:17:30.290Z"
   },
   {
    "duration": 52,
    "start_time": "2022-04-03T15:17:31.831Z"
   },
   {
    "duration": 17,
    "start_time": "2022-04-03T15:17:31.885Z"
   },
   {
    "duration": 179,
    "start_time": "2022-04-03T15:17:31.904Z"
   },
   {
    "duration": 3,
    "start_time": "2022-04-03T15:17:32.085Z"
   },
   {
    "duration": 6,
    "start_time": "2022-04-03T15:17:32.089Z"
   },
   {
    "duration": 3,
    "start_time": "2022-04-03T15:17:32.108Z"
   },
   {
    "duration": 347,
    "start_time": "2022-04-03T15:17:32.113Z"
   },
   {
    "duration": 32,
    "start_time": "2022-04-03T15:17:32.462Z"
   },
   {
    "duration": 4,
    "start_time": "2022-04-03T15:17:32.509Z"
   },
   {
    "duration": 400,
    "start_time": "2022-04-03T15:17:32.514Z"
   },
   {
    "duration": 33,
    "start_time": "2022-04-03T15:17:32.916Z"
   },
   {
    "duration": 3,
    "start_time": "2022-04-03T15:17:32.951Z"
   },
   {
    "duration": 474,
    "start_time": "2022-04-03T15:17:32.957Z"
   },
   {
    "duration": 32,
    "start_time": "2022-04-03T15:17:33.433Z"
   },
   {
    "duration": 7,
    "start_time": "2022-04-03T15:17:33.467Z"
   },
   {
    "duration": 7,
    "start_time": "2022-04-03T15:17:33.475Z"
   },
   {
    "duration": 2,
    "start_time": "2022-04-03T15:17:33.509Z"
   },
   {
    "duration": 4,
    "start_time": "2022-04-03T15:17:33.513Z"
   },
   {
    "duration": 5,
    "start_time": "2022-04-03T15:17:33.519Z"
   },
   {
    "duration": 10,
    "start_time": "2022-04-03T15:17:33.525Z"
   },
   {
    "duration": 8,
    "start_time": "2022-04-03T15:17:33.536Z"
   },
   {
    "duration": 8,
    "start_time": "2022-04-03T15:17:33.545Z"
   },
   {
    "duration": 6,
    "start_time": "2022-04-03T15:17:33.555Z"
   },
   {
    "duration": 11,
    "start_time": "2022-04-03T15:17:33.562Z"
   },
   {
    "duration": 6,
    "start_time": "2022-04-03T15:17:33.574Z"
   },
   {
    "duration": 64,
    "start_time": "2022-04-03T15:43:24.711Z"
   },
   {
    "duration": 73,
    "start_time": "2022-04-03T15:52:20.846Z"
   },
   {
    "duration": 68,
    "start_time": "2022-04-03T16:06:38.631Z"
   },
   {
    "duration": 61,
    "start_time": "2022-04-03T16:17:06.117Z"
   },
   {
    "duration": 64,
    "start_time": "2022-04-03T16:17:16.254Z"
   },
   {
    "duration": 1573,
    "start_time": "2022-04-23T10:04:04.499Z"
   },
   {
    "duration": 893,
    "start_time": "2022-04-23T10:04:06.074Z"
   },
   {
    "duration": 5,
    "start_time": "2022-04-23T10:04:06.969Z"
   },
   {
    "duration": 7,
    "start_time": "2022-04-23T10:04:06.977Z"
   },
   {
    "duration": 43,
    "start_time": "2022-04-23T10:04:06.986Z"
   },
   {
    "duration": 5,
    "start_time": "2022-04-23T10:04:07.031Z"
   },
   {
    "duration": 142,
    "start_time": "2022-04-23T10:04:07.038Z"
   },
   {
    "duration": 5,
    "start_time": "2022-04-23T10:04:07.182Z"
   },
   {
    "duration": 446,
    "start_time": "2022-04-23T10:04:07.189Z"
   },
   {
    "duration": 995,
    "start_time": "2022-04-23T10:04:07.638Z"
   },
   {
    "duration": 21,
    "start_time": "2022-04-23T10:04:08.635Z"
   },
   {
    "duration": 21,
    "start_time": "2022-04-23T10:04:08.658Z"
   },
   {
    "duration": 9,
    "start_time": "2022-04-23T10:04:08.681Z"
   },
   {
    "duration": 32,
    "start_time": "2022-04-23T10:04:08.692Z"
   },
   {
    "duration": 18,
    "start_time": "2022-04-23T10:04:08.726Z"
   },
   {
    "duration": 17,
    "start_time": "2022-04-23T10:04:08.746Z"
   },
   {
    "duration": 19,
    "start_time": "2022-04-23T10:04:08.765Z"
   },
   {
    "duration": 18,
    "start_time": "2022-04-23T10:04:08.786Z"
   },
   {
    "duration": 27,
    "start_time": "2022-04-23T10:04:08.806Z"
   },
   {
    "duration": 18,
    "start_time": "2022-04-23T10:04:08.835Z"
   },
   {
    "duration": 19,
    "start_time": "2022-04-23T10:04:08.856Z"
   },
   {
    "duration": 213,
    "start_time": "2022-04-23T10:04:08.878Z"
   },
   {
    "duration": 98,
    "start_time": "2022-04-23T10:04:09.093Z"
   },
   {
    "duration": 331,
    "start_time": "2022-04-23T10:04:09.194Z"
   },
   {
    "duration": 11,
    "start_time": "2022-04-23T10:04:09.528Z"
   },
   {
    "duration": 37,
    "start_time": "2022-04-23T10:04:09.542Z"
   },
   {
    "duration": 43,
    "start_time": "2022-04-23T10:04:09.582Z"
   },
   {
    "duration": 36,
    "start_time": "2022-04-23T10:04:09.632Z"
   },
   {
    "duration": 21,
    "start_time": "2022-04-23T10:04:09.670Z"
   },
   {
    "duration": 20,
    "start_time": "2022-04-23T10:04:09.693Z"
   },
   {
    "duration": 30,
    "start_time": "2022-04-23T10:04:09.716Z"
   },
   {
    "duration": 31,
    "start_time": "2022-04-23T10:04:09.749Z"
   },
   {
    "duration": 819,
    "start_time": "2022-04-23T10:04:09.782Z"
   },
   {
    "duration": 66,
    "start_time": "2022-04-23T10:04:10.604Z"
   },
   {
    "duration": 840,
    "start_time": "2022-04-23T10:04:10.672Z"
   },
   {
    "duration": 20,
    "start_time": "2022-04-23T10:04:11.514Z"
   },
   {
    "duration": 8,
    "start_time": "2022-04-23T10:04:11.536Z"
   },
   {
    "duration": 22,
    "start_time": "2022-04-23T10:04:11.546Z"
   },
   {
    "duration": 5,
    "start_time": "2022-04-23T10:04:11.571Z"
   },
   {
    "duration": 106,
    "start_time": "2022-04-23T10:04:11.579Z"
   },
   {
    "duration": 39,
    "start_time": "2022-04-23T10:04:11.687Z"
   },
   {
    "duration": 66,
    "start_time": "2022-04-23T10:04:11.728Z"
   },
   {
    "duration": 49,
    "start_time": "2022-04-23T10:04:11.796Z"
   },
   {
    "duration": 90,
    "start_time": "2022-04-23T10:04:11.848Z"
   },
   {
    "duration": 11,
    "start_time": "2022-04-23T10:04:11.940Z"
   },
   {
    "duration": 17,
    "start_time": "2022-04-23T10:04:11.954Z"
   },
   {
    "duration": 17,
    "start_time": "2022-04-23T10:04:11.974Z"
   },
   {
    "duration": 592,
    "start_time": "2022-04-23T10:04:11.993Z"
   },
   {
    "duration": 43,
    "start_time": "2022-04-23T10:04:12.588Z"
   },
   {
    "duration": 35,
    "start_time": "2022-04-23T10:04:12.634Z"
   },
   {
    "duration": 580,
    "start_time": "2022-04-23T10:04:12.672Z"
   },
   {
    "duration": 23,
    "start_time": "2022-04-23T10:04:13.255Z"
   },
   {
    "duration": 5,
    "start_time": "2022-04-23T10:04:13.281Z"
   },
   {
    "duration": 2046,
    "start_time": "2022-04-23T10:04:13.289Z"
   },
   {
    "duration": 3288,
    "start_time": "2022-04-23T10:04:15.338Z"
   },
   {
    "duration": 2687,
    "start_time": "2022-04-23T10:04:18.628Z"
   },
   {
    "duration": 2612,
    "start_time": "2022-04-23T10:04:21.325Z"
   },
   {
    "duration": 1193,
    "start_time": "2022-04-23T10:04:23.939Z"
   },
   {
    "duration": 2118,
    "start_time": "2022-04-23T10:04:25.135Z"
   },
   {
    "duration": 1133,
    "start_time": "2022-04-23T10:04:27.255Z"
   },
   {
    "duration": 2052,
    "start_time": "2022-04-23T10:04:28.390Z"
   },
   {
    "duration": 1529,
    "start_time": "2022-04-23T10:04:30.445Z"
   },
   {
    "duration": 2654,
    "start_time": "2022-04-23T10:04:31.976Z"
   },
   {
    "duration": 1314,
    "start_time": "2022-05-05T08:07:28.837Z"
   },
   {
    "duration": 60,
    "start_time": "2022-05-05T08:07:30.154Z"
   },
   {
    "duration": 3,
    "start_time": "2022-05-05T08:07:30.216Z"
   },
   {
    "duration": 12,
    "start_time": "2022-05-05T08:07:30.222Z"
   },
   {
    "duration": 29,
    "start_time": "2022-05-05T08:07:30.236Z"
   },
   {
    "duration": 4,
    "start_time": "2022-05-05T08:07:30.267Z"
   },
   {
    "duration": 67,
    "start_time": "2022-05-05T08:07:30.272Z"
   },
   {
    "duration": 5,
    "start_time": "2022-05-05T08:07:30.341Z"
   },
   {
    "duration": 15,
    "start_time": "2022-05-05T08:07:30.347Z"
   },
   {
    "duration": 14,
    "start_time": "2022-05-05T08:07:30.365Z"
   },
   {
    "duration": 20,
    "start_time": "2022-05-05T08:07:30.381Z"
   },
   {
    "duration": 27,
    "start_time": "2022-05-05T08:07:30.402Z"
   },
   {
    "duration": 12,
    "start_time": "2022-05-05T08:07:30.431Z"
   },
   {
    "duration": 18,
    "start_time": "2022-05-05T08:07:30.445Z"
   },
   {
    "duration": 51,
    "start_time": "2022-05-05T08:07:30.464Z"
   },
   {
    "duration": 18,
    "start_time": "2022-05-05T08:07:30.517Z"
   },
   {
    "duration": 25,
    "start_time": "2022-05-05T08:07:30.537Z"
   },
   {
    "duration": 20,
    "start_time": "2022-05-05T08:07:30.563Z"
   },
   {
    "duration": 21,
    "start_time": "2022-05-05T08:07:30.585Z"
   },
   {
    "duration": 27,
    "start_time": "2022-05-05T08:07:30.607Z"
   },
   {
    "duration": 186,
    "start_time": "2022-05-05T08:07:30.636Z"
   },
   {
    "duration": 148,
    "start_time": "2022-05-05T08:07:30.824Z"
   },
   {
    "duration": 12,
    "start_time": "2022-05-05T08:07:30.974Z"
   },
   {
    "duration": 450,
    "start_time": "2022-05-05T08:07:30.988Z"
   },
   {
    "duration": 5,
    "start_time": "2022-05-05T08:07:31.440Z"
   },
   {
    "duration": 357,
    "start_time": "2022-05-05T08:07:31.447Z"
   },
   {
    "duration": 438,
    "start_time": "2022-05-05T08:07:31.806Z"
   },
   {
    "duration": 6,
    "start_time": "2022-05-05T08:07:32.250Z"
   },
   {
    "duration": 388,
    "start_time": "2022-05-05T08:07:32.259Z"
   },
   {
    "duration": 422,
    "start_time": "2022-05-05T08:07:32.648Z"
   },
   {
    "duration": 10,
    "start_time": "2022-05-05T08:07:33.072Z"
   },
   {
    "duration": 282,
    "start_time": "2022-05-05T08:07:33.084Z"
   },
   {
    "duration": 5,
    "start_time": "2022-05-05T08:07:33.368Z"
   },
   {
    "duration": 22,
    "start_time": "2022-05-05T08:07:33.375Z"
   },
   {
    "duration": 266,
    "start_time": "2022-05-05T08:07:33.399Z"
   },
   {
    "duration": 6,
    "start_time": "2022-05-05T08:07:33.668Z"
   },
   {
    "duration": 342,
    "start_time": "2022-05-05T08:07:33.677Z"
   },
   {
    "duration": 164,
    "start_time": "2022-05-05T08:07:34.021Z"
   },
   {
    "duration": 7,
    "start_time": "2022-05-05T08:07:34.187Z"
   },
   {
    "duration": 9,
    "start_time": "2022-05-05T08:07:34.196Z"
   },
   {
    "duration": 57,
    "start_time": "2022-05-05T08:07:34.207Z"
   },
   {
    "duration": 12,
    "start_time": "2022-05-05T08:07:34.266Z"
   },
   {
    "duration": 9,
    "start_time": "2022-05-05T08:07:34.280Z"
   },
   {
    "duration": 14,
    "start_time": "2022-05-05T08:07:34.291Z"
   },
   {
    "duration": 50,
    "start_time": "2022-05-05T08:07:34.306Z"
   },
   {
    "duration": 14,
    "start_time": "2022-05-05T08:07:34.358Z"
   },
   {
    "duration": 1337,
    "start_time": "2022-05-06T17:40:30.232Z"
   },
   {
    "duration": 72,
    "start_time": "2022-05-06T17:40:31.572Z"
   },
   {
    "duration": 4,
    "start_time": "2022-05-06T17:40:31.646Z"
   },
   {
    "duration": 11,
    "start_time": "2022-05-06T17:40:31.652Z"
   },
   {
    "duration": 32,
    "start_time": "2022-05-06T17:40:31.664Z"
   },
   {
    "duration": 4,
    "start_time": "2022-05-06T17:40:31.697Z"
   },
   {
    "duration": 51,
    "start_time": "2022-05-06T17:40:31.703Z"
   },
   {
    "duration": 4,
    "start_time": "2022-05-06T17:40:31.756Z"
   },
   {
    "duration": 8,
    "start_time": "2022-05-06T17:40:31.761Z"
   },
   {
    "duration": 17,
    "start_time": "2022-05-06T17:40:31.771Z"
   },
   {
    "duration": 14,
    "start_time": "2022-05-06T17:40:31.789Z"
   },
   {
    "duration": 6,
    "start_time": "2022-05-06T17:40:31.806Z"
   },
   {
    "duration": 5,
    "start_time": "2022-05-06T17:40:31.833Z"
   },
   {
    "duration": 11,
    "start_time": "2022-05-06T17:40:31.840Z"
   },
   {
    "duration": 41,
    "start_time": "2022-05-06T17:40:31.852Z"
   },
   {
    "duration": 47,
    "start_time": "2022-05-06T17:40:31.895Z"
   },
   {
    "duration": 18,
    "start_time": "2022-05-06T17:40:31.944Z"
   },
   {
    "duration": 20,
    "start_time": "2022-05-06T17:40:31.964Z"
   },
   {
    "duration": 15,
    "start_time": "2022-05-06T17:40:31.986Z"
   },
   {
    "duration": 32,
    "start_time": "2022-05-06T17:40:32.002Z"
   },
   {
    "duration": 5,
    "start_time": "2022-05-06T17:40:32.036Z"
   },
   {
    "duration": 15,
    "start_time": "2022-05-06T17:40:32.043Z"
   },
   {
    "duration": 9,
    "start_time": "2022-05-06T17:40:32.060Z"
   },
   {
    "duration": 74,
    "start_time": "2022-05-06T17:40:32.071Z"
   },
   {
    "duration": 14,
    "start_time": "2022-05-06T17:40:32.146Z"
   },
   {
    "duration": 12,
    "start_time": "2022-05-06T17:40:32.162Z"
   },
   {
    "duration": 192,
    "start_time": "2022-05-06T17:40:32.176Z"
   },
   {
    "duration": 136,
    "start_time": "2022-05-06T17:40:32.372Z"
   },
   {
    "duration": 29,
    "start_time": "2022-05-06T17:40:32.510Z"
   },
   {
    "duration": 421,
    "start_time": "2022-05-06T17:40:32.541Z"
   },
   {
    "duration": 5,
    "start_time": "2022-05-06T17:40:32.964Z"
   },
   {
    "duration": 337,
    "start_time": "2022-05-06T17:40:32.971Z"
   },
   {
    "duration": 409,
    "start_time": "2022-05-06T17:40:33.310Z"
   },
   {
    "duration": 12,
    "start_time": "2022-05-06T17:40:33.721Z"
   },
   {
    "duration": 346,
    "start_time": "2022-05-06T17:40:33.735Z"
   },
   {
    "duration": 369,
    "start_time": "2022-05-06T17:40:34.083Z"
   },
   {
    "duration": 10,
    "start_time": "2022-05-06T17:40:34.453Z"
   },
   {
    "duration": 259,
    "start_time": "2022-05-06T17:40:34.465Z"
   },
   {
    "duration": 8,
    "start_time": "2022-05-06T17:40:34.726Z"
   },
   {
    "duration": 14,
    "start_time": "2022-05-06T17:40:34.735Z"
   },
   {
    "duration": 370,
    "start_time": "2022-05-06T17:40:34.751Z"
   },
   {
    "duration": 14,
    "start_time": "2022-05-06T17:40:35.123Z"
   },
   {
    "duration": 246,
    "start_time": "2022-05-06T17:40:35.139Z"
   },
   {
    "duration": 126,
    "start_time": "2022-05-06T17:40:35.387Z"
   },
   {
    "duration": 7,
    "start_time": "2022-05-06T17:40:35.515Z"
   },
   {
    "duration": 7,
    "start_time": "2022-05-06T17:40:35.534Z"
   },
   {
    "duration": 27,
    "start_time": "2022-05-06T17:40:35.543Z"
   },
   {
    "duration": 11,
    "start_time": "2022-05-06T17:40:35.572Z"
   },
   {
    "duration": 11,
    "start_time": "2022-05-06T17:40:35.585Z"
   },
   {
    "duration": 41,
    "start_time": "2022-05-06T17:40:35.597Z"
   },
   {
    "duration": 27,
    "start_time": "2022-05-06T17:40:35.640Z"
   },
   {
    "duration": 13,
    "start_time": "2022-05-06T17:40:35.669Z"
   }
  ],
  "kernelspec": {
   "display_name": "Python 3 (ipykernel)",
   "language": "python",
   "name": "python3"
  },
  "language_info": {
   "codemirror_mode": {
    "name": "ipython",
    "version": 3
   },
   "file_extension": ".py",
   "mimetype": "text/x-python",
   "name": "python",
   "nbconvert_exporter": "python",
   "pygments_lexer": "ipython3",
   "version": "3.9.7"
  },
  "toc": {
   "base_numbering": 1,
   "nav_menu": {},
   "number_sections": true,
   "sideBar": true,
   "skip_h1_title": true,
   "title_cell": "Содержание",
   "title_sidebar": "Contents",
   "toc_cell": true,
   "toc_position": {
    "height": "calc(100% - 180px)",
    "left": "10px",
    "top": "150px",
    "width": "163.991px"
   },
   "toc_section_display": true,
   "toc_window_display": true
  }
 },
 "nbformat": 4,
 "nbformat_minor": 5
}
