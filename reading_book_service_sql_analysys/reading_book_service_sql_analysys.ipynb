{
 "cells": [
  {
   "cell_type": "markdown",
   "id": "12dcc89f",
   "metadata": {
    "toc": true
   },
   "source": [
    "<h1>Содержание<span class=\"tocSkip\"></span></h1>\n",
    "<div class=\"toc\"><ul class=\"toc-item\"><li><span><a href=\"#Исследование-таблиц\" data-toc-modified-id=\"Исследование-таблиц-1\"><span class=\"toc-item-num\">1&nbsp;&nbsp;</span>Исследование таблиц</a></span><ul class=\"toc-item\"><li><span><a href=\"#Вывод-таблицы-book\" data-toc-modified-id=\"Вывод-таблицы-book-1.1\"><span class=\"toc-item-num\">1.1&nbsp;&nbsp;</span>Вывод таблицы book</a></span></li><li><span><a href=\"#Вывод-всех-таблиц\" data-toc-modified-id=\"Вывод-всех-таблиц-1.2\"><span class=\"toc-item-num\">1.2&nbsp;&nbsp;</span>Вывод всех таблиц</a></span></li><li><span><a href=\"#Вывод-таблицы-publishers\" data-toc-modified-id=\"Вывод-таблицы-publishers-1.3\"><span class=\"toc-item-num\">1.3&nbsp;&nbsp;</span>Вывод таблицы publishers</a></span></li><li><span><a href=\"#Вывод-таблицы-ratings\" data-toc-modified-id=\"Вывод-таблицы-ratings-1.4\"><span class=\"toc-item-num\">1.4&nbsp;&nbsp;</span>Вывод таблицы ratings</a></span></li><li><span><a href=\"#Вывод-таблицы-reviews\" data-toc-modified-id=\"Вывод-таблицы-reviews-1.5\"><span class=\"toc-item-num\">1.5&nbsp;&nbsp;</span>Вывод таблицы reviews</a></span></li><li><span><a href=\"#Выводы\" data-toc-modified-id=\"Выводы-1.6\"><span class=\"toc-item-num\">1.6&nbsp;&nbsp;</span>Выводы</a></span></li></ul></li><li><span><a href=\"#Анализ-базы-данных\" data-toc-modified-id=\"Анализ-базы-данных-2\"><span class=\"toc-item-num\">2&nbsp;&nbsp;</span>Анализ базы данных</a></span><ul class=\"toc-item\"><li><span><a href=\"#Расчёт-кол-ва-книг-после-1-января-2000-года\" data-toc-modified-id=\"Расчёт-кол-ва-книг-после-1-января-2000-года-2.1\"><span class=\"toc-item-num\">2.1&nbsp;&nbsp;</span>Расчёт кол-ва книг после 1 января 2000 года</a></span></li><li><span><a href=\"#Расчёт-кол-ва-обзоров-и-средней-оценки-для-каждой-книги\" data-toc-modified-id=\"Расчёт-кол-ва-обзоров-и-средней-оценки-для-каждой-книги-2.2\"><span class=\"toc-item-num\">2.2&nbsp;&nbsp;</span>Расчёт кол-ва обзоров и средней оценки для каждой книги</a></span></li><li><span><a href=\"#Определение-издательства,-которое-выпустило-наибольшее-число-книг\" data-toc-modified-id=\"Определение-издательства,-которое-выпустило-наибольшее-число-книг-2.3\"><span class=\"toc-item-num\">2.3&nbsp;&nbsp;</span>Определение издательства, которое выпустило наибольшее число книг</a></span></li><li><span><a href=\"#Определение-автора-с-самой-высокой-средней-оценкой-книг\" data-toc-modified-id=\"Определение-автора-с-самой-высокой-средней-оценкой-книг-2.4\"><span class=\"toc-item-num\">2.4&nbsp;&nbsp;</span>Определение автора с самой высокой средней оценкой книг</a></span></li><li><span><a href=\"#Определение-среднего-количества-обзоров-от-пользователей\" data-toc-modified-id=\"Определение-среднего-количества-обзоров-от-пользователей-2.5\"><span class=\"toc-item-num\">2.5&nbsp;&nbsp;</span>Определение среднего количества обзоров от пользователей</a></span></li></ul></li><li><span><a href=\"#Вывод\" data-toc-modified-id=\"Вывод-3\"><span class=\"toc-item-num\">3&nbsp;&nbsp;</span>Вывод</a></span></li></ul></div>"
   ]
  },
  {
   "cell_type": "markdown",
   "id": "89bc62af",
   "metadata": {},
   "source": [
    "# Анализ базы данных сервиса для чтения книг по подписке\n",
    "\n"
   ]
  },
  {
   "cell_type": "markdown",
   "id": "cc650fcb",
   "metadata": {},
   "source": [
    "\n",
    "**Описание проекта**\n",
    "\n",
    "Коронавирус застал мир врасплох, изменив привычный порядок вещей. В свободное время жители городов больше не выходят на улицу, не посещают кафе и торговые центры. Зато стало больше времени для книг. Это заметили стартаперы — и бросились создавать приложения для тех, кто любит читать.\n",
    "\n",
    "Наша компания решила быть на волне и купила крупный сервис для чтения книг по подписке. \n",
    "\n",
    "\n",
    "**Цель исследования** — проанализировать базу данных, выполнив следующие задания:\n",
    "\n",
    "\n",
    "- Посчитать, сколько книг вышло после 1 января 2000 года;\n",
    "- Для каждой книги посчитать количество обзоров и среднюю оценку;\n",
    "- Определить издательство, которое выпустило наибольшее число книг толще 50 страниц — так мы исключим из анализа брошюры;\n",
    "- Определить автора с самой высокой средней оценкой книг — будем учитывать только книги с 50 и более оценками;\n",
    "- Посчитать среднее количество обзоров от пользователей, которые поставили больше 50 оценок.\n",
    "\n",
    "\n",
    "В базе — информация о книгах, издательствах, авторах, а также пользовательские обзоры книг. Эти данные помогут сформулировать ценностное предложение для нового продукта.\n",
    "\n",
    "**Описание данных.**\n",
    "\n",
    "**Таблица `books`**\n",
    "\n",
    "Содержит данные о книгах:\n",
    "\n",
    "- `book_id` — идентификатор книги;\n",
    "- `author_id` — идентификатор автора;\n",
    "- `title` — название книги;\n",
    "- `num_pages` — количество страниц;\n",
    "- `publication_date` — дата публикации книги;\n",
    "- `publisher_id` — идентификатор издателя.\n",
    "\n",
    "**Таблица `authors`**\n",
    "\n",
    "Содержит данные об авторах:\n",
    "\n",
    "- `author_id` — идентификатор автора;\n",
    "- `author` — имя автора.\n",
    "\n",
    "**Таблица `publishers`**\n",
    "\n",
    "Содержит данные об издательствах:\n",
    "\n",
    "- `publisher_id` — идентификатор издательства;\n",
    "- `publisher` — название издательства;\n",
    "\n",
    "**Таблица `ratings`**\n",
    "\n",
    "Содержит данные о пользовательских оценках книг:\n",
    "\n",
    "- `rating_id` — идентификатор оценки;\n",
    "- `book_id` — идентификатор книги;\n",
    "- `username` — имя пользователя, оставившего оценку;\n",
    "- `rating` — оценка книги.\n",
    "\n",
    "**Таблица `reviews`**\n",
    "\n",
    "Содержит данные о пользовательских обзорах на книги:\n",
    "\n",
    "- `review_id` — идентификатор обзора;\n",
    "- `book_id` — идентификатор книги;\n",
    "- `username` — имя пользователя, написавшего обзор;\n",
    "- `text` — текст обзора.\n",
    "\n",
    "**Ход исследования**\n",
    "\n",
    "- Выведем первые строки таблиц;\n",
    "- Сделаем по одному SQL-запросу для решения поставленной цели;\n",
    "- Опишем выводы по каждой из решённых задач."
   ]
  },
  {
   "cell_type": "markdown",
   "id": "480c0e35",
   "metadata": {},
   "source": [
    "## Исследование таблиц"
   ]
  },
  {
   "cell_type": "markdown",
   "id": "ec09c294",
   "metadata": {},
   "source": [
    "Подготовим подключение к базе данных."
   ]
  },
  {
   "cell_type": "code",
   "execution_count": 1,
   "id": "81ba29fe",
   "metadata": {},
   "outputs": [],
   "source": [
    "# импортируем библиотеки\n",
    "import pandas as pd\n",
    "from sqlalchemy import create_engine"
   ]
  },
  {
   "cell_type": "code",
   "execution_count": 17,
   "id": "4127dfb7",
   "metadata": {},
   "outputs": [],
   "source": [
    "# устанавливаем параметры\n",
    "db_config = {'user': 'praktikum_student', # имя пользователя\n",
    "'pwd': 'Sdf4$2;d-d30pp', # пароль\n",
    "'host': 'rc1b-wcoijxj3yxfsf3fs.mdb.yandexcloud.net',\n",
    "'port': 6432, # порт подключения\n",
    "'db': 'data-analyst-final-project-db'} # название базы данных\n",
    "\n",
    "connection_string = 'postgresql://{}:{}@{}:{}/{}'.format(db_config['user'],\n",
    " db_config['pwd'],\n",
    " db_config['host'],\n",
    " db_config['port'],\n",
    " db_config['db']) \n",
    "\n",
    "# сохраняем коннектор\n",
    "engine = create_engine(connection_string, connect_args={'sslmode':'require'}) "
   ]
  },
  {
   "cell_type": "markdown",
   "id": "6cb6816b",
   "metadata": {},
   "source": [
    "###  Вывод таблицы book"
   ]
  },
  {
   "cell_type": "markdown",
   "id": "914398d2",
   "metadata": {},
   "source": [
    "Осуществим подготовку `query` запроса для таблицы `book`."
   ]
  },
  {
   "cell_type": "code",
   "execution_count": 18,
   "id": "d3c6a0a1",
   "metadata": {},
   "outputs": [],
   "source": [
    "query_books = ''' \n",
    "                    SELECT *\n",
    "                    FROM books\n",
    "                    ORDER BY publication_date DESC\n",
    "              '''"
   ]
  },
  {
   "cell_type": "markdown",
   "id": "9c85d772",
   "metadata": {},
   "source": [
    "Выполним вывод первых пяти строк таблицы `book`."
   ]
  },
  {
   "cell_type": "code",
   "execution_count": 19,
   "id": "28bcb748",
   "metadata": {
    "scrolled": true
   },
   "outputs": [
    {
     "data": {
      "text/html": [
       "<div>\n",
       "<style scoped>\n",
       "    .dataframe tbody tr th:only-of-type {\n",
       "        vertical-align: middle;\n",
       "    }\n",
       "\n",
       "    .dataframe tbody tr th {\n",
       "        vertical-align: top;\n",
       "    }\n",
       "\n",
       "    .dataframe thead th {\n",
       "        text-align: right;\n",
       "    }\n",
       "</style>\n",
       "<table border=\"1\" class=\"dataframe\">\n",
       "  <thead>\n",
       "    <tr style=\"text-align: right;\">\n",
       "      <th></th>\n",
       "      <th>book_id</th>\n",
       "      <th>author_id</th>\n",
       "      <th>title</th>\n",
       "      <th>num_pages</th>\n",
       "      <th>publication_date</th>\n",
       "      <th>publisher_id</th>\n",
       "    </tr>\n",
       "  </thead>\n",
       "  <tbody>\n",
       "    <tr>\n",
       "      <th>0</th>\n",
       "      <td>43</td>\n",
       "      <td>377</td>\n",
       "      <td>A Quick Bite (Argeneau #1)</td>\n",
       "      <td>360</td>\n",
       "      <td>2020-03-31</td>\n",
       "      <td>28</td>\n",
       "    </tr>\n",
       "    <tr>\n",
       "      <th>1</th>\n",
       "      <td>635</td>\n",
       "      <td>166</td>\n",
       "      <td>The Art of Loving</td>\n",
       "      <td>192</td>\n",
       "      <td>2019-08-06</td>\n",
       "      <td>130</td>\n",
       "    </tr>\n",
       "    <tr>\n",
       "      <th>2</th>\n",
       "      <td>445</td>\n",
       "      <td>612</td>\n",
       "      <td>Monster</td>\n",
       "      <td>281</td>\n",
       "      <td>2019-03-05</td>\n",
       "      <td>14</td>\n",
       "    </tr>\n",
       "    <tr>\n",
       "      <th>3</th>\n",
       "      <td>993</td>\n",
       "      <td>80</td>\n",
       "      <td>Women</td>\n",
       "      <td>291</td>\n",
       "      <td>2014-07-29</td>\n",
       "      <td>99</td>\n",
       "    </tr>\n",
       "    <tr>\n",
       "      <th>4</th>\n",
       "      <td>293</td>\n",
       "      <td>80</td>\n",
       "      <td>Ham on Rye</td>\n",
       "      <td>288</td>\n",
       "      <td>2014-07-29</td>\n",
       "      <td>99</td>\n",
       "    </tr>\n",
       "  </tbody>\n",
       "</table>\n",
       "</div>"
      ],
      "text/plain": [
       "   book_id  author_id                       title  num_pages publication_date  \\\n",
       "0       43        377  A Quick Bite (Argeneau #1)        360       2020-03-31   \n",
       "1      635        166           The Art of Loving        192       2019-08-06   \n",
       "2      445        612                     Monster        281       2019-03-05   \n",
       "3      993         80                       Women        291       2014-07-29   \n",
       "4      293         80                  Ham on Rye        288       2014-07-29   \n",
       "\n",
       "   publisher_id  \n",
       "0            28  \n",
       "1           130  \n",
       "2            14  \n",
       "3            99  \n",
       "4            99  "
      ]
     },
     "execution_count": 19,
     "metadata": {},
     "output_type": "execute_result"
    }
   ],
   "source": [
    "books = pd.io.sql.read_sql(query_books, con=engine)\n",
    "books.head()"
   ]
  },
  {
   "cell_type": "markdown",
   "id": "b91d94e3",
   "metadata": {},
   "source": [
    "Отметим, что в нашей базе данных наблюдается провал в книгах с 2015 по 2018 года. "
   ]
  },
  {
   "cell_type": "markdown",
   "id": "3d1e5b19",
   "metadata": {},
   "source": [
    "Посчитаем общее кол-во книг в базе данных."
   ]
  },
  {
   "cell_type": "code",
   "execution_count": 20,
   "id": "8e92bbfb",
   "metadata": {},
   "outputs": [],
   "source": [
    "# подготовка query запроса\n",
    "query_books_n = ''' \n",
    "                    SELECT COUNT(*) AS Общее_количество_книг\n",
    "                    FROM books\n",
    "                    \n",
    "              '''"
   ]
  },
  {
   "cell_type": "code",
   "execution_count": 22,
   "id": "7b3d8432",
   "metadata": {},
   "outputs": [
    {
     "data": {
      "text/html": [
       "<div>\n",
       "<style scoped>\n",
       "    .dataframe tbody tr th:only-of-type {\n",
       "        vertical-align: middle;\n",
       "    }\n",
       "\n",
       "    .dataframe tbody tr th {\n",
       "        vertical-align: top;\n",
       "    }\n",
       "\n",
       "    .dataframe thead th {\n",
       "        text-align: right;\n",
       "    }\n",
       "</style>\n",
       "<table border=\"1\" class=\"dataframe\">\n",
       "  <thead>\n",
       "    <tr style=\"text-align: right;\">\n",
       "      <th></th>\n",
       "    </tr>\n",
       "    <tr>\n",
       "      <th>Общее_количество_книг</th>\n",
       "    </tr>\n",
       "  </thead>\n",
       "  <tbody>\n",
       "    <tr>\n",
       "      <th>1000</th>\n",
       "    </tr>\n",
       "  </tbody>\n",
       "</table>\n",
       "</div>"
      ],
      "text/plain": [
       "Empty DataFrame\n",
       "Columns: []\n",
       "Index: [1000]"
      ]
     },
     "execution_count": 22,
     "metadata": {},
     "output_type": "execute_result"
    }
   ],
   "source": [
    "# вывод кол-ва книг\n",
    "books_n = pd.io.sql.read_sql(query_books_n, con=engine,index_col='Общее_количество_книг')\n",
    "books_n"
   ]
  },
  {
   "cell_type": "markdown",
   "id": "9c02304f",
   "metadata": {},
   "source": [
    "Таким образом, в базе содержится 1000 книг."
   ]
  },
  {
   "cell_type": "markdown",
   "id": "4666e932",
   "metadata": {},
   "source": [
    "###  Вывод всех таблиц"
   ]
  },
  {
   "cell_type": "markdown",
   "id": "d7bac6ad",
   "metadata": {},
   "source": [
    "Дабы не дублировать код, осуществим вывод всех остальных таблиц базы данных."
   ]
  },
  {
   "cell_type": "code",
   "execution_count": 26,
   "id": "5fb3131e",
   "metadata": {},
   "outputs": [
    {
     "name": "stdout",
     "output_type": "stream",
     "text": [
      "Таблица authors\n",
      "**************************************************\n",
      "<class 'pandas.core.frame.DataFrame'>\n",
      "RangeIndex: 636 entries, 0 to 635\n",
      "Data columns (total 2 columns):\n",
      " #   Column     Non-Null Count  Dtype \n",
      "---  ------     --------------  ----- \n",
      " 0   author_id  636 non-null    int64 \n",
      " 1   author     636 non-null    object\n",
      "dtypes: int64(1), object(1)\n",
      "memory usage: 10.1+ KB\n"
     ]
    },
    {
     "data": {
      "text/plain": [
       "None"
      ]
     },
     "metadata": {},
     "output_type": "display_data"
    },
    {
     "data": {
      "text/html": [
       "<div>\n",
       "<style scoped>\n",
       "    .dataframe tbody tr th:only-of-type {\n",
       "        vertical-align: middle;\n",
       "    }\n",
       "\n",
       "    .dataframe tbody tr th {\n",
       "        vertical-align: top;\n",
       "    }\n",
       "\n",
       "    .dataframe thead th {\n",
       "        text-align: right;\n",
       "    }\n",
       "</style>\n",
       "<table border=\"1\" class=\"dataframe\">\n",
       "  <thead>\n",
       "    <tr style=\"text-align: right;\">\n",
       "      <th></th>\n",
       "      <th>author_id</th>\n",
       "      <th>author</th>\n",
       "    </tr>\n",
       "  </thead>\n",
       "  <tbody>\n",
       "    <tr>\n",
       "      <th>0</th>\n",
       "      <td>1</td>\n",
       "      <td>A.S. Byatt</td>\n",
       "    </tr>\n",
       "    <tr>\n",
       "      <th>1</th>\n",
       "      <td>2</td>\n",
       "      <td>Aesop/Laura Harris/Laura Gibbs</td>\n",
       "    </tr>\n",
       "    <tr>\n",
       "      <th>2</th>\n",
       "      <td>3</td>\n",
       "      <td>Agatha Christie</td>\n",
       "    </tr>\n",
       "    <tr>\n",
       "      <th>3</th>\n",
       "      <td>4</td>\n",
       "      <td>Alan Brennert</td>\n",
       "    </tr>\n",
       "    <tr>\n",
       "      <th>4</th>\n",
       "      <td>5</td>\n",
       "      <td>Alan Moore/David   Lloyd</td>\n",
       "    </tr>\n",
       "  </tbody>\n",
       "</table>\n",
       "</div>"
      ],
      "text/plain": [
       "   author_id                          author\n",
       "0          1                      A.S. Byatt\n",
       "1          2  Aesop/Laura Harris/Laura Gibbs\n",
       "2          3                 Agatha Christie\n",
       "3          4                   Alan Brennert\n",
       "4          5        Alan Moore/David   Lloyd"
      ]
     },
     "metadata": {},
     "output_type": "display_data"
    },
    {
     "name": "stdout",
     "output_type": "stream",
     "text": [
      "**************************************************\n",
      "Таблица publishers\n",
      "**************************************************\n",
      "<class 'pandas.core.frame.DataFrame'>\n",
      "RangeIndex: 340 entries, 0 to 339\n",
      "Data columns (total 2 columns):\n",
      " #   Column        Non-Null Count  Dtype \n",
      "---  ------        --------------  ----- \n",
      " 0   publisher_id  340 non-null    int64 \n",
      " 1   publisher     340 non-null    object\n",
      "dtypes: int64(1), object(1)\n",
      "memory usage: 5.4+ KB\n"
     ]
    },
    {
     "data": {
      "text/plain": [
       "None"
      ]
     },
     "metadata": {},
     "output_type": "display_data"
    },
    {
     "data": {
      "text/html": [
       "<div>\n",
       "<style scoped>\n",
       "    .dataframe tbody tr th:only-of-type {\n",
       "        vertical-align: middle;\n",
       "    }\n",
       "\n",
       "    .dataframe tbody tr th {\n",
       "        vertical-align: top;\n",
       "    }\n",
       "\n",
       "    .dataframe thead th {\n",
       "        text-align: right;\n",
       "    }\n",
       "</style>\n",
       "<table border=\"1\" class=\"dataframe\">\n",
       "  <thead>\n",
       "    <tr style=\"text-align: right;\">\n",
       "      <th></th>\n",
       "      <th>publisher_id</th>\n",
       "      <th>publisher</th>\n",
       "    </tr>\n",
       "  </thead>\n",
       "  <tbody>\n",
       "    <tr>\n",
       "      <th>0</th>\n",
       "      <td>1</td>\n",
       "      <td>Ace</td>\n",
       "    </tr>\n",
       "    <tr>\n",
       "      <th>1</th>\n",
       "      <td>2</td>\n",
       "      <td>Ace Book</td>\n",
       "    </tr>\n",
       "    <tr>\n",
       "      <th>2</th>\n",
       "      <td>3</td>\n",
       "      <td>Ace Books</td>\n",
       "    </tr>\n",
       "    <tr>\n",
       "      <th>3</th>\n",
       "      <td>4</td>\n",
       "      <td>Ace Hardcover</td>\n",
       "    </tr>\n",
       "    <tr>\n",
       "      <th>4</th>\n",
       "      <td>5</td>\n",
       "      <td>Addison Wesley Publishing Company</td>\n",
       "    </tr>\n",
       "  </tbody>\n",
       "</table>\n",
       "</div>"
      ],
      "text/plain": [
       "   publisher_id                          publisher\n",
       "0             1                                Ace\n",
       "1             2                           Ace Book\n",
       "2             3                          Ace Books\n",
       "3             4                      Ace Hardcover\n",
       "4             5  Addison Wesley Publishing Company"
      ]
     },
     "metadata": {},
     "output_type": "display_data"
    },
    {
     "name": "stdout",
     "output_type": "stream",
     "text": [
      "**************************************************\n",
      "Таблица ratings\n",
      "**************************************************\n",
      "<class 'pandas.core.frame.DataFrame'>\n",
      "RangeIndex: 6456 entries, 0 to 6455\n",
      "Data columns (total 4 columns):\n",
      " #   Column     Non-Null Count  Dtype \n",
      "---  ------     --------------  ----- \n",
      " 0   rating_id  6456 non-null   int64 \n",
      " 1   book_id    6456 non-null   int64 \n",
      " 2   username   6456 non-null   object\n",
      " 3   rating     6456 non-null   int64 \n",
      "dtypes: int64(3), object(1)\n",
      "memory usage: 201.9+ KB\n"
     ]
    },
    {
     "data": {
      "text/plain": [
       "None"
      ]
     },
     "metadata": {},
     "output_type": "display_data"
    },
    {
     "data": {
      "text/html": [
       "<div>\n",
       "<style scoped>\n",
       "    .dataframe tbody tr th:only-of-type {\n",
       "        vertical-align: middle;\n",
       "    }\n",
       "\n",
       "    .dataframe tbody tr th {\n",
       "        vertical-align: top;\n",
       "    }\n",
       "\n",
       "    .dataframe thead th {\n",
       "        text-align: right;\n",
       "    }\n",
       "</style>\n",
       "<table border=\"1\" class=\"dataframe\">\n",
       "  <thead>\n",
       "    <tr style=\"text-align: right;\">\n",
       "      <th></th>\n",
       "      <th>rating_id</th>\n",
       "      <th>book_id</th>\n",
       "      <th>username</th>\n",
       "      <th>rating</th>\n",
       "    </tr>\n",
       "  </thead>\n",
       "  <tbody>\n",
       "    <tr>\n",
       "      <th>0</th>\n",
       "      <td>1</td>\n",
       "      <td>1</td>\n",
       "      <td>ryanfranco</td>\n",
       "      <td>4</td>\n",
       "    </tr>\n",
       "    <tr>\n",
       "      <th>1</th>\n",
       "      <td>2</td>\n",
       "      <td>1</td>\n",
       "      <td>grantpatricia</td>\n",
       "      <td>2</td>\n",
       "    </tr>\n",
       "    <tr>\n",
       "      <th>2</th>\n",
       "      <td>3</td>\n",
       "      <td>1</td>\n",
       "      <td>brandtandrea</td>\n",
       "      <td>5</td>\n",
       "    </tr>\n",
       "    <tr>\n",
       "      <th>3</th>\n",
       "      <td>4</td>\n",
       "      <td>2</td>\n",
       "      <td>lorichen</td>\n",
       "      <td>3</td>\n",
       "    </tr>\n",
       "    <tr>\n",
       "      <th>4</th>\n",
       "      <td>5</td>\n",
       "      <td>2</td>\n",
       "      <td>mariokeller</td>\n",
       "      <td>2</td>\n",
       "    </tr>\n",
       "  </tbody>\n",
       "</table>\n",
       "</div>"
      ],
      "text/plain": [
       "   rating_id  book_id       username  rating\n",
       "0          1        1     ryanfranco       4\n",
       "1          2        1  grantpatricia       2\n",
       "2          3        1   brandtandrea       5\n",
       "3          4        2       lorichen       3\n",
       "4          5        2    mariokeller       2"
      ]
     },
     "metadata": {},
     "output_type": "display_data"
    },
    {
     "name": "stdout",
     "output_type": "stream",
     "text": [
      "**************************************************\n",
      "Таблица reviews\n",
      "**************************************************\n",
      "<class 'pandas.core.frame.DataFrame'>\n",
      "RangeIndex: 2793 entries, 0 to 2792\n",
      "Data columns (total 4 columns):\n",
      " #   Column     Non-Null Count  Dtype \n",
      "---  ------     --------------  ----- \n",
      " 0   review_id  2793 non-null   int64 \n",
      " 1   book_id    2793 non-null   int64 \n",
      " 2   username   2793 non-null   object\n",
      " 3   text       2793 non-null   object\n",
      "dtypes: int64(2), object(2)\n",
      "memory usage: 87.4+ KB\n"
     ]
    },
    {
     "data": {
      "text/plain": [
       "None"
      ]
     },
     "metadata": {},
     "output_type": "display_data"
    },
    {
     "data": {
      "text/html": [
       "<div>\n",
       "<style scoped>\n",
       "    .dataframe tbody tr th:only-of-type {\n",
       "        vertical-align: middle;\n",
       "    }\n",
       "\n",
       "    .dataframe tbody tr th {\n",
       "        vertical-align: top;\n",
       "    }\n",
       "\n",
       "    .dataframe thead th {\n",
       "        text-align: right;\n",
       "    }\n",
       "</style>\n",
       "<table border=\"1\" class=\"dataframe\">\n",
       "  <thead>\n",
       "    <tr style=\"text-align: right;\">\n",
       "      <th></th>\n",
       "      <th>review_id</th>\n",
       "      <th>book_id</th>\n",
       "      <th>username</th>\n",
       "      <th>text</th>\n",
       "    </tr>\n",
       "  </thead>\n",
       "  <tbody>\n",
       "    <tr>\n",
       "      <th>0</th>\n",
       "      <td>1</td>\n",
       "      <td>1</td>\n",
       "      <td>brandtandrea</td>\n",
       "      <td>Mention society tell send professor analysis. ...</td>\n",
       "    </tr>\n",
       "    <tr>\n",
       "      <th>1</th>\n",
       "      <td>2</td>\n",
       "      <td>1</td>\n",
       "      <td>ryanfranco</td>\n",
       "      <td>Foot glass pretty audience hit themselves. Amo...</td>\n",
       "    </tr>\n",
       "    <tr>\n",
       "      <th>2</th>\n",
       "      <td>3</td>\n",
       "      <td>2</td>\n",
       "      <td>lorichen</td>\n",
       "      <td>Listen treat keep worry. Miss husband tax but ...</td>\n",
       "    </tr>\n",
       "    <tr>\n",
       "      <th>3</th>\n",
       "      <td>4</td>\n",
       "      <td>3</td>\n",
       "      <td>johnsonamanda</td>\n",
       "      <td>Finally month interesting blue could nature cu...</td>\n",
       "    </tr>\n",
       "    <tr>\n",
       "      <th>4</th>\n",
       "      <td>5</td>\n",
       "      <td>3</td>\n",
       "      <td>scotttamara</td>\n",
       "      <td>Nation purpose heavy give wait song will. List...</td>\n",
       "    </tr>\n",
       "  </tbody>\n",
       "</table>\n",
       "</div>"
      ],
      "text/plain": [
       "   review_id  book_id       username  \\\n",
       "0          1        1   brandtandrea   \n",
       "1          2        1     ryanfranco   \n",
       "2          3        2       lorichen   \n",
       "3          4        3  johnsonamanda   \n",
       "4          5        3    scotttamara   \n",
       "\n",
       "                                                text  \n",
       "0  Mention society tell send professor analysis. ...  \n",
       "1  Foot glass pretty audience hit themselves. Amo...  \n",
       "2  Listen treat keep worry. Miss husband tax but ...  \n",
       "3  Finally month interesting blue could nature cu...  \n",
       "4  Nation purpose heavy give wait song will. List...  "
      ]
     },
     "metadata": {},
     "output_type": "display_data"
    },
    {
     "name": "stdout",
     "output_type": "stream",
     "text": [
      "**************************************************\n"
     ]
    }
   ],
   "source": [
    "\n",
    "from IPython.display import display\n",
    "for table in ['authors','publishers','ratings','reviews']:\n",
    "    print(f'Таблица {table}')\n",
    "    print('*'*50)\n",
    "    query = f\"\"\"SELECT * FROM {table}\"\"\"\n",
    "    data = pd.io.sql.read_sql(query, con=engine)\n",
    "    display(data.info())\n",
    "    display(data.head(5))\n",
    "    print('*'*50)"
   ]
  },
  {
   "cell_type": "markdown",
   "id": "7b530d33",
   "metadata": {},
   "source": [
    "###  Выводы"
   ]
  },
  {
   "cell_type": "markdown",
   "id": "b518ef42",
   "metadata": {},
   "source": [
    "Мы осуществили вывод таблиц базы данных и сформировали понимание относительно их наполнения. Перейдем к решению заданий."
   ]
  },
  {
   "cell_type": "markdown",
   "id": "b637bce9",
   "metadata": {},
   "source": [
    "## Анализ базы данных"
   ]
  },
  {
   "cell_type": "markdown",
   "id": "c5c8865c",
   "metadata": {},
   "source": [
    "### Расчёт кол-ва книг после 1 января 2000 года"
   ]
  },
  {
   "cell_type": "markdown",
   "id": "85a4dbe4",
   "metadata": {},
   "source": [
    "Осуществим подготовку `query` запроса для таблицы `books`."
   ]
  },
  {
   "cell_type": "code",
   "execution_count": 7,
   "id": "c3f34280",
   "metadata": {},
   "outputs": [],
   "source": [
    "query_q1 = ''' SELECT COUNT(publication_date) AS Количество_книг\n",
    "                FROM books\n",
    "                WHERE publication_date > '2000-01-01'\n",
    "        '''"
   ]
  },
  {
   "cell_type": "markdown",
   "id": "1c8d0f1c",
   "metadata": {},
   "source": [
    "Выполним вывод `query_q1` запроса."
   ]
  },
  {
   "cell_type": "code",
   "execution_count": 8,
   "id": "7fa1cd1c",
   "metadata": {},
   "outputs": [
    {
     "data": {
      "text/html": [
       "<div>\n",
       "<style scoped>\n",
       "    .dataframe tbody tr th:only-of-type {\n",
       "        vertical-align: middle;\n",
       "    }\n",
       "\n",
       "    .dataframe tbody tr th {\n",
       "        vertical-align: top;\n",
       "    }\n",
       "\n",
       "    .dataframe thead th {\n",
       "        text-align: right;\n",
       "    }\n",
       "</style>\n",
       "<table border=\"1\" class=\"dataframe\">\n",
       "  <thead>\n",
       "    <tr style=\"text-align: right;\">\n",
       "      <th></th>\n",
       "    </tr>\n",
       "    <tr>\n",
       "      <th>Количество_книг</th>\n",
       "    </tr>\n",
       "  </thead>\n",
       "  <tbody>\n",
       "    <tr>\n",
       "      <th>819</th>\n",
       "    </tr>\n",
       "  </tbody>\n",
       "</table>\n",
       "</div>"
      ],
      "text/plain": [
       "Empty DataFrame\n",
       "Columns: []\n",
       "Index: [819]"
      ]
     },
     "execution_count": 8,
     "metadata": {},
     "output_type": "execute_result"
    }
   ],
   "source": [
    "q1 = pd.io.sql.read_sql(query_q1, con=engine, index_col='Количество_книг')\n",
    "q1"
   ]
  },
  {
   "cell_type": "markdown",
   "id": "64fe2a56",
   "metadata": {},
   "source": [
    "Итак, примерно 82% книг нашей базы данных вышли после 1 января 2000 года."
   ]
  },
  {
   "cell_type": "markdown",
   "id": "de3a660f",
   "metadata": {},
   "source": [
    "### Расчёт кол-ва обзоров и средней оценки для каждой книги"
   ]
  },
  {
   "cell_type": "markdown",
   "id": "39f853ee",
   "metadata": {},
   "source": [
    "Осуществим подготовку `query` запроса для расчёта кол-ва обзоров и средней оценки для каждой книги."
   ]
  },
  {
   "cell_type": "code",
   "execution_count": 9,
   "id": "cdbcca73",
   "metadata": {},
   "outputs": [],
   "source": [
    "query_q2 = ''' \n",
    "\n",
    "WITH \n",
    "t1 AS (SELECT title, COUNT(r.book_id) AS Количество_обзоров\n",
    "        FROM reviews AS r\n",
    "        LEFT JOIN books AS b ON r.book_id = b.book_id\n",
    "        GROUP BY title, r.book_id\n",
    "        ORDER BY 2 DESC),\n",
    "        \n",
    "t2 AS (SELECT title, AVG(rating) AS Средняя_оценка\n",
    "        FROM ratings AS rt\n",
    "        LEFT JOIN books AS b ON rt.book_id = b.book_id\n",
    "        GROUP BY title\n",
    "        ORDER BY 2 DESC)\n",
    "SELECT t2.title, COALESCE(Количество_обзоров, 0) AS Количество_обзоров, Средняя_оценка\n",
    "FROM t1\n",
    "FULL OUTER JOIN t2 ON t1.title = t2.title\n",
    "ORDER BY 2 DESC,3 DESC\n",
    "\n",
    "\n",
    "        '''"
   ]
  },
  {
   "cell_type": "markdown",
   "id": "f1135921",
   "metadata": {},
   "source": [
    "Выполним вывод первых пяти строк таблицы."
   ]
  },
  {
   "cell_type": "code",
   "execution_count": 10,
   "id": "3df7fcfa",
   "metadata": {},
   "outputs": [
    {
     "data": {
      "text/html": [
       "<div>\n",
       "<style scoped>\n",
       "    .dataframe tbody tr th:only-of-type {\n",
       "        vertical-align: middle;\n",
       "    }\n",
       "\n",
       "    .dataframe tbody tr th {\n",
       "        vertical-align: top;\n",
       "    }\n",
       "\n",
       "    .dataframe thead th {\n",
       "        text-align: right;\n",
       "    }\n",
       "</style>\n",
       "<table border=\"1\" class=\"dataframe\">\n",
       "  <thead>\n",
       "    <tr style=\"text-align: right;\">\n",
       "      <th></th>\n",
       "      <th>title</th>\n",
       "      <th>Количество_обзоров</th>\n",
       "      <th>Средняя_оценка</th>\n",
       "    </tr>\n",
       "  </thead>\n",
       "  <tbody>\n",
       "    <tr>\n",
       "      <th>0</th>\n",
       "      <td>Twilight (Twilight  #1)</td>\n",
       "      <td>7</td>\n",
       "      <td>3.662500</td>\n",
       "    </tr>\n",
       "    <tr>\n",
       "      <th>1</th>\n",
       "      <td>Harry Potter and the Prisoner of Azkaban (Harr...</td>\n",
       "      <td>6</td>\n",
       "      <td>4.414634</td>\n",
       "    </tr>\n",
       "    <tr>\n",
       "      <th>2</th>\n",
       "      <td>Harry Potter and the Chamber of Secrets (Harry...</td>\n",
       "      <td>6</td>\n",
       "      <td>4.287500</td>\n",
       "    </tr>\n",
       "    <tr>\n",
       "      <th>3</th>\n",
       "      <td>The Book Thief</td>\n",
       "      <td>6</td>\n",
       "      <td>4.264151</td>\n",
       "    </tr>\n",
       "    <tr>\n",
       "      <th>4</th>\n",
       "      <td>The Glass Castle</td>\n",
       "      <td>6</td>\n",
       "      <td>4.206897</td>\n",
       "    </tr>\n",
       "    <tr>\n",
       "      <th>5</th>\n",
       "      <td>Outlander (Outlander  #1)</td>\n",
       "      <td>6</td>\n",
       "      <td>4.125000</td>\n",
       "    </tr>\n",
       "    <tr>\n",
       "      <th>6</th>\n",
       "      <td>The Hobbit  or There and Back Again</td>\n",
       "      <td>6</td>\n",
       "      <td>4.125000</td>\n",
       "    </tr>\n",
       "    <tr>\n",
       "      <th>7</th>\n",
       "      <td>The Curious Incident of the Dog in the Night-Time</td>\n",
       "      <td>6</td>\n",
       "      <td>4.081081</td>\n",
       "    </tr>\n",
       "    <tr>\n",
       "      <th>8</th>\n",
       "      <td>The Lightning Thief (Percy Jackson and the Oly...</td>\n",
       "      <td>6</td>\n",
       "      <td>4.080645</td>\n",
       "    </tr>\n",
       "    <tr>\n",
       "      <th>9</th>\n",
       "      <td>Water for Elephants</td>\n",
       "      <td>6</td>\n",
       "      <td>3.977273</td>\n",
       "    </tr>\n",
       "  </tbody>\n",
       "</table>\n",
       "</div>"
      ],
      "text/plain": [
       "                                               title  Количество_обзоров  \\\n",
       "0                            Twilight (Twilight  #1)                   7   \n",
       "1  Harry Potter and the Prisoner of Azkaban (Harr...                   6   \n",
       "2  Harry Potter and the Chamber of Secrets (Harry...                   6   \n",
       "3                                     The Book Thief                   6   \n",
       "4                                   The Glass Castle                   6   \n",
       "5                          Outlander (Outlander  #1)                   6   \n",
       "6                The Hobbit  or There and Back Again                   6   \n",
       "7  The Curious Incident of the Dog in the Night-Time                   6   \n",
       "8  The Lightning Thief (Percy Jackson and the Oly...                   6   \n",
       "9                                Water for Elephants                   6   \n",
       "\n",
       "   Средняя_оценка  \n",
       "0        3.662500  \n",
       "1        4.414634  \n",
       "2        4.287500  \n",
       "3        4.264151  \n",
       "4        4.206897  \n",
       "5        4.125000  \n",
       "6        4.125000  \n",
       "7        4.081081  \n",
       "8        4.080645  \n",
       "9        3.977273  "
      ]
     },
     "execution_count": 10,
     "metadata": {},
     "output_type": "execute_result"
    }
   ],
   "source": [
    "q2 = pd.io.sql.read_sql(query_q2, con = engine) \n",
    "q2.head(10)"
   ]
  },
  {
   "cell_type": "markdown",
   "id": "8a213048",
   "metadata": {},
   "source": [
    "Заметим, что большое кол-во обзоров не сказывается на средней оценке пользователей. Решающее значение, всё же, играет содержание. Опираясь на среднюю оценку, мы можем предлагать пользователям более качественный материал для чтения и тем самым удерживать своего клиента."
   ]
  },
  {
   "cell_type": "markdown",
   "id": "4b8053c6",
   "metadata": {},
   "source": [
    "### Определение издательства, которое выпустило наибольшее число книг"
   ]
  },
  {
   "cell_type": "markdown",
   "id": "2ca1dd1f",
   "metadata": {},
   "source": [
    "Осуществим подготовку `query` запроса для определения издательства."
   ]
  },
  {
   "cell_type": "code",
   "execution_count": 11,
   "id": "283fdf10",
   "metadata": {},
   "outputs": [],
   "source": [
    "query_q3 = ''' SELECT publisher AS Издательство, COUNT(title) AS Число_книг\n",
    "                FROM publishers AS p\n",
    "                JOIN books AS b ON p.publisher_id = b.publisher_id\n",
    "                WHERE num_pages > 50\n",
    "                GROUP BY publisher\n",
    "                ORDER BY 2 DESC\n",
    "                LIMIT 1\n",
    "        '''"
   ]
  },
  {
   "cell_type": "markdown",
   "id": "28c03c04",
   "metadata": {},
   "source": [
    "Выполним вывод наименования издательства и кол-ва выпущенных книг."
   ]
  },
  {
   "cell_type": "code",
   "execution_count": 12,
   "id": "2b01dc1e",
   "metadata": {},
   "outputs": [
    {
     "data": {
      "text/html": [
       "<div>\n",
       "<style scoped>\n",
       "    .dataframe tbody tr th:only-of-type {\n",
       "        vertical-align: middle;\n",
       "    }\n",
       "\n",
       "    .dataframe tbody tr th {\n",
       "        vertical-align: top;\n",
       "    }\n",
       "\n",
       "    .dataframe thead th {\n",
       "        text-align: right;\n",
       "    }\n",
       "</style>\n",
       "<table border=\"1\" class=\"dataframe\">\n",
       "  <thead>\n",
       "    <tr style=\"text-align: right;\">\n",
       "      <th></th>\n",
       "      <th>Число_книг</th>\n",
       "    </tr>\n",
       "    <tr>\n",
       "      <th>Издательство</th>\n",
       "      <th></th>\n",
       "    </tr>\n",
       "  </thead>\n",
       "  <tbody>\n",
       "    <tr>\n",
       "      <th>Penguin Books</th>\n",
       "      <td>42</td>\n",
       "    </tr>\n",
       "  </tbody>\n",
       "</table>\n",
       "</div>"
      ],
      "text/plain": [
       "               Число_книг\n",
       "Издательство             \n",
       "Penguin Books          42"
      ]
     },
     "execution_count": 12,
     "metadata": {},
     "output_type": "execute_result"
    }
   ],
   "source": [
    "q3 = pd.io.sql.read_sql(query_q3, con = engine, index_col = 'Издательство') \n",
    "q3"
   ]
  },
  {
   "cell_type": "markdown",
   "id": "0706c6b1",
   "metadata": {},
   "source": [
    "Таким образом, издательство `Penguin Books` выпустило наибольшее число книг 42 шт. Возможно, что у данного издательства существуют и другие книги, которыми можно дополнить нашу базу данных.\t"
   ]
  },
  {
   "cell_type": "markdown",
   "id": "acceccdb",
   "metadata": {},
   "source": [
    "### Определение автора с самой высокой средней оценкой книг"
   ]
  },
  {
   "cell_type": "markdown",
   "id": "61cfbad9",
   "metadata": {},
   "source": [
    "Осуществим подготовку `query` запроса для определения автора."
   ]
  },
  {
   "cell_type": "code",
   "execution_count": 13,
   "id": "fa556770",
   "metadata": {},
   "outputs": [],
   "source": [
    "query_q4 = ''' \n",
    "\n",
    "WITH \n",
    "t1 AS (SELECT author, title, AVG(rating)\n",
    "        FROM authors AS a\n",
    "        LEFT JOIN books AS b ON a.author_id = b.author_id\n",
    "        \n",
    "        LEFT JOIN ratings AS rt ON b.book_id = rt.book_id\n",
    "        \n",
    "        WHERE rt.book_id IN (SELECT book_id\n",
    "        FROM ratings AS rt\n",
    "        GROUP BY rt.book_id\n",
    "        HAVING COUNT(rt.book_id) >= 50)\n",
    "        GROUP BY author, title\n",
    "        \n",
    "   \n",
    "   \n",
    "   )\n",
    "\n",
    "\n",
    "\n",
    "\n",
    "SELECT author, AVG(avg) as Средний_рейтинг\n",
    "From t1\n",
    "GROUP BY author\n",
    "ORDER BY AVG(avg) DESC\n",
    "LIMIT 1\n",
    "             \n",
    "        '''"
   ]
  },
  {
   "cell_type": "markdown",
   "id": "8e5f5666",
   "metadata": {},
   "source": [
    "Выполним вывод автора с самой высокой средней оценкой книг."
   ]
  },
  {
   "cell_type": "code",
   "execution_count": 14,
   "id": "c4f1d3f2",
   "metadata": {
    "scrolled": true
   },
   "outputs": [
    {
     "data": {
      "text/html": [
       "<div>\n",
       "<style scoped>\n",
       "    .dataframe tbody tr th:only-of-type {\n",
       "        vertical-align: middle;\n",
       "    }\n",
       "\n",
       "    .dataframe tbody tr th {\n",
       "        vertical-align: top;\n",
       "    }\n",
       "\n",
       "    .dataframe thead th {\n",
       "        text-align: right;\n",
       "    }\n",
       "</style>\n",
       "<table border=\"1\" class=\"dataframe\">\n",
       "  <thead>\n",
       "    <tr style=\"text-align: right;\">\n",
       "      <th></th>\n",
       "      <th>author</th>\n",
       "      <th>Средний_рейтинг</th>\n",
       "    </tr>\n",
       "  </thead>\n",
       "  <tbody>\n",
       "    <tr>\n",
       "      <th>0</th>\n",
       "      <td>J.K. Rowling/Mary GrandPré</td>\n",
       "      <td>4.283844</td>\n",
       "    </tr>\n",
       "  </tbody>\n",
       "</table>\n",
       "</div>"
      ],
      "text/plain": [
       "                       author  Средний_рейтинг\n",
       "0  J.K. Rowling/Mary GrandPré         4.283844"
      ]
     },
     "execution_count": 14,
     "metadata": {},
     "output_type": "execute_result"
    }
   ],
   "source": [
    "q4 = pd.io.sql.read_sql(query_q4, con = engine) \n",
    "q4"
   ]
  },
  {
   "cell_type": "markdown",
   "id": "42a07b04",
   "metadata": {},
   "source": [
    "Итак, по мнению пользователей автором с самой высокой средней оценкой книг является J.K. Rowling с ее книгами о Гарри Поттере. Для нас это дополнительный стимул, чтобы предлагать данного автора чаще и осуществлять формирование подборок для пользователей, руководствуясь этим критерием."
   ]
  },
  {
   "cell_type": "markdown",
   "id": "751d2d6b",
   "metadata": {},
   "source": [
    "### Определение среднего количества обзоров от пользователей"
   ]
  },
  {
   "cell_type": "markdown",
   "id": "824a87fa",
   "metadata": {},
   "source": [
    "Осуществим подготовку `query` запроса для определения среднего количества обзоров от пользователей."
   ]
  },
  {
   "cell_type": "code",
   "execution_count": 15,
   "id": "e9fe0ea8",
   "metadata": {},
   "outputs": [],
   "source": [
    "query_q5 = ''' \n",
    "\n",
    "WITH t1 AS\n",
    "\n",
    "(SELECT username, COUNT(username) AS Число_обзоров\n",
    "               FROM reviews\n",
    "               WHERE username IN (SELECT username\n",
    "                                    FROM ratings AS rt\n",
    "                                    GROUP BY username\n",
    "                                    HAVING COUNT(rating) >50)\n",
    "               GROUP BY username)\n",
    "SELECT ROUND(AVG(Число_обзоров)) AS Среднее_количество_обзоров\n",
    "FROM t1\n",
    "               \n",
    "        '''"
   ]
  },
  {
   "cell_type": "markdown",
   "id": "1051d305",
   "metadata": {},
   "source": [
    "Выполним вывод среднего количества обзоров от пользователей."
   ]
  },
  {
   "cell_type": "code",
   "execution_count": 16,
   "id": "0669fe39",
   "metadata": {},
   "outputs": [
    {
     "data": {
      "text/html": [
       "<div>\n",
       "<style scoped>\n",
       "    .dataframe tbody tr th:only-of-type {\n",
       "        vertical-align: middle;\n",
       "    }\n",
       "\n",
       "    .dataframe tbody tr th {\n",
       "        vertical-align: top;\n",
       "    }\n",
       "\n",
       "    .dataframe thead th {\n",
       "        text-align: right;\n",
       "    }\n",
       "</style>\n",
       "<table border=\"1\" class=\"dataframe\">\n",
       "  <thead>\n",
       "    <tr style=\"text-align: right;\">\n",
       "      <th></th>\n",
       "    </tr>\n",
       "    <tr>\n",
       "      <th>Среднее_количество_обзоров</th>\n",
       "    </tr>\n",
       "  </thead>\n",
       "  <tbody>\n",
       "    <tr>\n",
       "      <th>24.0</th>\n",
       "    </tr>\n",
       "  </tbody>\n",
       "</table>\n",
       "</div>"
      ],
      "text/plain": [
       "Empty DataFrame\n",
       "Columns: []\n",
       "Index: [24.0]"
      ]
     },
     "execution_count": 16,
     "metadata": {},
     "output_type": "execute_result"
    }
   ],
   "source": [
    "q5 = pd.io.sql.read_sql(query_q5, con = engine,  index_col = 'Среднее_количество_обзоров' ) \n",
    "q5"
   ]
  },
  {
   "cell_type": "markdown",
   "id": "966064f7",
   "metadata": {},
   "source": [
    "Итак, среднее кол-во обзоров от пользователей составляет 24 шт. Обзоры от пользователей помогают развиваться нашему сервису для чтения книг по подписке. Для клиентов, которые превышают данный порог, необходимо разработать и внедрить систему поощрительных мер."
   ]
  },
  {
   "cell_type": "markdown",
   "id": "f84d222f",
   "metadata": {},
   "source": [
    "## Вывод"
   ]
  },
  {
   "cell_type": "markdown",
   "id": "d2348b88",
   "metadata": {},
   "source": [
    "Мы проанализировали базу данных сервиса для чтения книг по подписке и можем дать следующие рекомендации/инсайты отделу маркетинга для формирования ценностного предложения для нового продукта:\n",
    "\n",
    " - 82% книг нашей базы данных вышли после 1 января 2000 года;\n",
    " \n",
    " \n",
    " - основное внимание необходимо обращать на среднюю оценку пользователей той или иной книги, невзирая на кол-во обзоров;\n",
    " \n",
    " \n",
    " - осуществить дополнительный анализ топ 5 издательств на предмет средней оценки выпущенных ими книг и последующее дополнение библиотеки другими книгами этих издательств;\n",
    " \n",
    "  \n",
    " - выполнить разработку и внедрение маркетинговых стратегий на основе самого популярного автора: J.K. Rowling;\n",
    " \n",
    "  \n",
    " - разработать и внедрить систему поощрительных мер для пользователей, исходя из среднего кол-ва обзоров в 24 шт."
   ]
  }
 ],
 "metadata": {
  "ExecuteTimeLog": [
   {
    "duration": 1550,
    "start_time": "2022-02-23T02:29:40.981Z"
   },
   {
    "duration": 322,
    "start_time": "2022-02-23T02:30:54.787Z"
   },
   {
    "duration": 297,
    "start_time": "2022-02-23T02:31:33.602Z"
   },
   {
    "duration": 296,
    "start_time": "2022-02-23T02:31:37.275Z"
   },
   {
    "duration": 66,
    "start_time": "2022-02-23T02:33:16.579Z"
   },
   {
    "duration": 69,
    "start_time": "2022-02-23T02:33:21.908Z"
   },
   {
    "duration": 247,
    "start_time": "2022-02-23T02:33:47.770Z"
   },
   {
    "duration": 9240,
    "start_time": "2022-07-29T15:49:24.531Z"
   },
   {
    "duration": 2,
    "start_time": "2022-07-29T15:49:33.773Z"
   },
   {
    "duration": 102,
    "start_time": "2022-07-29T15:49:33.777Z"
   },
   {
    "duration": 2,
    "start_time": "2022-07-29T15:49:33.882Z"
   },
   {
    "duration": 14,
    "start_time": "2022-07-29T15:49:33.886Z"
   },
   {
    "duration": 2,
    "start_time": "2022-07-29T15:49:33.902Z"
   },
   {
    "duration": 16,
    "start_time": "2022-07-29T15:49:33.906Z"
   },
   {
    "duration": 3,
    "start_time": "2022-07-29T15:49:33.923Z"
   },
   {
    "duration": 16,
    "start_time": "2022-07-29T15:49:33.928Z"
   },
   {
    "duration": 3,
    "start_time": "2022-07-29T15:49:33.946Z"
   },
   {
    "duration": 38,
    "start_time": "2022-07-29T15:49:33.950Z"
   },
   {
    "duration": 3,
    "start_time": "2022-07-29T15:49:33.989Z"
   },
   {
    "duration": 39,
    "start_time": "2022-07-29T15:49:33.994Z"
   },
   {
    "duration": 3,
    "start_time": "2022-07-29T15:49:34.035Z"
   },
   {
    "duration": 14,
    "start_time": "2022-07-29T15:49:34.040Z"
   },
   {
    "duration": 3,
    "start_time": "2022-07-29T15:49:34.056Z"
   },
   {
    "duration": 35,
    "start_time": "2022-07-29T15:49:34.062Z"
   },
   {
    "duration": 3,
    "start_time": "2022-07-29T15:49:34.098Z"
   },
   {
    "duration": 21,
    "start_time": "2022-07-29T15:49:34.102Z"
   },
   {
    "duration": 3,
    "start_time": "2022-07-29T15:49:34.125Z"
   },
   {
    "duration": 15,
    "start_time": "2022-07-29T15:50:20.656Z"
   },
   {
    "duration": 3,
    "start_time": "2022-07-29T15:50:58.648Z"
   },
   {
    "duration": 100,
    "start_time": "2022-07-29T15:51:00.050Z"
   },
   {
    "duration": 18,
    "start_time": "2022-07-29T15:51:50.655Z"
   },
   {
    "duration": 3,
    "start_time": "2022-07-29T15:54:08.045Z"
   },
   {
    "duration": 15,
    "start_time": "2022-07-29T15:54:10.446Z"
   },
   {
    "duration": 3,
    "start_time": "2022-07-29T15:55:38.963Z"
   },
   {
    "duration": 15,
    "start_time": "2022-07-29T15:55:41.109Z"
   },
   {
    "duration": 3,
    "start_time": "2022-07-29T15:57:56.477Z"
   },
   {
    "duration": 16,
    "start_time": "2022-07-29T15:58:01.653Z"
   },
   {
    "duration": 3,
    "start_time": "2022-07-29T15:58:34.748Z"
   },
   {
    "duration": 15,
    "start_time": "2022-07-29T15:58:36.369Z"
   },
   {
    "duration": 3,
    "start_time": "2022-07-29T16:03:26.994Z"
   },
   {
    "duration": 21,
    "start_time": "2022-07-29T16:03:28.267Z"
   },
   {
    "duration": 2,
    "start_time": "2022-07-29T16:06:37.157Z"
   },
   {
    "duration": 116,
    "start_time": "2022-07-29T16:06:38.692Z"
   },
   {
    "duration": 2,
    "start_time": "2022-07-29T16:07:14.946Z"
   },
   {
    "duration": 106,
    "start_time": "2022-07-29T16:07:16.442Z"
   },
   {
    "duration": 3,
    "start_time": "2022-07-29T16:08:01.046Z"
   },
   {
    "duration": 19,
    "start_time": "2022-07-29T16:08:03.072Z"
   },
   {
    "duration": 3,
    "start_time": "2022-07-29T16:10:45.077Z"
   },
   {
    "duration": 17,
    "start_time": "2022-07-29T16:10:46.606Z"
   },
   {
    "duration": 4,
    "start_time": "2022-07-29T16:12:27.629Z"
   },
   {
    "duration": 16,
    "start_time": "2022-07-29T16:12:29.061Z"
   },
   {
    "duration": 3,
    "start_time": "2022-07-29T16:13:36.728Z"
   },
   {
    "duration": 14,
    "start_time": "2022-07-29T16:13:38.025Z"
   },
   {
    "duration": 113,
    "start_time": "2022-07-29T16:22:52.554Z"
   },
   {
    "duration": 105,
    "start_time": "2022-07-29T16:24:19.164Z"
   },
   {
    "duration": 264,
    "start_time": "2022-07-29T16:25:09.418Z"
   },
   {
    "duration": 3,
    "start_time": "2022-07-29T16:26:11.735Z"
   },
   {
    "duration": 104,
    "start_time": "2022-07-29T16:26:13.225Z"
   },
   {
    "duration": 125,
    "start_time": "2022-07-29T16:27:08.793Z"
   },
   {
    "duration": 9,
    "start_time": "2022-07-29T16:28:06.020Z"
   },
   {
    "duration": 3,
    "start_time": "2022-07-29T16:28:07.402Z"
   },
   {
    "duration": 99,
    "start_time": "2022-07-29T16:28:08.687Z"
   },
   {
    "duration": 4,
    "start_time": "2022-07-29T16:28:44.844Z"
   },
   {
    "duration": 7,
    "start_time": "2022-07-29T16:28:44.851Z"
   },
   {
    "duration": 74,
    "start_time": "2022-07-29T16:28:44.860Z"
   },
   {
    "duration": 3,
    "start_time": "2022-07-29T16:28:44.936Z"
   },
   {
    "duration": 13,
    "start_time": "2022-07-29T16:28:44.941Z"
   },
   {
    "duration": 3,
    "start_time": "2022-07-29T16:28:44.956Z"
   },
   {
    "duration": 17,
    "start_time": "2022-07-29T16:28:44.960Z"
   },
   {
    "duration": 3,
    "start_time": "2022-07-29T16:28:44.979Z"
   },
   {
    "duration": 26,
    "start_time": "2022-07-29T16:28:44.984Z"
   },
   {
    "duration": 3,
    "start_time": "2022-07-29T16:28:45.012Z"
   },
   {
    "duration": 54,
    "start_time": "2022-07-29T16:28:45.017Z"
   },
   {
    "duration": 3,
    "start_time": "2022-07-29T16:28:45.073Z"
   },
   {
    "duration": 22,
    "start_time": "2022-07-29T16:28:45.220Z"
   },
   {
    "duration": 8,
    "start_time": "2022-07-29T16:28:45.245Z"
   },
   {
    "duration": 10,
    "start_time": "2022-07-29T16:28:45.256Z"
   },
   {
    "duration": 99,
    "start_time": "2022-07-29T16:28:45.268Z"
   },
   {
    "duration": 4,
    "start_time": "2022-07-29T16:30:21.790Z"
   },
   {
    "duration": 101,
    "start_time": "2022-07-29T16:30:23.559Z"
   },
   {
    "duration": 3,
    "start_time": "2022-07-29T16:33:36.700Z"
   },
   {
    "duration": 4,
    "start_time": "2022-07-29T16:41:30.447Z"
   },
   {
    "duration": 12,
    "start_time": "2022-07-29T16:41:30.454Z"
   },
   {
    "duration": 12,
    "start_time": "2022-07-29T16:41:30.468Z"
   },
   {
    "duration": 82,
    "start_time": "2022-07-29T16:41:30.482Z"
   },
   {
    "duration": 3,
    "start_time": "2022-07-29T16:41:30.820Z"
   },
   {
    "duration": 31,
    "start_time": "2022-07-29T16:41:30.826Z"
   },
   {
    "duration": 13,
    "start_time": "2022-07-29T16:41:30.858Z"
   },
   {
    "duration": 50,
    "start_time": "2022-07-29T16:41:30.874Z"
   },
   {
    "duration": 15,
    "start_time": "2022-07-29T16:41:30.927Z"
   },
   {
    "duration": 27,
    "start_time": "2022-07-29T16:41:30.945Z"
   },
   {
    "duration": 5,
    "start_time": "2022-07-29T16:41:30.974Z"
   },
   {
    "duration": 35,
    "start_time": "2022-07-29T16:41:30.981Z"
   },
   {
    "duration": 3,
    "start_time": "2022-07-29T16:41:31.019Z"
   },
   {
    "duration": 42,
    "start_time": "2022-07-29T16:41:31.024Z"
   },
   {
    "duration": 3,
    "start_time": "2022-07-29T16:41:31.189Z"
   },
   {
    "duration": 29,
    "start_time": "2022-07-29T16:41:31.194Z"
   },
   {
    "duration": 12,
    "start_time": "2022-07-29T16:41:31.225Z"
   },
   {
    "duration": 43,
    "start_time": "2022-07-29T16:41:31.239Z"
   },
   {
    "duration": 3,
    "start_time": "2022-07-29T16:41:31.285Z"
   },
   {
    "duration": 50,
    "start_time": "2022-07-29T16:41:31.290Z"
   },
   {
    "duration": 6,
    "start_time": "2022-07-29T16:41:31.342Z"
   },
   {
    "duration": 25,
    "start_time": "2022-07-29T16:41:31.349Z"
   },
   {
    "duration": 3,
    "start_time": "2022-07-29T16:41:31.376Z"
   },
   {
    "duration": 24,
    "start_time": "2022-07-29T16:41:31.380Z"
   },
   {
    "duration": 681,
    "start_time": "2022-07-29T17:21:43.644Z"
   },
   {
    "duration": 15775,
    "start_time": "2022-07-29T17:21:44.330Z"
   },
   {
    "duration": 6,
    "start_time": "2022-07-29T17:22:00.107Z"
   },
   {
    "duration": 152,
    "start_time": "2022-07-29T17:22:00.116Z"
   },
   {
    "duration": 3,
    "start_time": "2022-07-29T17:22:00.271Z"
   },
   {
    "duration": 29,
    "start_time": "2022-07-29T17:22:00.276Z"
   },
   {
    "duration": 4,
    "start_time": "2022-07-29T17:22:00.307Z"
   },
   {
    "duration": 47,
    "start_time": "2022-07-29T17:22:00.313Z"
   },
   {
    "duration": 3,
    "start_time": "2022-07-29T17:22:00.363Z"
   },
   {
    "duration": 27,
    "start_time": "2022-07-29T17:22:00.368Z"
   },
   {
    "duration": 43,
    "start_time": "2022-07-29T17:22:00.397Z"
   },
   {
    "duration": 41,
    "start_time": "2022-07-29T17:22:00.442Z"
   },
   {
    "duration": 3,
    "start_time": "2022-07-29T17:22:00.486Z"
   },
   {
    "duration": 82,
    "start_time": "2022-07-29T17:22:00.493Z"
   },
   {
    "duration": 3,
    "start_time": "2022-07-29T17:22:00.577Z"
   },
   {
    "duration": 25,
    "start_time": "2022-07-29T17:22:00.582Z"
   },
   {
    "duration": 30,
    "start_time": "2022-07-29T17:22:00.610Z"
   },
   {
    "duration": 63,
    "start_time": "2022-07-29T17:22:00.643Z"
   },
   {
    "duration": 36,
    "start_time": "2022-07-29T17:22:00.708Z"
   },
   {
    "duration": 38,
    "start_time": "2022-07-29T17:22:00.747Z"
   },
   {
    "duration": 16,
    "start_time": "2022-07-29T17:22:00.787Z"
   },
   {
    "duration": 84,
    "start_time": "2022-07-29T17:22:00.805Z"
   },
   {
    "duration": 16,
    "start_time": "2022-07-29T17:22:00.891Z"
   },
   {
    "duration": 78,
    "start_time": "2022-07-29T17:22:00.909Z"
   },
   {
    "duration": 21,
    "start_time": "2022-07-29T17:28:22.278Z"
   },
   {
    "duration": 18,
    "start_time": "2022-07-29T17:28:37.480Z"
   },
   {
    "duration": 17,
    "start_time": "2022-07-29T17:28:52.491Z"
   },
   {
    "duration": 14,
    "start_time": "2022-07-29T17:29:07.083Z"
   },
   {
    "duration": 21,
    "start_time": "2022-07-29T17:29:28.378Z"
   },
   {
    "duration": 20,
    "start_time": "2022-07-29T17:29:33.081Z"
   },
   {
    "duration": 37,
    "start_time": "2022-07-29T17:30:47.070Z"
   },
   {
    "duration": 42,
    "start_time": "2022-07-30T00:10:32.662Z"
   },
   {
    "duration": 498,
    "start_time": "2022-07-30T00:10:50.793Z"
   },
   {
    "duration": 5410,
    "start_time": "2022-07-30T00:10:51.293Z"
   },
   {
    "duration": 3,
    "start_time": "2022-07-30T00:10:56.705Z"
   },
   {
    "duration": 270,
    "start_time": "2022-07-30T00:10:56.710Z"
   },
   {
    "duration": 3,
    "start_time": "2022-07-30T00:10:56.987Z"
   },
   {
    "duration": 79,
    "start_time": "2022-07-30T00:10:56.992Z"
   },
   {
    "duration": 4,
    "start_time": "2022-07-30T00:10:57.073Z"
   },
   {
    "duration": 78,
    "start_time": "2022-07-30T00:10:57.079Z"
   },
   {
    "duration": 3,
    "start_time": "2022-07-30T00:10:57.159Z"
   },
   {
    "duration": 80,
    "start_time": "2022-07-30T00:10:57.165Z"
   },
   {
    "duration": 3,
    "start_time": "2022-07-30T00:10:57.247Z"
   },
   {
    "duration": 118,
    "start_time": "2022-07-30T00:10:57.252Z"
   },
   {
    "duration": 3,
    "start_time": "2022-07-30T00:10:57.372Z"
   },
   {
    "duration": 89,
    "start_time": "2022-07-30T00:10:57.377Z"
   },
   {
    "duration": 3,
    "start_time": "2022-07-30T00:10:57.468Z"
   },
   {
    "duration": 76,
    "start_time": "2022-07-30T00:10:57.472Z"
   },
   {
    "duration": 3,
    "start_time": "2022-07-30T00:10:57.550Z"
   },
   {
    "duration": 90,
    "start_time": "2022-07-30T00:10:57.555Z"
   },
   {
    "duration": 3,
    "start_time": "2022-07-30T00:10:57.647Z"
   },
   {
    "duration": 74,
    "start_time": "2022-07-30T00:10:57.651Z"
   },
   {
    "duration": 3,
    "start_time": "2022-07-30T00:10:57.726Z"
   },
   {
    "duration": 2,
    "start_time": "2022-07-30T00:11:12.335Z"
   },
   {
    "duration": 9,
    "start_time": "2022-07-30T00:11:12.339Z"
   },
   {
    "duration": 10,
    "start_time": "2022-07-30T00:11:12.350Z"
   },
   {
    "duration": 250,
    "start_time": "2022-07-30T00:11:12.361Z"
   },
   {
    "duration": 3,
    "start_time": "2022-07-30T00:11:12.614Z"
   },
   {
    "duration": 74,
    "start_time": "2022-07-30T00:11:12.618Z"
   },
   {
    "duration": 2,
    "start_time": "2022-07-30T00:11:12.694Z"
   },
   {
    "duration": 74,
    "start_time": "2022-07-30T00:11:12.698Z"
   },
   {
    "duration": 2,
    "start_time": "2022-07-30T00:11:12.774Z"
   },
   {
    "duration": 81,
    "start_time": "2022-07-30T00:11:12.777Z"
   },
   {
    "duration": 3,
    "start_time": "2022-07-30T00:11:12.860Z"
   },
   {
    "duration": 98,
    "start_time": "2022-07-30T00:11:12.864Z"
   },
   {
    "duration": 2,
    "start_time": "2022-07-30T00:11:12.965Z"
   },
   {
    "duration": 99,
    "start_time": "2022-07-30T00:11:12.969Z"
   },
   {
    "duration": 2,
    "start_time": "2022-07-30T00:11:13.069Z"
   },
   {
    "duration": 70,
    "start_time": "2022-07-30T00:11:13.073Z"
   },
   {
    "duration": 2,
    "start_time": "2022-07-30T00:11:13.145Z"
   },
   {
    "duration": 81,
    "start_time": "2022-07-30T00:11:13.149Z"
   },
   {
    "duration": 3,
    "start_time": "2022-07-30T00:11:13.233Z"
   },
   {
    "duration": 101,
    "start_time": "2022-07-30T00:11:13.237Z"
   },
   {
    "duration": 3,
    "start_time": "2022-07-30T00:11:13.340Z"
   },
   {
    "duration": 80,
    "start_time": "2022-07-30T00:11:13.345Z"
   },
   {
    "duration": 70,
    "start_time": "2022-07-30T00:11:13.427Z"
   },
   {
    "duration": 3,
    "start_time": "2022-07-30T00:11:13.498Z"
   },
   {
    "duration": 73,
    "start_time": "2022-07-30T00:11:13.503Z"
   },
   {
    "duration": 3,
    "start_time": "2022-07-30T00:11:52.795Z"
   },
   {
    "duration": 5,
    "start_time": "2022-07-30T00:11:53.943Z"
   },
   {
    "duration": 2,
    "start_time": "2022-07-30T00:11:58.002Z"
   },
   {
    "duration": 465,
    "start_time": "2022-07-30T00:12:00.343Z"
   },
   {
    "duration": 2,
    "start_time": "2022-07-30T00:12:12.493Z"
   },
   {
    "duration": 67,
    "start_time": "2022-07-30T00:12:13.856Z"
   },
   {
    "duration": 3,
    "start_time": "2022-07-30T00:12:18.446Z"
   },
   {
    "duration": 101,
    "start_time": "2022-07-30T00:12:20.437Z"
   },
   {
    "duration": 3,
    "start_time": "2022-07-30T00:12:23.929Z"
   },
   {
    "duration": 69,
    "start_time": "2022-07-30T00:12:25.837Z"
   },
   {
    "duration": 3,
    "start_time": "2022-07-30T00:12:30.092Z"
   },
   {
    "duration": 72,
    "start_time": "2022-07-30T00:12:32.430Z"
   },
   {
    "duration": 3,
    "start_time": "2022-07-30T00:14:34.388Z"
   },
   {
    "duration": 104,
    "start_time": "2022-07-30T00:14:37.989Z"
   },
   {
    "duration": 74,
    "start_time": "2022-07-30T00:14:50.922Z"
   },
   {
    "duration": 3,
    "start_time": "2022-07-30T00:15:44.525Z"
   },
   {
    "duration": 73,
    "start_time": "2022-07-30T00:15:45.478Z"
   },
   {
    "duration": 3,
    "start_time": "2022-07-30T00:18:30.446Z"
   },
   {
    "duration": 77,
    "start_time": "2022-07-30T00:18:31.172Z"
   },
   {
    "duration": 3,
    "start_time": "2022-07-30T00:21:52.445Z"
   },
   {
    "duration": 70,
    "start_time": "2022-07-30T00:21:54.327Z"
   },
   {
    "duration": 2,
    "start_time": "2022-07-30T00:23:13.456Z"
   },
   {
    "duration": 143,
    "start_time": "2022-07-30T00:23:14.636Z"
   },
   {
    "duration": 3,
    "start_time": "2022-07-30T00:29:11.051Z"
   },
   {
    "duration": 140,
    "start_time": "2022-07-30T00:29:12.698Z"
   },
   {
    "duration": 3,
    "start_time": "2022-07-30T00:30:07.780Z"
   },
   {
    "duration": 132,
    "start_time": "2022-07-30T00:30:08.610Z"
   },
   {
    "duration": 3,
    "start_time": "2022-07-30T00:30:37.597Z"
   },
   {
    "duration": 95,
    "start_time": "2022-07-30T00:30:38.351Z"
   },
   {
    "duration": 3,
    "start_time": "2022-07-30T00:36:18.373Z"
   },
   {
    "duration": 155,
    "start_time": "2022-07-30T00:36:19.049Z"
   },
   {
    "duration": 3,
    "start_time": "2022-07-30T00:36:48.866Z"
   },
   {
    "duration": 129,
    "start_time": "2022-07-30T00:36:50.126Z"
   },
   {
    "duration": 3,
    "start_time": "2022-07-30T00:37:26.664Z"
   },
   {
    "duration": 134,
    "start_time": "2022-07-30T00:37:27.937Z"
   },
   {
    "duration": 3,
    "start_time": "2022-07-30T00:38:10.004Z"
   },
   {
    "duration": 124,
    "start_time": "2022-07-30T00:38:10.716Z"
   },
   {
    "duration": 3,
    "start_time": "2022-07-30T01:04:06.554Z"
   },
   {
    "duration": 7,
    "start_time": "2022-07-30T01:04:06.560Z"
   },
   {
    "duration": 8,
    "start_time": "2022-07-30T01:04:06.569Z"
   },
   {
    "duration": 256,
    "start_time": "2022-07-30T01:04:06.580Z"
   },
   {
    "duration": 3,
    "start_time": "2022-07-30T01:04:06.838Z"
   },
   {
    "duration": 72,
    "start_time": "2022-07-30T01:04:06.899Z"
   },
   {
    "duration": 3,
    "start_time": "2022-07-30T01:04:06.973Z"
   },
   {
    "duration": 81,
    "start_time": "2022-07-30T01:04:06.978Z"
   },
   {
    "duration": 3,
    "start_time": "2022-07-30T01:04:07.061Z"
   },
   {
    "duration": 81,
    "start_time": "2022-07-30T01:04:07.067Z"
   },
   {
    "duration": 3,
    "start_time": "2022-07-30T01:04:07.149Z"
   },
   {
    "duration": 111,
    "start_time": "2022-07-30T01:04:07.154Z"
   },
   {
    "duration": 2,
    "start_time": "2022-07-30T01:04:07.267Z"
   },
   {
    "duration": 90,
    "start_time": "2022-07-30T01:04:07.271Z"
   },
   {
    "duration": 3,
    "start_time": "2022-07-30T01:04:07.363Z"
   },
   {
    "duration": 73,
    "start_time": "2022-07-30T01:04:07.368Z"
   },
   {
    "duration": 3,
    "start_time": "2022-07-30T01:04:07.442Z"
   },
   {
    "duration": 86,
    "start_time": "2022-07-30T01:04:07.447Z"
   },
   {
    "duration": 3,
    "start_time": "2022-07-30T01:04:07.535Z"
   },
   {
    "duration": 73,
    "start_time": "2022-07-30T01:04:07.539Z"
   },
   {
    "duration": 3,
    "start_time": "2022-07-30T01:04:07.614Z"
   },
   {
    "duration": 100,
    "start_time": "2022-07-30T01:04:07.618Z"
   },
   {
    "duration": 84,
    "start_time": "2022-07-30T01:04:07.720Z"
   },
   {
    "duration": 3,
    "start_time": "2022-07-30T01:07:07.829Z"
   },
   {
    "duration": 74,
    "start_time": "2022-07-30T01:07:08.975Z"
   },
   {
    "duration": 4,
    "start_time": "2022-07-30T01:10:33.127Z"
   },
   {
    "duration": 72,
    "start_time": "2022-07-30T01:10:39.295Z"
   },
   {
    "duration": 3,
    "start_time": "2022-07-30T01:11:39.969Z"
   },
   {
    "duration": 78,
    "start_time": "2022-07-30T01:11:41.601Z"
   },
   {
    "duration": 3,
    "start_time": "2022-07-30T01:12:16.602Z"
   },
   {
    "duration": 76,
    "start_time": "2022-07-30T01:12:17.169Z"
   },
   {
    "duration": 2,
    "start_time": "2022-07-30T01:14:20.024Z"
   },
   {
    "duration": 83,
    "start_time": "2022-07-30T01:14:21.381Z"
   },
   {
    "duration": 3,
    "start_time": "2022-07-30T01:16:25.926Z"
   },
   {
    "duration": 4,
    "start_time": "2022-07-30T01:16:26.850Z"
   },
   {
    "duration": 6,
    "start_time": "2022-07-30T01:16:26.857Z"
   },
   {
    "duration": 255,
    "start_time": "2022-07-30T01:16:26.865Z"
   },
   {
    "duration": 3,
    "start_time": "2022-07-30T01:16:27.122Z"
   },
   {
    "duration": 68,
    "start_time": "2022-07-30T01:16:27.127Z"
   },
   {
    "duration": 3,
    "start_time": "2022-07-30T01:16:27.197Z"
   },
   {
    "duration": 71,
    "start_time": "2022-07-30T01:16:27.202Z"
   },
   {
    "duration": 3,
    "start_time": "2022-07-30T01:16:27.275Z"
   },
   {
    "duration": 71,
    "start_time": "2022-07-30T01:16:27.280Z"
   },
   {
    "duration": 3,
    "start_time": "2022-07-30T01:16:27.352Z"
   },
   {
    "duration": 98,
    "start_time": "2022-07-30T01:16:27.356Z"
   },
   {
    "duration": 2,
    "start_time": "2022-07-30T01:16:27.456Z"
   },
   {
    "duration": 92,
    "start_time": "2022-07-30T01:16:27.460Z"
   },
   {
    "duration": 2,
    "start_time": "2022-07-30T01:16:27.553Z"
   },
   {
    "duration": 71,
    "start_time": "2022-07-30T01:16:27.556Z"
   },
   {
    "duration": 3,
    "start_time": "2022-07-30T01:16:27.629Z"
   },
   {
    "duration": 87,
    "start_time": "2022-07-30T01:16:27.633Z"
   },
   {
    "duration": 3,
    "start_time": "2022-07-30T01:16:27.722Z"
   },
   {
    "duration": 68,
    "start_time": "2022-07-30T01:16:29.222Z"
   },
   {
    "duration": 3,
    "start_time": "2022-07-30T01:16:29.292Z"
   },
   {
    "duration": 75,
    "start_time": "2022-07-30T01:16:29.296Z"
   },
   {
    "duration": 3,
    "start_time": "2022-07-30T01:16:29.372Z"
   },
   {
    "duration": 72,
    "start_time": "2022-07-30T01:16:29.376Z"
   },
   {
    "duration": 3,
    "start_time": "2022-07-30T01:18:39.829Z"
   },
   {
    "duration": 70,
    "start_time": "2022-07-30T01:18:42.159Z"
   },
   {
    "duration": 494,
    "start_time": "2022-07-30T01:19:17.692Z"
   },
   {
    "duration": 6391,
    "start_time": "2022-07-30T01:19:18.188Z"
   },
   {
    "duration": 2,
    "start_time": "2022-07-30T01:19:24.581Z"
   },
   {
    "duration": 264,
    "start_time": "2022-07-30T01:19:24.585Z"
   },
   {
    "duration": 3,
    "start_time": "2022-07-30T01:19:24.851Z"
   },
   {
    "duration": 73,
    "start_time": "2022-07-30T01:19:24.855Z"
   },
   {
    "duration": 3,
    "start_time": "2022-07-30T01:19:24.930Z"
   },
   {
    "duration": 74,
    "start_time": "2022-07-30T01:19:24.934Z"
   },
   {
    "duration": 3,
    "start_time": "2022-07-30T01:19:25.009Z"
   },
   {
    "duration": 75,
    "start_time": "2022-07-30T01:19:25.014Z"
   },
   {
    "duration": 2,
    "start_time": "2022-07-30T01:19:25.091Z"
   },
   {
    "duration": 94,
    "start_time": "2022-07-30T01:19:25.095Z"
   },
   {
    "duration": 2,
    "start_time": "2022-07-30T01:19:25.191Z"
   },
   {
    "duration": 90,
    "start_time": "2022-07-30T01:19:25.194Z"
   },
   {
    "duration": 2,
    "start_time": "2022-07-30T01:19:25.286Z"
   },
   {
    "duration": 75,
    "start_time": "2022-07-30T01:19:25.289Z"
   },
   {
    "duration": 3,
    "start_time": "2022-07-30T01:19:25.365Z"
   },
   {
    "duration": 86,
    "start_time": "2022-07-30T01:19:25.370Z"
   },
   {
    "duration": 2,
    "start_time": "2022-07-30T01:19:25.458Z"
   },
   {
    "duration": 75,
    "start_time": "2022-07-30T01:19:25.461Z"
   },
   {
    "duration": 3,
    "start_time": "2022-07-30T01:19:25.538Z"
   },
   {
    "duration": 78,
    "start_time": "2022-07-30T01:19:25.542Z"
   },
   {
    "duration": 2,
    "start_time": "2022-07-30T01:19:25.622Z"
   },
   {
    "duration": 77,
    "start_time": "2022-07-30T01:19:25.626Z"
   }
  ],
  "kernelspec": {
   "display_name": "Python 3 (ipykernel)",
   "language": "python",
   "name": "python3"
  },
  "language_info": {
   "codemirror_mode": {
    "name": "ipython",
    "version": 3
   },
   "file_extension": ".py",
   "mimetype": "text/x-python",
   "name": "python",
   "nbconvert_exporter": "python",
   "pygments_lexer": "ipython3",
   "version": "3.9.7"
  },
  "toc": {
   "base_numbering": 1,
   "nav_menu": {},
   "number_sections": true,
   "sideBar": true,
   "skip_h1_title": true,
   "title_cell": "Содержание",
   "title_sidebar": "Contents",
   "toc_cell": true,
   "toc_position": {
    "height": "calc(100% - 180px)",
    "left": "10px",
    "top": "150px",
    "width": "174.545px"
   },
   "toc_section_display": true,
   "toc_window_display": true
  }
 },
 "nbformat": 4,
 "nbformat_minor": 5
}
