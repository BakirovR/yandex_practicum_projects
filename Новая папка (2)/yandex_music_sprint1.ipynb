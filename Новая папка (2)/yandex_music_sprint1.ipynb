{
 "cells": [
  {
   "cell_type": "markdown",
   "metadata": {
    "id": "E0vqbgi9ay0H"
   },
   "source": [
    "# Яндекс.Музыка"
   ]
  },
  {
   "cell_type": "markdown",
   "metadata": {
    "id": "VUC88oWjTJw2"
   },
   "source": [
    "Сравнение Москвы и Петербурга окружено мифами. Например:\n",
    " * Москва — мегаполис, подчинённый жёсткому ритму рабочей недели;\n",
    " * Петербург — культурная столица, со своими вкусами.\n",
    "\n",
    "На данных Яндекс.Музыки мы сравним поведение пользователей двух столиц.\n",
    "\n",
    "**Цель исследования** — проверить три гипотезы:\n",
    "1. Активность пользователей зависит от дня недели. Причём в Москве и Петербурге это проявляется по-разному.\n",
    "2. В понедельник утром в Москве преобладают одни жанры, а в Петербурге — другие. Так же и вечером пятницы преобладают разные жанры — в зависимости от города. \n",
    "3. Москва и Петербург предпочитают разные жанры музыки. В Москве чаще слушают поп-музыку, в Петербурге — русский рэп.\n",
    "\n",
    "**Ход исследования**\n",
    "\n",
    "Данные о поведении пользователей мы получим из файла `yandex_music_project.csv`. О качестве данных ничего не известно. Поэтому перед проверкой гипотез понадобится обзор данных. \n",
    "\n",
    "Мы проверим данные на ошибки и оценим их влияние на исследование. Затем, на этапе предобработки мы поищем возможность исправить самые критичные ошибки данных.\n",
    " \n",
    "Таким образом, исследование пройдёт в три этапа:\n",
    " 1. Обзор данных.\n",
    " 2. Предобработка данных.\n",
    " 3. Проверка гипотез.\n",
    "\n"
   ]
  },
  {
   "cell_type": "markdown",
   "metadata": {
    "id": "Ml1hmfXC_Zcs"
   },
   "source": [
    "## Обзор данных\n",
    "\n",
    "Составим первое представление о данных Яндекс.Музыки.\n",
    "\n",
    "\n"
   ]
  },
  {
   "cell_type": "markdown",
   "metadata": {
    "id": "57eAOGIz_Zcs"
   },
   "source": [
    "Основной инструмент аналитика — `pandas`. Импортируем эту библиотеку."
   ]
  },
  {
   "cell_type": "code",
   "execution_count": 1,
   "metadata": {
    "id": "AXN7PHPN_Zcs"
   },
   "outputs": [],
   "source": [
    "# импорт библиотеки pandas\n",
    "\n",
    "import pandas as pd\n"
   ]
  },
  {
   "cell_type": "markdown",
   "metadata": {
    "id": "SG23P8tt_Zcs"
   },
   "source": [
    "Прочитаем файл `yandex_music_project.csv` из папки `/datasets` и сохраним его в переменной `df`:"
   ]
  },
  {
   "cell_type": "code",
   "execution_count": 2,
   "metadata": {
    "id": "fFVu7vqh_Zct"
   },
   "outputs": [],
   "source": [
    "# чтение файла с данными и сохранение в df\n",
    "\n",
    "try:\n",
    "    df = pd.read_csv('/datasets/yandex_music_project.csv')\n",
    "except:\n",
    "    df = pd.read_csv(\n",
    "        'D:\\\\Аналитик данных\\\\Яндекс-практикум\\\\Sprint1\\\\yandex_music_project.csv')\n",
    "\n",
    "\n"
   ]
  },
  {
   "cell_type": "markdown",
   "metadata": {
    "id": "rDoOMd3uTqnZ"
   },
   "source": [
    "Выведем на экран первые десять строк таблицы:"
   ]
  },
  {
   "cell_type": "code",
   "execution_count": 3,
   "metadata": {
    "id": "oWTVX3gW_Zct"
   },
   "outputs": [
    {
     "data": {
      "text/html": [
       "<div>\n",
       "<style scoped>\n",
       "    .dataframe tbody tr th:only-of-type {\n",
       "        vertical-align: middle;\n",
       "    }\n",
       "\n",
       "    .dataframe tbody tr th {\n",
       "        vertical-align: top;\n",
       "    }\n",
       "\n",
       "    .dataframe thead th {\n",
       "        text-align: right;\n",
       "    }\n",
       "</style>\n",
       "<table border=\"1\" class=\"dataframe\">\n",
       "  <thead>\n",
       "    <tr style=\"text-align: right;\">\n",
       "      <th></th>\n",
       "      <th>userID</th>\n",
       "      <th>Track</th>\n",
       "      <th>artist</th>\n",
       "      <th>genre</th>\n",
       "      <th>City</th>\n",
       "      <th>time</th>\n",
       "      <th>Day</th>\n",
       "    </tr>\n",
       "  </thead>\n",
       "  <tbody>\n",
       "    <tr>\n",
       "      <th>0</th>\n",
       "      <td>FFB692EC</td>\n",
       "      <td>Kamigata To Boots</td>\n",
       "      <td>The Mass Missile</td>\n",
       "      <td>rock</td>\n",
       "      <td>Saint-Petersburg</td>\n",
       "      <td>20:28:33</td>\n",
       "      <td>Wednesday</td>\n",
       "    </tr>\n",
       "    <tr>\n",
       "      <th>1</th>\n",
       "      <td>55204538</td>\n",
       "      <td>Delayed Because of Accident</td>\n",
       "      <td>Andreas Rönnberg</td>\n",
       "      <td>rock</td>\n",
       "      <td>Moscow</td>\n",
       "      <td>14:07:09</td>\n",
       "      <td>Friday</td>\n",
       "    </tr>\n",
       "    <tr>\n",
       "      <th>2</th>\n",
       "      <td>20EC38</td>\n",
       "      <td>Funiculì funiculà</td>\n",
       "      <td>Mario Lanza</td>\n",
       "      <td>pop</td>\n",
       "      <td>Saint-Petersburg</td>\n",
       "      <td>20:58:07</td>\n",
       "      <td>Wednesday</td>\n",
       "    </tr>\n",
       "    <tr>\n",
       "      <th>3</th>\n",
       "      <td>A3DD03C9</td>\n",
       "      <td>Dragons in the Sunset</td>\n",
       "      <td>Fire + Ice</td>\n",
       "      <td>folk</td>\n",
       "      <td>Saint-Petersburg</td>\n",
       "      <td>08:37:09</td>\n",
       "      <td>Monday</td>\n",
       "    </tr>\n",
       "    <tr>\n",
       "      <th>4</th>\n",
       "      <td>E2DC1FAE</td>\n",
       "      <td>Soul People</td>\n",
       "      <td>Space Echo</td>\n",
       "      <td>dance</td>\n",
       "      <td>Moscow</td>\n",
       "      <td>08:34:34</td>\n",
       "      <td>Monday</td>\n",
       "    </tr>\n",
       "    <tr>\n",
       "      <th>5</th>\n",
       "      <td>842029A1</td>\n",
       "      <td>Преданная</td>\n",
       "      <td>IMPERVTOR</td>\n",
       "      <td>rusrap</td>\n",
       "      <td>Saint-Petersburg</td>\n",
       "      <td>13:09:41</td>\n",
       "      <td>Friday</td>\n",
       "    </tr>\n",
       "    <tr>\n",
       "      <th>6</th>\n",
       "      <td>4CB90AA5</td>\n",
       "      <td>True</td>\n",
       "      <td>Roman Messer</td>\n",
       "      <td>dance</td>\n",
       "      <td>Moscow</td>\n",
       "      <td>13:00:07</td>\n",
       "      <td>Wednesday</td>\n",
       "    </tr>\n",
       "    <tr>\n",
       "      <th>7</th>\n",
       "      <td>F03E1C1F</td>\n",
       "      <td>Feeling This Way</td>\n",
       "      <td>Polina Griffith</td>\n",
       "      <td>dance</td>\n",
       "      <td>Moscow</td>\n",
       "      <td>20:47:49</td>\n",
       "      <td>Wednesday</td>\n",
       "    </tr>\n",
       "    <tr>\n",
       "      <th>8</th>\n",
       "      <td>8FA1D3BE</td>\n",
       "      <td>И вновь продолжается бой</td>\n",
       "      <td>NaN</td>\n",
       "      <td>ruspop</td>\n",
       "      <td>Moscow</td>\n",
       "      <td>09:17:40</td>\n",
       "      <td>Friday</td>\n",
       "    </tr>\n",
       "    <tr>\n",
       "      <th>9</th>\n",
       "      <td>E772D5C0</td>\n",
       "      <td>Pessimist</td>\n",
       "      <td>NaN</td>\n",
       "      <td>dance</td>\n",
       "      <td>Saint-Petersburg</td>\n",
       "      <td>21:20:49</td>\n",
       "      <td>Wednesday</td>\n",
       "    </tr>\n",
       "  </tbody>\n",
       "</table>\n",
       "</div>"
      ],
      "text/plain": [
       "     userID                        Track            artist   genre  \\\n",
       "0  FFB692EC            Kamigata To Boots  The Mass Missile    rock   \n",
       "1  55204538  Delayed Because of Accident  Andreas Rönnberg    rock   \n",
       "2    20EC38            Funiculì funiculà       Mario Lanza     pop   \n",
       "3  A3DD03C9        Dragons in the Sunset        Fire + Ice    folk   \n",
       "4  E2DC1FAE                  Soul People        Space Echo   dance   \n",
       "5  842029A1                    Преданная         IMPERVTOR  rusrap   \n",
       "6  4CB90AA5                         True      Roman Messer   dance   \n",
       "7  F03E1C1F             Feeling This Way   Polina Griffith   dance   \n",
       "8  8FA1D3BE     И вновь продолжается бой               NaN  ruspop   \n",
       "9  E772D5C0                    Pessimist               NaN   dance   \n",
       "\n",
       "             City        time        Day  \n",
       "0  Saint-Petersburg  20:28:33  Wednesday  \n",
       "1            Moscow  14:07:09     Friday  \n",
       "2  Saint-Petersburg  20:58:07  Wednesday  \n",
       "3  Saint-Petersburg  08:37:09     Monday  \n",
       "4            Moscow  08:34:34     Monday  \n",
       "5  Saint-Petersburg  13:09:41     Friday  \n",
       "6            Moscow  13:00:07  Wednesday  \n",
       "7            Moscow  20:47:49  Wednesday  \n",
       "8            Moscow  09:17:40     Friday  \n",
       "9  Saint-Petersburg  21:20:49  Wednesday  "
      ]
     },
     "execution_count": 3,
     "metadata": {},
     "output_type": "execute_result"
    }
   ],
   "source": [
    "# получение первых 10 строк таблицы df\n",
    "\n",
    "df.head(10)"
   ]
  },
  {
   "cell_type": "markdown",
   "metadata": {
    "id": "EO73Kwic_Zct"
   },
   "source": [
    "Одной командой получим общую информацию о таблице:"
   ]
  },
  {
   "cell_type": "code",
   "execution_count": 4,
   "metadata": {
    "id": "DSf2kIb-_Zct"
   },
   "outputs": [
    {
     "name": "stdout",
     "output_type": "stream",
     "text": [
      "<class 'pandas.core.frame.DataFrame'>\n",
      "RangeIndex: 65079 entries, 0 to 65078\n",
      "Data columns (total 7 columns):\n",
      " #   Column    Non-Null Count  Dtype \n",
      "---  ------    --------------  ----- \n",
      " 0     userID  65079 non-null  object\n",
      " 1   Track     63848 non-null  object\n",
      " 2   artist    57876 non-null  object\n",
      " 3   genre     63881 non-null  object\n",
      " 4     City    65079 non-null  object\n",
      " 5   time      65079 non-null  object\n",
      " 6   Day       65079 non-null  object\n",
      "dtypes: object(7)\n",
      "memory usage: 3.5+ MB\n"
     ]
    }
   ],
   "source": [
    "# получение общей информации о данных в таблице df\n",
    "\n",
    "df.info()"
   ]
  },
  {
   "cell_type": "markdown",
   "metadata": {
    "id": "TaQ2Iwbr_Zct"
   },
   "source": [
    "Итак, в таблице семь столбцов. Тип данных во всех столбцах — `object`.\n",
    "\n",
    "Согласно документации к данным:\n",
    "* `userID` — идентификатор пользователя;\n",
    "* `Track` — название трека;  \n",
    "* `artist` — имя исполнителя;\n",
    "* `genre` — название жанра;\n",
    "* `City` — город пользователя;\n",
    "* `time` — время начала прослушивания;\n",
    "* `Day` — день недели.\n",
    "\n",
    "В названиях колонок видны три нарушения стиля:\n",
    "1. Строчные буквы сочетаются с прописными.\n",
    "2. Встречаются пробелы.\n",
    "3. Отсутствует полное описание в «змеином_регистре» (пример:`userID` - user_id, `artist` - artist_name и т.д.).\n",
    "\n",
    "\n",
    "\n",
    "Количество значений в столбцах различается. Значит, в данных есть пропущенные значения.\n"
   ]
  },
  {
   "cell_type": "markdown",
   "metadata": {
    "id": "MCB6-dXG_Zct"
   },
   "source": [
    "**Выводы**\n",
    "\n",
    "В каждой строке таблицы — данные о прослушанном треке. Часть колонок описывает саму композицию: название, исполнителя и жанр. Остальные данные рассказывают о пользователе: из какого он города, когда он слушал музыку. \n",
    "\n",
    "Предварительно можно утверждать, что, данных достаточно для проверки гипотез. Но встречаются пропуски в данных, а в названиях колонок — расхождения с хорошим стилем.\n",
    "\n",
    "Чтобы двигаться дальше, нужно устранить проблемы в данных."
   ]
  },
  {
   "cell_type": "markdown",
   "metadata": {
    "id": "SjYF6Ub9_Zct"
   },
   "source": [
    "## Предобработка данных\n",
    "Исправим стиль в заголовках столбцов, исключим пропуски. Затем проверим данные на дубликаты."
   ]
  },
  {
   "cell_type": "markdown",
   "metadata": {
    "id": "dIaKXr29_Zct"
   },
   "source": [
    "### Стиль заголовков\n",
    "Выведем на экран названия столбцов:"
   ]
  },
  {
   "cell_type": "code",
   "execution_count": 5,
   "metadata": {
    "id": "oKOTdF_Q_Zct"
   },
   "outputs": [
    {
     "data": {
      "text/plain": [
       "Index(['  userID', 'Track', 'artist', 'genre', '  City  ', 'time', 'Day'], dtype='object')"
      ]
     },
     "execution_count": 5,
     "metadata": {},
     "output_type": "execute_result"
    }
   ],
   "source": [
    "# перечень названий столбцов таблицы df\n",
    "\n",
    "df.columns"
   ]
  },
  {
   "cell_type": "markdown",
   "metadata": {
    "id": "zj5534cv_Zct"
   },
   "source": [
    "Приведем названия в соответствие с хорошим стилем:\n",
    "\n",
    "\n",
    "* несколько слов в названии запишем в «змеином_регистре»,\n",
    "* все символы сделаем строчными,\n",
    "* устраним пробелы.\n",
    "\n",
    "Для этого переименуем колонки так:\n",
    "* `'  userID'` → `'user_id'`;\n",
    "* `'Track'` → `'track'`;\n",
    "* `'  City  '` → `'city'`;\n",
    "* `'Day'` → `'day'`."
   ]
  },
  {
   "cell_type": "code",
   "execution_count": 6,
   "metadata": {
    "id": "ISlFqs5y_Zct"
   },
   "outputs": [],
   "source": [
    "# переименование столбцов\n",
    "\n",
    "df = df.rename(\n",
    "    columns={\n",
    "        '  userID': 'user_id',\n",
    "        'Track': 'track',\n",
    "        '  City  ': 'city',\n",
    "        'Day': 'day'\n",
    "    }\n",
    ")\n",
    "\n"
   ]
  },
  {
   "cell_type": "markdown",
   "metadata": {
    "id": "1dqbh00J_Zct"
   },
   "source": [
    "Проверим результат. Для этого ещё раз выведем на экран названия столбцов:"
   ]
  },
  {
   "cell_type": "code",
   "execution_count": 7,
   "metadata": {
    "id": "d4NOAmTW_Zct"
   },
   "outputs": [
    {
     "data": {
      "text/plain": [
       "Index(['user_id', 'track', 'artist', 'genre', 'city', 'time', 'day'], dtype='object')"
      ]
     },
     "execution_count": 7,
     "metadata": {},
     "output_type": "execute_result"
    }
   ],
   "source": [
    "# проверка результатов - перечень названий столбцов\n",
    "\n",
    "df.columns"
   ]
  },
  {
   "cell_type": "markdown",
   "metadata": {
    "id": "5ISfbcfY_Zct"
   },
   "source": [
    "### Пропуски значений\n",
    "Сначала посчитаем, сколько в таблице пропущенных значений. Для этого достаточно двух методов `pandas`:"
   ]
  },
  {
   "cell_type": "code",
   "execution_count": 8,
   "metadata": {
    "id": "RskX29qr_Zct"
   },
   "outputs": [
    {
     "data": {
      "text/plain": [
       "user_id       0\n",
       "track      1231\n",
       "artist     7203\n",
       "genre      1198\n",
       "city          0\n",
       "time          0\n",
       "day           0\n",
       "dtype: int64"
      ]
     },
     "execution_count": 8,
     "metadata": {},
     "output_type": "execute_result"
    }
   ],
   "source": [
    "# подсчёт пропусков\n",
    "\n",
    "df.isna().sum()"
   ]
  },
  {
   "cell_type": "markdown",
   "metadata": {
    "id": "qubhgnlO_Zct"
   },
   "source": [
    "Не все пропущенные значения влияют на исследование. Так в `track` и `artist` пропуски не важны для нашей работы. Достаточно заменить их явными обозначениями.\n",
    "\n",
    "Но пропуски в `genre` могут помешать сравнению музыкальных вкусов в Москве и Санкт-Петербурге. На практике было бы правильно установить причину пропусков и восстановить данные. Такой возможности нет в учебном проекте. Придётся:\n",
    "* заполнить и эти пропуски явными обозначениями,\n",
    "* оценить, насколько они повредят расчётам. "
   ]
  },
  {
   "cell_type": "markdown",
   "metadata": {
    "id": "fSv2laPA_Zct"
   },
   "source": [
    "Заменим пропущенные значения в столбцах `track`, `artist` и `genre` на строку `'unknown'`. Для этого создим список `columns_to_replace`, переберем его элементы циклом `for` и для каждого столбца выполним замену пропущенных значений:"
   ]
  },
  {
   "cell_type": "code",
   "execution_count": 9,
   "metadata": {
    "id": "KplB5qWs_Zct"
   },
   "outputs": [],
   "source": [
    "# перебор названий столбцов в цикле и замена пропущенных значений на 'unknown'\n",
    "\n",
    "columns_to_replace = ['track', 'artist', 'genre']\n",
    "for column in columns_to_replace:\n",
    "    df[column] = df[column].fillna('unknown')\n"
   ]
  },
  {
   "cell_type": "markdown",
   "metadata": {
    "id": "Ilsm-MZo_Zct"
   },
   "source": [
    "Убедимся, что в таблице не осталось пропусков. Для этого ещё раз посчитаем пропущенные значения."
   ]
  },
  {
   "cell_type": "code",
   "execution_count": 10,
   "metadata": {
    "id": "Tq4nYRX4_Zct"
   },
   "outputs": [
    {
     "data": {
      "text/plain": [
       "user_id    0\n",
       "track      0\n",
       "artist     0\n",
       "genre      0\n",
       "city       0\n",
       "time       0\n",
       "day        0\n",
       "dtype: int64"
      ]
     },
     "execution_count": 10,
     "metadata": {},
     "output_type": "execute_result"
    }
   ],
   "source": [
    "# подсчёт пропусков\n",
    "\n",
    "df.isna().sum()"
   ]
  },
  {
   "cell_type": "markdown",
   "metadata": {
    "id": "BWKRtBJ3_Zct"
   },
   "source": [
    "### Дубликаты\n",
    "Посчитаем явные дубликаты в таблице одной командой:"
   ]
  },
  {
   "cell_type": "code",
   "execution_count": 11,
   "metadata": {
    "id": "36eES_S0_Zct"
   },
   "outputs": [
    {
     "data": {
      "text/plain": [
       "3826"
      ]
     },
     "execution_count": 11,
     "metadata": {},
     "output_type": "execute_result"
    }
   ],
   "source": [
    "# подсчёт явных дубликатов\n",
    "\n",
    "df.duplicated().sum()"
   ]
  },
  {
   "cell_type": "markdown",
   "metadata": {
    "id": "Ot25h6XR_Zct"
   },
   "source": [
    "Вызовем специальный метод `pandas`, чтобы удалить явные дубликаты:"
   ]
  },
  {
   "cell_type": "code",
   "execution_count": 12,
   "metadata": {
    "id": "exFHq6tt_Zct"
   },
   "outputs": [],
   "source": [
    "# удаление явных дубликатов (с удалением старых индексов и формированием новых)\n",
    "\n",
    "df = df.drop_duplicates().reset_index(drop=True)\n"
   ]
  },
  {
   "cell_type": "markdown",
   "metadata": {
    "id": "Im2YwBEG_Zct"
   },
   "source": [
    "Ещё раз посчитаем явные дубликаты в таблице — убедимся, что полностью от них избавились:"
   ]
  },
  {
   "cell_type": "code",
   "execution_count": 13,
   "metadata": {
    "id": "-8PuNWQ0_Zct"
   },
   "outputs": [
    {
     "data": {
      "text/plain": [
       "0"
      ]
     },
     "execution_count": 13,
     "metadata": {},
     "output_type": "execute_result"
    }
   ],
   "source": [
    "# проверка на отсутствие дубликатов\n",
    "\n",
    "df.duplicated().sum()"
   ]
  },
  {
   "cell_type": "markdown",
   "metadata": {
    "id": "QlFBsxAr_Zct"
   },
   "source": [
    "Теперь избавимся от неявных дубликатов в колонке `genre`. Например, название одного и того же жанра может быть записано немного по-разному. Такие ошибки тоже повлияют на результат исследования."
   ]
  },
  {
   "cell_type": "markdown",
   "metadata": {
    "id": "eSjWwsOh_Zct"
   },
   "source": [
    "Выведем на экран список уникальных названий жанров, отсортированный в алфавитном порядке. Для этого:\n",
    "* извлечем нужный столбец датафрейма, \n",
    "* применим к нему метод сортировки,\n",
    "* для отсортированного столбца вызовем метод, который вернёт уникальные значения из столбца."
   ]
  },
  {
   "cell_type": "code",
   "execution_count": 14,
   "metadata": {
    "id": "JIUcqzZN_Zct"
   },
   "outputs": [
    {
     "data": {
      "text/plain": [
       "array(['acid', 'acoustic', 'action', 'adult', 'africa', 'afrikaans',\n",
       "       'alternative', 'alternativepunk', 'ambient', 'americana',\n",
       "       'animated', 'anime', 'arabesk', 'arabic', 'arena',\n",
       "       'argentinetango', 'art', 'audiobook', 'author', 'avantgarde',\n",
       "       'axé', 'baile', 'balkan', 'beats', 'bigroom', 'black', 'bluegrass',\n",
       "       'blues', 'bollywood', 'bossa', 'brazilian', 'breakbeat', 'breaks',\n",
       "       'broadway', 'cantautori', 'cantopop', 'canzone', 'caribbean',\n",
       "       'caucasian', 'celtic', 'chamber', 'chanson', 'children', 'chill',\n",
       "       'chinese', 'choral', 'christian', 'christmas', 'classical',\n",
       "       'classicmetal', 'club', 'colombian', 'comedy', 'conjazz',\n",
       "       'contemporary', 'country', 'cuban', 'dance', 'dancehall',\n",
       "       'dancepop', 'dark', 'death', 'deep', 'deutschrock', 'deutschspr',\n",
       "       'dirty', 'disco', 'dnb', 'documentary', 'downbeat', 'downtempo',\n",
       "       'drum', 'dub', 'dubstep', 'eastern', 'easy', 'electronic',\n",
       "       'electropop', 'emo', 'entehno', 'epicmetal', 'estrada', 'ethnic',\n",
       "       'eurofolk', 'european', 'experimental', 'extrememetal', 'fado',\n",
       "       'fairytail', 'film', 'fitness', 'flamenco', 'folk', 'folklore',\n",
       "       'folkmetal', 'folkrock', 'folktronica', 'forró', 'frankreich',\n",
       "       'französisch', 'french', 'funk', 'future', 'gangsta', 'garage',\n",
       "       'german', 'ghazal', 'gitarre', 'glitch', 'gospel', 'gothic',\n",
       "       'grime', 'grunge', 'gypsy', 'handsup', \"hard'n'heavy\", 'hardcore',\n",
       "       'hardstyle', 'hardtechno', 'hip', 'hip-hop', 'hiphop',\n",
       "       'historisch', 'holiday', 'hop', 'horror', 'house', 'hymn', 'idm',\n",
       "       'independent', 'indian', 'indie', 'indipop', 'industrial',\n",
       "       'inspirational', 'instrumental', 'international', 'irish', 'jam',\n",
       "       'japanese', 'jazz', 'jewish', 'jpop', 'jungle', 'k-pop',\n",
       "       'karadeniz', 'karaoke', 'kayokyoku', 'korean', 'laiko', 'latin',\n",
       "       'latino', 'leftfield', 'local', 'lounge', 'loungeelectronic',\n",
       "       'lovers', 'malaysian', 'mandopop', 'marschmusik', 'meditative',\n",
       "       'mediterranean', 'melodic', 'metal', 'metalcore', 'mexican',\n",
       "       'middle', 'minimal', 'miscellaneous', 'modern', 'mood', 'mpb',\n",
       "       'muslim', 'native', 'neoklassik', 'neue', 'new', 'newage',\n",
       "       'newwave', 'nu', 'nujazz', 'numetal', 'oceania', 'old', 'opera',\n",
       "       'orchestral', 'other', 'piano', 'podcasts', 'pop', 'popdance',\n",
       "       'popelectronic', 'popeurodance', 'poprussian', 'post',\n",
       "       'posthardcore', 'postrock', 'power', 'progmetal', 'progressive',\n",
       "       'psychedelic', 'punjabi', 'punk', 'quebecois', 'ragga', 'ram',\n",
       "       'rancheras', 'rap', 'rave', 'reggae', 'reggaeton', 'regional',\n",
       "       'relax', 'religious', 'retro', 'rhythm', 'rnb', 'rnr', 'rock',\n",
       "       'rockabilly', 'rockalternative', 'rockindie', 'rockother',\n",
       "       'romance', 'roots', 'ruspop', 'rusrap', 'rusrock', 'russian',\n",
       "       'salsa', 'samba', 'scenic', 'schlager', 'self', 'sertanejo',\n",
       "       'shanson', 'shoegazing', 'showtunes', 'singer', 'ska', 'skarock',\n",
       "       'slow', 'smooth', 'soft', 'soul', 'soulful', 'sound', 'soundtrack',\n",
       "       'southern', 'specialty', 'speech', 'spiritual', 'sport',\n",
       "       'stonerrock', 'surf', 'swing', 'synthpop', 'synthrock',\n",
       "       'sängerportrait', 'tango', 'tanzorchester', 'taraftar', 'tatar',\n",
       "       'tech', 'techno', 'teen', 'thrash', 'top', 'traditional',\n",
       "       'tradjazz', 'trance', 'tribal', 'trip', 'triphop', 'tropical',\n",
       "       'türk', 'türkçe', 'ukrrock', 'unknown', 'urban', 'uzbek',\n",
       "       'variété', 'vi', 'videogame', 'vocal', 'western', 'world',\n",
       "       'worldbeat', 'ïîï', 'электроника'], dtype=object)"
      ]
     },
     "execution_count": 14,
     "metadata": {},
     "output_type": "execute_result"
    }
   ],
   "source": [
    "# Просмотр уникальных названий жанров\n",
    "\n",
    "genres_list = df['genre'].sort_values().unique()\n",
    "genres_list\n"
   ]
  },
  {
   "cell_type": "markdown",
   "metadata": {
    "id": "qej-Qmuo_Zct"
   },
   "source": [
    "Просмотрим список и найдем неявные дубликаты названия `hiphop`. Это могут быть названия с ошибками или альтернативные названия того же жанра.\n",
    "\n",
    "Мы увидели следующие неявные дубликаты:\n",
    "* *hip*,\n",
    "* *hop*,\n",
    "* *hip-hop*.\n",
    "\n",
    "Чтобы очистить от них таблицу, напишем функцию `replace_wrong_genres()` с двумя параметрами: \n",
    "* `wrong_genres` — список дубликатов,\n",
    "* `correct_genre` — строка с правильным значением.\n",
    "\n",
    "Функция должна исправить колонку `genre` в таблице `df`: заменить каждое значение из списка `wrong_genres` на значение из `correct_genre`."
   ]
  },
  {
   "cell_type": "code",
   "execution_count": 15,
   "metadata": {
    "id": "ErNDkmns_Zct"
   },
   "outputs": [],
   "source": [
    "# Функция для замены неявных дубликатов\n",
    "\n",
    "def replace_wrong_genres(wrong_genres,correct_genre):\n",
    "    \n",
    "    for wrong_genre in wrong_genres:\n",
    "        \n",
    "        if wrong_genre in df['genre'].unique():\n",
    "            \n",
    "            df['genre'] = df['genre'].replace(wrong_genre, correct_genre)\n",
    "            \n",
    "\n",
    "\n",
    "    \n",
    "        "
   ]
  },
  {
   "cell_type": "markdown",
   "metadata": {
    "id": "aDoBJxbA_Zct"
   },
   "source": [
    "Вызовем `replace_wrong_genres()` и передадим ей такие аргументы, чтобы она устранила неявные дубликаты: вместо `hip`, `hop` и `hip-hop` в таблице должно быть значение `hiphop`:"
   ]
  },
  {
   "cell_type": "code",
   "execution_count": 16,
   "metadata": {
    "id": "YN5i2hpmSo09"
   },
   "outputs": [],
   "source": [
    "# Устранение неявных дубликатов\n",
    "\n",
    "replace_wrong_genres(['hip','hop', 'hip-hop'],'hiphop')"
   ]
  },
  {
   "cell_type": "markdown",
   "metadata": {
    "id": "zQKF16_RG15m"
   },
   "source": [
    "Проверим, что заменили неправильные названия:\n",
    "\n",
    "*   hip\n",
    "*   hop\n",
    "*   hip-hop\n",
    "\n",
    "Выведем отсортированный список уникальных значений столбца `genre`:"
   ]
  },
  {
   "cell_type": "code",
   "execution_count": 17,
   "metadata": {
    "id": "wvixALnFG15m"
   },
   "outputs": [
    {
     "name": "stdout",
     "output_type": "stream",
     "text": [
      "['acid' 'acoustic' 'action' 'adult' 'africa' 'afrikaans' 'alternative'\n",
      " 'alternativepunk' 'ambient' 'americana' 'animated' 'anime' 'arabesk'\n",
      " 'arabic' 'arena' 'argentinetango' 'art' 'audiobook' 'author' 'avantgarde'\n",
      " 'axé' 'baile' 'balkan' 'beats' 'bigroom' 'black' 'bluegrass' 'blues'\n",
      " 'bollywood' 'bossa' 'brazilian' 'breakbeat' 'breaks' 'broadway'\n",
      " 'cantautori' 'cantopop' 'canzone' 'caribbean' 'caucasian' 'celtic'\n",
      " 'chamber' 'chanson' 'children' 'chill' 'chinese' 'choral' 'christian'\n",
      " 'christmas' 'classical' 'classicmetal' 'club' 'colombian' 'comedy'\n",
      " 'conjazz' 'contemporary' 'country' 'cuban' 'dance' 'dancehall' 'dancepop'\n",
      " 'dark' 'death' 'deep' 'deutschrock' 'deutschspr' 'dirty' 'disco' 'dnb'\n",
      " 'documentary' 'downbeat' 'downtempo' 'drum' 'dub' 'dubstep' 'eastern'\n",
      " 'easy' 'electronic' 'electropop' 'emo' 'entehno' 'epicmetal' 'estrada'\n",
      " 'ethnic' 'eurofolk' 'european' 'experimental' 'extrememetal' 'fado'\n",
      " 'fairytail' 'film' 'fitness' 'flamenco' 'folk' 'folklore' 'folkmetal'\n",
      " 'folkrock' 'folktronica' 'forró' 'frankreich' 'französisch' 'french'\n",
      " 'funk' 'future' 'gangsta' 'garage' 'german' 'ghazal' 'gitarre' 'glitch'\n",
      " 'gospel' 'gothic' 'grime' 'grunge' 'gypsy' 'handsup' \"hard'n'heavy\"\n",
      " 'hardcore' 'hardstyle' 'hardtechno' 'hiphop' 'historisch' 'holiday'\n",
      " 'horror' 'house' 'hymn' 'idm' 'independent' 'indian' 'indie' 'indipop'\n",
      " 'industrial' 'inspirational' 'instrumental' 'international' 'irish' 'jam'\n",
      " 'japanese' 'jazz' 'jewish' 'jpop' 'jungle' 'k-pop' 'karadeniz' 'karaoke'\n",
      " 'kayokyoku' 'korean' 'laiko' 'latin' 'latino' 'leftfield' 'local'\n",
      " 'lounge' 'loungeelectronic' 'lovers' 'malaysian' 'mandopop' 'marschmusik'\n",
      " 'meditative' 'mediterranean' 'melodic' 'metal' 'metalcore' 'mexican'\n",
      " 'middle' 'minimal' 'miscellaneous' 'modern' 'mood' 'mpb' 'muslim'\n",
      " 'native' 'neoklassik' 'neue' 'new' 'newage' 'newwave' 'nu' 'nujazz'\n",
      " 'numetal' 'oceania' 'old' 'opera' 'orchestral' 'other' 'piano' 'podcasts'\n",
      " 'pop' 'popdance' 'popelectronic' 'popeurodance' 'poprussian' 'post'\n",
      " 'posthardcore' 'postrock' 'power' 'progmetal' 'progressive' 'psychedelic'\n",
      " 'punjabi' 'punk' 'quebecois' 'ragga' 'ram' 'rancheras' 'rap' 'rave'\n",
      " 'reggae' 'reggaeton' 'regional' 'relax' 'religious' 'retro' 'rhythm'\n",
      " 'rnb' 'rnr' 'rock' 'rockabilly' 'rockalternative' 'rockindie' 'rockother'\n",
      " 'romance' 'roots' 'ruspop' 'rusrap' 'rusrock' 'russian' 'salsa' 'samba'\n",
      " 'scenic' 'schlager' 'self' 'sertanejo' 'shanson' 'shoegazing' 'showtunes'\n",
      " 'singer' 'ska' 'skarock' 'slow' 'smooth' 'soft' 'soul' 'soulful' 'sound'\n",
      " 'soundtrack' 'southern' 'specialty' 'speech' 'spiritual' 'sport'\n",
      " 'stonerrock' 'surf' 'swing' 'synthpop' 'synthrock' 'sängerportrait'\n",
      " 'tango' 'tanzorchester' 'taraftar' 'tatar' 'tech' 'techno' 'teen'\n",
      " 'thrash' 'top' 'traditional' 'tradjazz' 'trance' 'tribal' 'trip'\n",
      " 'triphop' 'tropical' 'türk' 'türkçe' 'ukrrock' 'unknown' 'urban' 'uzbek'\n",
      " 'variété' 'vi' 'videogame' 'vocal' 'western' 'world' 'worldbeat' 'ïîï'\n",
      " 'электроника']\n"
     ]
    }
   ],
   "source": [
    "# Проверка на неявные дубликаты\n",
    "\n",
    "genres_list_2 = df['genre'].sort_values().unique()\n",
    "print(genres_list_2)"
   ]
  },
  {
   "cell_type": "markdown",
   "metadata": {
    "id": "jz6a9-7HQUDd"
   },
   "source": [
    "**Выводы**\n",
    "\n",
    "Предобработка обнаружила три проблемы в данных:\n",
    "\n",
    "- нарушения в стиле заголовков,\n",
    "- пропущенные значения,\n",
    "- дубликаты — явные и неявные.\n",
    "\n",
    "Мы исправили заголовки, чтобы упростить работу с таблицей. Без дубликатов исследование станет более точным.\n",
    "\n",
    "Пропущенные значения мы заменили на `'unknown'`. Ещё предстоит увидеть, не повредят ли исследованию пропуски в колонке `genre`.\n",
    "\n",
    "Теперь можно перейти к проверке гипотез. "
   ]
  },
  {
   "cell_type": "markdown",
   "metadata": {
    "id": "WttZHXH0SqKk"
   },
   "source": [
    "## Проверка гипотез"
   ]
  },
  {
   "cell_type": "markdown",
   "metadata": {
    "id": "Im936VVi_Zcu"
   },
   "source": [
    "### Сравнение поведения пользователей двух столиц"
   ]
  },
  {
   "cell_type": "markdown",
   "metadata": {
    "id": "nwt_MuaL_Zcu"
   },
   "source": [
    "Первая гипотеза утверждает, что пользователи по-разному слушают музыку в Москве и Санкт-Петербурге. Проверьте это предположение по данным о трёх днях недели — понедельнике, среде и пятнице. Для этого:\n",
    "\n",
    "* Разделим пользователей Москвы и Санкт-Петербурга\n",
    "* Сравним, сколько треков послушала каждая группа пользователей в понедельник, среду и пятницу.\n"
   ]
  },
  {
   "cell_type": "markdown",
   "metadata": {
    "id": "8Dw_YMmT_Zcu"
   },
   "source": [
    "Для тренировки сначала выполним каждый из расчётов по отдельности. \n",
    "\n",
    "Оценим активность пользователей в каждом городе. Сгруппируем данные по городу и посчитаем прослушивания в каждой группе.\n",
    "\n"
   ]
  },
  {
   "cell_type": "code",
   "execution_count": 18,
   "metadata": {
    "id": "0_Qs96oh_Zcu"
   },
   "outputs": [
    {
     "data": {
      "text/plain": [
       "city\n",
       "Moscow              42741\n",
       "Saint-Petersburg    18512\n",
       "Name: city, dtype: int64"
      ]
     },
     "execution_count": 18,
     "metadata": {},
     "output_type": "execute_result"
    }
   ],
   "source": [
    "# Подсчёт прослушиваний в каждом городе\n",
    "\n",
    "df.groupby('city')['city'].count()"
   ]
  },
  {
   "cell_type": "markdown",
   "metadata": {
    "id": "dzli3w8o_Zcu"
   },
   "source": [
    "В Москве прослушиваний больше, чем в Петербурге. Из этого не следует, что московские пользователи чаще слушают музыку. Просто самих пользователей в Москве больше.\n",
    "\n",
    "Теперь сгруппируем данные по дню недели и подсчитаем прослушивания в понедельник, среду и пятницу. Учтём, что в данных есть информация только о прослушиваниях только за эти дни.\n"
   ]
  },
  {
   "cell_type": "code",
   "execution_count": 19,
   "metadata": {
    "id": "uZMKjiJz_Zcu"
   },
   "outputs": [
    {
     "data": {
      "text/plain": [
       "day\n",
       "Friday       21840\n",
       "Monday       21354\n",
       "Wednesday    18059\n",
       "Name: genre, dtype: int64"
      ]
     },
     "execution_count": 19,
     "metadata": {},
     "output_type": "execute_result"
    }
   ],
   "source": [
    "# Подсчёт прослушиваний в каждый из трёх дней\n",
    "\n",
    "df.groupby('day')['genre'].count()\n",
    "\n",
    "\n"
   ]
  },
  {
   "cell_type": "markdown",
   "metadata": {
    "id": "cC2tNrlL_Zcu"
   },
   "source": [
    "В среднем пользователи из двух городов менее активны по средам. Но картина может измениться, если рассмотреть каждый город в отдельности."
   ]
  },
  {
   "cell_type": "markdown",
   "metadata": {
    "id": "POzs8bGa_Zcu"
   },
   "source": [
    "Мы увидели, как работает группировка по городу и по дням недели. Теперь напишем функцию, которая объединит два эти расчёта.\n",
    "\n",
    "Создадим функцию `number_tracks()`, которая посчитает прослушивания для заданного дня и города. Ей понадобятся два параметра:\n",
    "* день недели,\n",
    "* название города.\n",
    "\n",
    "В функции сохраним в переменную строки исходной таблицы, у которых значение:\n",
    "  * в колонке `day` равно параметру `day`,\n",
    "  * в колонке `city` равно параметру `city`.\n",
    "\n",
    "Для этого применим последовательную фильтрацию с логической индексацией.\n",
    "\n",
    "Затем посчитаем значения в столбце `user_id` получившейся таблицы. Результат сохраним в новую переменную. Вернём эту переменную из функции."
   ]
  },
  {
   "cell_type": "code",
   "execution_count": 20,
   "metadata": {
    "id": "Nz3GdQB1_Zcu"
   },
   "outputs": [],
   "source": [
    "# Объявляется функция с двумя параметрами: day, city.\n",
    "# Функция возвращает число - значение track_list_count.\n",
    "\n",
    "\n",
    "def number_tracks(day, city):\n",
    "    \n",
    "# В переменной track_list сохраняются те строки таблицы df, для которых \n",
    "# значение в столбце 'day' равно параметру day и одновременно значение\n",
    "# в столбце 'city' равно параметру city \n",
    "    \n",
    "    track_list = df[(df['day'] == day)&(df['city'] == city)]    \n",
    "    \n",
    "# В переменной track_list_count сохраняется число значений столбца 'user_id',\n",
    "# рассчитанное методом count() для таблицы track_list. \n",
    "    \n",
    "    track_list_count = track_list['user_id'].count()\n",
    "    \n",
    "    return track_list_count \n",
    "    \n"
   ]
  },
  {
   "cell_type": "markdown",
   "metadata": {
    "id": "ytf7xFrFJQ2r"
   },
   "source": [
    "Вызовем `number_tracks()` шесть раз, меняя значение параметров — так, чтобы получить данные для каждого города в каждый из трёх дней."
   ]
  },
  {
   "cell_type": "code",
   "execution_count": 21,
   "metadata": {
    "id": "rJcRATNQ_Zcu"
   },
   "outputs": [
    {
     "data": {
      "text/plain": [
       "15740"
      ]
     },
     "execution_count": 21,
     "metadata": {},
     "output_type": "execute_result"
    }
   ],
   "source": [
    "# количество прослушиваний в Москве по понедельникам\n",
    "\n",
    "number_tracks('Monday', 'Moscow')"
   ]
  },
  {
   "cell_type": "code",
   "execution_count": 22,
   "metadata": {
    "id": "hq_ncZ5T_Zcu"
   },
   "outputs": [
    {
     "data": {
      "text/plain": [
       "5614"
      ]
     },
     "execution_count": 22,
     "metadata": {},
     "output_type": "execute_result"
    }
   ],
   "source": [
    "# количество прослушиваний в Санкт-Петербурге по понедельникам\n",
    "\n",
    "number_tracks('Monday', 'Saint-Petersburg')"
   ]
  },
  {
   "cell_type": "code",
   "execution_count": 23,
   "metadata": {
    "id": "_NTy2VPU_Zcu"
   },
   "outputs": [
    {
     "data": {
      "text/plain": [
       "11056"
      ]
     },
     "execution_count": 23,
     "metadata": {},
     "output_type": "execute_result"
    }
   ],
   "source": [
    "# количество прослушиваний в Москве по средам\n",
    "\n",
    "number_tracks('Wednesday', 'Moscow')\n"
   ]
  },
  {
   "cell_type": "code",
   "execution_count": 24,
   "metadata": {
    "id": "j2y3TAwo_Zcu"
   },
   "outputs": [
    {
     "data": {
      "text/plain": [
       "7003"
      ]
     },
     "execution_count": 24,
     "metadata": {},
     "output_type": "execute_result"
    }
   ],
   "source": [
    "# количество прослушиваний в Санкт-Петербурге по средам\n",
    "\n",
    "number_tracks('Wednesday', 'Saint-Petersburg')"
   ]
  },
  {
   "cell_type": "code",
   "execution_count": 25,
   "metadata": {
    "id": "vYDw5u_K_Zcu"
   },
   "outputs": [
    {
     "data": {
      "text/plain": [
       "15945"
      ]
     },
     "execution_count": 25,
     "metadata": {},
     "output_type": "execute_result"
    }
   ],
   "source": [
    "# количество прослушиваний в Москве по пятницам\n",
    "\n",
    "number_tracks('Friday', 'Moscow')"
   ]
  },
  {
   "cell_type": "code",
   "execution_count": 26,
   "metadata": {
    "id": "8_yzFtW3_Zcu"
   },
   "outputs": [
    {
     "data": {
      "text/plain": [
       "5895"
      ]
     },
     "execution_count": 26,
     "metadata": {},
     "output_type": "execute_result"
    }
   ],
   "source": [
    "# количество прослушиваний в Санкт-Петербурге по пятницам\n",
    "\n",
    "number_tracks('Friday', 'Saint-Petersburg')"
   ]
  },
  {
   "cell_type": "markdown",
   "metadata": {
    "id": "7QXffbO-_Zcu"
   },
   "source": [
    "Создадим c помощью конструктора `pd.DataFrame` таблицу, где\n",
    "* названия колонок — `['city', 'monday', 'wednesday', 'friday']`;\n",
    "* данные — результаты, которые вы получили с помощью `number_tracks`."
   ]
  },
  {
   "cell_type": "code",
   "execution_count": 27,
   "metadata": {
    "id": "APAcLpOr_Zcu"
   },
   "outputs": [
    {
     "data": {
      "text/html": [
       "<div>\n",
       "<style scoped>\n",
       "    .dataframe tbody tr th:only-of-type {\n",
       "        vertical-align: middle;\n",
       "    }\n",
       "\n",
       "    .dataframe tbody tr th {\n",
       "        vertical-align: top;\n",
       "    }\n",
       "\n",
       "    .dataframe thead th {\n",
       "        text-align: right;\n",
       "    }\n",
       "</style>\n",
       "<table border=\"1\" class=\"dataframe\">\n",
       "  <thead>\n",
       "    <tr style=\"text-align: right;\">\n",
       "      <th></th>\n",
       "      <th>city</th>\n",
       "      <th>monday</th>\n",
       "      <th>wednesday</th>\n",
       "      <th>friday</th>\n",
       "    </tr>\n",
       "  </thead>\n",
       "  <tbody>\n",
       "    <tr>\n",
       "      <th>0</th>\n",
       "      <td>Moscow</td>\n",
       "      <td>15740</td>\n",
       "      <td>11056</td>\n",
       "      <td>15945</td>\n",
       "    </tr>\n",
       "    <tr>\n",
       "      <th>1</th>\n",
       "      <td>Saint-Petersburg</td>\n",
       "      <td>5614</td>\n",
       "      <td>7003</td>\n",
       "      <td>5895</td>\n",
       "    </tr>\n",
       "  </tbody>\n",
       "</table>\n",
       "</div>"
      ],
      "text/plain": [
       "               city  monday  wednesday  friday\n",
       "0            Moscow   15740      11056   15945\n",
       "1  Saint-Petersburg    5614       7003    5895"
      ]
     },
     "metadata": {},
     "output_type": "display_data"
    }
   ],
   "source": [
    "# Таблица с результатами\n",
    "\n",
    "data = [['Moscow', 15740, 11056, 15945], ['Saint-Petersburg', 5614, 7003, 5895]]\n",
    "columns = ['city', 'monday', 'wednesday', 'friday']\n",
    "display(pd.DataFrame(data = data, columns = columns))\n"
   ]
  },
  {
   "cell_type": "markdown",
   "metadata": {
    "id": "-EgPIHYu_Zcu"
   },
   "source": [
    "**Выводы**\n",
    "\n",
    "Данные показывают разницу поведения пользователей:\n",
    "\n",
    "- В Москве пик прослушиваний приходится на понедельник и пятницу, а в среду заметен спад.\n",
    "- В Петербурге, наоборот, больше слушают музыку по средам. Активность в понедельник и пятницу здесь почти в равной мере уступает среде.\n",
    "\n",
    "Значит, данные говорят в пользу первой гипотезы."
   ]
  },
  {
   "cell_type": "markdown",
   "metadata": {
    "id": "atZAxtq4_Zcu"
   },
   "source": [
    "### Музыка в начале и в конце недели"
   ]
  },
  {
   "cell_type": "markdown",
   "metadata": {
    "id": "eXrQqXFH_Zcu"
   },
   "source": [
    "Согласно второй гипотезе, утром в понедельник в Москве преобладают одни жанры, а в Петербурге — другие. Так же и вечером пятницы преобладают разные жанры — в зависимости от города."
   ]
  },
  {
   "cell_type": "markdown",
   "metadata": {
    "id": "S8UcW6Hw_Zcu"
   },
   "source": [
    "Сохраним таблицы с данными в две переменные:\n",
    "* по Москве — в `moscow_general`;\n",
    "* по Санкт-Петербургу — в `spb_general`."
   ]
  },
  {
   "cell_type": "code",
   "execution_count": 28,
   "metadata": {
    "id": "qeaFfM_P_Zcu"
   },
   "outputs": [],
   "source": [
    "# получение таблицы moscow_general из тех строк таблицы df, \n",
    "# для которых значение в столбце 'city' равно 'Moscow'\n",
    "\n",
    "moscow_general = df[df['city'] == 'Moscow']\n"
   ]
  },
  {
   "cell_type": "code",
   "execution_count": 29,
   "metadata": {
    "id": "ORaVRKto_Zcu"
   },
   "outputs": [],
   "source": [
    "# получение таблицы spb_general из тех строк таблицы df,\n",
    "# для которых значение в столбце 'city' равно 'Saint-Petersburg'\n",
    "\n",
    "spb_general = df[df['city'] == 'Saint-Petersburg']\n"
   ]
  },
  {
   "cell_type": "markdown",
   "metadata": {
    "id": "MEJV-CX2_Zcu"
   },
   "source": [
    "Создадим функцию `genre_weekday()` с четырьмя параметрами:\n",
    "* таблица (датафрейм) с данными,\n",
    "* день недели,\n",
    "* начальная временная метка в формате 'hh:mm', \n",
    "* последняя временная метка в формате 'hh:mm'.\n",
    "\n",
    "Функция должна вернуть информацию о топ-10 жанров тех треков, которые прослушивали в указанный день, в промежутке между двумя отметками времени."
   ]
  },
  {
   "cell_type": "code",
   "execution_count": 30,
   "metadata": {
    "id": "laJT9BYl_Zcu"
   },
   "outputs": [],
   "source": [
    "# Объявление функции genre_weekday() с параметрами table, day, time1, time2,\n",
    "# которая возвращает информацию о самых популярных жанрах в указанный день в\n",
    "# заданное время:\n",
    "\n",
    "def genre_weekday(table, day, time1, time2):\n",
    "\n",
    "\n",
    "    genre_df = table[(table['day'] == day)&(table['time'] > time1)&(table['time'] < time2)]\n",
    "\n",
    "    genre_df_count = genre_df.groupby('genre')['user_id'].count()\n",
    "\n",
    "\n",
    "    genre_df_sorted = genre_df_count.sort_values(ascending=False)\n",
    "\n",
    "\n",
    "    \n",
    "    return genre_df_sorted.head(10)\n",
    "\n"
   ]
  },
  {
   "cell_type": "code",
   "execution_count": 31,
   "metadata": {},
   "outputs": [],
   "source": [
    "def genre_weekday(table, day, time1, time2):\n",
    "    \n",
    "    '''функция genre_weekday() с параметрами table, day, time1, time2,\n",
    "       которая возвращает информацию о самых популярных жанрах \n",
    "       в указанный день в заданное время'''\n",
    "    \n",
    "    # 1) в переменную genre_df сохраняются те строки переданного датафрейма table, для\n",
    "    #    которых одновременно:\n",
    "    # - значение в столбце day равно значению аргумента day\n",
    "    genre_df = table[table['day'] == day]\n",
    "    # - значение в столбце time больше значения аргумента time1\n",
    "    genre_df = genre_df[genre_df['time'] > time1]\n",
    "    # - значение в столбце time меньше значения аргумента time2\n",
    "    genre_df = genre_df[genre_df['time'] < time2]\n",
    "\n",
    "    # 2) сгруппируем датафрейм genre_df по столбцу genre, возьмем один из его\n",
    "    #    столбцов и посчитаем методом count() количество записей для каждого из\n",
    "    #    присутствующих жанров, получившийся Series запишем в переменную\n",
    "    #    genre_df_count\n",
    "    genre_df_count = genre_df.groupby('genre')['user_id'].count()\n",
    "    \n",
    "    # 3) отсортируем genre_df_count по убыванию встречаемости и сохраним\n",
    "    #    в переменную genre_df_sorted\n",
    "    genre_df_sorted = genre_df_count.sort_values(ascending=False)\n",
    "\n",
    "    # 4) вернём Series из 10 первых значений genre_df_sorted, это будут топ-10\n",
    "    #    популярных жанров (в указанный день, в заданное время)\n",
    "    return genre_df_sorted[:10]\n",
    "\n"
   ]
  },
  {
   "cell_type": "markdown",
   "metadata": {
    "id": "la2s2_PF_Zcu"
   },
   "source": [
    "Cравним результаты функции `genre_weekday()` для Москвы и Санкт-Петербурга в понедельник утром (с 7:00 до 11:00) и в пятницу вечером (с 17:00 до 23:00):"
   ]
  },
  {
   "cell_type": "code",
   "execution_count": 32,
   "metadata": {
    "id": "yz7itPUQ_Zcu"
   },
   "outputs": [
    {
     "data": {
      "text/plain": [
       "genre\n",
       "pop            781\n",
       "dance          549\n",
       "electronic     480\n",
       "rock           474\n",
       "hiphop         286\n",
       "ruspop         186\n",
       "world          181\n",
       "rusrap         175\n",
       "alternative    164\n",
       "unknown        161\n",
       "Name: user_id, dtype: int64"
      ]
     },
     "metadata": {},
     "output_type": "display_data"
    }
   ],
   "source": [
    "# вызов функции для утра понедельника в Москве (вместо df — таблица moscow_general)\n",
    "# объекты, хранящие время, являются строками и сравниваются как строки\n",
    "# пример вызова: genre_weekday(moscow_general, 'Monday', '07:00', '11:00')\n",
    "\n",
    "display(genre_weekday(moscow_general, 'Monday', '07:00', '11:00'))"
   ]
  },
  {
   "cell_type": "code",
   "execution_count": 33,
   "metadata": {
    "id": "kwUcHPdy_Zcu"
   },
   "outputs": [
    {
     "data": {
      "text/plain": [
       "genre\n",
       "pop            218\n",
       "dance          182\n",
       "rock           162\n",
       "electronic     147\n",
       "hiphop          80\n",
       "ruspop          64\n",
       "alternative     58\n",
       "rusrap          55\n",
       "jazz            44\n",
       "classical       40\n",
       "Name: user_id, dtype: int64"
      ]
     },
     "metadata": {},
     "output_type": "display_data"
    }
   ],
   "source": [
    "# вызов функции для утра понедельника в Петербурге (вместо df — таблица spb_general)\n",
    "\n",
    "display(genre_weekday(spb_general, 'Monday', '07:00', '11:00'))"
   ]
  },
  {
   "cell_type": "code",
   "execution_count": 34,
   "metadata": {
    "id": "EzXVRE1o_Zcu"
   },
   "outputs": [
    {
     "data": {
      "text/plain": [
       "genre\n",
       "pop            713\n",
       "rock           517\n",
       "dance          495\n",
       "electronic     482\n",
       "hiphop         273\n",
       "world          208\n",
       "ruspop         170\n",
       "alternative    163\n",
       "classical      163\n",
       "rusrap         142\n",
       "Name: user_id, dtype: int64"
      ]
     },
     "metadata": {},
     "output_type": "display_data"
    }
   ],
   "source": [
    "# вызов функции для вечера пятницы в Москве\n",
    "\n",
    "display(genre_weekday(moscow_general, 'Friday', '17:00', '23:00'))"
   ]
  },
  {
   "cell_type": "code",
   "execution_count": 35,
   "metadata": {
    "id": "JZaEKu5v_Zcu"
   },
   "outputs": [
    {
     "data": {
      "text/plain": [
       "genre\n",
       "pop            256\n",
       "electronic     216\n",
       "rock           216\n",
       "dance          210\n",
       "hiphop          97\n",
       "alternative     63\n",
       "jazz            61\n",
       "classical       60\n",
       "rusrap          59\n",
       "world           54\n",
       "Name: user_id, dtype: int64"
      ]
     },
     "metadata": {},
     "output_type": "display_data"
    }
   ],
   "source": [
    "# вызов функции для вечера пятницы в Петербурге\n",
    "\n",
    "display(genre_weekday(spb_general, 'Friday', '17:00', '23:00'))"
   ]
  },
  {
   "cell_type": "markdown",
   "metadata": {
    "id": "wrCe4MNX_Zcu"
   },
   "source": [
    "**Выводы**\n",
    "\n",
    "Если сравнить топ-10 жанров в понедельник утром, можно сделать такие выводы:\n",
    "\n",
    "1. В Москве и Петербурге слушают похожую музыку. Единственное отличие — в московский рейтинг вошёл жанр “world”, а в петербургский — джаз и классика.\n",
    "\n",
    "2. В Москве пропущенных значений оказалось так много, что значение `'unknown'` заняло десятое место среди самых популярных жанров. Значит, пропущенные значения занимают существенную долю в данных и угрожают достоверности исследования.\n",
    "\n",
    "Вечер пятницы не меняет эту картину. Некоторые жанры поднимаются немного выше, другие спускаются, но в целом топ-10 остаётся тем же самым.\n",
    "\n",
    "Таким образом, вторая гипотеза подтвердилась лишь частично:\n",
    "* Пользователи слушают похожую музыку в начале недели и в конце.\n",
    "* Разница между Москвой и Петербургом не слишком выражена. В Москве чаще слушают русскую популярную музыку, в Петербурге — джаз.\n",
    "\n",
    "Однако пропуски в данных ставят под сомнение этот результат. В Москве их так много, что рейтинг топ-10 мог бы выглядеть иначе, если бы не утерянные  данные о жанрах."
   ]
  },
  {
   "cell_type": "markdown",
   "metadata": {
    "id": "JolODAqr_Zcu"
   },
   "source": [
    "### Жанровые предпочтения в Москве и Петербурге\n",
    "\n",
    "Гипотеза: Петербург — столица рэпа, музыку этого жанра там слушают чаще, чем в Москве.  А Москва — город контрастов, в котором, тем не менее, преобладает поп-музыка."
   ]
  },
  {
   "cell_type": "markdown",
   "metadata": {
    "id": "DlegSvaT_Zcu"
   },
   "source": [
    "Сгруппируем таблицу `moscow_general` по жанру и посчитаем прослушивания треков каждого жанра методом `count()`. Затем отсортируем результат в порядке убывания и сохраним его в таблице `moscow_genres`."
   ]
  },
  {
   "cell_type": "code",
   "execution_count": 36,
   "metadata": {
    "id": "r19lIPke_Zcu"
   },
   "outputs": [],
   "source": [
    "# одной строкой: группировка таблицы moscow_general по столбцу 'genre', \n",
    "# подсчёт числа значений 'genre' в этой группировке методом count(), \n",
    "# сортировка получившегося Series в порядке убывания и сохранение в moscow_genres\n",
    "\n",
    "moscow_genres = moscow_general.groupby('genre')['user_id'].count().sort_values(ascending=False)\n",
    "\n",
    "\n"
   ]
  },
  {
   "cell_type": "markdown",
   "metadata": {
    "id": "6kMuomxTiIr8"
   },
   "source": [
    "Выведем на экран первые десять строк `moscow_genres`:"
   ]
  },
  {
   "cell_type": "code",
   "execution_count": 37,
   "metadata": {
    "id": "WhCSooF8_Zcv"
   },
   "outputs": [
    {
     "data": {
      "text/plain": [
       "genre\n",
       "pop            5892\n",
       "dance          4435\n",
       "rock           3965\n",
       "electronic     3786\n",
       "hiphop         2096\n",
       "classical      1616\n",
       "world          1432\n",
       "alternative    1379\n",
       "ruspop         1372\n",
       "rusrap         1161\n",
       "Name: user_id, dtype: int64"
      ]
     },
     "execution_count": 37,
     "metadata": {},
     "output_type": "execute_result"
    }
   ],
   "source": [
    "# просмотр первых 10 строк moscow_genres\n",
    "\n",
    "moscow_genres.head(10)"
   ]
  },
  {
   "cell_type": "markdown",
   "metadata": {
    "id": "cnPG2vnN_Zcv"
   },
   "source": [
    "Теперь повторим то же и для Петербурга.\n",
    "\n",
    "Сгруппируем таблицу `spb_general` по жанру. Посчитаем прослушивания треков каждого жанра. Результат отсортируем в порядке убывания и сохраним в таблице `spb_genres`:\n"
   ]
  },
  {
   "cell_type": "code",
   "execution_count": 38,
   "metadata": {
    "id": "gluLIpE7_Zcv"
   },
   "outputs": [],
   "source": [
    "# одной строкой: группировка таблицы spb_general по столбцу 'genre', \n",
    "# подсчёт числа значений 'genre' в этой группировке методом count(), \n",
    "# сортировка получившегося Series в порядке убывания и сохранение в spb_genres\n",
    "\n",
    "spb_genres =  spb_general.groupby('genre')['user_id'].count().sort_values(ascending=False)"
   ]
  },
  {
   "cell_type": "markdown",
   "metadata": {
    "id": "5Doha_ODgyQ8"
   },
   "source": [
    "Выведем на экран первые десять строк `spb_genres`:"
   ]
  },
  {
   "cell_type": "code",
   "execution_count": 39,
   "metadata": {
    "id": "uaGJHjVU_Zcv"
   },
   "outputs": [
    {
     "data": {
      "text/plain": [
       "genre\n",
       "pop            2431\n",
       "dance          1932\n",
       "rock           1879\n",
       "electronic     1736\n",
       "hiphop          960\n",
       "alternative     649\n",
       "classical       646\n",
       "rusrap          564\n",
       "ruspop          538\n",
       "world           515\n",
       "Name: user_id, dtype: int64"
      ]
     },
     "metadata": {},
     "output_type": "display_data"
    }
   ],
   "source": [
    "# просмотр первых 10 строк spb_genres\n",
    "\n",
    "display(spb_genres.head(10))"
   ]
  },
  {
   "cell_type": "markdown",
   "metadata": {
    "id": "RY51YJYu_Zcv"
   },
   "source": [
    "**Выводы**"
   ]
  },
  {
   "cell_type": "markdown",
   "metadata": {
    "id": "nVhnJEm__Zcv"
   },
   "source": [
    "Гипотеза частично подтвердилась:\n",
    "* Поп-музыка — самый популярный жанр в Москве, как и предполагала гипотеза. Более того, в топ-10 жанров встречается близкий жанр — русская популярная музыка.\n",
    "* Вопреки ожиданиям, рэп одинаково популярен в Москве и Петербурге. \n"
   ]
  },
  {
   "cell_type": "markdown",
   "metadata": {
    "id": "ykKQ0N65_Zcv"
   },
   "source": [
    "## Итоги исследования"
   ]
  },
  {
   "cell_type": "markdown",
   "metadata": {
    "id": "tjUwbHb3_Zcv"
   },
   "source": [
    "Мы проверили три гипотезы и установили:\n",
    "\n",
    "1. День недели по-разному влияет на активность пользователей в Москве и Петербурге. \n",
    "\n",
    "Первая гипотеза полностью подтвердилась.\n",
    "\n",
    "2. Музыкальные предпочтения не сильно меняются в течение недели — будь то Москва или Петербург. Небольшие различия заметны в начале недели, по понедельникам:\n",
    "* в Москве слушают музыку жанра “world”,\n",
    "* в Петербурге — джаз и классику.\n",
    "\n",
    "Таким образом, вторая гипотеза подтвердилась лишь отчасти. Этот результат мог оказаться иным, если бы не пропуски в данных.\n",
    "\n",
    "3. Во вкусах пользователей Москвы и Петербурга больше общего чем различий. Вопреки ожиданиям, предпочтения жанров в Петербурге напоминают московские.\n",
    "\n",
    "Третья гипотеза не подтвердилась. Если различия в предпочтениях и существуют, на основной массе пользователей они незаметны.\n",
    "\n"
   ]
  }
 ],
 "metadata": {
  "ExecuteTimeLog": [
   {
    "duration": 1560,
    "start_time": "2022-01-26T04:23:25.686Z"
   },
   {
    "duration": 718,
    "start_time": "2022-01-26T04:23:34.259Z"
   },
   {
    "duration": 2,
    "start_time": "2022-01-26T05:59:57.337Z"
   },
   {
    "duration": 1052,
    "start_time": "2022-01-26T05:59:59.895Z"
   },
   {
    "duration": 413,
    "start_time": "2022-01-26T06:00:17.952Z"
   },
   {
    "duration": 242,
    "start_time": "2022-01-26T06:01:09.452Z"
   },
   {
    "duration": 15,
    "start_time": "2022-01-26T06:01:44.360Z"
   },
   {
    "duration": 27,
    "start_time": "2022-01-26T06:02:26.502Z"
   },
   {
    "duration": 74,
    "start_time": "2022-01-26T06:12:17.215Z"
   },
   {
    "duration": 365,
    "start_time": "2022-01-26T06:12:30.901Z"
   },
   {
    "duration": 11,
    "start_time": "2022-01-26T06:12:35.852Z"
   },
   {
    "duration": 26,
    "start_time": "2022-01-26T06:17:00.911Z"
   },
   {
    "duration": 5,
    "start_time": "2022-01-26T06:17:15.776Z"
   },
   {
    "duration": 25,
    "start_time": "2022-01-26T06:17:38.424Z"
   },
   {
    "duration": 5,
    "start_time": "2022-01-26T06:29:35.537Z"
   },
   {
    "duration": 17,
    "start_time": "2022-01-26T06:45:47.311Z"
   },
   {
    "duration": 4,
    "start_time": "2022-01-26T06:45:58.016Z"
   },
   {
    "duration": 25,
    "start_time": "2022-01-26T06:48:17.579Z"
   },
   {
    "duration": 3559,
    "start_time": "2022-01-26T06:54:08.052Z"
   },
   {
    "duration": 8,
    "start_time": "2022-01-26T06:54:12.069Z"
   },
   {
    "duration": 3031,
    "start_time": "2022-01-26T06:54:32.279Z"
   },
   {
    "duration": 3006,
    "start_time": "2022-01-26T06:55:04.881Z"
   },
   {
    "duration": 3266,
    "start_time": "2022-01-26T06:56:04.008Z"
   },
   {
    "duration": 3130,
    "start_time": "2022-01-26T06:56:29.640Z"
   },
   {
    "duration": 3125,
    "start_time": "2022-01-26T06:58:52.401Z"
   },
   {
    "duration": 3212,
    "start_time": "2022-01-26T06:59:09.689Z"
   },
   {
    "duration": 3255,
    "start_time": "2022-01-26T06:59:59.138Z"
   },
   {
    "duration": 3048,
    "start_time": "2022-01-26T07:00:38.536Z"
   },
   {
    "duration": 262,
    "start_time": "2022-01-26T07:01:16.266Z"
   },
   {
    "duration": 5,
    "start_time": "2022-01-26T07:01:23.766Z"
   },
   {
    "duration": 254,
    "start_time": "2022-01-26T07:01:46.891Z"
   },
   {
    "duration": 3,
    "start_time": "2022-01-26T07:02:05.150Z"
   },
   {
    "duration": 185,
    "start_time": "2022-01-26T07:02:05.156Z"
   },
   {
    "duration": 12,
    "start_time": "2022-01-26T07:02:05.343Z"
   },
   {
    "duration": 43,
    "start_time": "2022-01-26T07:02:05.357Z"
   },
   {
    "duration": 17,
    "start_time": "2022-01-26T07:02:05.401Z"
   },
   {
    "duration": 40,
    "start_time": "2022-01-26T07:02:05.421Z"
   },
   {
    "duration": 17,
    "start_time": "2022-01-26T07:02:05.463Z"
   },
   {
    "duration": 47,
    "start_time": "2022-01-26T07:02:05.482Z"
   },
   {
    "duration": 30,
    "start_time": "2022-01-26T07:02:05.533Z"
   },
   {
    "duration": 144,
    "start_time": "2022-01-26T07:02:05.566Z"
   },
   {
    "duration": 10,
    "start_time": "2022-01-26T07:02:05.712Z"
   },
   {
    "duration": 24,
    "start_time": "2022-01-26T07:02:05.724Z"
   },
   {
    "duration": 14,
    "start_time": "2022-01-26T07:02:05.751Z"
   },
   {
    "duration": 13,
    "start_time": "2022-01-26T07:02:05.768Z"
   },
   {
    "duration": 18,
    "start_time": "2022-01-26T07:02:05.783Z"
   },
   {
    "duration": 41,
    "start_time": "2022-01-26T07:02:05.803Z"
   },
   {
    "duration": 10,
    "start_time": "2022-01-26T07:02:05.846Z"
   },
   {
    "duration": 24,
    "start_time": "2022-01-26T07:02:05.858Z"
   },
   {
    "duration": 13,
    "start_time": "2022-01-26T07:02:05.884Z"
   },
   {
    "duration": 25,
    "start_time": "2022-01-26T07:02:05.899Z"
   },
   {
    "duration": 34,
    "start_time": "2022-01-26T07:02:05.927Z"
   },
   {
    "duration": 34,
    "start_time": "2022-01-26T07:02:05.963Z"
   },
   {
    "duration": 33,
    "start_time": "2022-01-26T07:02:05.999Z"
   },
   {
    "duration": 13,
    "start_time": "2022-01-26T07:02:06.034Z"
   },
   {
    "duration": 59,
    "start_time": "2022-01-26T07:02:06.049Z"
   },
   {
    "duration": 14,
    "start_time": "2022-01-26T07:02:06.110Z"
   },
   {
    "duration": 9,
    "start_time": "2022-01-26T07:02:06.128Z"
   },
   {
    "duration": 19,
    "start_time": "2022-01-26T07:02:06.139Z"
   },
   {
    "duration": 14,
    "start_time": "2022-01-26T07:02:06.160Z"
   },
   {
    "duration": 9,
    "start_time": "2022-01-26T07:02:06.176Z"
   },
   {
    "duration": 13,
    "start_time": "2022-01-26T07:02:06.187Z"
   },
   {
    "duration": 15,
    "start_time": "2022-01-26T07:02:06.202Z"
   },
   {
    "duration": 16,
    "start_time": "2022-01-26T07:02:06.219Z"
   },
   {
    "duration": 12,
    "start_time": "2022-01-26T07:02:06.237Z"
   },
   {
    "duration": 17,
    "start_time": "2022-01-26T07:02:06.251Z"
   },
   {
    "duration": 18,
    "start_time": "2022-01-26T07:02:06.270Z"
   },
   {
    "duration": 15,
    "start_time": "2022-01-26T07:02:06.290Z"
   },
   {
    "duration": 12,
    "start_time": "2022-01-26T07:02:06.306Z"
   },
   {
    "duration": 20,
    "start_time": "2022-01-26T07:03:30.195Z"
   },
   {
    "duration": 26,
    "start_time": "2022-01-26T07:03:40.409Z"
   },
   {
    "duration": 67,
    "start_time": "2022-01-26T07:05:02.633Z"
   },
   {
    "duration": 68,
    "start_time": "2022-01-26T07:06:08.659Z"
   },
   {
    "duration": 58,
    "start_time": "2022-01-26T07:06:18.342Z"
   },
   {
    "duration": 6,
    "start_time": "2022-01-26T07:10:46.112Z"
   },
   {
    "duration": 46,
    "start_time": "2022-01-26T07:12:24.630Z"
   },
   {
    "duration": 52,
    "start_time": "2022-01-26T07:12:31.877Z"
   },
   {
    "duration": 55,
    "start_time": "2022-01-26T07:12:46.863Z"
   },
   {
    "duration": 40,
    "start_time": "2022-01-26T07:13:45.320Z"
   },
   {
    "duration": 45,
    "start_time": "2022-01-26T07:14:55.013Z"
   },
   {
    "duration": 40,
    "start_time": "2022-01-26T07:17:08.199Z"
   },
   {
    "duration": 45,
    "start_time": "2022-01-26T07:17:27.949Z"
   },
   {
    "duration": 46,
    "start_time": "2022-01-26T07:25:03.883Z"
   },
   {
    "duration": 44,
    "start_time": "2022-01-26T07:25:34.907Z"
   },
   {
    "duration": 71,
    "start_time": "2022-01-26T07:25:43.091Z"
   },
   {
    "duration": 41,
    "start_time": "2022-01-26T07:26:07.600Z"
   },
   {
    "duration": 5,
    "start_time": "2022-01-26T07:36:03.551Z"
   },
   {
    "duration": 474,
    "start_time": "2022-01-26T07:36:07.172Z"
   },
   {
    "duration": 498,
    "start_time": "2022-01-26T07:36:37.836Z"
   },
   {
    "duration": 4,
    "start_time": "2022-01-26T07:36:49.824Z"
   },
   {
    "duration": 658,
    "start_time": "2022-01-26T07:36:52.574Z"
   },
   {
    "duration": 3,
    "start_time": "2022-01-26T07:37:04.808Z"
   },
   {
    "duration": 3,
    "start_time": "2022-01-26T07:37:07.696Z"
   },
   {
    "duration": 3,
    "start_time": "2022-01-26T07:37:46.079Z"
   },
   {
    "duration": 4,
    "start_time": "2022-01-26T07:37:48.631Z"
   },
   {
    "duration": 41,
    "start_time": "2022-01-26T07:38:35.158Z"
   },
   {
    "duration": 4,
    "start_time": "2022-01-26T07:38:50.532Z"
   },
   {
    "duration": 4,
    "start_time": "2022-01-26T07:38:54.528Z"
   },
   {
    "duration": 3,
    "start_time": "2022-01-26T07:39:20.852Z"
   },
   {
    "duration": 187,
    "start_time": "2022-01-26T07:39:20.857Z"
   },
   {
    "duration": 12,
    "start_time": "2022-01-26T07:39:21.047Z"
   },
   {
    "duration": 46,
    "start_time": "2022-01-26T07:39:21.062Z"
   },
   {
    "duration": 20,
    "start_time": "2022-01-26T07:39:21.111Z"
   },
   {
    "duration": 25,
    "start_time": "2022-01-26T07:39:21.133Z"
   },
   {
    "duration": 9,
    "start_time": "2022-01-26T07:39:21.160Z"
   },
   {
    "duration": 28,
    "start_time": "2022-01-26T07:39:21.173Z"
   },
   {
    "duration": 25,
    "start_time": "2022-01-26T07:39:21.203Z"
   },
   {
    "duration": 27,
    "start_time": "2022-01-26T07:39:21.230Z"
   },
   {
    "duration": 82,
    "start_time": "2022-01-26T07:39:21.259Z"
   },
   {
    "duration": 75,
    "start_time": "2022-01-26T07:39:21.343Z"
   },
   {
    "duration": 57,
    "start_time": "2022-01-26T07:39:21.420Z"
   },
   {
    "duration": 58,
    "start_time": "2022-01-26T07:39:21.480Z"
   },
   {
    "duration": 7,
    "start_time": "2022-01-26T07:39:21.541Z"
   },
   {
    "duration": 6,
    "start_time": "2022-01-26T07:39:21.550Z"
   },
   {
    "duration": 63,
    "start_time": "2022-01-26T07:39:21.559Z"
   },
   {
    "duration": 3,
    "start_time": "2022-01-26T07:39:21.624Z"
   },
   {
    "duration": 5,
    "start_time": "2022-01-26T07:39:21.630Z"
   },
   {
    "duration": 8,
    "start_time": "2022-01-26T07:39:21.637Z"
   },
   {
    "duration": 4,
    "start_time": "2022-01-26T07:39:21.648Z"
   },
   {
    "duration": 5,
    "start_time": "2022-01-26T07:39:21.655Z"
   },
   {
    "duration": 7,
    "start_time": "2022-01-26T07:39:21.665Z"
   },
   {
    "duration": 33,
    "start_time": "2022-01-26T07:39:21.674Z"
   },
   {
    "duration": 3,
    "start_time": "2022-01-26T07:39:21.709Z"
   },
   {
    "duration": 9,
    "start_time": "2022-01-26T07:39:21.714Z"
   },
   {
    "duration": 8,
    "start_time": "2022-01-26T07:39:21.725Z"
   },
   {
    "duration": 8,
    "start_time": "2022-01-26T07:39:21.735Z"
   },
   {
    "duration": 8,
    "start_time": "2022-01-26T07:39:21.745Z"
   },
   {
    "duration": 10,
    "start_time": "2022-01-26T07:39:21.755Z"
   },
   {
    "duration": 14,
    "start_time": "2022-01-26T07:39:21.767Z"
   },
   {
    "duration": 9,
    "start_time": "2022-01-26T07:39:21.783Z"
   },
   {
    "duration": 11,
    "start_time": "2022-01-26T07:39:21.794Z"
   },
   {
    "duration": 10,
    "start_time": "2022-01-26T07:39:21.807Z"
   },
   {
    "duration": 8,
    "start_time": "2022-01-26T07:39:21.819Z"
   },
   {
    "duration": 7,
    "start_time": "2022-01-26T07:39:21.829Z"
   },
   {
    "duration": 9,
    "start_time": "2022-01-26T07:39:21.839Z"
   },
   {
    "duration": 8,
    "start_time": "2022-01-26T07:39:21.850Z"
   },
   {
    "duration": 4,
    "start_time": "2022-01-26T07:40:20.531Z"
   },
   {
    "duration": 487,
    "start_time": "2022-01-26T07:40:25.706Z"
   },
   {
    "duration": 4,
    "start_time": "2022-01-26T07:41:28.201Z"
   },
   {
    "duration": 470,
    "start_time": "2022-01-26T07:41:33.729Z"
   },
   {
    "duration": 4,
    "start_time": "2022-01-26T07:41:53.626Z"
   },
   {
    "duration": 517,
    "start_time": "2022-01-26T07:41:57.186Z"
   },
   {
    "duration": 3,
    "start_time": "2022-01-26T07:42:32.473Z"
   },
   {
    "duration": 14,
    "start_time": "2022-01-26T07:42:36.274Z"
   },
   {
    "duration": 4,
    "start_time": "2022-01-26T07:42:59.057Z"
   },
   {
    "duration": 14,
    "start_time": "2022-01-26T07:43:01.863Z"
   },
   {
    "duration": 4,
    "start_time": "2022-01-26T07:43:13.978Z"
   },
   {
    "duration": 6,
    "start_time": "2022-01-26T07:43:15.798Z"
   },
   {
    "duration": 3,
    "start_time": "2022-01-26T07:44:04.787Z"
   },
   {
    "duration": 4,
    "start_time": "2022-01-26T07:44:06.826Z"
   },
   {
    "duration": 43,
    "start_time": "2022-01-26T07:44:16.931Z"
   },
   {
    "duration": 4,
    "start_time": "2022-01-26T07:44:50.755Z"
   },
   {
    "duration": 4,
    "start_time": "2022-01-26T07:45:01.702Z"
   },
   {
    "duration": 45,
    "start_time": "2022-01-26T07:45:03.245Z"
   },
   {
    "duration": 3,
    "start_time": "2022-01-26T07:45:29.002Z"
   },
   {
    "duration": 494,
    "start_time": "2022-01-26T07:45:30.820Z"
   },
   {
    "duration": 3,
    "start_time": "2022-01-26T07:47:07.319Z"
   },
   {
    "duration": 176,
    "start_time": "2022-01-26T07:47:10.470Z"
   },
   {
    "duration": 35,
    "start_time": "2022-01-26T07:50:26.862Z"
   },
   {
    "duration": 73,
    "start_time": "2022-01-26T07:50:44.939Z"
   },
   {
    "duration": 6,
    "start_time": "2022-01-26T07:53:39.392Z"
   },
   {
    "duration": 3,
    "start_time": "2022-01-26T07:54:48.211Z"
   },
   {
    "duration": 12,
    "start_time": "2022-01-26T07:54:51.828Z"
   },
   {
    "duration": 3,
    "start_time": "2022-01-26T07:54:59.165Z"
   },
   {
    "duration": 11,
    "start_time": "2022-01-26T07:55:02.648Z"
   },
   {
    "duration": 3,
    "start_time": "2022-01-26T07:55:09.873Z"
   },
   {
    "duration": 151,
    "start_time": "2022-01-26T07:55:09.885Z"
   },
   {
    "duration": 13,
    "start_time": "2022-01-26T07:55:10.038Z"
   },
   {
    "duration": 33,
    "start_time": "2022-01-26T07:55:10.053Z"
   },
   {
    "duration": 20,
    "start_time": "2022-01-26T07:55:10.088Z"
   },
   {
    "duration": 16,
    "start_time": "2022-01-26T07:55:10.218Z"
   },
   {
    "duration": 4,
    "start_time": "2022-01-26T07:55:10.236Z"
   },
   {
    "duration": 29,
    "start_time": "2022-01-26T07:55:10.242Z"
   },
   {
    "duration": 21,
    "start_time": "2022-01-26T07:55:10.273Z"
   },
   {
    "duration": 34,
    "start_time": "2022-01-26T07:55:10.296Z"
   },
   {
    "duration": 61,
    "start_time": "2022-01-26T07:55:10.498Z"
   },
   {
    "duration": 73,
    "start_time": "2022-01-26T07:55:10.561Z"
   },
   {
    "duration": 55,
    "start_time": "2022-01-26T07:55:10.636Z"
   },
   {
    "duration": 54,
    "start_time": "2022-01-26T07:55:10.693Z"
   },
   {
    "duration": 7,
    "start_time": "2022-01-26T07:55:10.749Z"
   },
   {
    "duration": 29,
    "start_time": "2022-01-26T07:55:10.758Z"
   },
   {
    "duration": 50,
    "start_time": "2022-01-26T07:55:10.789Z"
   },
   {
    "duration": 12,
    "start_time": "2022-01-26T07:55:10.841Z"
   },
   {
    "duration": 8,
    "start_time": "2022-01-26T07:55:10.855Z"
   },
   {
    "duration": 5,
    "start_time": "2022-01-26T07:55:10.865Z"
   },
   {
    "duration": 9,
    "start_time": "2022-01-26T07:55:10.872Z"
   },
   {
    "duration": 2,
    "start_time": "2022-01-26T07:55:10.924Z"
   },
   {
    "duration": 9,
    "start_time": "2022-01-26T07:55:10.928Z"
   },
   {
    "duration": 3,
    "start_time": "2022-01-26T07:55:11.091Z"
   },
   {
    "duration": 8,
    "start_time": "2022-01-26T07:55:11.096Z"
   },
   {
    "duration": 9,
    "start_time": "2022-01-26T07:55:11.106Z"
   },
   {
    "duration": 7,
    "start_time": "2022-01-26T07:55:11.117Z"
   },
   {
    "duration": 8,
    "start_time": "2022-01-26T07:55:11.126Z"
   },
   {
    "duration": 5,
    "start_time": "2022-01-26T07:55:11.136Z"
   },
   {
    "duration": 3,
    "start_time": "2022-01-26T07:55:11.213Z"
   },
   {
    "duration": 3,
    "start_time": "2022-01-26T07:55:11.370Z"
   },
   {
    "duration": 7,
    "start_time": "2022-01-26T07:55:11.376Z"
   },
   {
    "duration": 10,
    "start_time": "2022-01-26T07:55:11.385Z"
   },
   {
    "duration": 2,
    "start_time": "2022-01-26T07:55:11.408Z"
   },
   {
    "duration": 6,
    "start_time": "2022-01-26T07:55:11.412Z"
   },
   {
    "duration": 3,
    "start_time": "2022-01-26T07:55:11.490Z"
   },
   {
    "duration": 6,
    "start_time": "2022-01-26T07:55:11.495Z"
   },
   {
    "duration": 6,
    "start_time": "2022-01-26T07:55:11.503Z"
   },
   {
    "duration": 3,
    "start_time": "2022-01-26T07:57:03.296Z"
   },
   {
    "duration": 173,
    "start_time": "2022-01-26T07:57:03.301Z"
   },
   {
    "duration": 11,
    "start_time": "2022-01-26T07:57:03.477Z"
   },
   {
    "duration": 26,
    "start_time": "2022-01-26T07:57:03.630Z"
   },
   {
    "duration": 12,
    "start_time": "2022-01-26T07:57:03.659Z"
   },
   {
    "duration": 36,
    "start_time": "2022-01-26T07:57:03.673Z"
   },
   {
    "duration": 4,
    "start_time": "2022-01-26T07:57:05.409Z"
   },
   {
    "duration": 28,
    "start_time": "2022-01-26T07:57:05.414Z"
   },
   {
    "duration": 23,
    "start_time": "2022-01-26T07:57:05.445Z"
   },
   {
    "duration": 41,
    "start_time": "2022-01-26T07:57:05.470Z"
   },
   {
    "duration": 60,
    "start_time": "2022-01-26T07:57:05.513Z"
   },
   {
    "duration": 79,
    "start_time": "2022-01-26T07:57:05.575Z"
   },
   {
    "duration": 67,
    "start_time": "2022-01-26T07:57:05.656Z"
   },
   {
    "duration": 41,
    "start_time": "2022-01-26T07:57:05.725Z"
   },
   {
    "duration": 4,
    "start_time": "2022-01-26T07:57:05.768Z"
   },
   {
    "duration": 42,
    "start_time": "2022-01-26T07:57:05.981Z"
   },
   {
    "duration": 43,
    "start_time": "2022-01-26T07:57:06.026Z"
   },
   {
    "duration": 6,
    "start_time": "2022-01-26T07:57:06.071Z"
   },
   {
    "duration": 9,
    "start_time": "2022-01-26T07:57:06.079Z"
   },
   {
    "duration": 17,
    "start_time": "2022-01-26T07:57:06.090Z"
   },
   {
    "duration": 10,
    "start_time": "2022-01-26T07:57:06.110Z"
   },
   {
    "duration": 3,
    "start_time": "2022-01-26T07:57:06.341Z"
   },
   {
    "duration": 6,
    "start_time": "2022-01-26T07:57:06.346Z"
   },
   {
    "duration": 7,
    "start_time": "2022-01-26T07:57:06.354Z"
   },
   {
    "duration": 4,
    "start_time": "2022-01-26T07:57:06.432Z"
   },
   {
    "duration": 15,
    "start_time": "2022-01-26T07:57:06.439Z"
   },
   {
    "duration": 4,
    "start_time": "2022-01-26T07:57:06.460Z"
   },
   {
    "duration": 9,
    "start_time": "2022-01-26T07:57:06.467Z"
   },
   {
    "duration": 11,
    "start_time": "2022-01-26T07:57:06.478Z"
   },
   {
    "duration": 3,
    "start_time": "2022-01-26T07:57:07.607Z"
   },
   {
    "duration": 19,
    "start_time": "2022-01-26T07:57:07.612Z"
   },
   {
    "duration": 6,
    "start_time": "2022-01-26T07:57:07.634Z"
   },
   {
    "duration": 9,
    "start_time": "2022-01-26T07:57:07.642Z"
   },
   {
    "duration": 9,
    "start_time": "2022-01-26T07:57:07.653Z"
   },
   {
    "duration": 2,
    "start_time": "2022-01-26T07:57:07.928Z"
   },
   {
    "duration": 16,
    "start_time": "2022-01-26T07:57:07.932Z"
   },
   {
    "duration": 17,
    "start_time": "2022-01-26T07:57:07.950Z"
   },
   {
    "duration": 10,
    "start_time": "2022-01-26T07:57:07.969Z"
   },
   {
    "duration": 4,
    "start_time": "2022-01-26T07:57:52.116Z"
   },
   {
    "duration": 47,
    "start_time": "2022-01-26T07:57:56.010Z"
   },
   {
    "duration": 4,
    "start_time": "2022-01-26T07:58:25.895Z"
   },
   {
    "duration": 76,
    "start_time": "2022-01-26T07:58:30.582Z"
   },
   {
    "duration": 4,
    "start_time": "2022-01-26T08:00:08.862Z"
   },
   {
    "duration": 477,
    "start_time": "2022-01-26T08:00:11.649Z"
   },
   {
    "duration": 4,
    "start_time": "2022-01-26T08:06:45.366Z"
   },
   {
    "duration": 6259,
    "start_time": "2022-01-26T08:06:48.985Z"
   },
   {
    "duration": 4,
    "start_time": "2022-01-26T08:07:14.564Z"
   },
   {
    "duration": 15,
    "start_time": "2022-01-26T08:07:26.778Z"
   },
   {
    "duration": 42,
    "start_time": "2022-01-26T08:07:37.975Z"
   },
   {
    "duration": 4,
    "start_time": "2022-01-26T08:10:07.904Z"
   },
   {
    "duration": 11,
    "start_time": "2022-01-26T08:10:11.268Z"
   },
   {
    "duration": 54,
    "start_time": "2022-01-26T08:10:21.007Z"
   },
   {
    "duration": 4,
    "start_time": "2022-01-26T08:11:38.513Z"
   },
   {
    "duration": 478,
    "start_time": "2022-01-26T08:11:40.547Z"
   },
   {
    "duration": 4,
    "start_time": "2022-01-26T08:11:50.485Z"
   },
   {
    "duration": 12,
    "start_time": "2022-01-26T08:11:52.915Z"
   },
   {
    "duration": 41,
    "start_time": "2022-01-26T08:11:56.164Z"
   },
   {
    "duration": 68,
    "start_time": "2022-01-26T08:12:13.325Z"
   },
   {
    "duration": 44,
    "start_time": "2022-01-26T08:12:42.388Z"
   },
   {
    "duration": 76,
    "start_time": "2022-01-26T08:12:55.854Z"
   },
   {
    "duration": 74,
    "start_time": "2022-01-26T08:13:16.029Z"
   },
   {
    "duration": 3,
    "start_time": "2022-01-26T08:13:46.165Z"
   },
   {
    "duration": 148,
    "start_time": "2022-01-26T08:13:46.170Z"
   },
   {
    "duration": 12,
    "start_time": "2022-01-26T08:13:46.320Z"
   },
   {
    "duration": 31,
    "start_time": "2022-01-26T08:13:46.334Z"
   },
   {
    "duration": 4,
    "start_time": "2022-01-26T08:13:46.367Z"
   },
   {
    "duration": 34,
    "start_time": "2022-01-26T08:13:46.373Z"
   },
   {
    "duration": 4,
    "start_time": "2022-01-26T08:13:46.421Z"
   },
   {
    "duration": 31,
    "start_time": "2022-01-26T08:13:46.427Z"
   },
   {
    "duration": 18,
    "start_time": "2022-01-26T08:13:46.460Z"
   },
   {
    "duration": 41,
    "start_time": "2022-01-26T08:13:46.480Z"
   },
   {
    "duration": 65,
    "start_time": "2022-01-26T08:13:46.524Z"
   },
   {
    "duration": 80,
    "start_time": "2022-01-26T08:13:46.591Z"
   },
   {
    "duration": 59,
    "start_time": "2022-01-26T08:13:46.682Z"
   },
   {
    "duration": 82,
    "start_time": "2022-01-26T08:13:46.743Z"
   },
   {
    "duration": 3,
    "start_time": "2022-01-26T08:13:46.828Z"
   },
   {
    "duration": 22,
    "start_time": "2022-01-26T08:13:46.833Z"
   },
   {
    "duration": 94,
    "start_time": "2022-01-26T08:13:46.857Z"
   },
   {
    "duration": 3,
    "start_time": "2022-01-26T08:13:46.953Z"
   },
   {
    "duration": 10,
    "start_time": "2022-01-26T08:13:46.958Z"
   },
   {
    "duration": 6,
    "start_time": "2022-01-26T08:13:46.970Z"
   },
   {
    "duration": 34,
    "start_time": "2022-01-26T08:13:46.978Z"
   },
   {
    "duration": 7,
    "start_time": "2022-01-26T08:13:47.014Z"
   },
   {
    "duration": 8,
    "start_time": "2022-01-26T08:13:47.023Z"
   },
   {
    "duration": 10,
    "start_time": "2022-01-26T08:13:47.032Z"
   },
   {
    "duration": 3,
    "start_time": "2022-01-26T08:13:47.217Z"
   },
   {
    "duration": 31,
    "start_time": "2022-01-26T08:13:47.222Z"
   },
   {
    "duration": 7,
    "start_time": "2022-01-26T08:13:47.256Z"
   },
   {
    "duration": 10,
    "start_time": "2022-01-26T08:13:47.266Z"
   },
   {
    "duration": 7,
    "start_time": "2022-01-26T08:13:47.278Z"
   },
   {
    "duration": 10,
    "start_time": "2022-01-26T08:13:47.287Z"
   },
   {
    "duration": 2,
    "start_time": "2022-01-26T08:13:47.480Z"
   },
   {
    "duration": 5,
    "start_time": "2022-01-26T08:13:47.485Z"
   },
   {
    "duration": 12,
    "start_time": "2022-01-26T08:13:47.492Z"
   },
   {
    "duration": 7,
    "start_time": "2022-01-26T08:13:47.506Z"
   },
   {
    "duration": 7,
    "start_time": "2022-01-26T08:13:47.515Z"
   },
   {
    "duration": 10,
    "start_time": "2022-01-26T08:13:47.525Z"
   },
   {
    "duration": 6,
    "start_time": "2022-01-26T08:13:47.537Z"
   },
   {
    "duration": 8,
    "start_time": "2022-01-26T08:13:47.546Z"
   },
   {
    "duration": 42,
    "start_time": "2022-01-26T08:16:44.927Z"
   },
   {
    "duration": 44,
    "start_time": "2022-01-26T08:16:52.165Z"
   },
   {
    "duration": 19,
    "start_time": "2022-01-26T08:32:51.584Z"
   },
   {
    "duration": 27,
    "start_time": "2022-01-26T08:33:27.541Z"
   },
   {
    "duration": 25,
    "start_time": "2022-01-26T08:35:17.492Z"
   },
   {
    "duration": 27,
    "start_time": "2022-01-26T08:36:12.077Z"
   },
   {
    "duration": 32,
    "start_time": "2022-01-26T08:37:09.292Z"
   },
   {
    "duration": 39,
    "start_time": "2022-01-26T08:37:49.315Z"
   },
   {
    "duration": 30,
    "start_time": "2022-01-26T08:37:54.173Z"
   },
   {
    "duration": 12,
    "start_time": "2022-01-26T08:44:28.623Z"
   },
   {
    "duration": 12,
    "start_time": "2022-01-26T08:45:28.000Z"
   },
   {
    "duration": 23,
    "start_time": "2022-01-26T08:52:04.660Z"
   },
   {
    "duration": 4,
    "start_time": "2022-01-26T08:55:47.014Z"
   },
   {
    "duration": 5,
    "start_time": "2022-01-26T08:56:45.853Z"
   },
   {
    "duration": 73,
    "start_time": "2022-01-26T08:56:51.492Z"
   },
   {
    "duration": 266,
    "start_time": "2022-01-26T08:57:19.004Z"
   },
   {
    "duration": 13,
    "start_time": "2022-01-26T08:57:35.924Z"
   },
   {
    "duration": 3,
    "start_time": "2022-01-26T08:58:41.928Z"
   },
   {
    "duration": 10,
    "start_time": "2022-01-26T08:58:44.341Z"
   },
   {
    "duration": 12,
    "start_time": "2022-01-26T09:00:45.055Z"
   },
   {
    "duration": 11,
    "start_time": "2022-01-26T09:01:45.439Z"
   },
   {
    "duration": 4,
    "start_time": "2022-01-26T09:05:35.609Z"
   },
   {
    "duration": 12,
    "start_time": "2022-01-26T09:05:39.034Z"
   },
   {
    "duration": 29,
    "start_time": "2022-01-26T09:06:17.342Z"
   },
   {
    "duration": 27,
    "start_time": "2022-01-26T09:07:35.982Z"
   },
   {
    "duration": 26,
    "start_time": "2022-01-26T09:07:40.478Z"
   },
   {
    "duration": 38,
    "start_time": "2022-01-26T09:07:44.938Z"
   },
   {
    "duration": 12,
    "start_time": "2022-01-26T09:08:18.938Z"
   },
   {
    "duration": 3,
    "start_time": "2022-01-26T09:10:27.588Z"
   },
   {
    "duration": 497,
    "start_time": "2022-01-26T09:10:34.474Z"
   },
   {
    "duration": 4,
    "start_time": "2022-01-26T09:13:40.798Z"
   },
   {
    "duration": 493,
    "start_time": "2022-01-26T09:13:42.015Z"
   },
   {
    "duration": 4,
    "start_time": "2022-01-26T09:14:18.147Z"
   },
   {
    "duration": 519,
    "start_time": "2022-01-26T09:14:20.637Z"
   },
   {
    "duration": 4,
    "start_time": "2022-01-26T09:18:20.952Z"
   },
   {
    "duration": 12,
    "start_time": "2022-01-26T09:18:26.947Z"
   },
   {
    "duration": 11,
    "start_time": "2022-01-26T09:18:49.862Z"
   },
   {
    "duration": 3,
    "start_time": "2022-01-26T09:19:07.141Z"
   },
   {
    "duration": 5,
    "start_time": "2022-01-26T09:19:28.847Z"
   },
   {
    "duration": 12,
    "start_time": "2022-01-26T09:19:33.110Z"
   },
   {
    "duration": 4,
    "start_time": "2022-01-26T09:20:05.122Z"
   },
   {
    "duration": 14,
    "start_time": "2022-01-26T09:20:06.912Z"
   },
   {
    "duration": 3,
    "start_time": "2022-01-26T09:20:28.613Z"
   },
   {
    "duration": 150,
    "start_time": "2022-01-26T09:20:28.620Z"
   },
   {
    "duration": 11,
    "start_time": "2022-01-26T09:20:28.772Z"
   },
   {
    "duration": 32,
    "start_time": "2022-01-26T09:20:28.785Z"
   },
   {
    "duration": 17,
    "start_time": "2022-01-26T09:20:28.819Z"
   },
   {
    "duration": 23,
    "start_time": "2022-01-26T09:20:28.838Z"
   },
   {
    "duration": 4,
    "start_time": "2022-01-26T09:20:28.864Z"
   },
   {
    "duration": 43,
    "start_time": "2022-01-26T09:20:28.870Z"
   },
   {
    "duration": 27,
    "start_time": "2022-01-26T09:20:28.915Z"
   },
   {
    "duration": 41,
    "start_time": "2022-01-26T09:20:28.944Z"
   },
   {
    "duration": 71,
    "start_time": "2022-01-26T09:20:28.987Z"
   },
   {
    "duration": 81,
    "start_time": "2022-01-26T09:20:29.060Z"
   },
   {
    "duration": 69,
    "start_time": "2022-01-26T09:20:29.144Z"
   },
   {
    "duration": 51,
    "start_time": "2022-01-26T09:20:29.215Z"
   },
   {
    "duration": 4,
    "start_time": "2022-01-26T09:20:29.268Z"
   },
   {
    "duration": 40,
    "start_time": "2022-01-26T09:20:29.274Z"
   },
   {
    "duration": 44,
    "start_time": "2022-01-26T09:20:29.318Z"
   },
   {
    "duration": 43,
    "start_time": "2022-01-26T09:20:29.364Z"
   },
   {
    "duration": 11,
    "start_time": "2022-01-26T09:20:29.409Z"
   },
   {
    "duration": 24,
    "start_time": "2022-01-26T09:20:29.422Z"
   },
   {
    "duration": 30,
    "start_time": "2022-01-26T09:20:29.448Z"
   },
   {
    "duration": 6,
    "start_time": "2022-01-26T09:20:29.481Z"
   },
   {
    "duration": 11,
    "start_time": "2022-01-26T09:20:29.488Z"
   },
   {
    "duration": 2,
    "start_time": "2022-01-26T09:20:29.616Z"
   },
   {
    "duration": 8,
    "start_time": "2022-01-26T09:20:29.620Z"
   },
   {
    "duration": 7,
    "start_time": "2022-01-26T09:20:29.630Z"
   },
   {
    "duration": 6,
    "start_time": "2022-01-26T09:20:29.639Z"
   },
   {
    "duration": 16,
    "start_time": "2022-01-26T09:20:29.647Z"
   },
   {
    "duration": 11,
    "start_time": "2022-01-26T09:20:29.665Z"
   },
   {
    "duration": 3,
    "start_time": "2022-01-26T09:20:29.882Z"
   },
   {
    "duration": 11,
    "start_time": "2022-01-26T09:20:29.887Z"
   },
   {
    "duration": 6,
    "start_time": "2022-01-26T09:20:29.901Z"
   },
   {
    "duration": 8,
    "start_time": "2022-01-26T09:20:29.909Z"
   },
   {
    "duration": 6,
    "start_time": "2022-01-26T09:20:29.919Z"
   },
   {
    "duration": 7,
    "start_time": "2022-01-26T09:20:29.927Z"
   },
   {
    "duration": 8,
    "start_time": "2022-01-26T09:20:29.936Z"
   },
   {
    "duration": 7,
    "start_time": "2022-01-26T09:20:29.946Z"
   },
   {
    "duration": 3,
    "start_time": "2022-01-26T09:20:30.135Z"
   },
   {
    "duration": 3,
    "start_time": "2022-01-26T09:22:10.892Z"
   },
   {
    "duration": 3,
    "start_time": "2022-01-26T09:22:17.174Z"
   },
   {
    "duration": 171,
    "start_time": "2022-01-26T09:22:17.179Z"
   },
   {
    "duration": 12,
    "start_time": "2022-01-26T09:22:17.352Z"
   },
   {
    "duration": 29,
    "start_time": "2022-01-26T09:22:17.367Z"
   },
   {
    "duration": 6,
    "start_time": "2022-01-26T09:22:17.406Z"
   },
   {
    "duration": 21,
    "start_time": "2022-01-26T09:22:17.414Z"
   },
   {
    "duration": 4,
    "start_time": "2022-01-26T09:22:17.437Z"
   },
   {
    "duration": 30,
    "start_time": "2022-01-26T09:22:17.443Z"
   },
   {
    "duration": 47,
    "start_time": "2022-01-26T09:22:17.476Z"
   },
   {
    "duration": 26,
    "start_time": "2022-01-26T09:22:17.526Z"
   },
   {
    "duration": 80,
    "start_time": "2022-01-26T09:22:17.554Z"
   },
   {
    "duration": 77,
    "start_time": "2022-01-26T09:22:17.636Z"
   },
   {
    "duration": 55,
    "start_time": "2022-01-26T09:22:17.715Z"
   },
   {
    "duration": 52,
    "start_time": "2022-01-26T09:22:17.772Z"
   },
   {
    "duration": 3,
    "start_time": "2022-01-26T09:22:17.826Z"
   },
   {
    "duration": 19,
    "start_time": "2022-01-26T09:22:17.831Z"
   },
   {
    "duration": 63,
    "start_time": "2022-01-26T09:22:17.852Z"
   },
   {
    "duration": 25,
    "start_time": "2022-01-26T09:22:17.916Z"
   },
   {
    "duration": 12,
    "start_time": "2022-01-26T09:22:17.943Z"
   },
   {
    "duration": 4,
    "start_time": "2022-01-26T09:22:17.956Z"
   },
   {
    "duration": 4,
    "start_time": "2022-01-26T09:22:23.237Z"
   },
   {
    "duration": 14,
    "start_time": "2022-01-26T09:22:25.856Z"
   },
   {
    "duration": 19,
    "start_time": "2022-01-26T09:23:03.970Z"
   },
   {
    "duration": 17,
    "start_time": "2022-01-26T09:29:14.131Z"
   },
   {
    "duration": 16,
    "start_time": "2022-01-26T09:29:22.145Z"
   },
   {
    "duration": 17,
    "start_time": "2022-01-26T09:29:24.899Z"
   },
   {
    "duration": 15,
    "start_time": "2022-01-26T09:29:27.555Z"
   },
   {
    "duration": 18,
    "start_time": "2022-01-26T09:29:29.413Z"
   },
   {
    "duration": 17,
    "start_time": "2022-01-26T09:29:32.043Z"
   },
   {
    "duration": 232,
    "start_time": "2022-01-26T09:36:36.653Z"
   },
   {
    "duration": 17,
    "start_time": "2022-01-26T09:37:15.797Z"
   },
   {
    "duration": 279,
    "start_time": "2022-01-26T09:37:38.301Z"
   },
   {
    "duration": 10,
    "start_time": "2022-01-26T09:38:03.806Z"
   },
   {
    "duration": 12,
    "start_time": "2022-01-26T09:40:26.495Z"
   },
   {
    "duration": 24,
    "start_time": "2022-01-26T09:40:39.494Z"
   },
   {
    "duration": 10,
    "start_time": "2022-01-26T09:41:30.344Z"
   },
   {
    "duration": 22,
    "start_time": "2022-01-26T09:41:44.958Z"
   },
   {
    "duration": 12,
    "start_time": "2022-01-26T09:41:56.838Z"
   },
   {
    "duration": 5,
    "start_time": "2022-01-26T09:55:10.482Z"
   },
   {
    "duration": 21,
    "start_time": "2022-01-26T09:55:14.108Z"
   },
   {
    "duration": 22,
    "start_time": "2022-01-26T09:55:48.141Z"
   },
   {
    "duration": 15,
    "start_time": "2022-01-26T09:58:43.119Z"
   },
   {
    "duration": 20,
    "start_time": "2022-01-26T09:59:58.348Z"
   },
   {
    "duration": 14,
    "start_time": "2022-01-26T10:00:21.976Z"
   },
   {
    "duration": 3,
    "start_time": "2022-01-26T10:02:36.597Z"
   },
   {
    "duration": 175,
    "start_time": "2022-01-26T10:02:36.603Z"
   },
   {
    "duration": 11,
    "start_time": "2022-01-26T10:02:36.781Z"
   },
   {
    "duration": 56,
    "start_time": "2022-01-26T10:02:36.794Z"
   },
   {
    "duration": 6,
    "start_time": "2022-01-26T10:02:36.852Z"
   },
   {
    "duration": 48,
    "start_time": "2022-01-26T10:02:36.860Z"
   },
   {
    "duration": 6,
    "start_time": "2022-01-26T10:02:36.913Z"
   },
   {
    "duration": 39,
    "start_time": "2022-01-26T10:02:36.922Z"
   },
   {
    "duration": 19,
    "start_time": "2022-01-26T10:02:36.963Z"
   },
   {
    "duration": 53,
    "start_time": "2022-01-26T10:02:36.984Z"
   },
   {
    "duration": 86,
    "start_time": "2022-01-26T10:02:37.039Z"
   },
   {
    "duration": 157,
    "start_time": "2022-01-26T10:02:37.133Z"
   },
   {
    "duration": 138,
    "start_time": "2022-01-26T10:02:37.307Z"
   },
   {
    "duration": 77,
    "start_time": "2022-01-26T10:02:37.452Z"
   },
   {
    "duration": 4,
    "start_time": "2022-01-26T10:02:37.531Z"
   },
   {
    "duration": 20,
    "start_time": "2022-01-26T10:02:37.537Z"
   },
   {
    "duration": 61,
    "start_time": "2022-01-26T10:02:37.559Z"
   },
   {
    "duration": 34,
    "start_time": "2022-01-26T10:02:37.622Z"
   },
   {
    "duration": 12,
    "start_time": "2022-01-26T10:02:37.659Z"
   },
   {
    "duration": 5,
    "start_time": "2022-01-26T10:02:37.674Z"
   },
   {
    "duration": 26,
    "start_time": "2022-01-26T10:02:37.708Z"
   },
   {
    "duration": 19,
    "start_time": "2022-01-26T10:02:37.736Z"
   },
   {
    "duration": 24,
    "start_time": "2022-01-26T10:02:37.757Z"
   },
   {
    "duration": 38,
    "start_time": "2022-01-26T10:02:37.783Z"
   },
   {
    "duration": 18,
    "start_time": "2022-01-26T10:02:37.823Z"
   },
   {
    "duration": 16,
    "start_time": "2022-01-26T10:02:37.844Z"
   },
   {
    "duration": 45,
    "start_time": "2022-01-26T10:02:37.862Z"
   },
   {
    "duration": 13,
    "start_time": "2022-01-26T10:02:37.909Z"
   },
   {
    "duration": 17,
    "start_time": "2022-01-26T10:02:37.924Z"
   },
   {
    "duration": 5,
    "start_time": "2022-01-26T10:02:37.943Z"
   },
   {
    "duration": 26,
    "start_time": "2022-01-26T10:02:37.950Z"
   },
   {
    "duration": 42,
    "start_time": "2022-01-26T10:02:37.978Z"
   },
   {
    "duration": 31,
    "start_time": "2022-01-26T10:02:38.023Z"
   },
   {
    "duration": 22,
    "start_time": "2022-01-26T10:02:38.057Z"
   },
   {
    "duration": 350,
    "start_time": "2022-01-26T10:07:08.860Z"
   },
   {
    "duration": 294,
    "start_time": "2022-01-26T10:08:25.878Z"
   },
   {
    "duration": 4,
    "start_time": "2022-01-26T10:09:46.147Z"
   },
   {
    "duration": 7,
    "start_time": "2022-01-26T10:09:52.836Z"
   },
   {
    "duration": 31,
    "start_time": "2022-01-26T10:10:17.677Z"
   },
   {
    "duration": 12,
    "start_time": "2022-01-26T10:11:25.712Z"
   },
   {
    "duration": 14,
    "start_time": "2022-01-26T10:12:02.265Z"
   },
   {
    "duration": 11,
    "start_time": "2022-01-26T10:12:35.573Z"
   },
   {
    "duration": 5,
    "start_time": "2022-01-26T10:12:39.044Z"
   },
   {
    "duration": 265,
    "start_time": "2022-01-26T10:15:15.697Z"
   },
   {
    "duration": 91,
    "start_time": "2022-01-26T10:15:22.783Z"
   },
   {
    "duration": 9,
    "start_time": "2022-01-26T10:15:30.725Z"
   },
   {
    "duration": 5,
    "start_time": "2022-01-26T10:15:32.822Z"
   },
   {
    "duration": 12,
    "start_time": "2022-01-26T10:18:55.601Z"
   },
   {
    "duration": 12,
    "start_time": "2022-01-26T10:22:57.049Z"
   },
   {
    "duration": 13,
    "start_time": "2022-01-26T10:23:06.958Z"
   },
   {
    "duration": 305,
    "start_time": "2022-02-04T11:14:37.592Z"
   },
   {
    "duration": 731,
    "start_time": "2022-02-04T11:15:00.940Z"
   },
   {
    "duration": 168,
    "start_time": "2022-02-04T11:15:01.674Z"
   },
   {
    "duration": 21,
    "start_time": "2022-02-04T11:15:01.846Z"
   },
   {
    "duration": 46,
    "start_time": "2022-02-04T11:15:01.870Z"
   },
   {
    "duration": 27,
    "start_time": "2022-02-04T11:15:01.919Z"
   },
   {
    "duration": 46,
    "start_time": "2022-02-04T11:15:01.948Z"
   },
   {
    "duration": 35,
    "start_time": "2022-02-04T11:15:01.996Z"
   },
   {
    "duration": 76,
    "start_time": "2022-02-04T11:15:02.033Z"
   },
   {
    "duration": 36,
    "start_time": "2022-02-04T11:15:02.114Z"
   },
   {
    "duration": 30,
    "start_time": "2022-02-04T11:15:02.153Z"
   },
   {
    "duration": 93,
    "start_time": "2022-02-04T11:15:02.185Z"
   },
   {
    "duration": 102,
    "start_time": "2022-02-04T11:15:02.281Z"
   },
   {
    "duration": 79,
    "start_time": "2022-02-04T11:15:02.385Z"
   },
   {
    "duration": 47,
    "start_time": "2022-02-04T11:15:07.519Z"
   },
   {
    "duration": 472,
    "start_time": "2022-02-04T13:54:30.850Z"
   },
   {
    "duration": 784,
    "start_time": "2022-02-04T13:54:46.627Z"
   },
   {
    "duration": 187,
    "start_time": "2022-02-04T13:54:47.414Z"
   },
   {
    "duration": 25,
    "start_time": "2022-02-04T13:54:47.604Z"
   },
   {
    "duration": 48,
    "start_time": "2022-02-04T13:54:47.632Z"
   },
   {
    "duration": 6,
    "start_time": "2022-02-04T13:54:47.683Z"
   },
   {
    "duration": 29,
    "start_time": "2022-02-04T13:54:47.692Z"
   },
   {
    "duration": 36,
    "start_time": "2022-02-04T13:54:47.724Z"
   },
   {
    "duration": 31,
    "start_time": "2022-02-04T13:54:47.763Z"
   },
   {
    "duration": 21,
    "start_time": "2022-02-04T13:54:47.798Z"
   },
   {
    "duration": 58,
    "start_time": "2022-02-04T13:54:47.821Z"
   },
   {
    "duration": 99,
    "start_time": "2022-02-04T13:54:47.881Z"
   },
   {
    "duration": 114,
    "start_time": "2022-02-04T13:54:47.982Z"
   },
   {
    "duration": 82,
    "start_time": "2022-02-04T13:54:48.098Z"
   },
   {
    "duration": 78,
    "start_time": "2022-02-04T13:54:48.182Z"
   },
   {
    "duration": 4,
    "start_time": "2022-02-04T13:54:48.263Z"
   },
   {
    "duration": 27,
    "start_time": "2022-02-04T13:54:48.269Z"
   },
   {
    "duration": 68,
    "start_time": "2022-02-04T13:54:48.298Z"
   },
   {
    "duration": 33,
    "start_time": "2022-02-04T13:54:48.368Z"
   },
   {
    "duration": 14,
    "start_time": "2022-02-04T13:54:48.403Z"
   },
   {
    "duration": 38,
    "start_time": "2022-02-04T13:54:48.421Z"
   },
   {
    "duration": 24,
    "start_time": "2022-02-04T13:54:48.462Z"
   },
   {
    "duration": 16,
    "start_time": "2022-02-04T13:54:48.488Z"
   },
   {
    "duration": 52,
    "start_time": "2022-02-04T13:54:48.507Z"
   },
   {
    "duration": 18,
    "start_time": "2022-02-04T13:54:48.561Z"
   },
   {
    "duration": 18,
    "start_time": "2022-02-04T13:54:48.582Z"
   },
   {
    "duration": 16,
    "start_time": "2022-02-04T13:54:48.603Z"
   },
   {
    "duration": 44,
    "start_time": "2022-02-04T13:54:48.621Z"
   },
   {
    "duration": 14,
    "start_time": "2022-02-04T13:54:48.667Z"
   },
   {
    "duration": 10,
    "start_time": "2022-02-04T13:54:48.684Z"
   },
   {
    "duration": 5,
    "start_time": "2022-02-04T13:54:48.697Z"
   },
   {
    "duration": 63,
    "start_time": "2022-02-04T13:54:48.704Z"
   },
   {
    "duration": 19,
    "start_time": "2022-02-04T13:54:48.770Z"
   },
   {
    "duration": 25,
    "start_time": "2022-02-04T13:54:48.792Z"
   },
   {
    "duration": 47,
    "start_time": "2022-02-04T13:54:48.820Z"
   },
   {
    "duration": 11,
    "start_time": "2022-02-04T13:54:48.870Z"
   },
   {
    "duration": 7,
    "start_time": "2022-02-04T13:54:48.884Z"
   },
   {
    "duration": 8,
    "start_time": "2022-02-04T13:54:48.894Z"
   },
   {
    "duration": 6,
    "start_time": "2022-02-04T13:54:48.904Z"
   },
   {
    "duration": 15,
    "start_time": "2022-02-04T13:58:07.437Z"
   },
   {
    "duration": 14,
    "start_time": "2022-02-04T13:58:33.686Z"
   },
   {
    "duration": 4,
    "start_time": "2022-02-04T14:05:49.126Z"
   },
   {
    "duration": 3,
    "start_time": "2022-02-04T14:38:14.610Z"
   },
   {
    "duration": 177,
    "start_time": "2022-02-04T14:38:14.932Z"
   },
   {
    "duration": 15,
    "start_time": "2022-02-04T14:38:15.113Z"
   },
   {
    "duration": 43,
    "start_time": "2022-02-04T14:38:15.131Z"
   },
   {
    "duration": 6,
    "start_time": "2022-02-04T14:38:15.177Z"
   },
   {
    "duration": 21,
    "start_time": "2022-02-04T14:38:15.185Z"
   },
   {
    "duration": 5,
    "start_time": "2022-02-04T14:38:15.208Z"
   },
   {
    "duration": 66,
    "start_time": "2022-02-04T14:38:15.216Z"
   },
   {
    "duration": 21,
    "start_time": "2022-02-04T14:38:15.285Z"
   },
   {
    "duration": 52,
    "start_time": "2022-02-04T14:38:15.309Z"
   },
   {
    "duration": 78,
    "start_time": "2022-02-04T14:38:15.363Z"
   },
   {
    "duration": 83,
    "start_time": "2022-02-04T14:38:15.459Z"
   },
   {
    "duration": 85,
    "start_time": "2022-02-04T14:38:15.544Z"
   },
   {
    "duration": 72,
    "start_time": "2022-02-04T14:38:15.631Z"
   },
   {
    "duration": 4,
    "start_time": "2022-02-04T14:38:15.706Z"
   },
   {
    "duration": 27,
    "start_time": "2022-02-04T14:38:15.712Z"
   },
   {
    "duration": 56,
    "start_time": "2022-02-04T14:38:15.759Z"
   },
   {
    "duration": 14,
    "start_time": "2022-02-04T14:38:15.817Z"
   },
   {
    "duration": 39,
    "start_time": "2022-02-04T14:38:15.834Z"
   },
   {
    "duration": 5,
    "start_time": "2022-02-04T14:38:15.876Z"
   },
   {
    "duration": 23,
    "start_time": "2022-02-04T14:38:15.884Z"
   },
   {
    "duration": 54,
    "start_time": "2022-02-04T14:38:15.909Z"
   },
   {
    "duration": 20,
    "start_time": "2022-02-04T14:38:15.965Z"
   },
   {
    "duration": 18,
    "start_time": "2022-02-04T14:38:15.987Z"
   },
   {
    "duration": 25,
    "start_time": "2022-02-04T14:38:16.354Z"
   },
   {
    "duration": 20,
    "start_time": "2022-02-04T14:38:16.383Z"
   },
   {
    "duration": 11,
    "start_time": "2022-02-04T14:38:16.406Z"
   },
   {
    "duration": 53,
    "start_time": "2022-02-04T14:38:16.420Z"
   },
   {
    "duration": 21,
    "start_time": "2022-02-04T14:38:16.475Z"
   },
   {
    "duration": 6,
    "start_time": "2022-02-04T14:38:16.499Z"
   },
   {
    "duration": 62,
    "start_time": "2022-02-04T14:38:16.508Z"
   },
   {
    "duration": 17,
    "start_time": "2022-02-04T14:38:16.572Z"
   },
   {
    "duration": 22,
    "start_time": "2022-02-04T14:38:16.593Z"
   },
   {
    "duration": 48,
    "start_time": "2022-02-04T14:38:16.617Z"
   },
   {
    "duration": 12,
    "start_time": "2022-02-04T14:38:16.667Z"
   },
   {
    "duration": 6,
    "start_time": "2022-02-04T14:38:16.681Z"
   },
   {
    "duration": 14,
    "start_time": "2022-02-04T14:38:16.689Z"
   },
   {
    "duration": 8,
    "start_time": "2022-02-04T14:38:16.706Z"
   },
   {
    "duration": 4,
    "start_time": "2022-02-04T14:38:34.294Z"
   },
   {
    "duration": 169,
    "start_time": "2022-02-04T14:38:34.301Z"
   },
   {
    "duration": 15,
    "start_time": "2022-02-04T14:38:34.588Z"
   },
   {
    "duration": 31,
    "start_time": "2022-02-04T14:38:34.606Z"
   },
   {
    "duration": 5,
    "start_time": "2022-02-04T14:38:34.640Z"
   },
   {
    "duration": 28,
    "start_time": "2022-02-04T14:38:34.647Z"
   },
   {
    "duration": 5,
    "start_time": "2022-02-04T14:38:34.677Z"
   },
   {
    "duration": 30,
    "start_time": "2022-02-04T14:38:34.684Z"
   },
   {
    "duration": 52,
    "start_time": "2022-02-04T14:38:34.717Z"
   },
   {
    "duration": 28,
    "start_time": "2022-02-04T14:38:34.772Z"
   },
   {
    "duration": 92,
    "start_time": "2022-02-04T14:38:34.803Z"
   },
   {
    "duration": 98,
    "start_time": "2022-02-04T14:38:34.898Z"
   },
   {
    "duration": 82,
    "start_time": "2022-02-04T14:38:34.999Z"
   },
   {
    "duration": 57,
    "start_time": "2022-02-04T14:38:35.083Z"
   },
   {
    "duration": 18,
    "start_time": "2022-02-04T14:38:35.142Z"
   },
   {
    "duration": 27,
    "start_time": "2022-02-04T14:38:35.163Z"
   },
   {
    "duration": 75,
    "start_time": "2022-02-04T14:38:35.193Z"
   },
   {
    "duration": 13,
    "start_time": "2022-02-04T14:38:35.271Z"
   },
   {
    "duration": 12,
    "start_time": "2022-02-04T14:38:35.287Z"
   },
   {
    "duration": 5,
    "start_time": "2022-02-04T14:38:35.397Z"
   },
   {
    "duration": 23,
    "start_time": "2022-02-04T14:38:35.404Z"
   },
   {
    "duration": 18,
    "start_time": "2022-02-04T14:38:35.430Z"
   },
   {
    "duration": 19,
    "start_time": "2022-02-04T14:38:35.450Z"
   },
   {
    "duration": 18,
    "start_time": "2022-02-04T14:38:35.472Z"
   },
   {
    "duration": 21,
    "start_time": "2022-02-04T14:38:35.492Z"
   },
   {
    "duration": 25,
    "start_time": "2022-02-04T14:38:36.185Z"
   },
   {
    "duration": 15,
    "start_time": "2022-02-04T14:38:36.213Z"
   },
   {
    "duration": 25,
    "start_time": "2022-02-04T14:38:36.257Z"
   },
   {
    "duration": 15,
    "start_time": "2022-02-04T14:38:36.285Z"
   },
   {
    "duration": 5,
    "start_time": "2022-02-04T14:38:36.303Z"
   },
   {
    "duration": 36,
    "start_time": "2022-02-04T14:38:36.310Z"
   },
   {
    "duration": 18,
    "start_time": "2022-02-04T14:38:36.360Z"
   },
   {
    "duration": 27,
    "start_time": "2022-02-04T14:38:36.380Z"
   },
   {
    "duration": 16,
    "start_time": "2022-02-04T14:38:36.409Z"
   },
   {
    "duration": 12,
    "start_time": "2022-02-04T14:38:36.514Z"
   },
   {
    "duration": 6,
    "start_time": "2022-02-04T14:38:36.528Z"
   },
   {
    "duration": 9,
    "start_time": "2022-02-04T14:38:36.537Z"
   },
   {
    "duration": 6,
    "start_time": "2022-02-04T14:38:36.548Z"
   },
   {
    "duration": 5,
    "start_time": "2022-02-05T10:28:09.392Z"
   }
  ],
  "colab": {
   "collapsed_sections": [
    "E0vqbgi9ay0H",
    "VUC88oWjTJw2"
   ],
   "name": "yandex_music_project_2021.2.ipynb",
   "provenance": []
  },
  "kernelspec": {
   "display_name": "Python 3 (ipykernel)",
   "language": "python",
   "name": "python3"
  },
  "language_info": {
   "codemirror_mode": {
    "name": "ipython",
    "version": 3
   },
   "file_extension": ".py",
   "mimetype": "text/x-python",
   "name": "python",
   "nbconvert_exporter": "python",
   "pygments_lexer": "ipython3",
   "version": "3.9.7"
  },
  "toc": {
   "base_numbering": 1,
   "nav_menu": {},
   "number_sections": true,
   "sideBar": true,
   "skip_h1_title": true,
   "title_cell": "Table of Contents",
   "title_sidebar": "Contents",
   "toc_cell": false,
   "toc_position": {},
   "toc_section_display": true,
   "toc_window_display": true
  }
 },
 "nbformat": 4,
 "nbformat_minor": 1
}
