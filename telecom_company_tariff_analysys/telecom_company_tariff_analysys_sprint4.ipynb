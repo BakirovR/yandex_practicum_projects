{
 "cells": [
  {
   "cell_type": "markdown",
   "id": "706418bc",
   "metadata": {
    "toc": true
   },
   "source": [
    "<h1>Содержание<span class=\"tocSkip\"></span></h1>\n",
    "<div class=\"toc\"><ul class=\"toc-item\"><li><span><a href=\"#Изучение-данных-из-файла\" data-toc-modified-id=\"Изучение-данных-из-файла-1\"><span class=\"toc-item-num\">1&nbsp;&nbsp;</span>Изучение данных из файла</a></span><ul class=\"toc-item\"><li><span><a href=\"#Вывод\" data-toc-modified-id=\"Вывод-1.1\"><span class=\"toc-item-num\">1.1&nbsp;&nbsp;</span>Вывод</a></span></li></ul></li><li><span><a href=\"#Предобработка-данных\" data-toc-modified-id=\"Предобработка-данных-2\"><span class=\"toc-item-num\">2&nbsp;&nbsp;</span>Предобработка данных</a></span><ul class=\"toc-item\"><li><span><a href=\"#Изменение-типов-данных.\" data-toc-modified-id=\"Изменение-типов-данных.-2.1\"><span class=\"toc-item-num\">2.1&nbsp;&nbsp;</span>Изменение типов данных.</a></span></li><li><span><a href=\"#Удаление-столбцов.\" data-toc-modified-id=\"Удаление-столбцов.-2.2\"><span class=\"toc-item-num\">2.2&nbsp;&nbsp;</span>Удаление столбцов.</a></span></li><li><span><a href=\"#Округление-значений.\" data-toc-modified-id=\"Округление-значений.-2.3\"><span class=\"toc-item-num\">2.3&nbsp;&nbsp;</span>Округление значений.</a></span></li><li><span><a href=\"#Вывод\" data-toc-modified-id=\"Вывод-2.4\"><span class=\"toc-item-num\">2.4&nbsp;&nbsp;</span>Вывод</a></span></li></ul></li><li><span><a href=\"#Расчёты-и-добавление-результатов-в-таблицу\" data-toc-modified-id=\"Расчёты-и-добавление-результатов-в-таблицу-3\"><span class=\"toc-item-num\">3&nbsp;&nbsp;</span>Расчёты и добавление результатов в таблицу</a></span><ul class=\"toc-item\"><li><span><a href=\"#Добавление-столбца-с-месяцем.\" data-toc-modified-id=\"Добавление-столбца-с-месяцем.-3.1\"><span class=\"toc-item-num\">3.1&nbsp;&nbsp;</span>Добавление столбца с месяцем.</a></span></li><li><span><a href=\"#Количество-сделанных-звонков-и-израсходованных-минут-разговора-по-месяцам.\" data-toc-modified-id=\"Количество-сделанных-звонков-и-израсходованных-минут-разговора-по-месяцам.-3.2\"><span class=\"toc-item-num\">3.2&nbsp;&nbsp;</span>Количество сделанных звонков и израсходованных минут разговора по месяцам.</a></span></li><li><span><a href=\"#Количество-отправленных-сообщений-по-месяцам.\" data-toc-modified-id=\"Количество-отправленных-сообщений-по-месяцам.-3.3\"><span class=\"toc-item-num\">3.3&nbsp;&nbsp;</span>Количество отправленных сообщений по месяцам.</a></span></li><li><span><a href=\"#Объем-израсходованного-интернет-трафика-по-месяцам.\" data-toc-modified-id=\"Объем-израсходованного-интернет-трафика-по-месяцам.-3.4\"><span class=\"toc-item-num\">3.4&nbsp;&nbsp;</span>Объем израсходованного интернет-трафика по месяцам.</a></span></li><li><span><a href=\"#Помесячная-выручка-с-каждого-пользователя.\" data-toc-modified-id=\"Помесячная-выручка-с-каждого-пользователя.-3.5\"><span class=\"toc-item-num\">3.5&nbsp;&nbsp;</span>Помесячная выручка с каждого пользователя.</a></span></li><li><span><a href=\"#Вывод\" data-toc-modified-id=\"Вывод-3.6\"><span class=\"toc-item-num\">3.6&nbsp;&nbsp;</span>Вывод</a></span></li></ul></li><li><span><a href=\"#Исследовательский-анализ-данных\" data-toc-modified-id=\"Исследовательский-анализ-данных-4\"><span class=\"toc-item-num\">4&nbsp;&nbsp;</span>Исследовательский анализ данных</a></span><ul class=\"toc-item\"><li><span><a href=\"#Анализ-тарифа-&quot;Смарт&quot;\" data-toc-modified-id=\"Анализ-тарифа-&quot;Смарт&quot;-4.1\"><span class=\"toc-item-num\">4.1&nbsp;&nbsp;</span>Анализ тарифа \"Смарт\"</a></span></li><li><span><a href=\"#Анализ-тарифа-&quot;Ультра&quot;\" data-toc-modified-id=\"Анализ-тарифа-&quot;Ультра&quot;-4.2\"><span class=\"toc-item-num\">4.2&nbsp;&nbsp;</span>Анализ тарифа \"Ультра\"</a></span></li><li><span><a href=\"#Совместный-анализ-тарифов-по-месяцам.\" data-toc-modified-id=\"Совместный-анализ-тарифов-по-месяцам.-4.3\"><span class=\"toc-item-num\">4.3&nbsp;&nbsp;</span>Совместный анализ тарифов по месяцам.</a></span></li><li><span><a href=\"#Вывод\" data-toc-modified-id=\"Вывод-4.4\"><span class=\"toc-item-num\">4.4&nbsp;&nbsp;</span>Вывод</a></span></li></ul></li><li><span><a href=\"#Проверка-гипотез\" data-toc-modified-id=\"Проверка-гипотез-5\"><span class=\"toc-item-num\">5&nbsp;&nbsp;</span>Проверка гипотез</a></span><ul class=\"toc-item\"><li><span><a href=\"#Проверка-первой-гипотезы\" data-toc-modified-id=\"Проверка-первой-гипотезы-5.1\"><span class=\"toc-item-num\">5.1&nbsp;&nbsp;</span>Проверка первой гипотезы</a></span></li><li><span><a href=\"#Проверка-второй-гипотезы\" data-toc-modified-id=\"Проверка-второй-гипотезы-5.2\"><span class=\"toc-item-num\">5.2&nbsp;&nbsp;</span>Проверка второй гипотезы</a></span></li><li><span><a href=\"#Вывод\" data-toc-modified-id=\"Вывод-5.3\"><span class=\"toc-item-num\">5.3&nbsp;&nbsp;</span>Вывод</a></span></li></ul></li><li><span><a href=\"#Общий-вывод\" data-toc-modified-id=\"Общий-вывод-6\"><span class=\"toc-item-num\">6&nbsp;&nbsp;</span>Общий вывод</a></span></li></ul></div>"
   ]
  },
  {
   "cell_type": "markdown",
   "id": "139ff5d3",
   "metadata": {},
   "source": [
    "# Определение перспективного тарифа для телеком-компании\n"
   ]
  },
  {
   "cell_type": "markdown",
   "id": "da6b750a",
   "metadata": {},
   "source": [
    "\n",
    "**Описание проекта**\n",
    "\n",
    "Мы аналитики компании «Мегалайн» — федерального оператора сотовой связи. Клиентам предлагают два тарифных плана: «Смарт» и «Ультра». Чтобы скорректировать рекламный бюджет, коммерческий департамент хочет понять, какой тариф приносит больше денег.\n",
    "Нам предстоит сделать предварительный анализ тарифов на небольшой выборке клиентов. В нашем распоряжении данные 500 пользователей «Мегалайна»: кто они, откуда, каким тарифом пользуются, сколько звонков и сообщений каждый отправил за 2018 год. \n",
    "\n",
    "\n",
    "**Цель исследования** — проанализировать поведение клиентов и сделать вывод — какой тариф лучше.\n",
    "\n",
    "Предварительно необходимо осуществить предобработку данных, посчитать и добавить в таблицу:\n",
    "\n",
    "* количество сделанных звонков и израсходованных минут разговора по месяцам;\n",
    "* количество отправленных сообщений по месяцам;\n",
    "* объем израсходованного интернет-трафика по месяцам;\n",
    "* помесячную выручку с каждого пользователя (вычтим бесплатный лимит из суммарного количества звонков, сообщений и интернет-трафика; остаток умножим на значение из тарифного плана; прибавим абонентскую плату, соответствующую тарифному плану).\n",
    "\n",
    "\n",
    "Также мы должны проверить следующие гипотезы:\n",
    "\n",
    "* средняя выручка пользователей тарифов «Ультра» и «Смарт» различаются;\n",
    "* средняя выручка пользователей из Москвы отличается от выручки пользователей из других регионов.\n",
    "\n",
    "**Ход исследования**\n",
    "\n",
    "Данные о  клиентах мы  получим из файлов, используя следующий путь для скачки датасетов: \n",
    "* /datasets/calls.csv\n",
    "* /datasets/internet.csv\n",
    "* /datasets/messages.csv\n",
    "* /datasets/tariffs.csv. \n",
    "* /datasets/users.csv. \n",
    "\n",
    "\n",
    "О качестве данных ничего неизвестно. Поэтому перед проведением исследования понадобится обзор данных. \n",
    "\n",
    "Мы проверим данные на ошибки и приведем их к нужным типам. Затем, на этапе предобработки мы поищем возможность исправить самые критичные ошибки данных.\n",
    "\n",
    "Таким образом, исследование пройдёт в пять этапов:\n",
    " 1. Изучение данных;\n",
    " 2. Предобработка данных;\n",
    " 3. Расчёт и добавление данных;\n",
    " 4. Анализ данных;\n",
    " 5. Проверка гипотез."
   ]
  },
  {
   "cell_type": "markdown",
   "id": "5b24dce9",
   "metadata": {},
   "source": [
    "## Изучение данных из файла"
   ]
  },
  {
   "cell_type": "markdown",
   "id": "896f3c1e",
   "metadata": {},
   "source": [
    "Составим первое представление о данных \"Мегалайна\""
   ]
  },
  {
   "cell_type": "markdown",
   "id": "7301684c",
   "metadata": {},
   "source": [
    "Импортируем  библиотеки `pandas`, `numpy`, `matplotlib`,`seaborn`,`scipy`."
   ]
  },
  {
   "cell_type": "code",
   "execution_count": 1,
   "id": "0291412f",
   "metadata": {},
   "outputs": [],
   "source": [
    "# импорт библиотек\n",
    "import matplotlib.pyplot as plt\n",
    "import pandas as pd\n",
    "import numpy as np\n",
    "import seaborn as sns\n",
    "from scipy import stats as st\n",
    "%matplotlib inline\n",
    "%config InlineBackend.figure_format = 'retina'\n"
   ]
  },
  {
   "cell_type": "code",
   "execution_count": 2,
   "id": "bf60e45c",
   "metadata": {},
   "outputs": [],
   "source": [
    "# отключение предупреждений\n",
    "import warnings\n",
    "warnings.filterwarnings('ignore')"
   ]
  },
  {
   "cell_type": "markdown",
   "id": "b6e78589",
   "metadata": {},
   "source": [
    "Прочитаем файлы и сохраним их в переменной `df` + `имя файла`:"
   ]
  },
  {
   "cell_type": "code",
   "execution_count": 3,
   "id": "f2c8bbe0",
   "metadata": {},
   "outputs": [],
   "source": [
    "# чтение файла с данными и сохранение в df+имя файла\n",
    "try:\n",
    "    df_users = pd.read_csv('/datasets/users.csv')\n",
    "    df_tariffs = pd.read_csv('/datasets/tariffs.csv')\n",
    "    df_messages = pd.read_csv('/datasets/messages.csv')\n",
    "    df_internet = pd.read_csv('/datasets/internet.csv')\n",
    "    df_calls = pd.read_csv('/datasets/calls.csv')\n",
    "except:\n",
    "    df_users = pd.read_csv('D:\\\\Аналитик данных\\\\Яндекс-практикум\\\\Sprint4\\\\users.csv')\n",
    "    df_tariffs = pd.read_csv('D:\\\\Аналитик данных\\\\Яндекс-практикум\\\\Sprint4\\\\tariffs.csv')\n",
    "    df_messages = pd.read_csv('D:\\\\Аналитик данных\\\\Яндекс-практикум\\\\Sprint4\\\\messages.csv')\n",
    "    df_internet = pd.read_csv('D:\\\\Аналитик данных\\\\Яндекс-практикум\\\\Sprint4\\\\internet.csv')\n",
    "    df_calls = pd.read_csv('D:\\\\Аналитик данных\\\\Яндекс-практикум\\\\Sprint4\\\\calls.csv')"
   ]
  },
  {
   "cell_type": "markdown",
   "id": "73a6b6f6",
   "metadata": {},
   "source": [
    "\n",
    " Последовательно выведим на экран первые пять строк таблиц, получим общую информацию с помощью метода info() и describe(), проверим таблицы на пустые значения и дубликаты. \n",
    "    \n",
    "Для этого создадим функцию research_df и последовательно применим её ко всем таблицам, считанным ранее, используя цикл. \n"
   ]
  },
  {
   "cell_type": "code",
   "execution_count": 4,
   "id": "6a9982bf",
   "metadata": {},
   "outputs": [],
   "source": [
    "# создание функции для получения информации от таблицах\n",
    "\n",
    "def research_df(data):\n",
    "    \n",
    "    print(f'Вывод первых пяти строк таблицы:')\n",
    "    display(data.head()) \n",
    "    print('Общая информацию о таблице с помощью метода info():',end='\\n\\n')\n",
    "    print(data.info())      \n",
    "    print('Анализ таблицы с помощью метода describe():',data.describe(), sep='\\n\\n',end='\\n\\n')\n",
    "    print('Подсчёт NaN значений таблицы:', data.isna().sum(), sep='\\n\\n',end='\\n\\n')\n",
    "    print('Подсчёт дубликатов таблицы:', data.duplicated().sum(), sep='\\n\\n',end='\\n\\n')\n",
    "    \n",
    "    "
   ]
  },
  {
   "cell_type": "markdown",
   "id": "adf0b96e",
   "metadata": {},
   "source": [
    "\n",
    "Создадим список таблиц и применим к ниму функцию research_df.\n"
   ]
  },
  {
   "cell_type": "code",
   "execution_count": 5,
   "id": "9d9539b2",
   "metadata": {
    "scrolled": true
   },
   "outputs": [
    {
     "name": "stdout",
     "output_type": "stream",
     "text": [
      "Вывод первых пяти строк таблицы:\n"
     ]
    },
    {
     "data": {
      "text/html": [
       "<div>\n",
       "<style scoped>\n",
       "    .dataframe tbody tr th:only-of-type {\n",
       "        vertical-align: middle;\n",
       "    }\n",
       "\n",
       "    .dataframe tbody tr th {\n",
       "        vertical-align: top;\n",
       "    }\n",
       "\n",
       "    .dataframe thead th {\n",
       "        text-align: right;\n",
       "    }\n",
       "</style>\n",
       "<table border=\"1\" class=\"dataframe\">\n",
       "  <thead>\n",
       "    <tr style=\"text-align: right;\">\n",
       "      <th></th>\n",
       "      <th>user_id</th>\n",
       "      <th>age</th>\n",
       "      <th>churn_date</th>\n",
       "      <th>city</th>\n",
       "      <th>first_name</th>\n",
       "      <th>last_name</th>\n",
       "      <th>reg_date</th>\n",
       "      <th>tariff</th>\n",
       "    </tr>\n",
       "  </thead>\n",
       "  <tbody>\n",
       "    <tr>\n",
       "      <th>0</th>\n",
       "      <td>1000</td>\n",
       "      <td>52</td>\n",
       "      <td>NaN</td>\n",
       "      <td>Краснодар</td>\n",
       "      <td>Рафаил</td>\n",
       "      <td>Верещагин</td>\n",
       "      <td>2018-05-25</td>\n",
       "      <td>ultra</td>\n",
       "    </tr>\n",
       "    <tr>\n",
       "      <th>1</th>\n",
       "      <td>1001</td>\n",
       "      <td>41</td>\n",
       "      <td>NaN</td>\n",
       "      <td>Москва</td>\n",
       "      <td>Иван</td>\n",
       "      <td>Ежов</td>\n",
       "      <td>2018-11-01</td>\n",
       "      <td>smart</td>\n",
       "    </tr>\n",
       "    <tr>\n",
       "      <th>2</th>\n",
       "      <td>1002</td>\n",
       "      <td>59</td>\n",
       "      <td>NaN</td>\n",
       "      <td>Стерлитамак</td>\n",
       "      <td>Евгений</td>\n",
       "      <td>Абрамович</td>\n",
       "      <td>2018-06-17</td>\n",
       "      <td>smart</td>\n",
       "    </tr>\n",
       "    <tr>\n",
       "      <th>3</th>\n",
       "      <td>1003</td>\n",
       "      <td>23</td>\n",
       "      <td>NaN</td>\n",
       "      <td>Москва</td>\n",
       "      <td>Белла</td>\n",
       "      <td>Белякова</td>\n",
       "      <td>2018-08-17</td>\n",
       "      <td>ultra</td>\n",
       "    </tr>\n",
       "    <tr>\n",
       "      <th>4</th>\n",
       "      <td>1004</td>\n",
       "      <td>68</td>\n",
       "      <td>NaN</td>\n",
       "      <td>Новокузнецк</td>\n",
       "      <td>Татьяна</td>\n",
       "      <td>Авдеенко</td>\n",
       "      <td>2018-05-14</td>\n",
       "      <td>ultra</td>\n",
       "    </tr>\n",
       "  </tbody>\n",
       "</table>\n",
       "</div>"
      ],
      "text/plain": [
       "   user_id  age churn_date         city first_name  last_name    reg_date  \\\n",
       "0     1000   52        NaN    Краснодар     Рафаил  Верещагин  2018-05-25   \n",
       "1     1001   41        NaN       Москва       Иван       Ежов  2018-11-01   \n",
       "2     1002   59        NaN  Стерлитамак    Евгений  Абрамович  2018-06-17   \n",
       "3     1003   23        NaN       Москва      Белла   Белякова  2018-08-17   \n",
       "4     1004   68        NaN  Новокузнецк    Татьяна   Авдеенко  2018-05-14   \n",
       "\n",
       "  tariff  \n",
       "0  ultra  \n",
       "1  smart  \n",
       "2  smart  \n",
       "3  ultra  \n",
       "4  ultra  "
      ]
     },
     "metadata": {},
     "output_type": "display_data"
    },
    {
     "name": "stdout",
     "output_type": "stream",
     "text": [
      "Общая информацию о таблице с помощью метода info():\n",
      "\n",
      "<class 'pandas.core.frame.DataFrame'>\n",
      "RangeIndex: 500 entries, 0 to 499\n",
      "Data columns (total 8 columns):\n",
      " #   Column      Non-Null Count  Dtype \n",
      "---  ------      --------------  ----- \n",
      " 0   user_id     500 non-null    int64 \n",
      " 1   age         500 non-null    int64 \n",
      " 2   churn_date  38 non-null     object\n",
      " 3   city        500 non-null    object\n",
      " 4   first_name  500 non-null    object\n",
      " 5   last_name   500 non-null    object\n",
      " 6   reg_date    500 non-null    object\n",
      " 7   tariff      500 non-null    object\n",
      "dtypes: int64(2), object(6)\n",
      "memory usage: 31.4+ KB\n",
      "None\n",
      "Анализ таблицы с помощью метода describe():\n",
      "\n",
      "           user_id        age\n",
      "count   500.000000  500.00000\n",
      "mean   1249.500000   46.58800\n",
      "std     144.481833   16.66763\n",
      "min    1000.000000   18.00000\n",
      "25%    1124.750000   32.00000\n",
      "50%    1249.500000   46.00000\n",
      "75%    1374.250000   62.00000\n",
      "max    1499.000000   75.00000\n",
      "\n",
      "Подсчёт NaN значений таблицы:\n",
      "\n",
      "user_id         0\n",
      "age             0\n",
      "churn_date    462\n",
      "city            0\n",
      "first_name      0\n",
      "last_name       0\n",
      "reg_date        0\n",
      "tariff          0\n",
      "dtype: int64\n",
      "\n",
      "Подсчёт дубликатов таблицы:\n",
      "\n",
      "0\n",
      "\n",
      "Вывод первых пяти строк таблицы:\n"
     ]
    },
    {
     "data": {
      "text/html": [
       "<div>\n",
       "<style scoped>\n",
       "    .dataframe tbody tr th:only-of-type {\n",
       "        vertical-align: middle;\n",
       "    }\n",
       "\n",
       "    .dataframe tbody tr th {\n",
       "        vertical-align: top;\n",
       "    }\n",
       "\n",
       "    .dataframe thead th {\n",
       "        text-align: right;\n",
       "    }\n",
       "</style>\n",
       "<table border=\"1\" class=\"dataframe\">\n",
       "  <thead>\n",
       "    <tr style=\"text-align: right;\">\n",
       "      <th></th>\n",
       "      <th>messages_included</th>\n",
       "      <th>mb_per_month_included</th>\n",
       "      <th>minutes_included</th>\n",
       "      <th>rub_monthly_fee</th>\n",
       "      <th>rub_per_gb</th>\n",
       "      <th>rub_per_message</th>\n",
       "      <th>rub_per_minute</th>\n",
       "      <th>tariff_name</th>\n",
       "    </tr>\n",
       "  </thead>\n",
       "  <tbody>\n",
       "    <tr>\n",
       "      <th>0</th>\n",
       "      <td>50</td>\n",
       "      <td>15360</td>\n",
       "      <td>500</td>\n",
       "      <td>550</td>\n",
       "      <td>200</td>\n",
       "      <td>3</td>\n",
       "      <td>3</td>\n",
       "      <td>smart</td>\n",
       "    </tr>\n",
       "    <tr>\n",
       "      <th>1</th>\n",
       "      <td>1000</td>\n",
       "      <td>30720</td>\n",
       "      <td>3000</td>\n",
       "      <td>1950</td>\n",
       "      <td>150</td>\n",
       "      <td>1</td>\n",
       "      <td>1</td>\n",
       "      <td>ultra</td>\n",
       "    </tr>\n",
       "  </tbody>\n",
       "</table>\n",
       "</div>"
      ],
      "text/plain": [
       "   messages_included  mb_per_month_included  minutes_included  \\\n",
       "0                 50                  15360               500   \n",
       "1               1000                  30720              3000   \n",
       "\n",
       "   rub_monthly_fee  rub_per_gb  rub_per_message  rub_per_minute tariff_name  \n",
       "0              550         200                3               3       smart  \n",
       "1             1950         150                1               1       ultra  "
      ]
     },
     "metadata": {},
     "output_type": "display_data"
    },
    {
     "name": "stdout",
     "output_type": "stream",
     "text": [
      "Общая информацию о таблице с помощью метода info():\n",
      "\n",
      "<class 'pandas.core.frame.DataFrame'>\n",
      "RangeIndex: 2 entries, 0 to 1\n",
      "Data columns (total 8 columns):\n",
      " #   Column                 Non-Null Count  Dtype \n",
      "---  ------                 --------------  ----- \n",
      " 0   messages_included      2 non-null      int64 \n",
      " 1   mb_per_month_included  2 non-null      int64 \n",
      " 2   minutes_included       2 non-null      int64 \n",
      " 3   rub_monthly_fee        2 non-null      int64 \n",
      " 4   rub_per_gb             2 non-null      int64 \n",
      " 5   rub_per_message        2 non-null      int64 \n",
      " 6   rub_per_minute         2 non-null      int64 \n",
      " 7   tariff_name            2 non-null      object\n",
      "dtypes: int64(7), object(1)\n",
      "memory usage: 256.0+ bytes\n",
      "None\n",
      "Анализ таблицы с помощью метода describe():\n",
      "\n",
      "       messages_included  mb_per_month_included  minutes_included  \\\n",
      "count           2.000000               2.000000          2.000000   \n",
      "mean          525.000000           23040.000000       1750.000000   \n",
      "std           671.751442           10861.160159       1767.766953   \n",
      "min            50.000000           15360.000000        500.000000   \n",
      "25%           287.500000           19200.000000       1125.000000   \n",
      "50%           525.000000           23040.000000       1750.000000   \n",
      "75%           762.500000           26880.000000       2375.000000   \n",
      "max          1000.000000           30720.000000       3000.000000   \n",
      "\n",
      "       rub_monthly_fee  rub_per_gb  rub_per_message  rub_per_minute  \n",
      "count         2.000000    2.000000         2.000000        2.000000  \n",
      "mean       1250.000000  175.000000         2.000000        2.000000  \n",
      "std         989.949494   35.355339         1.414214        1.414214  \n",
      "min         550.000000  150.000000         1.000000        1.000000  \n",
      "25%         900.000000  162.500000         1.500000        1.500000  \n",
      "50%        1250.000000  175.000000         2.000000        2.000000  \n",
      "75%        1600.000000  187.500000         2.500000        2.500000  \n",
      "max        1950.000000  200.000000         3.000000        3.000000  \n",
      "\n",
      "Подсчёт NaN значений таблицы:\n",
      "\n",
      "messages_included        0\n",
      "mb_per_month_included    0\n",
      "minutes_included         0\n",
      "rub_monthly_fee          0\n",
      "rub_per_gb               0\n",
      "rub_per_message          0\n",
      "rub_per_minute           0\n",
      "tariff_name              0\n",
      "dtype: int64\n",
      "\n",
      "Подсчёт дубликатов таблицы:\n",
      "\n",
      "0\n",
      "\n",
      "Вывод первых пяти строк таблицы:\n"
     ]
    },
    {
     "data": {
      "text/html": [
       "<div>\n",
       "<style scoped>\n",
       "    .dataframe tbody tr th:only-of-type {\n",
       "        vertical-align: middle;\n",
       "    }\n",
       "\n",
       "    .dataframe tbody tr th {\n",
       "        vertical-align: top;\n",
       "    }\n",
       "\n",
       "    .dataframe thead th {\n",
       "        text-align: right;\n",
       "    }\n",
       "</style>\n",
       "<table border=\"1\" class=\"dataframe\">\n",
       "  <thead>\n",
       "    <tr style=\"text-align: right;\">\n",
       "      <th></th>\n",
       "      <th>id</th>\n",
       "      <th>message_date</th>\n",
       "      <th>user_id</th>\n",
       "    </tr>\n",
       "  </thead>\n",
       "  <tbody>\n",
       "    <tr>\n",
       "      <th>0</th>\n",
       "      <td>1000_0</td>\n",
       "      <td>2018-06-27</td>\n",
       "      <td>1000</td>\n",
       "    </tr>\n",
       "    <tr>\n",
       "      <th>1</th>\n",
       "      <td>1000_1</td>\n",
       "      <td>2018-10-08</td>\n",
       "      <td>1000</td>\n",
       "    </tr>\n",
       "    <tr>\n",
       "      <th>2</th>\n",
       "      <td>1000_2</td>\n",
       "      <td>2018-08-04</td>\n",
       "      <td>1000</td>\n",
       "    </tr>\n",
       "    <tr>\n",
       "      <th>3</th>\n",
       "      <td>1000_3</td>\n",
       "      <td>2018-06-16</td>\n",
       "      <td>1000</td>\n",
       "    </tr>\n",
       "    <tr>\n",
       "      <th>4</th>\n",
       "      <td>1000_4</td>\n",
       "      <td>2018-12-05</td>\n",
       "      <td>1000</td>\n",
       "    </tr>\n",
       "  </tbody>\n",
       "</table>\n",
       "</div>"
      ],
      "text/plain": [
       "       id message_date  user_id\n",
       "0  1000_0   2018-06-27     1000\n",
       "1  1000_1   2018-10-08     1000\n",
       "2  1000_2   2018-08-04     1000\n",
       "3  1000_3   2018-06-16     1000\n",
       "4  1000_4   2018-12-05     1000"
      ]
     },
     "metadata": {},
     "output_type": "display_data"
    },
    {
     "name": "stdout",
     "output_type": "stream",
     "text": [
      "Общая информацию о таблице с помощью метода info():\n",
      "\n",
      "<class 'pandas.core.frame.DataFrame'>\n",
      "RangeIndex: 123036 entries, 0 to 123035\n",
      "Data columns (total 3 columns):\n",
      " #   Column        Non-Null Count   Dtype \n",
      "---  ------        --------------   ----- \n",
      " 0   id            123036 non-null  object\n",
      " 1   message_date  123036 non-null  object\n",
      " 2   user_id       123036 non-null  int64 \n",
      "dtypes: int64(1), object(2)\n",
      "memory usage: 2.8+ MB\n",
      "None\n",
      "Анализ таблицы с помощью метода describe():\n",
      "\n",
      "             user_id\n",
      "count  123036.000000\n",
      "mean     1256.989410\n",
      "std       143.523967\n",
      "min      1000.000000\n",
      "25%      1134.000000\n",
      "50%      1271.000000\n",
      "75%      1381.000000\n",
      "max      1499.000000\n",
      "\n",
      "Подсчёт NaN значений таблицы:\n",
      "\n",
      "id              0\n",
      "message_date    0\n",
      "user_id         0\n",
      "dtype: int64\n",
      "\n",
      "Подсчёт дубликатов таблицы:\n",
      "\n",
      "0\n",
      "\n",
      "Вывод первых пяти строк таблицы:\n"
     ]
    },
    {
     "data": {
      "text/html": [
       "<div>\n",
       "<style scoped>\n",
       "    .dataframe tbody tr th:only-of-type {\n",
       "        vertical-align: middle;\n",
       "    }\n",
       "\n",
       "    .dataframe tbody tr th {\n",
       "        vertical-align: top;\n",
       "    }\n",
       "\n",
       "    .dataframe thead th {\n",
       "        text-align: right;\n",
       "    }\n",
       "</style>\n",
       "<table border=\"1\" class=\"dataframe\">\n",
       "  <thead>\n",
       "    <tr style=\"text-align: right;\">\n",
       "      <th></th>\n",
       "      <th>Unnamed: 0</th>\n",
       "      <th>id</th>\n",
       "      <th>mb_used</th>\n",
       "      <th>session_date</th>\n",
       "      <th>user_id</th>\n",
       "    </tr>\n",
       "  </thead>\n",
       "  <tbody>\n",
       "    <tr>\n",
       "      <th>0</th>\n",
       "      <td>0</td>\n",
       "      <td>1000_0</td>\n",
       "      <td>112.95</td>\n",
       "      <td>2018-11-25</td>\n",
       "      <td>1000</td>\n",
       "    </tr>\n",
       "    <tr>\n",
       "      <th>1</th>\n",
       "      <td>1</td>\n",
       "      <td>1000_1</td>\n",
       "      <td>1052.81</td>\n",
       "      <td>2018-09-07</td>\n",
       "      <td>1000</td>\n",
       "    </tr>\n",
       "    <tr>\n",
       "      <th>2</th>\n",
       "      <td>2</td>\n",
       "      <td>1000_2</td>\n",
       "      <td>1197.26</td>\n",
       "      <td>2018-06-25</td>\n",
       "      <td>1000</td>\n",
       "    </tr>\n",
       "    <tr>\n",
       "      <th>3</th>\n",
       "      <td>3</td>\n",
       "      <td>1000_3</td>\n",
       "      <td>550.27</td>\n",
       "      <td>2018-08-22</td>\n",
       "      <td>1000</td>\n",
       "    </tr>\n",
       "    <tr>\n",
       "      <th>4</th>\n",
       "      <td>4</td>\n",
       "      <td>1000_4</td>\n",
       "      <td>302.56</td>\n",
       "      <td>2018-09-24</td>\n",
       "      <td>1000</td>\n",
       "    </tr>\n",
       "  </tbody>\n",
       "</table>\n",
       "</div>"
      ],
      "text/plain": [
       "   Unnamed: 0      id  mb_used session_date  user_id\n",
       "0           0  1000_0   112.95   2018-11-25     1000\n",
       "1           1  1000_1  1052.81   2018-09-07     1000\n",
       "2           2  1000_2  1197.26   2018-06-25     1000\n",
       "3           3  1000_3   550.27   2018-08-22     1000\n",
       "4           4  1000_4   302.56   2018-09-24     1000"
      ]
     },
     "metadata": {},
     "output_type": "display_data"
    },
    {
     "name": "stdout",
     "output_type": "stream",
     "text": [
      "Общая информацию о таблице с помощью метода info():\n",
      "\n",
      "<class 'pandas.core.frame.DataFrame'>\n",
      "RangeIndex: 149396 entries, 0 to 149395\n",
      "Data columns (total 5 columns):\n",
      " #   Column        Non-Null Count   Dtype  \n",
      "---  ------        --------------   -----  \n",
      " 0   Unnamed: 0    149396 non-null  int64  \n",
      " 1   id            149396 non-null  object \n",
      " 2   mb_used       149396 non-null  float64\n",
      " 3   session_date  149396 non-null  object \n",
      " 4   user_id       149396 non-null  int64  \n",
      "dtypes: float64(1), int64(2), object(2)\n",
      "memory usage: 5.7+ MB\n",
      "None\n",
      "Анализ таблицы с помощью метода describe():\n",
      "\n",
      "          Unnamed: 0        mb_used        user_id\n",
      "count  149396.000000  149396.000000  149396.000000\n",
      "mean    74697.500000     370.192426    1252.099842\n",
      "std     43127.054745     278.300951     144.050823\n",
      "min         0.000000       0.000000    1000.000000\n",
      "25%     37348.750000     138.187500    1130.000000\n",
      "50%     74697.500000     348.015000    1251.000000\n",
      "75%    112046.250000     559.552500    1380.000000\n",
      "max    149395.000000    1724.830000    1499.000000\n",
      "\n",
      "Подсчёт NaN значений таблицы:\n",
      "\n",
      "Unnamed: 0      0\n",
      "id              0\n",
      "mb_used         0\n",
      "session_date    0\n",
      "user_id         0\n",
      "dtype: int64\n",
      "\n",
      "Подсчёт дубликатов таблицы:\n",
      "\n",
      "0\n",
      "\n",
      "Вывод первых пяти строк таблицы:\n"
     ]
    },
    {
     "data": {
      "text/html": [
       "<div>\n",
       "<style scoped>\n",
       "    .dataframe tbody tr th:only-of-type {\n",
       "        vertical-align: middle;\n",
       "    }\n",
       "\n",
       "    .dataframe tbody tr th {\n",
       "        vertical-align: top;\n",
       "    }\n",
       "\n",
       "    .dataframe thead th {\n",
       "        text-align: right;\n",
       "    }\n",
       "</style>\n",
       "<table border=\"1\" class=\"dataframe\">\n",
       "  <thead>\n",
       "    <tr style=\"text-align: right;\">\n",
       "      <th></th>\n",
       "      <th>id</th>\n",
       "      <th>call_date</th>\n",
       "      <th>duration</th>\n",
       "      <th>user_id</th>\n",
       "    </tr>\n",
       "  </thead>\n",
       "  <tbody>\n",
       "    <tr>\n",
       "      <th>0</th>\n",
       "      <td>1000_0</td>\n",
       "      <td>2018-07-25</td>\n",
       "      <td>0.00</td>\n",
       "      <td>1000</td>\n",
       "    </tr>\n",
       "    <tr>\n",
       "      <th>1</th>\n",
       "      <td>1000_1</td>\n",
       "      <td>2018-08-17</td>\n",
       "      <td>0.00</td>\n",
       "      <td>1000</td>\n",
       "    </tr>\n",
       "    <tr>\n",
       "      <th>2</th>\n",
       "      <td>1000_2</td>\n",
       "      <td>2018-06-11</td>\n",
       "      <td>2.85</td>\n",
       "      <td>1000</td>\n",
       "    </tr>\n",
       "    <tr>\n",
       "      <th>3</th>\n",
       "      <td>1000_3</td>\n",
       "      <td>2018-09-21</td>\n",
       "      <td>13.80</td>\n",
       "      <td>1000</td>\n",
       "    </tr>\n",
       "    <tr>\n",
       "      <th>4</th>\n",
       "      <td>1000_4</td>\n",
       "      <td>2018-12-15</td>\n",
       "      <td>5.18</td>\n",
       "      <td>1000</td>\n",
       "    </tr>\n",
       "  </tbody>\n",
       "</table>\n",
       "</div>"
      ],
      "text/plain": [
       "       id   call_date  duration  user_id\n",
       "0  1000_0  2018-07-25      0.00     1000\n",
       "1  1000_1  2018-08-17      0.00     1000\n",
       "2  1000_2  2018-06-11      2.85     1000\n",
       "3  1000_3  2018-09-21     13.80     1000\n",
       "4  1000_4  2018-12-15      5.18     1000"
      ]
     },
     "metadata": {},
     "output_type": "display_data"
    },
    {
     "name": "stdout",
     "output_type": "stream",
     "text": [
      "Общая информацию о таблице с помощью метода info():\n",
      "\n",
      "<class 'pandas.core.frame.DataFrame'>\n",
      "RangeIndex: 202607 entries, 0 to 202606\n",
      "Data columns (total 4 columns):\n",
      " #   Column     Non-Null Count   Dtype  \n",
      "---  ------     --------------   -----  \n",
      " 0   id         202607 non-null  object \n",
      " 1   call_date  202607 non-null  object \n",
      " 2   duration   202607 non-null  float64\n",
      " 3   user_id    202607 non-null  int64  \n",
      "dtypes: float64(1), int64(1), object(2)\n",
      "memory usage: 6.2+ MB\n",
      "None\n",
      "Анализ таблицы с помощью метода describe():\n",
      "\n",
      "            duration        user_id\n",
      "count  202607.000000  202607.000000\n",
      "mean        6.755887    1253.940619\n",
      "std         5.843365     144.722751\n",
      "min         0.000000    1000.000000\n",
      "25%         1.300000    1126.000000\n",
      "50%         6.000000    1260.000000\n",
      "75%        10.700000    1379.000000\n",
      "max        38.000000    1499.000000\n",
      "\n",
      "Подсчёт NaN значений таблицы:\n",
      "\n",
      "id           0\n",
      "call_date    0\n",
      "duration     0\n",
      "user_id      0\n",
      "dtype: int64\n",
      "\n",
      "Подсчёт дубликатов таблицы:\n",
      "\n",
      "0\n",
      "\n"
     ]
    }
   ],
   "source": [
    "# было бы хорошо указать название таблицы при выводе, но я не знаю как это сделать...попробывал несколько различных путей, но не работает...\n",
    "list_df = [df_users, df_tariffs, df_messages, df_internet, df_calls]\n",
    "for df in list_df:\n",
    "    research_df(df)"
   ]
  },
  {
   "cell_type": "markdown",
   "id": "f59a716a",
   "metadata": {},
   "source": [
    "\n",
    "Проверим, что у нас имеется информация о 500 уникальных пользователях. Для этого посчитаем количество уникальных значений в столбце  `user_id` методом nunique()\n"
   ]
  },
  {
   "cell_type": "code",
   "execution_count": 6,
   "id": "9a797ead",
   "metadata": {},
   "outputs": [
    {
     "data": {
      "text/plain": [
       "500"
      ]
     },
     "execution_count": 6,
     "metadata": {},
     "output_type": "execute_result"
    }
   ],
   "source": [
    "df_users['user_id'].nunique()"
   ]
  },
  {
   "cell_type": "markdown",
   "id": "a084ab2b",
   "metadata": {},
   "source": [
    "\n",
    "Информация подтвердилась.\n"
   ]
  },
  {
   "cell_type": "markdown",
   "id": "9cf38392",
   "metadata": {},
   "source": [
    "Согласно документации к данным:\n",
    "\n",
    "\n",
    "Таблица users (информация о пользователях):\n",
    "\n",
    "\n",
    "- user_id — уникальный идентификатор пользователя\n",
    "- first_name — имя пользователя\n",
    "- last_name — фамилия пользователя\n",
    "- age — возраст пользователя (годы)\n",
    "- reg_date — дата подключения тарифа (день, месяц, год)\n",
    "- churn_date — дата прекращения пользования тарифом (если значение пропущено, то тариф ещё действовал на момент выгрузки данных)\n",
    "- city — город проживания пользователя\n",
    "- tarif — название тарифного плана\n",
    "\n",
    "\n",
    "Таблица calls (информация о звонках):\n",
    "\n",
    "\n",
    "- id — уникальный номер звонка\n",
    "- call_date — дата звонка\n",
    "- duration — длительность звонка в минутах\n",
    "- user_id — идентификатор пользователя, сделавшего звонок\n",
    "\n",
    "\n",
    "Таблица messages (информация о сообщениях):\n",
    "\n",
    "\n",
    "- id — уникальный номер сообщения\n",
    "- message_date — дата сообщения\n",
    "- user_id — идентификатор пользователя, отправившего сообщение\n",
    "\n",
    "\n",
    "Таблица internet (информация об интернет-сессиях):\n",
    "\n",
    "\n",
    "- id — уникальный номер сессии\n",
    "- mb_used — объём потраченного за сессию интернет-трафика (в мегабайтах)\n",
    "- session_date — дата интернет-сессии\n",
    "- user_id — идентификатор пользователя\n",
    "\n",
    "\n",
    "Таблица tariffs (информация о тарифах):\n",
    "\n",
    "\n",
    "- tariff_name — название тарифа\n",
    "- rub_monthly_fee — ежемесячная абонентская плата в рублях\n",
    "- minutes_included — количество минут разговора в месяц, включённых в абонентскую плату\n",
    "- messages_included — количество сообщений в месяц, включённых в абонентскую плату\n",
    "- mb_per_month_included — объём интернет-трафика, включённого в абонентскую плату (в мегабайтах)\n",
    "- rub_per_minute — стоимость минуты разговора сверх тарифного пакета (например, если в тарифе 100 минут разговора в месяц, то со 101 минуты будет взиматься плата)\n",
    "- rub_per_message — стоимость отправки сообщения сверх тарифного пакета\n",
    "- rub_per_gb — стоимость дополнительного гигабайта интернет-трафика сверх тарифного пакета (1 гигабайт = 1024 мегабайта)\n",
    "\n",
    "\n",
    "\n",
    "В названии колонок не видно нарушение стиля.  \n",
    "\n",
    "Количество значений в столбцах таблицы df_users различается. Значит, в данных есть пропущенные значения. Согласно документации: если значение в колонке `churn_date` пропущено, то тариф ещё действовал на момент выгрузки данных. \n",
    "\n",
    "\n",
    "\n",
    "В данных мы нашли звонки с нулевой продолжительностью. Это не ошибка: нулями обозначены пропущенные звонки, поэтому их не нужно удалять.\n",
    "\n",
    "\n",
    "Вещественный тип данных в столбцах `churn_date`,`reg_date `,`call_date `, `message_date`,`session_date` заменим на значения формата datetime.\n",
    "\n",
    "Отметим, что в  таблице df_internet существует столбец `Unnamed: 0`, значения в котором полностью соответствуют индексам. Осуществим его удаление.\n",
    "\n",
    "«Мегалайн» всегда округляет секунды до минут, а мегабайты — до гигабайт. Каждый звонок округляется отдельно: даже если он длился всего 1 секунду, будет засчитан как 1 минута.\n",
    "Округлим значения в столбце `duration` до целых минут в большую сторону.\n",
    "\n"
   ]
  },
  {
   "cell_type": "markdown",
   "id": "31944328",
   "metadata": {},
   "source": [
    "### Вывод"
   ]
  },
  {
   "cell_type": "markdown",
   "id": "1a4cca0c",
   "metadata": {},
   "source": [
    "В нашем распоряжении данные 500 пользователей «Мегалайна»: кто они, откуда, каким тарифом пользуются, сколько звонков и сообщений каждый отправил за 2018 год. \n",
    "\n",
    "Предварительно можно утверждать, что, данных достаточно для проведения исследования. Но встречаются ненужные столбцы, часть колонок необходимо преобразовать в другой тип, а также округлить значения.\n",
    "\n",
    "Чтобы двигаться дальше, нужно устранить проблемы в данных."
   ]
  },
  {
   "cell_type": "markdown",
   "id": "fc359188",
   "metadata": {},
   "source": [
    "## Предобработка данных"
   ]
  },
  {
   "cell_type": "markdown",
   "id": "dd5422f1",
   "metadata": {},
   "source": [
    "Приведём данные к нужным типам. Затем удалим столбец `Unnamed: 0` и округлим значения в столбце `duration` до минут."
   ]
  },
  {
   "cell_type": "markdown",
   "id": "f08b3f6d",
   "metadata": {},
   "source": [
    "### Изменение типов данных."
   ]
  },
  {
   "cell_type": "markdown",
   "id": "41ad8f43",
   "metadata": {},
   "source": [
    "Вещественный тип данных в столбцах `churn_date`,`reg_date `,`call_date `, `message_date`,`session_date` заменим на значения формата datetime.\n"
   ]
  },
  {
   "cell_type": "code",
   "execution_count": 7,
   "id": "a6c3be71",
   "metadata": {},
   "outputs": [],
   "source": [
    "df_users['churn_date'] = pd.to_datetime(df_users['churn_date'])\n",
    "df_users['reg_date'] = pd.to_datetime(df_users['reg_date'])\n",
    "df_calls['call_date'] = pd.to_datetime(df_calls['call_date'])\n",
    "df_messages['message_date'] = pd.to_datetime(df_messages['message_date'])\n",
    "df_internet['session_date'] = pd.to_datetime(df_internet['session_date'])"
   ]
  },
  {
   "cell_type": "markdown",
   "id": "023fbbdb",
   "metadata": {},
   "source": [
    "Осуществим проверку."
   ]
  },
  {
   "cell_type": "code",
   "execution_count": 8,
   "id": "2fefe248",
   "metadata": {},
   "outputs": [
    {
     "name": "stdout",
     "output_type": "stream",
     "text": [
      "<class 'pandas.core.frame.DataFrame'>\n",
      "RangeIndex: 500 entries, 0 to 499\n",
      "Data columns (total 8 columns):\n",
      " #   Column      Non-Null Count  Dtype         \n",
      "---  ------      --------------  -----         \n",
      " 0   user_id     500 non-null    int64         \n",
      " 1   age         500 non-null    int64         \n",
      " 2   churn_date  38 non-null     datetime64[ns]\n",
      " 3   city        500 non-null    object        \n",
      " 4   first_name  500 non-null    object        \n",
      " 5   last_name   500 non-null    object        \n",
      " 6   reg_date    500 non-null    datetime64[ns]\n",
      " 7   tariff      500 non-null    object        \n",
      "dtypes: datetime64[ns](2), int64(2), object(4)\n",
      "memory usage: 31.4+ KB\n"
     ]
    }
   ],
   "source": [
    "df_users.info()"
   ]
  },
  {
   "cell_type": "code",
   "execution_count": 9,
   "id": "7789375c",
   "metadata": {},
   "outputs": [
    {
     "name": "stdout",
     "output_type": "stream",
     "text": [
      "<class 'pandas.core.frame.DataFrame'>\n",
      "RangeIndex: 202607 entries, 0 to 202606\n",
      "Data columns (total 4 columns):\n",
      " #   Column     Non-Null Count   Dtype         \n",
      "---  ------     --------------   -----         \n",
      " 0   id         202607 non-null  object        \n",
      " 1   call_date  202607 non-null  datetime64[ns]\n",
      " 2   duration   202607 non-null  float64       \n",
      " 3   user_id    202607 non-null  int64         \n",
      "dtypes: datetime64[ns](1), float64(1), int64(1), object(1)\n",
      "memory usage: 6.2+ MB\n"
     ]
    }
   ],
   "source": [
    "df_calls.info()"
   ]
  },
  {
   "cell_type": "code",
   "execution_count": 10,
   "id": "e5b9dd68",
   "metadata": {},
   "outputs": [
    {
     "name": "stdout",
     "output_type": "stream",
     "text": [
      "<class 'pandas.core.frame.DataFrame'>\n",
      "RangeIndex: 123036 entries, 0 to 123035\n",
      "Data columns (total 3 columns):\n",
      " #   Column        Non-Null Count   Dtype         \n",
      "---  ------        --------------   -----         \n",
      " 0   id            123036 non-null  object        \n",
      " 1   message_date  123036 non-null  datetime64[ns]\n",
      " 2   user_id       123036 non-null  int64         \n",
      "dtypes: datetime64[ns](1), int64(1), object(1)\n",
      "memory usage: 2.8+ MB\n"
     ]
    }
   ],
   "source": [
    "df_messages.info()"
   ]
  },
  {
   "cell_type": "code",
   "execution_count": 11,
   "id": "3ed00624",
   "metadata": {
    "scrolled": true
   },
   "outputs": [
    {
     "name": "stdout",
     "output_type": "stream",
     "text": [
      "<class 'pandas.core.frame.DataFrame'>\n",
      "RangeIndex: 149396 entries, 0 to 149395\n",
      "Data columns (total 5 columns):\n",
      " #   Column        Non-Null Count   Dtype         \n",
      "---  ------        --------------   -----         \n",
      " 0   Unnamed: 0    149396 non-null  int64         \n",
      " 1   id            149396 non-null  object        \n",
      " 2   mb_used       149396 non-null  float64       \n",
      " 3   session_date  149396 non-null  datetime64[ns]\n",
      " 4   user_id       149396 non-null  int64         \n",
      "dtypes: datetime64[ns](1), float64(1), int64(2), object(1)\n",
      "memory usage: 5.7+ MB\n"
     ]
    }
   ],
   "source": [
    "df_internet.info()"
   ]
  },
  {
   "cell_type": "markdown",
   "id": "017a26a2",
   "metadata": {},
   "source": [
    "Тип данных заменен, двигаемся дальше."
   ]
  },
  {
   "cell_type": "markdown",
   "id": "db234aca",
   "metadata": {},
   "source": [
    "### Удаление столбцов."
   ]
  },
  {
   "cell_type": "markdown",
   "id": "4adc0798",
   "metadata": {},
   "source": [
    "Удалим столбец `Unnamed: 0`"
   ]
  },
  {
   "cell_type": "code",
   "execution_count": 12,
   "id": "14acd65a",
   "metadata": {},
   "outputs": [],
   "source": [
    "df_internet.drop(columns=['Unnamed: 0'],inplace=True)\n"
   ]
  },
  {
   "cell_type": "markdown",
   "id": "16b22914",
   "metadata": {},
   "source": [
    "Осуществим проверку."
   ]
  },
  {
   "cell_type": "code",
   "execution_count": 13,
   "id": "b68aaee5",
   "metadata": {},
   "outputs": [
    {
     "data": {
      "text/plain": [
       "Index(['id', 'mb_used', 'session_date', 'user_id'], dtype='object')"
      ]
     },
     "execution_count": 13,
     "metadata": {},
     "output_type": "execute_result"
    }
   ],
   "source": [
    "df_internet.columns"
   ]
  },
  {
   "cell_type": "markdown",
   "id": "c9aa953b",
   "metadata": {},
   "source": [
    "Итак, бесполезный столбец удален."
   ]
  },
  {
   "cell_type": "markdown",
   "id": "fdc27f1c",
   "metadata": {},
   "source": [
    "### Округление значений.\n"
   ]
  },
  {
   "cell_type": "markdown",
   "id": "58664aa7",
   "metadata": {},
   "source": [
    "Округлим значения в столбце `duration` до целых минут в большую сторону, т.к. даже одна секунда округляется до минуты."
   ]
  },
  {
   "cell_type": "code",
   "execution_count": 14,
   "id": "c7f6f992",
   "metadata": {},
   "outputs": [
    {
     "data": {
      "text/plain": [
       "0     0.00\n",
       "1     0.00\n",
       "2     2.85\n",
       "3    13.80\n",
       "4     5.18\n",
       "Name: duration, dtype: float64"
      ]
     },
     "execution_count": 14,
     "metadata": {},
     "output_type": "execute_result"
    }
   ],
   "source": [
    "# первоначальные значения\n",
    "df_calls['duration'].head() "
   ]
  },
  {
   "cell_type": "code",
   "execution_count": 15,
   "id": "dcc0e331",
   "metadata": {
    "scrolled": true
   },
   "outputs": [],
   "source": [
    "# округленные значения\n",
    "df_calls['duration'] = np.ceil(df_calls['duration'])"
   ]
  },
  {
   "cell_type": "code",
   "execution_count": 16,
   "id": "3e59a9a0",
   "metadata": {},
   "outputs": [],
   "source": [
    "# заменим значения с float() на int()\n",
    "df_calls['duration'] = df_calls['duration'].astype(int)\n"
   ]
  },
  {
   "cell_type": "code",
   "execution_count": 17,
   "id": "59f92588",
   "metadata": {},
   "outputs": [
    {
     "data": {
      "text/plain": [
       "0     0\n",
       "1     0\n",
       "2     3\n",
       "3    14\n",
       "4     6\n",
       "Name: duration, dtype: int32"
      ]
     },
     "execution_count": 17,
     "metadata": {},
     "output_type": "execute_result"
    }
   ],
   "source": [
    "df_calls['duration'].head()"
   ]
  },
  {
   "cell_type": "markdown",
   "id": "9e8a6c15",
   "metadata": {},
   "source": [
    "Значения округлены."
   ]
  },
  {
   "cell_type": "markdown",
   "id": "2ba208be",
   "metadata": {},
   "source": [
    "### Вывод"
   ]
  },
  {
   "cell_type": "markdown",
   "id": "20faea92",
   "metadata": {},
   "source": [
    "Предобработка обнаружила три проблемы в данных:\n",
    "\n",
    "- несоответствия в типе данных;\n",
    "- лишний столбец;\n",
    "- неокругленные значения.\n",
    "\n",
    "Дабы подготовить таблицу к дальнейшим операциям с датами  привели их к привычному формату.\n",
    "\n",
    "Удалили столбец `Unnamed: 0`, чтобы не загромождать данные.\n",
    "\n",
    "Округлили значения в столбце `duration`, чтобы избавиться от секунд.\n",
    "\n",
    "\n",
    "\n",
    "Теперь можно перейти к расчетам и добавлению результатов в таблицы. "
   ]
  },
  {
   "cell_type": "markdown",
   "id": "703e8041",
   "metadata": {},
   "source": [
    "## Расчёты и добавление результатов в таблицу"
   ]
  },
  {
   "cell_type": "markdown",
   "id": "3fecd957",
   "metadata": {},
   "source": [
    "### Добавление столбца с месяцем."
   ]
  },
  {
   "cell_type": "markdown",
   "id": "4eac66ed",
   "metadata": {},
   "source": [
    "Добавим в таблицы `df_calls, df_internet, df_messages` столбец месяца, опираясь на даты в столбцах `call_date `, `message_date`,`session_date`."
   ]
  },
  {
   "cell_type": "code",
   "execution_count": 18,
   "id": "9e290c51",
   "metadata": {},
   "outputs": [],
   "source": [
    "# Добавление месяца\n",
    "df_calls['month'] = pd.DatetimeIndex(df_calls['call_date']).month\n",
    "df_internet['month'] = pd.DatetimeIndex(df_internet['session_date']).month\n",
    "df_messages['month'] = pd.DatetimeIndex(df_messages['message_date']).month\n"
   ]
  },
  {
   "cell_type": "markdown",
   "id": "096e3bee",
   "metadata": {},
   "source": [
    "Оценим результат."
   ]
  },
  {
   "cell_type": "code",
   "execution_count": 19,
   "id": "5a115e6d",
   "metadata": {
    "scrolled": true
   },
   "outputs": [
    {
     "data": {
      "text/html": [
       "<div>\n",
       "<style scoped>\n",
       "    .dataframe tbody tr th:only-of-type {\n",
       "        vertical-align: middle;\n",
       "    }\n",
       "\n",
       "    .dataframe tbody tr th {\n",
       "        vertical-align: top;\n",
       "    }\n",
       "\n",
       "    .dataframe thead th {\n",
       "        text-align: right;\n",
       "    }\n",
       "</style>\n",
       "<table border=\"1\" class=\"dataframe\">\n",
       "  <thead>\n",
       "    <tr style=\"text-align: right;\">\n",
       "      <th></th>\n",
       "      <th>id</th>\n",
       "      <th>call_date</th>\n",
       "      <th>duration</th>\n",
       "      <th>user_id</th>\n",
       "      <th>month</th>\n",
       "    </tr>\n",
       "  </thead>\n",
       "  <tbody>\n",
       "    <tr>\n",
       "      <th>0</th>\n",
       "      <td>1000_0</td>\n",
       "      <td>2018-07-25</td>\n",
       "      <td>0</td>\n",
       "      <td>1000</td>\n",
       "      <td>7</td>\n",
       "    </tr>\n",
       "    <tr>\n",
       "      <th>1</th>\n",
       "      <td>1000_1</td>\n",
       "      <td>2018-08-17</td>\n",
       "      <td>0</td>\n",
       "      <td>1000</td>\n",
       "      <td>8</td>\n",
       "    </tr>\n",
       "    <tr>\n",
       "      <th>2</th>\n",
       "      <td>1000_2</td>\n",
       "      <td>2018-06-11</td>\n",
       "      <td>3</td>\n",
       "      <td>1000</td>\n",
       "      <td>6</td>\n",
       "    </tr>\n",
       "    <tr>\n",
       "      <th>3</th>\n",
       "      <td>1000_3</td>\n",
       "      <td>2018-09-21</td>\n",
       "      <td>14</td>\n",
       "      <td>1000</td>\n",
       "      <td>9</td>\n",
       "    </tr>\n",
       "    <tr>\n",
       "      <th>4</th>\n",
       "      <td>1000_4</td>\n",
       "      <td>2018-12-15</td>\n",
       "      <td>6</td>\n",
       "      <td>1000</td>\n",
       "      <td>12</td>\n",
       "    </tr>\n",
       "  </tbody>\n",
       "</table>\n",
       "</div>"
      ],
      "text/plain": [
       "       id  call_date  duration  user_id  month\n",
       "0  1000_0 2018-07-25         0     1000      7\n",
       "1  1000_1 2018-08-17         0     1000      8\n",
       "2  1000_2 2018-06-11         3     1000      6\n",
       "3  1000_3 2018-09-21        14     1000      9\n",
       "4  1000_4 2018-12-15         6     1000     12"
      ]
     },
     "execution_count": 19,
     "metadata": {},
     "output_type": "execute_result"
    }
   ],
   "source": [
    "df_calls.head()"
   ]
  },
  {
   "cell_type": "code",
   "execution_count": 20,
   "id": "d6175ac1",
   "metadata": {
    "scrolled": false
   },
   "outputs": [
    {
     "data": {
      "text/html": [
       "<div>\n",
       "<style scoped>\n",
       "    .dataframe tbody tr th:only-of-type {\n",
       "        vertical-align: middle;\n",
       "    }\n",
       "\n",
       "    .dataframe tbody tr th {\n",
       "        vertical-align: top;\n",
       "    }\n",
       "\n",
       "    .dataframe thead th {\n",
       "        text-align: right;\n",
       "    }\n",
       "</style>\n",
       "<table border=\"1\" class=\"dataframe\">\n",
       "  <thead>\n",
       "    <tr style=\"text-align: right;\">\n",
       "      <th></th>\n",
       "      <th>id</th>\n",
       "      <th>mb_used</th>\n",
       "      <th>session_date</th>\n",
       "      <th>user_id</th>\n",
       "      <th>month</th>\n",
       "    </tr>\n",
       "  </thead>\n",
       "  <tbody>\n",
       "    <tr>\n",
       "      <th>0</th>\n",
       "      <td>1000_0</td>\n",
       "      <td>112.95</td>\n",
       "      <td>2018-11-25</td>\n",
       "      <td>1000</td>\n",
       "      <td>11</td>\n",
       "    </tr>\n",
       "    <tr>\n",
       "      <th>1</th>\n",
       "      <td>1000_1</td>\n",
       "      <td>1052.81</td>\n",
       "      <td>2018-09-07</td>\n",
       "      <td>1000</td>\n",
       "      <td>9</td>\n",
       "    </tr>\n",
       "    <tr>\n",
       "      <th>2</th>\n",
       "      <td>1000_2</td>\n",
       "      <td>1197.26</td>\n",
       "      <td>2018-06-25</td>\n",
       "      <td>1000</td>\n",
       "      <td>6</td>\n",
       "    </tr>\n",
       "    <tr>\n",
       "      <th>3</th>\n",
       "      <td>1000_3</td>\n",
       "      <td>550.27</td>\n",
       "      <td>2018-08-22</td>\n",
       "      <td>1000</td>\n",
       "      <td>8</td>\n",
       "    </tr>\n",
       "    <tr>\n",
       "      <th>4</th>\n",
       "      <td>1000_4</td>\n",
       "      <td>302.56</td>\n",
       "      <td>2018-09-24</td>\n",
       "      <td>1000</td>\n",
       "      <td>9</td>\n",
       "    </tr>\n",
       "  </tbody>\n",
       "</table>\n",
       "</div>"
      ],
      "text/plain": [
       "       id  mb_used session_date  user_id  month\n",
       "0  1000_0   112.95   2018-11-25     1000     11\n",
       "1  1000_1  1052.81   2018-09-07     1000      9\n",
       "2  1000_2  1197.26   2018-06-25     1000      6\n",
       "3  1000_3   550.27   2018-08-22     1000      8\n",
       "4  1000_4   302.56   2018-09-24     1000      9"
      ]
     },
     "execution_count": 20,
     "metadata": {},
     "output_type": "execute_result"
    }
   ],
   "source": [
    "df_internet.head()"
   ]
  },
  {
   "cell_type": "code",
   "execution_count": 21,
   "id": "71debae2",
   "metadata": {
    "scrolled": false
   },
   "outputs": [
    {
     "data": {
      "text/html": [
       "<div>\n",
       "<style scoped>\n",
       "    .dataframe tbody tr th:only-of-type {\n",
       "        vertical-align: middle;\n",
       "    }\n",
       "\n",
       "    .dataframe tbody tr th {\n",
       "        vertical-align: top;\n",
       "    }\n",
       "\n",
       "    .dataframe thead th {\n",
       "        text-align: right;\n",
       "    }\n",
       "</style>\n",
       "<table border=\"1\" class=\"dataframe\">\n",
       "  <thead>\n",
       "    <tr style=\"text-align: right;\">\n",
       "      <th></th>\n",
       "      <th>id</th>\n",
       "      <th>message_date</th>\n",
       "      <th>user_id</th>\n",
       "      <th>month</th>\n",
       "    </tr>\n",
       "  </thead>\n",
       "  <tbody>\n",
       "    <tr>\n",
       "      <th>0</th>\n",
       "      <td>1000_0</td>\n",
       "      <td>2018-06-27</td>\n",
       "      <td>1000</td>\n",
       "      <td>6</td>\n",
       "    </tr>\n",
       "    <tr>\n",
       "      <th>1</th>\n",
       "      <td>1000_1</td>\n",
       "      <td>2018-10-08</td>\n",
       "      <td>1000</td>\n",
       "      <td>10</td>\n",
       "    </tr>\n",
       "    <tr>\n",
       "      <th>2</th>\n",
       "      <td>1000_2</td>\n",
       "      <td>2018-08-04</td>\n",
       "      <td>1000</td>\n",
       "      <td>8</td>\n",
       "    </tr>\n",
       "    <tr>\n",
       "      <th>3</th>\n",
       "      <td>1000_3</td>\n",
       "      <td>2018-06-16</td>\n",
       "      <td>1000</td>\n",
       "      <td>6</td>\n",
       "    </tr>\n",
       "    <tr>\n",
       "      <th>4</th>\n",
       "      <td>1000_4</td>\n",
       "      <td>2018-12-05</td>\n",
       "      <td>1000</td>\n",
       "      <td>12</td>\n",
       "    </tr>\n",
       "  </tbody>\n",
       "</table>\n",
       "</div>"
      ],
      "text/plain": [
       "       id message_date  user_id  month\n",
       "0  1000_0   2018-06-27     1000      6\n",
       "1  1000_1   2018-10-08     1000     10\n",
       "2  1000_2   2018-08-04     1000      8\n",
       "3  1000_3   2018-06-16     1000      6\n",
       "4  1000_4   2018-12-05     1000     12"
      ]
     },
     "execution_count": 21,
     "metadata": {},
     "output_type": "execute_result"
    }
   ],
   "source": [
    "df_messages.head()"
   ]
  },
  {
   "cell_type": "markdown",
   "id": "4d115471",
   "metadata": {},
   "source": [
    "Во всех таблицах появился столбец с месяцем."
   ]
  },
  {
   "cell_type": "markdown",
   "id": "d5f99a6b",
   "metadata": {},
   "source": [
    "### Количество сделанных звонков и израсходованных минут разговора по месяцам."
   ]
  },
  {
   "cell_type": "markdown",
   "id": "8d8e8592",
   "metadata": {},
   "source": [
    "Посчитаем количество сделанных звонков и израсходованных минут разговора по месяцам. Для этого осуществим группировку по столбцам `'user_id','month'` и применим функции sum() и count()."
   ]
  },
  {
   "cell_type": "code",
   "execution_count": 22,
   "id": "badcba06",
   "metadata": {},
   "outputs": [
    {
     "data": {
      "text/html": [
       "<div>\n",
       "<style scoped>\n",
       "    .dataframe tbody tr th:only-of-type {\n",
       "        vertical-align: middle;\n",
       "    }\n",
       "\n",
       "    .dataframe tbody tr th {\n",
       "        vertical-align: top;\n",
       "    }\n",
       "\n",
       "    .dataframe thead th {\n",
       "        text-align: right;\n",
       "    }\n",
       "</style>\n",
       "<table border=\"1\" class=\"dataframe\">\n",
       "  <thead>\n",
       "    <tr style=\"text-align: right;\">\n",
       "      <th></th>\n",
       "      <th></th>\n",
       "      <th>number_of_calls</th>\n",
       "      <th>minutes_spent</th>\n",
       "    </tr>\n",
       "    <tr>\n",
       "      <th>user_id</th>\n",
       "      <th>month</th>\n",
       "      <th></th>\n",
       "      <th></th>\n",
       "    </tr>\n",
       "  </thead>\n",
       "  <tbody>\n",
       "    <tr>\n",
       "      <th rowspan=\"8\" valign=\"top\">1000</th>\n",
       "      <th>5</th>\n",
       "      <td>22</td>\n",
       "      <td>159</td>\n",
       "    </tr>\n",
       "    <tr>\n",
       "      <th>6</th>\n",
       "      <td>43</td>\n",
       "      <td>172</td>\n",
       "    </tr>\n",
       "    <tr>\n",
       "      <th>7</th>\n",
       "      <td>47</td>\n",
       "      <td>340</td>\n",
       "    </tr>\n",
       "    <tr>\n",
       "      <th>8</th>\n",
       "      <td>52</td>\n",
       "      <td>408</td>\n",
       "    </tr>\n",
       "    <tr>\n",
       "      <th>9</th>\n",
       "      <td>58</td>\n",
       "      <td>466</td>\n",
       "    </tr>\n",
       "    <tr>\n",
       "      <th>10</th>\n",
       "      <td>57</td>\n",
       "      <td>350</td>\n",
       "    </tr>\n",
       "    <tr>\n",
       "      <th>11</th>\n",
       "      <td>43</td>\n",
       "      <td>338</td>\n",
       "    </tr>\n",
       "    <tr>\n",
       "      <th>12</th>\n",
       "      <td>46</td>\n",
       "      <td>333</td>\n",
       "    </tr>\n",
       "    <tr>\n",
       "      <th rowspan=\"2\" valign=\"top\">1001</th>\n",
       "      <th>11</th>\n",
       "      <td>59</td>\n",
       "      <td>430</td>\n",
       "    </tr>\n",
       "    <tr>\n",
       "      <th>12</th>\n",
       "      <td>63</td>\n",
       "      <td>414</td>\n",
       "    </tr>\n",
       "  </tbody>\n",
       "</table>\n",
       "</div>"
      ],
      "text/plain": [
       "               number_of_calls  minutes_spent\n",
       "user_id month                                \n",
       "1000    5                   22            159\n",
       "        6                   43            172\n",
       "        7                   47            340\n",
       "        8                   52            408\n",
       "        9                   58            466\n",
       "        10                  57            350\n",
       "        11                  43            338\n",
       "        12                  46            333\n",
       "1001    11                  59            430\n",
       "        12                  63            414"
      ]
     },
     "execution_count": 22,
     "metadata": {},
     "output_type": "execute_result"
    }
   ],
   "source": [
    "report_calls = df_calls.groupby(['user_id','month'])['duration'].agg(['count','sum'])\n",
    "report_calls.columns=['number_of_calls', 'minutes_spent'] \n",
    "report_calls.head(10)                                \n",
    "    \n"
   ]
  },
  {
   "cell_type": "markdown",
   "id": "2c1d1b3d",
   "metadata": {},
   "source": [
    "Обратим внимание, что в сентябре пользователь с user_id = 1000 израсходовал 466 минут."
   ]
  },
  {
   "cell_type": "markdown",
   "id": "74d4ffc3",
   "metadata": {},
   "source": [
    "### Количество отправленных сообщений по месяцам."
   ]
  },
  {
   "cell_type": "markdown",
   "id": "a83ca6c6",
   "metadata": {},
   "source": [
    "Посчитаем количество отправленных сообщений по месяцам. Для этого осуществим группировку по столбцам `'user_id','month'` и применим функции sum() и count()."
   ]
  },
  {
   "cell_type": "code",
   "execution_count": 23,
   "id": "40fc9724",
   "metadata": {},
   "outputs": [
    {
     "data": {
      "text/html": [
       "<div>\n",
       "<style scoped>\n",
       "    .dataframe tbody tr th:only-of-type {\n",
       "        vertical-align: middle;\n",
       "    }\n",
       "\n",
       "    .dataframe tbody tr th {\n",
       "        vertical-align: top;\n",
       "    }\n",
       "\n",
       "    .dataframe thead th {\n",
       "        text-align: right;\n",
       "    }\n",
       "</style>\n",
       "<table border=\"1\" class=\"dataframe\">\n",
       "  <thead>\n",
       "    <tr style=\"text-align: right;\">\n",
       "      <th></th>\n",
       "      <th></th>\n",
       "      <th>sms_spent</th>\n",
       "    </tr>\n",
       "    <tr>\n",
       "      <th>user_id</th>\n",
       "      <th>month</th>\n",
       "      <th></th>\n",
       "    </tr>\n",
       "  </thead>\n",
       "  <tbody>\n",
       "    <tr>\n",
       "      <th rowspan=\"8\" valign=\"top\">1000</th>\n",
       "      <th>5</th>\n",
       "      <td>22</td>\n",
       "    </tr>\n",
       "    <tr>\n",
       "      <th>6</th>\n",
       "      <td>60</td>\n",
       "    </tr>\n",
       "    <tr>\n",
       "      <th>7</th>\n",
       "      <td>75</td>\n",
       "    </tr>\n",
       "    <tr>\n",
       "      <th>8</th>\n",
       "      <td>81</td>\n",
       "    </tr>\n",
       "    <tr>\n",
       "      <th>9</th>\n",
       "      <td>57</td>\n",
       "    </tr>\n",
       "    <tr>\n",
       "      <th>10</th>\n",
       "      <td>73</td>\n",
       "    </tr>\n",
       "    <tr>\n",
       "      <th>11</th>\n",
       "      <td>58</td>\n",
       "    </tr>\n",
       "    <tr>\n",
       "      <th>12</th>\n",
       "      <td>70</td>\n",
       "    </tr>\n",
       "    <tr>\n",
       "      <th rowspan=\"2\" valign=\"top\">1002</th>\n",
       "      <th>6</th>\n",
       "      <td>4</td>\n",
       "    </tr>\n",
       "    <tr>\n",
       "      <th>7</th>\n",
       "      <td>11</td>\n",
       "    </tr>\n",
       "  </tbody>\n",
       "</table>\n",
       "</div>"
      ],
      "text/plain": [
       "               sms_spent\n",
       "user_id month           \n",
       "1000    5             22\n",
       "        6             60\n",
       "        7             75\n",
       "        8             81\n",
       "        9             57\n",
       "        10            73\n",
       "        11            58\n",
       "        12            70\n",
       "1002    6              4\n",
       "        7             11"
      ]
     },
     "execution_count": 23,
     "metadata": {},
     "output_type": "execute_result"
    }
   ],
   "source": [
    "report_messages = df_messages.groupby(['user_id','month'])['id'].agg(['count'])\n",
    "report_messages.columns=['sms_spent'] \n",
    "report_messages.head(10)"
   ]
  },
  {
   "cell_type": "markdown",
   "id": "368cb621",
   "metadata": {},
   "source": [
    "Обратим внимание, что в августе  пользователь с user_id = 1000 отправил 81 sms-сообщение."
   ]
  },
  {
   "cell_type": "markdown",
   "id": "38d2f8c2",
   "metadata": {},
   "source": [
    "### Объем израсходованного интернет-трафика по месяцам."
   ]
  },
  {
   "cell_type": "markdown",
   "id": "c55b3e6c",
   "metadata": {},
   "source": [
    "Посчитаем объем израсходованного интернет-трафика по месяцам. Для этого осуществим группировку по столбцам `'user_id','month'` и применим функции sum() и count()."
   ]
  },
  {
   "cell_type": "code",
   "execution_count": 24,
   "id": "d18ab067",
   "metadata": {},
   "outputs": [
    {
     "data": {
      "text/html": [
       "<div>\n",
       "<style scoped>\n",
       "    .dataframe tbody tr th:only-of-type {\n",
       "        vertical-align: middle;\n",
       "    }\n",
       "\n",
       "    .dataframe tbody tr th {\n",
       "        vertical-align: top;\n",
       "    }\n",
       "\n",
       "    .dataframe thead th {\n",
       "        text-align: right;\n",
       "    }\n",
       "</style>\n",
       "<table border=\"1\" class=\"dataframe\">\n",
       "  <thead>\n",
       "    <tr style=\"text-align: right;\">\n",
       "      <th></th>\n",
       "      <th></th>\n",
       "      <th>mb_used</th>\n",
       "    </tr>\n",
       "    <tr>\n",
       "      <th>user_id</th>\n",
       "      <th>month</th>\n",
       "      <th></th>\n",
       "    </tr>\n",
       "  </thead>\n",
       "  <tbody>\n",
       "    <tr>\n",
       "      <th rowspan=\"8\" valign=\"top\">1000</th>\n",
       "      <th>5</th>\n",
       "      <td>2253.49</td>\n",
       "    </tr>\n",
       "    <tr>\n",
       "      <th>6</th>\n",
       "      <td>23233.77</td>\n",
       "    </tr>\n",
       "    <tr>\n",
       "      <th>7</th>\n",
       "      <td>14003.64</td>\n",
       "    </tr>\n",
       "    <tr>\n",
       "      <th>8</th>\n",
       "      <td>14055.93</td>\n",
       "    </tr>\n",
       "    <tr>\n",
       "      <th>9</th>\n",
       "      <td>14568.91</td>\n",
       "    </tr>\n",
       "    <tr>\n",
       "      <th>10</th>\n",
       "      <td>14702.49</td>\n",
       "    </tr>\n",
       "    <tr>\n",
       "      <th>11</th>\n",
       "      <td>14756.47</td>\n",
       "    </tr>\n",
       "    <tr>\n",
       "      <th>12</th>\n",
       "      <td>9817.61</td>\n",
       "    </tr>\n",
       "    <tr>\n",
       "      <th rowspan=\"2\" valign=\"top\">1001</th>\n",
       "      <th>11</th>\n",
       "      <td>18429.34</td>\n",
       "    </tr>\n",
       "    <tr>\n",
       "      <th>12</th>\n",
       "      <td>14036.66</td>\n",
       "    </tr>\n",
       "  </tbody>\n",
       "</table>\n",
       "</div>"
      ],
      "text/plain": [
       "                mb_used\n",
       "user_id month          \n",
       "1000    5       2253.49\n",
       "        6      23233.77\n",
       "        7      14003.64\n",
       "        8      14055.93\n",
       "        9      14568.91\n",
       "        10     14702.49\n",
       "        11     14756.47\n",
       "        12      9817.61\n",
       "1001    11     18429.34\n",
       "        12     14036.66"
      ]
     },
     "execution_count": 24,
     "metadata": {},
     "output_type": "execute_result"
    }
   ],
   "source": [
    "report_internet  = df_internet.groupby(['user_id','month'])['mb_used'].agg(['sum'])\n",
    "report_internet .columns=['mb_used'] \n",
    "report_internet.head(10)"
   ]
  },
  {
   "cell_type": "markdown",
   "id": "8ff52ee5",
   "metadata": {},
   "source": [
    "Обратим внимание, что в июне пользователь с user_id = 1000 израсходовал 24 Гб интернет-трафика"
   ]
  },
  {
   "cell_type": "markdown",
   "id": "e2061995",
   "metadata": {},
   "source": [
    "### Помесячная выручка с каждого пользователя."
   ]
  },
  {
   "cell_type": "markdown",
   "id": "85fe201f",
   "metadata": {},
   "source": [
    "Определим помесячную выручку с каждого пользователя. Для этого объединим таблицы report_calls, report_messages, report_internet, df_users, df_tariffs по идентификатору пользователя и месяцу, используя функцию merge()."
   ]
  },
  {
   "cell_type": "code",
   "execution_count": 25,
   "id": "fb583084",
   "metadata": {},
   "outputs": [],
   "source": [
    "# Объединение report_calls, report_messages, report_internet\n",
    "df_merge = pd.merge(report_calls, report_messages,\n",
    "                    how='outer', left_index=True, right_index=True)\n",
    "\n",
    "df_merge = pd.merge(df_merge, report_internet,\n",
    "                    how='outer', left_index=True, right_index=True)"
   ]
  },
  {
   "cell_type": "code",
   "execution_count": 26,
   "id": "7a340953",
   "metadata": {},
   "outputs": [],
   "source": [
    "# избавимся от мультииндексов\n",
    "df_merge =  df_merge.rename_axis(None, axis=1).reset_index() "
   ]
  },
  {
   "cell_type": "code",
   "execution_count": 27,
   "id": "ef4610c7",
   "metadata": {},
   "outputs": [
    {
     "data": {
      "text/html": [
       "<div>\n",
       "<style scoped>\n",
       "    .dataframe tbody tr th:only-of-type {\n",
       "        vertical-align: middle;\n",
       "    }\n",
       "\n",
       "    .dataframe tbody tr th {\n",
       "        vertical-align: top;\n",
       "    }\n",
       "\n",
       "    .dataframe thead th {\n",
       "        text-align: right;\n",
       "    }\n",
       "</style>\n",
       "<table border=\"1\" class=\"dataframe\">\n",
       "  <thead>\n",
       "    <tr style=\"text-align: right;\">\n",
       "      <th></th>\n",
       "      <th>user_id</th>\n",
       "      <th>month</th>\n",
       "      <th>number_of_calls</th>\n",
       "      <th>minutes_spent</th>\n",
       "      <th>sms_spent</th>\n",
       "      <th>mb_used</th>\n",
       "    </tr>\n",
       "  </thead>\n",
       "  <tbody>\n",
       "    <tr>\n",
       "      <th>0</th>\n",
       "      <td>1000</td>\n",
       "      <td>5</td>\n",
       "      <td>22.0</td>\n",
       "      <td>159.0</td>\n",
       "      <td>22.0</td>\n",
       "      <td>2253.49</td>\n",
       "    </tr>\n",
       "    <tr>\n",
       "      <th>1</th>\n",
       "      <td>1000</td>\n",
       "      <td>6</td>\n",
       "      <td>43.0</td>\n",
       "      <td>172.0</td>\n",
       "      <td>60.0</td>\n",
       "      <td>23233.77</td>\n",
       "    </tr>\n",
       "    <tr>\n",
       "      <th>2</th>\n",
       "      <td>1000</td>\n",
       "      <td>7</td>\n",
       "      <td>47.0</td>\n",
       "      <td>340.0</td>\n",
       "      <td>75.0</td>\n",
       "      <td>14003.64</td>\n",
       "    </tr>\n",
       "    <tr>\n",
       "      <th>3</th>\n",
       "      <td>1000</td>\n",
       "      <td>8</td>\n",
       "      <td>52.0</td>\n",
       "      <td>408.0</td>\n",
       "      <td>81.0</td>\n",
       "      <td>14055.93</td>\n",
       "    </tr>\n",
       "    <tr>\n",
       "      <th>4</th>\n",
       "      <td>1000</td>\n",
       "      <td>9</td>\n",
       "      <td>58.0</td>\n",
       "      <td>466.0</td>\n",
       "      <td>57.0</td>\n",
       "      <td>14568.91</td>\n",
       "    </tr>\n",
       "    <tr>\n",
       "      <th>5</th>\n",
       "      <td>1000</td>\n",
       "      <td>10</td>\n",
       "      <td>57.0</td>\n",
       "      <td>350.0</td>\n",
       "      <td>73.0</td>\n",
       "      <td>14702.49</td>\n",
       "    </tr>\n",
       "    <tr>\n",
       "      <th>6</th>\n",
       "      <td>1000</td>\n",
       "      <td>11</td>\n",
       "      <td>43.0</td>\n",
       "      <td>338.0</td>\n",
       "      <td>58.0</td>\n",
       "      <td>14756.47</td>\n",
       "    </tr>\n",
       "    <tr>\n",
       "      <th>7</th>\n",
       "      <td>1000</td>\n",
       "      <td>12</td>\n",
       "      <td>46.0</td>\n",
       "      <td>333.0</td>\n",
       "      <td>70.0</td>\n",
       "      <td>9817.61</td>\n",
       "    </tr>\n",
       "    <tr>\n",
       "      <th>8</th>\n",
       "      <td>1001</td>\n",
       "      <td>11</td>\n",
       "      <td>59.0</td>\n",
       "      <td>430.0</td>\n",
       "      <td>NaN</td>\n",
       "      <td>18429.34</td>\n",
       "    </tr>\n",
       "    <tr>\n",
       "      <th>9</th>\n",
       "      <td>1001</td>\n",
       "      <td>12</td>\n",
       "      <td>63.0</td>\n",
       "      <td>414.0</td>\n",
       "      <td>NaN</td>\n",
       "      <td>14036.66</td>\n",
       "    </tr>\n",
       "  </tbody>\n",
       "</table>\n",
       "</div>"
      ],
      "text/plain": [
       "   user_id  month  number_of_calls  minutes_spent  sms_spent   mb_used\n",
       "0     1000      5             22.0          159.0       22.0   2253.49\n",
       "1     1000      6             43.0          172.0       60.0  23233.77\n",
       "2     1000      7             47.0          340.0       75.0  14003.64\n",
       "3     1000      8             52.0          408.0       81.0  14055.93\n",
       "4     1000      9             58.0          466.0       57.0  14568.91\n",
       "5     1000     10             57.0          350.0       73.0  14702.49\n",
       "6     1000     11             43.0          338.0       58.0  14756.47\n",
       "7     1000     12             46.0          333.0       70.0   9817.61\n",
       "8     1001     11             59.0          430.0        NaN  18429.34\n",
       "9     1001     12             63.0          414.0        NaN  14036.66"
      ]
     },
     "execution_count": 27,
     "metadata": {},
     "output_type": "execute_result"
    }
   ],
   "source": [
    "# проверка результата\n",
    "df_merge.head(10)"
   ]
  },
  {
   "cell_type": "code",
   "execution_count": 28,
   "id": "c16b9bf7",
   "metadata": {},
   "outputs": [
    {
     "data": {
      "text/html": [
       "<div>\n",
       "<style scoped>\n",
       "    .dataframe tbody tr th:only-of-type {\n",
       "        vertical-align: middle;\n",
       "    }\n",
       "\n",
       "    .dataframe tbody tr th {\n",
       "        vertical-align: top;\n",
       "    }\n",
       "\n",
       "    .dataframe thead th {\n",
       "        text-align: right;\n",
       "    }\n",
       "</style>\n",
       "<table border=\"1\" class=\"dataframe\">\n",
       "  <thead>\n",
       "    <tr style=\"text-align: right;\">\n",
       "      <th></th>\n",
       "      <th>user_id</th>\n",
       "      <th>age</th>\n",
       "      <th>churn_date</th>\n",
       "      <th>city</th>\n",
       "      <th>first_name</th>\n",
       "      <th>last_name</th>\n",
       "      <th>reg_date</th>\n",
       "      <th>tariff</th>\n",
       "    </tr>\n",
       "  </thead>\n",
       "  <tbody>\n",
       "    <tr>\n",
       "      <th>0</th>\n",
       "      <td>1000</td>\n",
       "      <td>52</td>\n",
       "      <td>NaT</td>\n",
       "      <td>Краснодар</td>\n",
       "      <td>Рафаил</td>\n",
       "      <td>Верещагин</td>\n",
       "      <td>2018-05-25</td>\n",
       "      <td>ultra</td>\n",
       "    </tr>\n",
       "    <tr>\n",
       "      <th>1</th>\n",
       "      <td>1001</td>\n",
       "      <td>41</td>\n",
       "      <td>NaT</td>\n",
       "      <td>Москва</td>\n",
       "      <td>Иван</td>\n",
       "      <td>Ежов</td>\n",
       "      <td>2018-11-01</td>\n",
       "      <td>smart</td>\n",
       "    </tr>\n",
       "    <tr>\n",
       "      <th>2</th>\n",
       "      <td>1002</td>\n",
       "      <td>59</td>\n",
       "      <td>NaT</td>\n",
       "      <td>Стерлитамак</td>\n",
       "      <td>Евгений</td>\n",
       "      <td>Абрамович</td>\n",
       "      <td>2018-06-17</td>\n",
       "      <td>smart</td>\n",
       "    </tr>\n",
       "    <tr>\n",
       "      <th>3</th>\n",
       "      <td>1003</td>\n",
       "      <td>23</td>\n",
       "      <td>NaT</td>\n",
       "      <td>Москва</td>\n",
       "      <td>Белла</td>\n",
       "      <td>Белякова</td>\n",
       "      <td>2018-08-17</td>\n",
       "      <td>ultra</td>\n",
       "    </tr>\n",
       "    <tr>\n",
       "      <th>4</th>\n",
       "      <td>1004</td>\n",
       "      <td>68</td>\n",
       "      <td>NaT</td>\n",
       "      <td>Новокузнецк</td>\n",
       "      <td>Татьяна</td>\n",
       "      <td>Авдеенко</td>\n",
       "      <td>2018-05-14</td>\n",
       "      <td>ultra</td>\n",
       "    </tr>\n",
       "  </tbody>\n",
       "</table>\n",
       "</div>"
      ],
      "text/plain": [
       "   user_id  age churn_date         city first_name  last_name   reg_date  \\\n",
       "0     1000   52        NaT    Краснодар     Рафаил  Верещагин 2018-05-25   \n",
       "1     1001   41        NaT       Москва       Иван       Ежов 2018-11-01   \n",
       "2     1002   59        NaT  Стерлитамак    Евгений  Абрамович 2018-06-17   \n",
       "3     1003   23        NaT       Москва      Белла   Белякова 2018-08-17   \n",
       "4     1004   68        NaT  Новокузнецк    Татьяна   Авдеенко 2018-05-14   \n",
       "\n",
       "  tariff  \n",
       "0  ultra  \n",
       "1  smart  \n",
       "2  smart  \n",
       "3  ultra  \n",
       "4  ultra  "
      ]
     },
     "execution_count": 28,
     "metadata": {},
     "output_type": "execute_result"
    }
   ],
   "source": [
    "# вывод таблицы\n",
    "df_users.head()"
   ]
  },
  {
   "cell_type": "code",
   "execution_count": 29,
   "id": "dcd7d4d0",
   "metadata": {},
   "outputs": [
    {
     "data": {
      "text/html": [
       "<div>\n",
       "<style scoped>\n",
       "    .dataframe tbody tr th:only-of-type {\n",
       "        vertical-align: middle;\n",
       "    }\n",
       "\n",
       "    .dataframe tbody tr th {\n",
       "        vertical-align: top;\n",
       "    }\n",
       "\n",
       "    .dataframe thead th {\n",
       "        text-align: right;\n",
       "    }\n",
       "</style>\n",
       "<table border=\"1\" class=\"dataframe\">\n",
       "  <thead>\n",
       "    <tr style=\"text-align: right;\">\n",
       "      <th></th>\n",
       "      <th>messages_included</th>\n",
       "      <th>mb_per_month_included</th>\n",
       "      <th>minutes_included</th>\n",
       "      <th>rub_monthly_fee</th>\n",
       "      <th>rub_per_gb</th>\n",
       "      <th>rub_per_message</th>\n",
       "      <th>rub_per_minute</th>\n",
       "      <th>tariff_name</th>\n",
       "    </tr>\n",
       "  </thead>\n",
       "  <tbody>\n",
       "    <tr>\n",
       "      <th>0</th>\n",
       "      <td>50</td>\n",
       "      <td>15360</td>\n",
       "      <td>500</td>\n",
       "      <td>550</td>\n",
       "      <td>200</td>\n",
       "      <td>3</td>\n",
       "      <td>3</td>\n",
       "      <td>smart</td>\n",
       "    </tr>\n",
       "    <tr>\n",
       "      <th>1</th>\n",
       "      <td>1000</td>\n",
       "      <td>30720</td>\n",
       "      <td>3000</td>\n",
       "      <td>1950</td>\n",
       "      <td>150</td>\n",
       "      <td>1</td>\n",
       "      <td>1</td>\n",
       "      <td>ultra</td>\n",
       "    </tr>\n",
       "  </tbody>\n",
       "</table>\n",
       "</div>"
      ],
      "text/plain": [
       "   messages_included  mb_per_month_included  minutes_included  \\\n",
       "0                 50                  15360               500   \n",
       "1               1000                  30720              3000   \n",
       "\n",
       "   rub_monthly_fee  rub_per_gb  rub_per_message  rub_per_minute tariff_name  \n",
       "0              550         200                3               3       smart  \n",
       "1             1950         150                1               1       ultra  "
      ]
     },
     "execution_count": 29,
     "metadata": {},
     "output_type": "execute_result"
    }
   ],
   "source": [
    "# вывод таблицы\n",
    "df_tariffs.head()"
   ]
  },
  {
   "cell_type": "code",
   "execution_count": 30,
   "id": "dcd17bfd",
   "metadata": {},
   "outputs": [],
   "source": [
    "# Объединение df_users, df_tariffs\n",
    "df_merge_2  = pd.merge(df_users, df_tariffs, left_on='tariff',\n",
    "                right_on='tariff_name', how='left')"
   ]
  },
  {
   "cell_type": "code",
   "execution_count": 31,
   "id": "840228e3",
   "metadata": {
    "scrolled": true
   },
   "outputs": [
    {
     "data": {
      "text/html": [
       "<div>\n",
       "<style scoped>\n",
       "    .dataframe tbody tr th:only-of-type {\n",
       "        vertical-align: middle;\n",
       "    }\n",
       "\n",
       "    .dataframe tbody tr th {\n",
       "        vertical-align: top;\n",
       "    }\n",
       "\n",
       "    .dataframe thead th {\n",
       "        text-align: right;\n",
       "    }\n",
       "</style>\n",
       "<table border=\"1\" class=\"dataframe\">\n",
       "  <thead>\n",
       "    <tr style=\"text-align: right;\">\n",
       "      <th></th>\n",
       "      <th>user_id</th>\n",
       "      <th>age</th>\n",
       "      <th>churn_date</th>\n",
       "      <th>city</th>\n",
       "      <th>first_name</th>\n",
       "      <th>last_name</th>\n",
       "      <th>reg_date</th>\n",
       "      <th>tariff</th>\n",
       "      <th>messages_included</th>\n",
       "      <th>mb_per_month_included</th>\n",
       "      <th>minutes_included</th>\n",
       "      <th>rub_monthly_fee</th>\n",
       "      <th>rub_per_gb</th>\n",
       "      <th>rub_per_message</th>\n",
       "      <th>rub_per_minute</th>\n",
       "      <th>tariff_name</th>\n",
       "    </tr>\n",
       "  </thead>\n",
       "  <tbody>\n",
       "    <tr>\n",
       "      <th>0</th>\n",
       "      <td>1000</td>\n",
       "      <td>52</td>\n",
       "      <td>NaT</td>\n",
       "      <td>Краснодар</td>\n",
       "      <td>Рафаил</td>\n",
       "      <td>Верещагин</td>\n",
       "      <td>2018-05-25</td>\n",
       "      <td>ultra</td>\n",
       "      <td>1000</td>\n",
       "      <td>30720</td>\n",
       "      <td>3000</td>\n",
       "      <td>1950</td>\n",
       "      <td>150</td>\n",
       "      <td>1</td>\n",
       "      <td>1</td>\n",
       "      <td>ultra</td>\n",
       "    </tr>\n",
       "    <tr>\n",
       "      <th>1</th>\n",
       "      <td>1001</td>\n",
       "      <td>41</td>\n",
       "      <td>NaT</td>\n",
       "      <td>Москва</td>\n",
       "      <td>Иван</td>\n",
       "      <td>Ежов</td>\n",
       "      <td>2018-11-01</td>\n",
       "      <td>smart</td>\n",
       "      <td>50</td>\n",
       "      <td>15360</td>\n",
       "      <td>500</td>\n",
       "      <td>550</td>\n",
       "      <td>200</td>\n",
       "      <td>3</td>\n",
       "      <td>3</td>\n",
       "      <td>smart</td>\n",
       "    </tr>\n",
       "    <tr>\n",
       "      <th>2</th>\n",
       "      <td>1002</td>\n",
       "      <td>59</td>\n",
       "      <td>NaT</td>\n",
       "      <td>Стерлитамак</td>\n",
       "      <td>Евгений</td>\n",
       "      <td>Абрамович</td>\n",
       "      <td>2018-06-17</td>\n",
       "      <td>smart</td>\n",
       "      <td>50</td>\n",
       "      <td>15360</td>\n",
       "      <td>500</td>\n",
       "      <td>550</td>\n",
       "      <td>200</td>\n",
       "      <td>3</td>\n",
       "      <td>3</td>\n",
       "      <td>smart</td>\n",
       "    </tr>\n",
       "    <tr>\n",
       "      <th>3</th>\n",
       "      <td>1003</td>\n",
       "      <td>23</td>\n",
       "      <td>NaT</td>\n",
       "      <td>Москва</td>\n",
       "      <td>Белла</td>\n",
       "      <td>Белякова</td>\n",
       "      <td>2018-08-17</td>\n",
       "      <td>ultra</td>\n",
       "      <td>1000</td>\n",
       "      <td>30720</td>\n",
       "      <td>3000</td>\n",
       "      <td>1950</td>\n",
       "      <td>150</td>\n",
       "      <td>1</td>\n",
       "      <td>1</td>\n",
       "      <td>ultra</td>\n",
       "    </tr>\n",
       "    <tr>\n",
       "      <th>4</th>\n",
       "      <td>1004</td>\n",
       "      <td>68</td>\n",
       "      <td>NaT</td>\n",
       "      <td>Новокузнецк</td>\n",
       "      <td>Татьяна</td>\n",
       "      <td>Авдеенко</td>\n",
       "      <td>2018-05-14</td>\n",
       "      <td>ultra</td>\n",
       "      <td>1000</td>\n",
       "      <td>30720</td>\n",
       "      <td>3000</td>\n",
       "      <td>1950</td>\n",
       "      <td>150</td>\n",
       "      <td>1</td>\n",
       "      <td>1</td>\n",
       "      <td>ultra</td>\n",
       "    </tr>\n",
       "  </tbody>\n",
       "</table>\n",
       "</div>"
      ],
      "text/plain": [
       "   user_id  age churn_date         city first_name  last_name   reg_date  \\\n",
       "0     1000   52        NaT    Краснодар     Рафаил  Верещагин 2018-05-25   \n",
       "1     1001   41        NaT       Москва       Иван       Ежов 2018-11-01   \n",
       "2     1002   59        NaT  Стерлитамак    Евгений  Абрамович 2018-06-17   \n",
       "3     1003   23        NaT       Москва      Белла   Белякова 2018-08-17   \n",
       "4     1004   68        NaT  Новокузнецк    Татьяна   Авдеенко 2018-05-14   \n",
       "\n",
       "  tariff  messages_included  mb_per_month_included  minutes_included  \\\n",
       "0  ultra               1000                  30720              3000   \n",
       "1  smart                 50                  15360               500   \n",
       "2  smart                 50                  15360               500   \n",
       "3  ultra               1000                  30720              3000   \n",
       "4  ultra               1000                  30720              3000   \n",
       "\n",
       "   rub_monthly_fee  rub_per_gb  rub_per_message  rub_per_minute tariff_name  \n",
       "0             1950         150                1               1       ultra  \n",
       "1              550         200                3               3       smart  \n",
       "2              550         200                3               3       smart  \n",
       "3             1950         150                1               1       ultra  \n",
       "4             1950         150                1               1       ultra  "
      ]
     },
     "execution_count": 31,
     "metadata": {},
     "output_type": "execute_result"
    }
   ],
   "source": [
    "# проверка результата\n",
    "df_merge_2.head() "
   ]
  },
  {
   "cell_type": "code",
   "execution_count": 32,
   "id": "93b97bcf",
   "metadata": {},
   "outputs": [
    {
     "data": {
      "text/html": [
       "<div>\n",
       "<style scoped>\n",
       "    .dataframe tbody tr th:only-of-type {\n",
       "        vertical-align: middle;\n",
       "    }\n",
       "\n",
       "    .dataframe tbody tr th {\n",
       "        vertical-align: top;\n",
       "    }\n",
       "\n",
       "    .dataframe thead th {\n",
       "        text-align: right;\n",
       "    }\n",
       "</style>\n",
       "<table border=\"1\" class=\"dataframe\">\n",
       "  <thead>\n",
       "    <tr style=\"text-align: right;\">\n",
       "      <th></th>\n",
       "      <th>user_id</th>\n",
       "      <th>month</th>\n",
       "      <th>number_of_calls</th>\n",
       "      <th>minutes_spent</th>\n",
       "      <th>sms_spent</th>\n",
       "      <th>mb_used</th>\n",
       "      <th>age</th>\n",
       "      <th>churn_date</th>\n",
       "      <th>city</th>\n",
       "      <th>first_name</th>\n",
       "      <th>...</th>\n",
       "      <th>reg_date</th>\n",
       "      <th>tariff</th>\n",
       "      <th>messages_included</th>\n",
       "      <th>mb_per_month_included</th>\n",
       "      <th>minutes_included</th>\n",
       "      <th>rub_monthly_fee</th>\n",
       "      <th>rub_per_gb</th>\n",
       "      <th>rub_per_message</th>\n",
       "      <th>rub_per_minute</th>\n",
       "      <th>tariff_name</th>\n",
       "    </tr>\n",
       "  </thead>\n",
       "  <tbody>\n",
       "    <tr>\n",
       "      <th>0</th>\n",
       "      <td>1000</td>\n",
       "      <td>5</td>\n",
       "      <td>22.0</td>\n",
       "      <td>159.0</td>\n",
       "      <td>22.0</td>\n",
       "      <td>2253.49</td>\n",
       "      <td>52</td>\n",
       "      <td>NaT</td>\n",
       "      <td>Краснодар</td>\n",
       "      <td>Рафаил</td>\n",
       "      <td>...</td>\n",
       "      <td>2018-05-25</td>\n",
       "      <td>ultra</td>\n",
       "      <td>1000</td>\n",
       "      <td>30720</td>\n",
       "      <td>3000</td>\n",
       "      <td>1950</td>\n",
       "      <td>150</td>\n",
       "      <td>1</td>\n",
       "      <td>1</td>\n",
       "      <td>ultra</td>\n",
       "    </tr>\n",
       "    <tr>\n",
       "      <th>1</th>\n",
       "      <td>1000</td>\n",
       "      <td>6</td>\n",
       "      <td>43.0</td>\n",
       "      <td>172.0</td>\n",
       "      <td>60.0</td>\n",
       "      <td>23233.77</td>\n",
       "      <td>52</td>\n",
       "      <td>NaT</td>\n",
       "      <td>Краснодар</td>\n",
       "      <td>Рафаил</td>\n",
       "      <td>...</td>\n",
       "      <td>2018-05-25</td>\n",
       "      <td>ultra</td>\n",
       "      <td>1000</td>\n",
       "      <td>30720</td>\n",
       "      <td>3000</td>\n",
       "      <td>1950</td>\n",
       "      <td>150</td>\n",
       "      <td>1</td>\n",
       "      <td>1</td>\n",
       "      <td>ultra</td>\n",
       "    </tr>\n",
       "    <tr>\n",
       "      <th>2</th>\n",
       "      <td>1000</td>\n",
       "      <td>7</td>\n",
       "      <td>47.0</td>\n",
       "      <td>340.0</td>\n",
       "      <td>75.0</td>\n",
       "      <td>14003.64</td>\n",
       "      <td>52</td>\n",
       "      <td>NaT</td>\n",
       "      <td>Краснодар</td>\n",
       "      <td>Рафаил</td>\n",
       "      <td>...</td>\n",
       "      <td>2018-05-25</td>\n",
       "      <td>ultra</td>\n",
       "      <td>1000</td>\n",
       "      <td>30720</td>\n",
       "      <td>3000</td>\n",
       "      <td>1950</td>\n",
       "      <td>150</td>\n",
       "      <td>1</td>\n",
       "      <td>1</td>\n",
       "      <td>ultra</td>\n",
       "    </tr>\n",
       "    <tr>\n",
       "      <th>3</th>\n",
       "      <td>1000</td>\n",
       "      <td>8</td>\n",
       "      <td>52.0</td>\n",
       "      <td>408.0</td>\n",
       "      <td>81.0</td>\n",
       "      <td>14055.93</td>\n",
       "      <td>52</td>\n",
       "      <td>NaT</td>\n",
       "      <td>Краснодар</td>\n",
       "      <td>Рафаил</td>\n",
       "      <td>...</td>\n",
       "      <td>2018-05-25</td>\n",
       "      <td>ultra</td>\n",
       "      <td>1000</td>\n",
       "      <td>30720</td>\n",
       "      <td>3000</td>\n",
       "      <td>1950</td>\n",
       "      <td>150</td>\n",
       "      <td>1</td>\n",
       "      <td>1</td>\n",
       "      <td>ultra</td>\n",
       "    </tr>\n",
       "    <tr>\n",
       "      <th>4</th>\n",
       "      <td>1000</td>\n",
       "      <td>9</td>\n",
       "      <td>58.0</td>\n",
       "      <td>466.0</td>\n",
       "      <td>57.0</td>\n",
       "      <td>14568.91</td>\n",
       "      <td>52</td>\n",
       "      <td>NaT</td>\n",
       "      <td>Краснодар</td>\n",
       "      <td>Рафаил</td>\n",
       "      <td>...</td>\n",
       "      <td>2018-05-25</td>\n",
       "      <td>ultra</td>\n",
       "      <td>1000</td>\n",
       "      <td>30720</td>\n",
       "      <td>3000</td>\n",
       "      <td>1950</td>\n",
       "      <td>150</td>\n",
       "      <td>1</td>\n",
       "      <td>1</td>\n",
       "      <td>ultra</td>\n",
       "    </tr>\n",
       "  </tbody>\n",
       "</table>\n",
       "<p>5 rows × 21 columns</p>\n",
       "</div>"
      ],
      "text/plain": [
       "   user_id  month  number_of_calls  minutes_spent  sms_spent   mb_used  age  \\\n",
       "0     1000      5             22.0          159.0       22.0   2253.49   52   \n",
       "1     1000      6             43.0          172.0       60.0  23233.77   52   \n",
       "2     1000      7             47.0          340.0       75.0  14003.64   52   \n",
       "3     1000      8             52.0          408.0       81.0  14055.93   52   \n",
       "4     1000      9             58.0          466.0       57.0  14568.91   52   \n",
       "\n",
       "  churn_date       city first_name  ...   reg_date tariff messages_included  \\\n",
       "0        NaT  Краснодар     Рафаил  ... 2018-05-25  ultra              1000   \n",
       "1        NaT  Краснодар     Рафаил  ... 2018-05-25  ultra              1000   \n",
       "2        NaT  Краснодар     Рафаил  ... 2018-05-25  ultra              1000   \n",
       "3        NaT  Краснодар     Рафаил  ... 2018-05-25  ultra              1000   \n",
       "4        NaT  Краснодар     Рафаил  ... 2018-05-25  ultra              1000   \n",
       "\n",
       "   mb_per_month_included  minutes_included  rub_monthly_fee  rub_per_gb  \\\n",
       "0                  30720              3000             1950         150   \n",
       "1                  30720              3000             1950         150   \n",
       "2                  30720              3000             1950         150   \n",
       "3                  30720              3000             1950         150   \n",
       "4                  30720              3000             1950         150   \n",
       "\n",
       "   rub_per_message  rub_per_minute  tariff_name  \n",
       "0                1               1        ultra  \n",
       "1                1               1        ultra  \n",
       "2                1               1        ultra  \n",
       "3                1               1        ultra  \n",
       "4                1               1        ultra  \n",
       "\n",
       "[5 rows x 21 columns]"
      ]
     },
     "execution_count": 32,
     "metadata": {},
     "output_type": "execute_result"
    }
   ],
   "source": [
    "# объединение df_merge, df_merge_2\n",
    "df_merge_final = pd.merge(df_merge, df_merge_2, how='left')\n",
    "df_merge_final.head()"
   ]
  },
  {
   "cell_type": "markdown",
   "id": "06543ab9",
   "metadata": {},
   "source": [
    "Осуществим предобработку значений в таблице."
   ]
  },
  {
   "cell_type": "code",
   "execution_count": 33,
   "id": "4bfda7b3",
   "metadata": {},
   "outputs": [],
   "source": [
    "# удаление tariff_name\n",
    "df_merge_final.drop(columns=['tariff_name'], inplace=True)"
   ]
  },
  {
   "cell_type": "code",
   "execution_count": 34,
   "id": "deedf42a",
   "metadata": {},
   "outputs": [],
   "source": [
    "# замена пустых значений в колонке sms_spent,minutes_spent,number_of_calls,mb_used на 0\n",
    "df_merge_final['sms_spent'].fillna(0, inplace=True)\n",
    "df_merge_final['minutes_spent'].fillna(0, inplace=True)\n",
    "df_merge_final['number_of_calls'].fillna(0, inplace=True)\n",
    "df_merge_final['mb_used'].fillna(0, inplace=True)"
   ]
  },
  {
   "cell_type": "code",
   "execution_count": 35,
   "id": "946c4ad5",
   "metadata": {},
   "outputs": [],
   "source": [
    "# изменинение  типа данных с float на int в столбцах number_of_calls,minutes_spent,sms_spent\n",
    "df_merge_final[['number_of_calls', 'minutes_spent', 'sms_spent']] = df_merge_final[['number_of_calls', 'minutes_spent', 'sms_spent']].astype(int)"
   ]
  },
  {
   "cell_type": "code",
   "execution_count": 36,
   "id": "a98da1bc",
   "metadata": {
    "scrolled": true
   },
   "outputs": [
    {
     "data": {
      "text/html": [
       "<div>\n",
       "<style scoped>\n",
       "    .dataframe tbody tr th:only-of-type {\n",
       "        vertical-align: middle;\n",
       "    }\n",
       "\n",
       "    .dataframe tbody tr th {\n",
       "        vertical-align: top;\n",
       "    }\n",
       "\n",
       "    .dataframe thead th {\n",
       "        text-align: right;\n",
       "    }\n",
       "</style>\n",
       "<table border=\"1\" class=\"dataframe\">\n",
       "  <thead>\n",
       "    <tr style=\"text-align: right;\">\n",
       "      <th></th>\n",
       "      <th>user_id</th>\n",
       "      <th>month</th>\n",
       "      <th>number_of_calls</th>\n",
       "      <th>minutes_spent</th>\n",
       "      <th>sms_spent</th>\n",
       "      <th>mb_used</th>\n",
       "      <th>age</th>\n",
       "      <th>churn_date</th>\n",
       "      <th>city</th>\n",
       "      <th>first_name</th>\n",
       "      <th>last_name</th>\n",
       "      <th>reg_date</th>\n",
       "      <th>tariff</th>\n",
       "      <th>messages_included</th>\n",
       "      <th>mb_per_month_included</th>\n",
       "      <th>minutes_included</th>\n",
       "      <th>rub_monthly_fee</th>\n",
       "      <th>rub_per_gb</th>\n",
       "      <th>rub_per_message</th>\n",
       "      <th>rub_per_minute</th>\n",
       "    </tr>\n",
       "  </thead>\n",
       "  <tbody>\n",
       "    <tr>\n",
       "      <th>35</th>\n",
       "      <td>1005</td>\n",
       "      <td>6</td>\n",
       "      <td>80</td>\n",
       "      <td>612</td>\n",
       "      <td>47</td>\n",
       "      <td>9863.19</td>\n",
       "      <td>67</td>\n",
       "      <td>NaT</td>\n",
       "      <td>Набережные Челны</td>\n",
       "      <td>Афанасий</td>\n",
       "      <td>Горлов</td>\n",
       "      <td>2018-01-25</td>\n",
       "      <td>smart</td>\n",
       "      <td>50</td>\n",
       "      <td>15360</td>\n",
       "      <td>500</td>\n",
       "      <td>550</td>\n",
       "      <td>200</td>\n",
       "      <td>3</td>\n",
       "      <td>3</td>\n",
       "    </tr>\n",
       "    <tr>\n",
       "      <th>11</th>\n",
       "      <td>1002</td>\n",
       "      <td>7</td>\n",
       "      <td>26</td>\n",
       "      <td>214</td>\n",
       "      <td>11</td>\n",
       "      <td>17580.10</td>\n",
       "      <td>59</td>\n",
       "      <td>NaT</td>\n",
       "      <td>Стерлитамак</td>\n",
       "      <td>Евгений</td>\n",
       "      <td>Абрамович</td>\n",
       "      <td>2018-06-17</td>\n",
       "      <td>smart</td>\n",
       "      <td>50</td>\n",
       "      <td>15360</td>\n",
       "      <td>500</td>\n",
       "      <td>550</td>\n",
       "      <td>200</td>\n",
       "      <td>3</td>\n",
       "      <td>3</td>\n",
       "    </tr>\n",
       "    <tr>\n",
       "      <th>1062</th>\n",
       "      <td>1168</td>\n",
       "      <td>8</td>\n",
       "      <td>154</td>\n",
       "      <td>1120</td>\n",
       "      <td>48</td>\n",
       "      <td>29335.12</td>\n",
       "      <td>28</td>\n",
       "      <td>NaT</td>\n",
       "      <td>Кострома</td>\n",
       "      <td>Лилия</td>\n",
       "      <td>Ананьева</td>\n",
       "      <td>2018-01-24</td>\n",
       "      <td>ultra</td>\n",
       "      <td>1000</td>\n",
       "      <td>30720</td>\n",
       "      <td>3000</td>\n",
       "      <td>1950</td>\n",
       "      <td>150</td>\n",
       "      <td>1</td>\n",
       "      <td>1</td>\n",
       "    </tr>\n",
       "    <tr>\n",
       "      <th>1844</th>\n",
       "      <td>1291</td>\n",
       "      <td>7</td>\n",
       "      <td>77</td>\n",
       "      <td>544</td>\n",
       "      <td>0</td>\n",
       "      <td>16620.23</td>\n",
       "      <td>73</td>\n",
       "      <td>NaT</td>\n",
       "      <td>Москва</td>\n",
       "      <td>Мануэла</td>\n",
       "      <td>Анищенко</td>\n",
       "      <td>2018-02-08</td>\n",
       "      <td>smart</td>\n",
       "      <td>50</td>\n",
       "      <td>15360</td>\n",
       "      <td>500</td>\n",
       "      <td>550</td>\n",
       "      <td>200</td>\n",
       "      <td>3</td>\n",
       "      <td>3</td>\n",
       "    </tr>\n",
       "    <tr>\n",
       "      <th>2895</th>\n",
       "      <td>1453</td>\n",
       "      <td>4</td>\n",
       "      <td>115</td>\n",
       "      <td>881</td>\n",
       "      <td>52</td>\n",
       "      <td>22433.76</td>\n",
       "      <td>50</td>\n",
       "      <td>NaT</td>\n",
       "      <td>Москва</td>\n",
       "      <td>Кузьма</td>\n",
       "      <td>Акуленко</td>\n",
       "      <td>2018-01-01</td>\n",
       "      <td>ultra</td>\n",
       "      <td>1000</td>\n",
       "      <td>30720</td>\n",
       "      <td>3000</td>\n",
       "      <td>1950</td>\n",
       "      <td>150</td>\n",
       "      <td>1</td>\n",
       "      <td>1</td>\n",
       "    </tr>\n",
       "  </tbody>\n",
       "</table>\n",
       "</div>"
      ],
      "text/plain": [
       "      user_id  month  number_of_calls  minutes_spent  sms_spent   mb_used  \\\n",
       "35       1005      6               80            612         47   9863.19   \n",
       "11       1002      7               26            214         11  17580.10   \n",
       "1062     1168      8              154           1120         48  29335.12   \n",
       "1844     1291      7               77            544          0  16620.23   \n",
       "2895     1453      4              115            881         52  22433.76   \n",
       "\n",
       "      age churn_date              city first_name  last_name   reg_date  \\\n",
       "35     67        NaT  Набережные Челны   Афанасий     Горлов 2018-01-25   \n",
       "11     59        NaT       Стерлитамак    Евгений  Абрамович 2018-06-17   \n",
       "1062   28        NaT          Кострома      Лилия   Ананьева 2018-01-24   \n",
       "1844   73        NaT            Москва    Мануэла   Анищенко 2018-02-08   \n",
       "2895   50        NaT            Москва     Кузьма   Акуленко 2018-01-01   \n",
       "\n",
       "     tariff  messages_included  mb_per_month_included  minutes_included  \\\n",
       "35    smart                 50                  15360               500   \n",
       "11    smart                 50                  15360               500   \n",
       "1062  ultra               1000                  30720              3000   \n",
       "1844  smart                 50                  15360               500   \n",
       "2895  ultra               1000                  30720              3000   \n",
       "\n",
       "      rub_monthly_fee  rub_per_gb  rub_per_message  rub_per_minute  \n",
       "35                550         200                3               3  \n",
       "11                550         200                3               3  \n",
       "1062             1950         150                1               1  \n",
       "1844              550         200                3               3  \n",
       "2895             1950         150                1               1  "
      ]
     },
     "execution_count": 36,
     "metadata": {},
     "output_type": "execute_result"
    }
   ],
   "source": [
    "# вывод результата\n",
    "df_merge_final.sample(5)"
   ]
  },
  {
   "cell_type": "markdown",
   "id": "7e05283a",
   "metadata": {},
   "source": [
    "Напишем функцию для вычисления помесячной выручки с каждого пользователя.\n",
    "Вычтем бесплатный лимит из суммарного количества звонков, сообщений и интернет-трафика; остаток умножим на значение из тарифного плана; прибавим абонентскую плату, соответствующую тарифному плану."
   ]
  },
  {
   "cell_type": "code",
   "execution_count": 37,
   "id": "6585410b",
   "metadata": {
    "code_folding": [
     3
    ]
   },
   "outputs": [],
   "source": [
    "# Функции для помесячной выручки\n",
    "\n",
    "def monthly_profit(row):\n",
    "    # определение переменных\n",
    "    messages_included = row['messages_included']\n",
    "    mb_per_month_included = row['mb_per_month_included']\n",
    "    minutes_included = row['minutes_included']\n",
    "    \n",
    "    rub_monthly_fee = row['rub_monthly_fee']\n",
    "    \n",
    "    rub_per_gb = row['rub_per_gb']\n",
    "    rub_per_message = row['rub_per_message']\n",
    "    rub_per_minute = row['rub_per_minute']\n",
    "    \n",
    "    \n",
    "    minutes_spent = row['minutes_spent']\n",
    "    sms_spent = row['sms_spent']\n",
    "    mb_used = row['mb_used']\n",
    "    # вычисления \n",
    "    total = rub_monthly_fee  \n",
    "    # вычисление потраченных минут, sms, мегабайт\n",
    "    x = minutes_spent - minutes_included\n",
    "    y = sms_spent - messages_included\n",
    "    z =  mb_used - mb_per_month_included \n",
    "    \n",
    "    # перевод мегабайт в Гб\n",
    "    if z > 0:\n",
    "        if z <= 1024:\n",
    "            z = 1\n",
    "        elif z % 1024 == 0: \n",
    "            z = z / 1024\n",
    "        else:\n",
    "            z = z//1024 + 1\n",
    "   \n",
    "    \n",
    "    # вычисление помесячной выручки    \n",
    "    if x > 0:\n",
    "        total += rub_per_minute * x\n",
    "    if y > 0:\n",
    "        total += rub_per_message * y\n",
    "    if z > 0:\n",
    "        total += rub_per_gb * z\n",
    "      \n",
    "    return int(total)\n",
    "    "
   ]
  },
  {
   "cell_type": "markdown",
   "id": "fd605a9f",
   "metadata": {},
   "source": [
    "Применим метод apply() к датафрейму совместно с функцией monthly_profit, для подсчета помесячной выручки."
   ]
  },
  {
   "cell_type": "code",
   "execution_count": 38,
   "id": "a1e344d1",
   "metadata": {
    "scrolled": true
   },
   "outputs": [],
   "source": [
    "df_merge_final['monthly_profit'] = df_merge_final.apply(monthly_profit, axis=1)"
   ]
  },
  {
   "cell_type": "markdown",
   "id": "03692977",
   "metadata": {},
   "source": [
    "Проверим результат."
   ]
  },
  {
   "cell_type": "code",
   "execution_count": 39,
   "id": "fbf96574",
   "metadata": {
    "scrolled": false
   },
   "outputs": [
    {
     "data": {
      "text/html": [
       "<div>\n",
       "<style scoped>\n",
       "    .dataframe tbody tr th:only-of-type {\n",
       "        vertical-align: middle;\n",
       "    }\n",
       "\n",
       "    .dataframe tbody tr th {\n",
       "        vertical-align: top;\n",
       "    }\n",
       "\n",
       "    .dataframe thead th {\n",
       "        text-align: right;\n",
       "    }\n",
       "</style>\n",
       "<table border=\"1\" class=\"dataframe\">\n",
       "  <thead>\n",
       "    <tr style=\"text-align: right;\">\n",
       "      <th></th>\n",
       "      <th>user_id</th>\n",
       "      <th>month</th>\n",
       "      <th>number_of_calls</th>\n",
       "      <th>minutes_spent</th>\n",
       "      <th>sms_spent</th>\n",
       "      <th>mb_used</th>\n",
       "      <th>age</th>\n",
       "      <th>churn_date</th>\n",
       "      <th>city</th>\n",
       "      <th>first_name</th>\n",
       "      <th>...</th>\n",
       "      <th>reg_date</th>\n",
       "      <th>tariff</th>\n",
       "      <th>messages_included</th>\n",
       "      <th>mb_per_month_included</th>\n",
       "      <th>minutes_included</th>\n",
       "      <th>rub_monthly_fee</th>\n",
       "      <th>rub_per_gb</th>\n",
       "      <th>rub_per_message</th>\n",
       "      <th>rub_per_minute</th>\n",
       "      <th>monthly_profit</th>\n",
       "    </tr>\n",
       "  </thead>\n",
       "  <tbody>\n",
       "    <tr>\n",
       "      <th>0</th>\n",
       "      <td>1000</td>\n",
       "      <td>5</td>\n",
       "      <td>22</td>\n",
       "      <td>159</td>\n",
       "      <td>22</td>\n",
       "      <td>2253.49</td>\n",
       "      <td>52</td>\n",
       "      <td>NaT</td>\n",
       "      <td>Краснодар</td>\n",
       "      <td>Рафаил</td>\n",
       "      <td>...</td>\n",
       "      <td>2018-05-25</td>\n",
       "      <td>ultra</td>\n",
       "      <td>1000</td>\n",
       "      <td>30720</td>\n",
       "      <td>3000</td>\n",
       "      <td>1950</td>\n",
       "      <td>150</td>\n",
       "      <td>1</td>\n",
       "      <td>1</td>\n",
       "      <td>1950</td>\n",
       "    </tr>\n",
       "    <tr>\n",
       "      <th>1</th>\n",
       "      <td>1000</td>\n",
       "      <td>6</td>\n",
       "      <td>43</td>\n",
       "      <td>172</td>\n",
       "      <td>60</td>\n",
       "      <td>23233.77</td>\n",
       "      <td>52</td>\n",
       "      <td>NaT</td>\n",
       "      <td>Краснодар</td>\n",
       "      <td>Рафаил</td>\n",
       "      <td>...</td>\n",
       "      <td>2018-05-25</td>\n",
       "      <td>ultra</td>\n",
       "      <td>1000</td>\n",
       "      <td>30720</td>\n",
       "      <td>3000</td>\n",
       "      <td>1950</td>\n",
       "      <td>150</td>\n",
       "      <td>1</td>\n",
       "      <td>1</td>\n",
       "      <td>1950</td>\n",
       "    </tr>\n",
       "    <tr>\n",
       "      <th>2</th>\n",
       "      <td>1000</td>\n",
       "      <td>7</td>\n",
       "      <td>47</td>\n",
       "      <td>340</td>\n",
       "      <td>75</td>\n",
       "      <td>14003.64</td>\n",
       "      <td>52</td>\n",
       "      <td>NaT</td>\n",
       "      <td>Краснодар</td>\n",
       "      <td>Рафаил</td>\n",
       "      <td>...</td>\n",
       "      <td>2018-05-25</td>\n",
       "      <td>ultra</td>\n",
       "      <td>1000</td>\n",
       "      <td>30720</td>\n",
       "      <td>3000</td>\n",
       "      <td>1950</td>\n",
       "      <td>150</td>\n",
       "      <td>1</td>\n",
       "      <td>1</td>\n",
       "      <td>1950</td>\n",
       "    </tr>\n",
       "    <tr>\n",
       "      <th>3</th>\n",
       "      <td>1000</td>\n",
       "      <td>8</td>\n",
       "      <td>52</td>\n",
       "      <td>408</td>\n",
       "      <td>81</td>\n",
       "      <td>14055.93</td>\n",
       "      <td>52</td>\n",
       "      <td>NaT</td>\n",
       "      <td>Краснодар</td>\n",
       "      <td>Рафаил</td>\n",
       "      <td>...</td>\n",
       "      <td>2018-05-25</td>\n",
       "      <td>ultra</td>\n",
       "      <td>1000</td>\n",
       "      <td>30720</td>\n",
       "      <td>3000</td>\n",
       "      <td>1950</td>\n",
       "      <td>150</td>\n",
       "      <td>1</td>\n",
       "      <td>1</td>\n",
       "      <td>1950</td>\n",
       "    </tr>\n",
       "    <tr>\n",
       "      <th>4</th>\n",
       "      <td>1000</td>\n",
       "      <td>9</td>\n",
       "      <td>58</td>\n",
       "      <td>466</td>\n",
       "      <td>57</td>\n",
       "      <td>14568.91</td>\n",
       "      <td>52</td>\n",
       "      <td>NaT</td>\n",
       "      <td>Краснодар</td>\n",
       "      <td>Рафаил</td>\n",
       "      <td>...</td>\n",
       "      <td>2018-05-25</td>\n",
       "      <td>ultra</td>\n",
       "      <td>1000</td>\n",
       "      <td>30720</td>\n",
       "      <td>3000</td>\n",
       "      <td>1950</td>\n",
       "      <td>150</td>\n",
       "      <td>1</td>\n",
       "      <td>1</td>\n",
       "      <td>1950</td>\n",
       "    </tr>\n",
       "    <tr>\n",
       "      <th>5</th>\n",
       "      <td>1000</td>\n",
       "      <td>10</td>\n",
       "      <td>57</td>\n",
       "      <td>350</td>\n",
       "      <td>73</td>\n",
       "      <td>14702.49</td>\n",
       "      <td>52</td>\n",
       "      <td>NaT</td>\n",
       "      <td>Краснодар</td>\n",
       "      <td>Рафаил</td>\n",
       "      <td>...</td>\n",
       "      <td>2018-05-25</td>\n",
       "      <td>ultra</td>\n",
       "      <td>1000</td>\n",
       "      <td>30720</td>\n",
       "      <td>3000</td>\n",
       "      <td>1950</td>\n",
       "      <td>150</td>\n",
       "      <td>1</td>\n",
       "      <td>1</td>\n",
       "      <td>1950</td>\n",
       "    </tr>\n",
       "    <tr>\n",
       "      <th>6</th>\n",
       "      <td>1000</td>\n",
       "      <td>11</td>\n",
       "      <td>43</td>\n",
       "      <td>338</td>\n",
       "      <td>58</td>\n",
       "      <td>14756.47</td>\n",
       "      <td>52</td>\n",
       "      <td>NaT</td>\n",
       "      <td>Краснодар</td>\n",
       "      <td>Рафаил</td>\n",
       "      <td>...</td>\n",
       "      <td>2018-05-25</td>\n",
       "      <td>ultra</td>\n",
       "      <td>1000</td>\n",
       "      <td>30720</td>\n",
       "      <td>3000</td>\n",
       "      <td>1950</td>\n",
       "      <td>150</td>\n",
       "      <td>1</td>\n",
       "      <td>1</td>\n",
       "      <td>1950</td>\n",
       "    </tr>\n",
       "    <tr>\n",
       "      <th>7</th>\n",
       "      <td>1000</td>\n",
       "      <td>12</td>\n",
       "      <td>46</td>\n",
       "      <td>333</td>\n",
       "      <td>70</td>\n",
       "      <td>9817.61</td>\n",
       "      <td>52</td>\n",
       "      <td>NaT</td>\n",
       "      <td>Краснодар</td>\n",
       "      <td>Рафаил</td>\n",
       "      <td>...</td>\n",
       "      <td>2018-05-25</td>\n",
       "      <td>ultra</td>\n",
       "      <td>1000</td>\n",
       "      <td>30720</td>\n",
       "      <td>3000</td>\n",
       "      <td>1950</td>\n",
       "      <td>150</td>\n",
       "      <td>1</td>\n",
       "      <td>1</td>\n",
       "      <td>1950</td>\n",
       "    </tr>\n",
       "    <tr>\n",
       "      <th>8</th>\n",
       "      <td>1001</td>\n",
       "      <td>11</td>\n",
       "      <td>59</td>\n",
       "      <td>430</td>\n",
       "      <td>0</td>\n",
       "      <td>18429.34</td>\n",
       "      <td>41</td>\n",
       "      <td>NaT</td>\n",
       "      <td>Москва</td>\n",
       "      <td>Иван</td>\n",
       "      <td>...</td>\n",
       "      <td>2018-11-01</td>\n",
       "      <td>smart</td>\n",
       "      <td>50</td>\n",
       "      <td>15360</td>\n",
       "      <td>500</td>\n",
       "      <td>550</td>\n",
       "      <td>200</td>\n",
       "      <td>3</td>\n",
       "      <td>3</td>\n",
       "      <td>1150</td>\n",
       "    </tr>\n",
       "    <tr>\n",
       "      <th>9</th>\n",
       "      <td>1001</td>\n",
       "      <td>12</td>\n",
       "      <td>63</td>\n",
       "      <td>414</td>\n",
       "      <td>0</td>\n",
       "      <td>14036.66</td>\n",
       "      <td>41</td>\n",
       "      <td>NaT</td>\n",
       "      <td>Москва</td>\n",
       "      <td>Иван</td>\n",
       "      <td>...</td>\n",
       "      <td>2018-11-01</td>\n",
       "      <td>smart</td>\n",
       "      <td>50</td>\n",
       "      <td>15360</td>\n",
       "      <td>500</td>\n",
       "      <td>550</td>\n",
       "      <td>200</td>\n",
       "      <td>3</td>\n",
       "      <td>3</td>\n",
       "      <td>550</td>\n",
       "    </tr>\n",
       "  </tbody>\n",
       "</table>\n",
       "<p>10 rows × 21 columns</p>\n",
       "</div>"
      ],
      "text/plain": [
       "   user_id  month  number_of_calls  minutes_spent  sms_spent   mb_used  age  \\\n",
       "0     1000      5               22            159         22   2253.49   52   \n",
       "1     1000      6               43            172         60  23233.77   52   \n",
       "2     1000      7               47            340         75  14003.64   52   \n",
       "3     1000      8               52            408         81  14055.93   52   \n",
       "4     1000      9               58            466         57  14568.91   52   \n",
       "5     1000     10               57            350         73  14702.49   52   \n",
       "6     1000     11               43            338         58  14756.47   52   \n",
       "7     1000     12               46            333         70   9817.61   52   \n",
       "8     1001     11               59            430          0  18429.34   41   \n",
       "9     1001     12               63            414          0  14036.66   41   \n",
       "\n",
       "  churn_date       city first_name  ...   reg_date tariff messages_included  \\\n",
       "0        NaT  Краснодар     Рафаил  ... 2018-05-25  ultra              1000   \n",
       "1        NaT  Краснодар     Рафаил  ... 2018-05-25  ultra              1000   \n",
       "2        NaT  Краснодар     Рафаил  ... 2018-05-25  ultra              1000   \n",
       "3        NaT  Краснодар     Рафаил  ... 2018-05-25  ultra              1000   \n",
       "4        NaT  Краснодар     Рафаил  ... 2018-05-25  ultra              1000   \n",
       "5        NaT  Краснодар     Рафаил  ... 2018-05-25  ultra              1000   \n",
       "6        NaT  Краснодар     Рафаил  ... 2018-05-25  ultra              1000   \n",
       "7        NaT  Краснодар     Рафаил  ... 2018-05-25  ultra              1000   \n",
       "8        NaT     Москва       Иван  ... 2018-11-01  smart                50   \n",
       "9        NaT     Москва       Иван  ... 2018-11-01  smart                50   \n",
       "\n",
       "   mb_per_month_included  minutes_included  rub_monthly_fee  rub_per_gb  \\\n",
       "0                  30720              3000             1950         150   \n",
       "1                  30720              3000             1950         150   \n",
       "2                  30720              3000             1950         150   \n",
       "3                  30720              3000             1950         150   \n",
       "4                  30720              3000             1950         150   \n",
       "5                  30720              3000             1950         150   \n",
       "6                  30720              3000             1950         150   \n",
       "7                  30720              3000             1950         150   \n",
       "8                  15360               500              550         200   \n",
       "9                  15360               500              550         200   \n",
       "\n",
       "   rub_per_message  rub_per_minute  monthly_profit  \n",
       "0                1               1            1950  \n",
       "1                1               1            1950  \n",
       "2                1               1            1950  \n",
       "3                1               1            1950  \n",
       "4                1               1            1950  \n",
       "5                1               1            1950  \n",
       "6                1               1            1950  \n",
       "7                1               1            1950  \n",
       "8                3               3            1150  \n",
       "9                3               3             550  \n",
       "\n",
       "[10 rows x 21 columns]"
      ]
     },
     "execution_count": 39,
     "metadata": {},
     "output_type": "execute_result"
    }
   ],
   "source": [
    "df_merge_final.head(10)"
   ]
  },
  {
   "cell_type": "code",
   "execution_count": 40,
   "id": "4ef3da34",
   "metadata": {},
   "outputs": [
    {
     "name": "stdout",
     "output_type": "stream",
     "text": [
      "<class 'pandas.core.frame.DataFrame'>\n",
      "Int64Index: 3214 entries, 0 to 3213\n",
      "Data columns (total 21 columns):\n",
      " #   Column                 Non-Null Count  Dtype         \n",
      "---  ------                 --------------  -----         \n",
      " 0   user_id                3214 non-null   int64         \n",
      " 1   month                  3214 non-null   int64         \n",
      " 2   number_of_calls        3214 non-null   int32         \n",
      " 3   minutes_spent          3214 non-null   int32         \n",
      " 4   sms_spent              3214 non-null   int32         \n",
      " 5   mb_used                3214 non-null   float64       \n",
      " 6   age                    3214 non-null   int64         \n",
      " 7   churn_date             187 non-null    datetime64[ns]\n",
      " 8   city                   3214 non-null   object        \n",
      " 9   first_name             3214 non-null   object        \n",
      " 10  last_name              3214 non-null   object        \n",
      " 11  reg_date               3214 non-null   datetime64[ns]\n",
      " 12  tariff                 3214 non-null   object        \n",
      " 13  messages_included      3214 non-null   int64         \n",
      " 14  mb_per_month_included  3214 non-null   int64         \n",
      " 15  minutes_included       3214 non-null   int64         \n",
      " 16  rub_monthly_fee        3214 non-null   int64         \n",
      " 17  rub_per_gb             3214 non-null   int64         \n",
      " 18  rub_per_message        3214 non-null   int64         \n",
      " 19  rub_per_minute         3214 non-null   int64         \n",
      " 20  monthly_profit         3214 non-null   int64         \n",
      "dtypes: datetime64[ns](2), float64(1), int32(3), int64(11), object(4)\n",
      "memory usage: 514.7+ KB\n"
     ]
    }
   ],
   "source": [
    "df_merge_final.info()"
   ]
  },
  {
   "cell_type": "code",
   "execution_count": 92,
   "id": "73ba0bb8",
   "metadata": {},
   "outputs": [
    {
     "data": {
      "text/html": [
       "<div>\n",
       "<style scoped>\n",
       "    .dataframe tbody tr th:only-of-type {\n",
       "        vertical-align: middle;\n",
       "    }\n",
       "\n",
       "    .dataframe tbody tr th {\n",
       "        vertical-align: top;\n",
       "    }\n",
       "\n",
       "    .dataframe thead th {\n",
       "        text-align: right;\n",
       "    }\n",
       "</style>\n",
       "<table border=\"1\" class=\"dataframe\">\n",
       "  <thead>\n",
       "    <tr style=\"text-align: right;\">\n",
       "      <th></th>\n",
       "      <th>month</th>\n",
       "      <th>number_of_calls</th>\n",
       "      <th>minutes_spent</th>\n",
       "      <th>sms_spent</th>\n",
       "      <th>mb_used</th>\n",
       "      <th>age</th>\n",
       "      <th>churn_date</th>\n",
       "      <th>city</th>\n",
       "      <th>first_name</th>\n",
       "      <th>last_name</th>\n",
       "      <th>reg_date</th>\n",
       "      <th>tariff</th>\n",
       "      <th>messages_included</th>\n",
       "      <th>mb_per_month_included</th>\n",
       "      <th>minutes_included</th>\n",
       "      <th>rub_monthly_fee</th>\n",
       "      <th>rub_per_gb</th>\n",
       "      <th>rub_per_message</th>\n",
       "      <th>rub_per_minute</th>\n",
       "      <th>monthly_profit</th>\n",
       "    </tr>\n",
       "    <tr>\n",
       "      <th>user_id</th>\n",
       "      <th></th>\n",
       "      <th></th>\n",
       "      <th></th>\n",
       "      <th></th>\n",
       "      <th></th>\n",
       "      <th></th>\n",
       "      <th></th>\n",
       "      <th></th>\n",
       "      <th></th>\n",
       "      <th></th>\n",
       "      <th></th>\n",
       "      <th></th>\n",
       "      <th></th>\n",
       "      <th></th>\n",
       "      <th></th>\n",
       "      <th></th>\n",
       "      <th></th>\n",
       "      <th></th>\n",
       "      <th></th>\n",
       "      <th></th>\n",
       "    </tr>\n",
       "  </thead>\n",
       "  <tbody>\n",
       "    <tr>\n",
       "      <th>1000</th>\n",
       "      <td>8</td>\n",
       "      <td>8</td>\n",
       "      <td>8</td>\n",
       "      <td>8</td>\n",
       "      <td>8</td>\n",
       "      <td>8</td>\n",
       "      <td>0</td>\n",
       "      <td>8</td>\n",
       "      <td>8</td>\n",
       "      <td>8</td>\n",
       "      <td>8</td>\n",
       "      <td>8</td>\n",
       "      <td>8</td>\n",
       "      <td>8</td>\n",
       "      <td>8</td>\n",
       "      <td>8</td>\n",
       "      <td>8</td>\n",
       "      <td>8</td>\n",
       "      <td>8</td>\n",
       "      <td>8</td>\n",
       "    </tr>\n",
       "    <tr>\n",
       "      <th>1001</th>\n",
       "      <td>2</td>\n",
       "      <td>2</td>\n",
       "      <td>2</td>\n",
       "      <td>2</td>\n",
       "      <td>2</td>\n",
       "      <td>2</td>\n",
       "      <td>0</td>\n",
       "      <td>2</td>\n",
       "      <td>2</td>\n",
       "      <td>2</td>\n",
       "      <td>2</td>\n",
       "      <td>2</td>\n",
       "      <td>2</td>\n",
       "      <td>2</td>\n",
       "      <td>2</td>\n",
       "      <td>2</td>\n",
       "      <td>2</td>\n",
       "      <td>2</td>\n",
       "      <td>2</td>\n",
       "      <td>2</td>\n",
       "    </tr>\n",
       "    <tr>\n",
       "      <th>1002</th>\n",
       "      <td>7</td>\n",
       "      <td>7</td>\n",
       "      <td>7</td>\n",
       "      <td>7</td>\n",
       "      <td>7</td>\n",
       "      <td>7</td>\n",
       "      <td>0</td>\n",
       "      <td>7</td>\n",
       "      <td>7</td>\n",
       "      <td>7</td>\n",
       "      <td>7</td>\n",
       "      <td>7</td>\n",
       "      <td>7</td>\n",
       "      <td>7</td>\n",
       "      <td>7</td>\n",
       "      <td>7</td>\n",
       "      <td>7</td>\n",
       "      <td>7</td>\n",
       "      <td>7</td>\n",
       "      <td>7</td>\n",
       "    </tr>\n",
       "    <tr>\n",
       "      <th>1003</th>\n",
       "      <td>5</td>\n",
       "      <td>5</td>\n",
       "      <td>5</td>\n",
       "      <td>5</td>\n",
       "      <td>5</td>\n",
       "      <td>5</td>\n",
       "      <td>0</td>\n",
       "      <td>5</td>\n",
       "      <td>5</td>\n",
       "      <td>5</td>\n",
       "      <td>5</td>\n",
       "      <td>5</td>\n",
       "      <td>5</td>\n",
       "      <td>5</td>\n",
       "      <td>5</td>\n",
       "      <td>5</td>\n",
       "      <td>5</td>\n",
       "      <td>5</td>\n",
       "      <td>5</td>\n",
       "      <td>5</td>\n",
       "    </tr>\n",
       "    <tr>\n",
       "      <th>1004</th>\n",
       "      <td>8</td>\n",
       "      <td>8</td>\n",
       "      <td>8</td>\n",
       "      <td>8</td>\n",
       "      <td>8</td>\n",
       "      <td>8</td>\n",
       "      <td>0</td>\n",
       "      <td>8</td>\n",
       "      <td>8</td>\n",
       "      <td>8</td>\n",
       "      <td>8</td>\n",
       "      <td>8</td>\n",
       "      <td>8</td>\n",
       "      <td>8</td>\n",
       "      <td>8</td>\n",
       "      <td>8</td>\n",
       "      <td>8</td>\n",
       "      <td>8</td>\n",
       "      <td>8</td>\n",
       "      <td>8</td>\n",
       "    </tr>\n",
       "    <tr>\n",
       "      <th>...</th>\n",
       "      <td>...</td>\n",
       "      <td>...</td>\n",
       "      <td>...</td>\n",
       "      <td>...</td>\n",
       "      <td>...</td>\n",
       "      <td>...</td>\n",
       "      <td>...</td>\n",
       "      <td>...</td>\n",
       "      <td>...</td>\n",
       "      <td>...</td>\n",
       "      <td>...</td>\n",
       "      <td>...</td>\n",
       "      <td>...</td>\n",
       "      <td>...</td>\n",
       "      <td>...</td>\n",
       "      <td>...</td>\n",
       "      <td>...</td>\n",
       "      <td>...</td>\n",
       "      <td>...</td>\n",
       "      <td>...</td>\n",
       "    </tr>\n",
       "    <tr>\n",
       "      <th>1495</th>\n",
       "      <td>5</td>\n",
       "      <td>5</td>\n",
       "      <td>5</td>\n",
       "      <td>5</td>\n",
       "      <td>5</td>\n",
       "      <td>5</td>\n",
       "      <td>0</td>\n",
       "      <td>5</td>\n",
       "      <td>5</td>\n",
       "      <td>5</td>\n",
       "      <td>5</td>\n",
       "      <td>5</td>\n",
       "      <td>5</td>\n",
       "      <td>5</td>\n",
       "      <td>5</td>\n",
       "      <td>5</td>\n",
       "      <td>5</td>\n",
       "      <td>5</td>\n",
       "      <td>5</td>\n",
       "      <td>5</td>\n",
       "    </tr>\n",
       "    <tr>\n",
       "      <th>1496</th>\n",
       "      <td>12</td>\n",
       "      <td>12</td>\n",
       "      <td>12</td>\n",
       "      <td>12</td>\n",
       "      <td>12</td>\n",
       "      <td>12</td>\n",
       "      <td>0</td>\n",
       "      <td>12</td>\n",
       "      <td>12</td>\n",
       "      <td>12</td>\n",
       "      <td>12</td>\n",
       "      <td>12</td>\n",
       "      <td>12</td>\n",
       "      <td>12</td>\n",
       "      <td>12</td>\n",
       "      <td>12</td>\n",
       "      <td>12</td>\n",
       "      <td>12</td>\n",
       "      <td>12</td>\n",
       "      <td>12</td>\n",
       "    </tr>\n",
       "    <tr>\n",
       "      <th>1497</th>\n",
       "      <td>3</td>\n",
       "      <td>3</td>\n",
       "      <td>3</td>\n",
       "      <td>3</td>\n",
       "      <td>3</td>\n",
       "      <td>3</td>\n",
       "      <td>0</td>\n",
       "      <td>3</td>\n",
       "      <td>3</td>\n",
       "      <td>3</td>\n",
       "      <td>3</td>\n",
       "      <td>3</td>\n",
       "      <td>3</td>\n",
       "      <td>3</td>\n",
       "      <td>3</td>\n",
       "      <td>3</td>\n",
       "      <td>3</td>\n",
       "      <td>3</td>\n",
       "      <td>3</td>\n",
       "      <td>3</td>\n",
       "    </tr>\n",
       "    <tr>\n",
       "      <th>1498</th>\n",
       "      <td>4</td>\n",
       "      <td>4</td>\n",
       "      <td>4</td>\n",
       "      <td>4</td>\n",
       "      <td>4</td>\n",
       "      <td>4</td>\n",
       "      <td>4</td>\n",
       "      <td>4</td>\n",
       "      <td>4</td>\n",
       "      <td>4</td>\n",
       "      <td>4</td>\n",
       "      <td>4</td>\n",
       "      <td>4</td>\n",
       "      <td>4</td>\n",
       "      <td>4</td>\n",
       "      <td>4</td>\n",
       "      <td>4</td>\n",
       "      <td>4</td>\n",
       "      <td>4</td>\n",
       "      <td>4</td>\n",
       "    </tr>\n",
       "    <tr>\n",
       "      <th>1499</th>\n",
       "      <td>4</td>\n",
       "      <td>4</td>\n",
       "      <td>4</td>\n",
       "      <td>4</td>\n",
       "      <td>4</td>\n",
       "      <td>4</td>\n",
       "      <td>0</td>\n",
       "      <td>4</td>\n",
       "      <td>4</td>\n",
       "      <td>4</td>\n",
       "      <td>4</td>\n",
       "      <td>4</td>\n",
       "      <td>4</td>\n",
       "      <td>4</td>\n",
       "      <td>4</td>\n",
       "      <td>4</td>\n",
       "      <td>4</td>\n",
       "      <td>4</td>\n",
       "      <td>4</td>\n",
       "      <td>4</td>\n",
       "    </tr>\n",
       "  </tbody>\n",
       "</table>\n",
       "<p>498 rows × 20 columns</p>\n",
       "</div>"
      ],
      "text/plain": [
       "         month  number_of_calls  minutes_spent  sms_spent  mb_used  age  \\\n",
       "user_id                                                                   \n",
       "1000         8                8              8          8        8    8   \n",
       "1001         2                2              2          2        2    2   \n",
       "1002         7                7              7          7        7    7   \n",
       "1003         5                5              5          5        5    5   \n",
       "1004         8                8              8          8        8    8   \n",
       "...        ...              ...            ...        ...      ...  ...   \n",
       "1495         5                5              5          5        5    5   \n",
       "1496        12               12             12         12       12   12   \n",
       "1497         3                3              3          3        3    3   \n",
       "1498         4                4              4          4        4    4   \n",
       "1499         4                4              4          4        4    4   \n",
       "\n",
       "         churn_date  city  first_name  last_name  reg_date  tariff  \\\n",
       "user_id                                                              \n",
       "1000              0     8           8          8         8       8   \n",
       "1001              0     2           2          2         2       2   \n",
       "1002              0     7           7          7         7       7   \n",
       "1003              0     5           5          5         5       5   \n",
       "1004              0     8           8          8         8       8   \n",
       "...             ...   ...         ...        ...       ...     ...   \n",
       "1495              0     5           5          5         5       5   \n",
       "1496              0    12          12         12        12      12   \n",
       "1497              0     3           3          3         3       3   \n",
       "1498              4     4           4          4         4       4   \n",
       "1499              0     4           4          4         4       4   \n",
       "\n",
       "         messages_included  mb_per_month_included  minutes_included  \\\n",
       "user_id                                                               \n",
       "1000                     8                      8                 8   \n",
       "1001                     2                      2                 2   \n",
       "1002                     7                      7                 7   \n",
       "1003                     5                      5                 5   \n",
       "1004                     8                      8                 8   \n",
       "...                    ...                    ...               ...   \n",
       "1495                     5                      5                 5   \n",
       "1496                    12                     12                12   \n",
       "1497                     3                      3                 3   \n",
       "1498                     4                      4                 4   \n",
       "1499                     4                      4                 4   \n",
       "\n",
       "         rub_monthly_fee  rub_per_gb  rub_per_message  rub_per_minute  \\\n",
       "user_id                                                                 \n",
       "1000                   8           8                8               8   \n",
       "1001                   2           2                2               2   \n",
       "1002                   7           7                7               7   \n",
       "1003                   5           5                5               5   \n",
       "1004                   8           8                8               8   \n",
       "...                  ...         ...              ...             ...   \n",
       "1495                   5           5                5               5   \n",
       "1496                  12          12               12              12   \n",
       "1497                   3           3                3               3   \n",
       "1498                   4           4                4               4   \n",
       "1499                   4           4                4               4   \n",
       "\n",
       "         monthly_profit  \n",
       "user_id                  \n",
       "1000                  8  \n",
       "1001                  2  \n",
       "1002                  7  \n",
       "1003                  5  \n",
       "1004                  8  \n",
       "...                 ...  \n",
       "1495                  5  \n",
       "1496                 12  \n",
       "1497                  3  \n",
       "1498                  4  \n",
       "1499                  4  \n",
       "\n",
       "[498 rows x 20 columns]"
      ]
     },
     "execution_count": 92,
     "metadata": {},
     "output_type": "execute_result"
    }
   ],
   "source": [
    "df_merge_final.groupby(by='user_id').count()\n"
   ]
  },
  {
   "cell_type": "markdown",
   "id": "44fad4da",
   "metadata": {},
   "source": [
    "Мы получили дополнительный столбец `monthly_profit` с помесячной выручкой на каждого пользователя."
   ]
  },
  {
   "cell_type": "markdown",
   "id": "11997f33",
   "metadata": {},
   "source": [
    "### Вывод "
   ]
  },
  {
   "cell_type": "markdown",
   "id": "0727749f",
   "metadata": {},
   "source": [
    "Мы посчитали для каждого пользователя и добавили в таблицу:\n",
    "\n",
    "* количество сделанных звонков и израсходованных минут разговора по месяцам;\n",
    "* количество отправленных сообщений по месяцам;\n",
    "* объем израсходованного интернет-трафика по месяцам;\n",
    "* помесячную выручку с каждого пользователя.\n",
    "\n",
    "Теперь можно приступить к исследовательскому анализу данных. \n"
   ]
  },
  {
   "cell_type": "markdown",
   "id": "4938b6de",
   "metadata": {},
   "source": [
    "## Исследовательский анализ данных"
   ]
  },
  {
   "cell_type": "markdown",
   "id": "add2fd45",
   "metadata": {},
   "source": [
    "Опишем поведение клиентов оператора, исходя из выборки. Посмотрим сколько минут разговора, сколько сообщений и какой объём интернет-трафика требуется пользователям каждого тарифа в месяц. Посчитаем среднее количество, дисперсию и стандартное отклонение. Построим гистограммы. Опишем распределения."
   ]
  },
  {
   "cell_type": "markdown",
   "id": "06187c04",
   "metadata": {},
   "source": [
    "Осуществим разделение пользователей по тарифам."
   ]
  },
  {
   "cell_type": "markdown",
   "id": "c1c4b71c",
   "metadata": {},
   "source": [
    "### Анализ тарифа \"Смарт\""
   ]
  },
  {
   "cell_type": "code",
   "execution_count": 41,
   "id": "fae274c1",
   "metadata": {
    "scrolled": false
   },
   "outputs": [
    {
     "data": {
      "text/html": [
       "<div>\n",
       "<style scoped>\n",
       "    .dataframe tbody tr th:only-of-type {\n",
       "        vertical-align: middle;\n",
       "    }\n",
       "\n",
       "    .dataframe tbody tr th {\n",
       "        vertical-align: top;\n",
       "    }\n",
       "\n",
       "    .dataframe thead th {\n",
       "        text-align: right;\n",
       "    }\n",
       "</style>\n",
       "<table border=\"1\" class=\"dataframe\">\n",
       "  <thead>\n",
       "    <tr style=\"text-align: right;\">\n",
       "      <th></th>\n",
       "      <th>user_id</th>\n",
       "      <th>month</th>\n",
       "      <th>number_of_calls</th>\n",
       "      <th>minutes_spent</th>\n",
       "      <th>sms_spent</th>\n",
       "      <th>mb_used</th>\n",
       "      <th>age</th>\n",
       "      <th>churn_date</th>\n",
       "      <th>city</th>\n",
       "      <th>first_name</th>\n",
       "      <th>...</th>\n",
       "      <th>reg_date</th>\n",
       "      <th>tariff</th>\n",
       "      <th>messages_included</th>\n",
       "      <th>mb_per_month_included</th>\n",
       "      <th>minutes_included</th>\n",
       "      <th>rub_monthly_fee</th>\n",
       "      <th>rub_per_gb</th>\n",
       "      <th>rub_per_message</th>\n",
       "      <th>rub_per_minute</th>\n",
       "      <th>monthly_profit</th>\n",
       "    </tr>\n",
       "  </thead>\n",
       "  <tbody>\n",
       "    <tr>\n",
       "      <th>8</th>\n",
       "      <td>1001</td>\n",
       "      <td>11</td>\n",
       "      <td>59</td>\n",
       "      <td>430</td>\n",
       "      <td>0</td>\n",
       "      <td>18429.34</td>\n",
       "      <td>41</td>\n",
       "      <td>NaT</td>\n",
       "      <td>Москва</td>\n",
       "      <td>Иван</td>\n",
       "      <td>...</td>\n",
       "      <td>2018-11-01</td>\n",
       "      <td>smart</td>\n",
       "      <td>50</td>\n",
       "      <td>15360</td>\n",
       "      <td>500</td>\n",
       "      <td>550</td>\n",
       "      <td>200</td>\n",
       "      <td>3</td>\n",
       "      <td>3</td>\n",
       "      <td>1150</td>\n",
       "    </tr>\n",
       "    <tr>\n",
       "      <th>9</th>\n",
       "      <td>1001</td>\n",
       "      <td>12</td>\n",
       "      <td>63</td>\n",
       "      <td>414</td>\n",
       "      <td>0</td>\n",
       "      <td>14036.66</td>\n",
       "      <td>41</td>\n",
       "      <td>NaT</td>\n",
       "      <td>Москва</td>\n",
       "      <td>Иван</td>\n",
       "      <td>...</td>\n",
       "      <td>2018-11-01</td>\n",
       "      <td>smart</td>\n",
       "      <td>50</td>\n",
       "      <td>15360</td>\n",
       "      <td>500</td>\n",
       "      <td>550</td>\n",
       "      <td>200</td>\n",
       "      <td>3</td>\n",
       "      <td>3</td>\n",
       "      <td>550</td>\n",
       "    </tr>\n",
       "    <tr>\n",
       "      <th>10</th>\n",
       "      <td>1002</td>\n",
       "      <td>6</td>\n",
       "      <td>15</td>\n",
       "      <td>117</td>\n",
       "      <td>4</td>\n",
       "      <td>10856.82</td>\n",
       "      <td>59</td>\n",
       "      <td>NaT</td>\n",
       "      <td>Стерлитамак</td>\n",
       "      <td>Евгений</td>\n",
       "      <td>...</td>\n",
       "      <td>2018-06-17</td>\n",
       "      <td>smart</td>\n",
       "      <td>50</td>\n",
       "      <td>15360</td>\n",
       "      <td>500</td>\n",
       "      <td>550</td>\n",
       "      <td>200</td>\n",
       "      <td>3</td>\n",
       "      <td>3</td>\n",
       "      <td>550</td>\n",
       "    </tr>\n",
       "    <tr>\n",
       "      <th>11</th>\n",
       "      <td>1002</td>\n",
       "      <td>7</td>\n",
       "      <td>26</td>\n",
       "      <td>214</td>\n",
       "      <td>11</td>\n",
       "      <td>17580.10</td>\n",
       "      <td>59</td>\n",
       "      <td>NaT</td>\n",
       "      <td>Стерлитамак</td>\n",
       "      <td>Евгений</td>\n",
       "      <td>...</td>\n",
       "      <td>2018-06-17</td>\n",
       "      <td>smart</td>\n",
       "      <td>50</td>\n",
       "      <td>15360</td>\n",
       "      <td>500</td>\n",
       "      <td>550</td>\n",
       "      <td>200</td>\n",
       "      <td>3</td>\n",
       "      <td>3</td>\n",
       "      <td>1150</td>\n",
       "    </tr>\n",
       "    <tr>\n",
       "      <th>12</th>\n",
       "      <td>1002</td>\n",
       "      <td>8</td>\n",
       "      <td>42</td>\n",
       "      <td>289</td>\n",
       "      <td>13</td>\n",
       "      <td>20319.26</td>\n",
       "      <td>59</td>\n",
       "      <td>NaT</td>\n",
       "      <td>Стерлитамак</td>\n",
       "      <td>Евгений</td>\n",
       "      <td>...</td>\n",
       "      <td>2018-06-17</td>\n",
       "      <td>smart</td>\n",
       "      <td>50</td>\n",
       "      <td>15360</td>\n",
       "      <td>500</td>\n",
       "      <td>550</td>\n",
       "      <td>200</td>\n",
       "      <td>3</td>\n",
       "      <td>3</td>\n",
       "      <td>1550</td>\n",
       "    </tr>\n",
       "  </tbody>\n",
       "</table>\n",
       "<p>5 rows × 21 columns</p>\n",
       "</div>"
      ],
      "text/plain": [
       "    user_id  month  number_of_calls  minutes_spent  sms_spent   mb_used  age  \\\n",
       "8      1001     11               59            430          0  18429.34   41   \n",
       "9      1001     12               63            414          0  14036.66   41   \n",
       "10     1002      6               15            117          4  10856.82   59   \n",
       "11     1002      7               26            214         11  17580.10   59   \n",
       "12     1002      8               42            289         13  20319.26   59   \n",
       "\n",
       "   churn_date         city first_name  ...   reg_date tariff  \\\n",
       "8         NaT       Москва       Иван  ... 2018-11-01  smart   \n",
       "9         NaT       Москва       Иван  ... 2018-11-01  smart   \n",
       "10        NaT  Стерлитамак    Евгений  ... 2018-06-17  smart   \n",
       "11        NaT  Стерлитамак    Евгений  ... 2018-06-17  smart   \n",
       "12        NaT  Стерлитамак    Евгений  ... 2018-06-17  smart   \n",
       "\n",
       "   messages_included  mb_per_month_included  minutes_included  \\\n",
       "8                 50                  15360               500   \n",
       "9                 50                  15360               500   \n",
       "10                50                  15360               500   \n",
       "11                50                  15360               500   \n",
       "12                50                  15360               500   \n",
       "\n",
       "    rub_monthly_fee  rub_per_gb  rub_per_message  rub_per_minute  \\\n",
       "8               550         200                3               3   \n",
       "9               550         200                3               3   \n",
       "10              550         200                3               3   \n",
       "11              550         200                3               3   \n",
       "12              550         200                3               3   \n",
       "\n",
       "    monthly_profit  \n",
       "8             1150  \n",
       "9              550  \n",
       "10             550  \n",
       "11            1150  \n",
       "12            1550  \n",
       "\n",
       "[5 rows x 21 columns]"
      ]
     },
     "execution_count": 41,
     "metadata": {},
     "output_type": "execute_result"
    }
   ],
   "source": [
    "# создание таблицы для тарифа smart\n",
    "report = df_merge_final.query('tariff == \"smart\"')\n",
    "report.head()"
   ]
  },
  {
   "cell_type": "code",
   "execution_count": 42,
   "id": "d8f9cf46",
   "metadata": {},
   "outputs": [
    {
     "data": {
      "text/plain": [
       "2229"
      ]
     },
     "execution_count": 42,
     "metadata": {},
     "output_type": "execute_result"
    }
   ],
   "source": [
    "# кол-во наблюдений\n",
    "report['user_id'].count()"
   ]
  },
  {
   "cell_type": "code",
   "execution_count": 43,
   "id": "da35512d",
   "metadata": {},
   "outputs": [
    {
     "data": {
      "text/html": [
       "<div>\n",
       "<style scoped>\n",
       "    .dataframe tbody tr th:only-of-type {\n",
       "        vertical-align: middle;\n",
       "    }\n",
       "\n",
       "    .dataframe tbody tr th {\n",
       "        vertical-align: top;\n",
       "    }\n",
       "\n",
       "    .dataframe thead th {\n",
       "        text-align: right;\n",
       "    }\n",
       "</style>\n",
       "<table border=\"1\" class=\"dataframe\">\n",
       "  <thead>\n",
       "    <tr style=\"text-align: right;\">\n",
       "      <th></th>\n",
       "      <th>user_id</th>\n",
       "      <th>month</th>\n",
       "      <th>number_of_calls</th>\n",
       "      <th>minutes_spent</th>\n",
       "      <th>sms_spent</th>\n",
       "      <th>mb_used</th>\n",
       "      <th>age</th>\n",
       "      <th>messages_included</th>\n",
       "      <th>mb_per_month_included</th>\n",
       "      <th>minutes_included</th>\n",
       "      <th>rub_monthly_fee</th>\n",
       "      <th>rub_per_gb</th>\n",
       "      <th>rub_per_message</th>\n",
       "      <th>rub_per_minute</th>\n",
       "      <th>monthly_profit</th>\n",
       "    </tr>\n",
       "  </thead>\n",
       "  <tbody>\n",
       "    <tr>\n",
       "      <th>count</th>\n",
       "      <td>2229.000000</td>\n",
       "      <td>2229.000000</td>\n",
       "      <td>2229.000000</td>\n",
       "      <td>2229.000000</td>\n",
       "      <td>2229.000000</td>\n",
       "      <td>2229.000000</td>\n",
       "      <td>2229.000000</td>\n",
       "      <td>2229.0</td>\n",
       "      <td>2229.0</td>\n",
       "      <td>2229.0</td>\n",
       "      <td>2229.0</td>\n",
       "      <td>2229.0</td>\n",
       "      <td>2229.0</td>\n",
       "      <td>2229.0</td>\n",
       "      <td>2229.000000</td>\n",
       "    </tr>\n",
       "    <tr>\n",
       "      <th>mean</th>\n",
       "      <td>1246.506505</td>\n",
       "      <td>8.346792</td>\n",
       "      <td>58.463437</td>\n",
       "      <td>417.934948</td>\n",
       "      <td>33.384029</td>\n",
       "      <td>16208.386990</td>\n",
       "      <td>46.556303</td>\n",
       "      <td>50.0</td>\n",
       "      <td>15360.0</td>\n",
       "      <td>500.0</td>\n",
       "      <td>550.0</td>\n",
       "      <td>200.0</td>\n",
       "      <td>3.0</td>\n",
       "      <td>3.0</td>\n",
       "      <td>1289.973531</td>\n",
       "    </tr>\n",
       "    <tr>\n",
       "      <th>std</th>\n",
       "      <td>146.119496</td>\n",
       "      <td>2.920316</td>\n",
       "      <td>25.939858</td>\n",
       "      <td>190.313730</td>\n",
       "      <td>28.227876</td>\n",
       "      <td>5870.476681</td>\n",
       "      <td>16.353371</td>\n",
       "      <td>0.0</td>\n",
       "      <td>0.0</td>\n",
       "      <td>0.0</td>\n",
       "      <td>0.0</td>\n",
       "      <td>0.0</td>\n",
       "      <td>0.0</td>\n",
       "      <td>0.0</td>\n",
       "      <td>818.404367</td>\n",
       "    </tr>\n",
       "    <tr>\n",
       "      <th>min</th>\n",
       "      <td>1001.000000</td>\n",
       "      <td>1.000000</td>\n",
       "      <td>0.000000</td>\n",
       "      <td>0.000000</td>\n",
       "      <td>0.000000</td>\n",
       "      <td>0.000000</td>\n",
       "      <td>18.000000</td>\n",
       "      <td>50.0</td>\n",
       "      <td>15360.0</td>\n",
       "      <td>500.0</td>\n",
       "      <td>550.0</td>\n",
       "      <td>200.0</td>\n",
       "      <td>3.0</td>\n",
       "      <td>3.0</td>\n",
       "      <td>550.000000</td>\n",
       "    </tr>\n",
       "    <tr>\n",
       "      <th>25%</th>\n",
       "      <td>1121.000000</td>\n",
       "      <td>6.000000</td>\n",
       "      <td>40.000000</td>\n",
       "      <td>282.000000</td>\n",
       "      <td>10.000000</td>\n",
       "      <td>12643.010000</td>\n",
       "      <td>32.000000</td>\n",
       "      <td>50.0</td>\n",
       "      <td>15360.0</td>\n",
       "      <td>500.0</td>\n",
       "      <td>550.0</td>\n",
       "      <td>200.0</td>\n",
       "      <td>3.0</td>\n",
       "      <td>3.0</td>\n",
       "      <td>550.000000</td>\n",
       "    </tr>\n",
       "    <tr>\n",
       "      <th>50%</th>\n",
       "      <td>1239.000000</td>\n",
       "      <td>9.000000</td>\n",
       "      <td>60.000000</td>\n",
       "      <td>422.000000</td>\n",
       "      <td>28.000000</td>\n",
       "      <td>16506.840000</td>\n",
       "      <td>47.000000</td>\n",
       "      <td>50.0</td>\n",
       "      <td>15360.0</td>\n",
       "      <td>500.0</td>\n",
       "      <td>550.0</td>\n",
       "      <td>200.0</td>\n",
       "      <td>3.0</td>\n",
       "      <td>3.0</td>\n",
       "      <td>1023.000000</td>\n",
       "    </tr>\n",
       "    <tr>\n",
       "      <th>75%</th>\n",
       "      <td>1376.000000</td>\n",
       "      <td>11.000000</td>\n",
       "      <td>76.000000</td>\n",
       "      <td>545.000000</td>\n",
       "      <td>51.000000</td>\n",
       "      <td>20042.930000</td>\n",
       "      <td>62.000000</td>\n",
       "      <td>50.0</td>\n",
       "      <td>15360.0</td>\n",
       "      <td>500.0</td>\n",
       "      <td>550.0</td>\n",
       "      <td>200.0</td>\n",
       "      <td>3.0</td>\n",
       "      <td>3.0</td>\n",
       "      <td>1750.000000</td>\n",
       "    </tr>\n",
       "    <tr>\n",
       "      <th>max</th>\n",
       "      <td>1499.000000</td>\n",
       "      <td>12.000000</td>\n",
       "      <td>198.000000</td>\n",
       "      <td>1435.000000</td>\n",
       "      <td>143.000000</td>\n",
       "      <td>38552.450000</td>\n",
       "      <td>75.000000</td>\n",
       "      <td>50.0</td>\n",
       "      <td>15360.0</td>\n",
       "      <td>500.0</td>\n",
       "      <td>550.0</td>\n",
       "      <td>200.0</td>\n",
       "      <td>3.0</td>\n",
       "      <td>3.0</td>\n",
       "      <td>6770.000000</td>\n",
       "    </tr>\n",
       "  </tbody>\n",
       "</table>\n",
       "</div>"
      ],
      "text/plain": [
       "           user_id        month  number_of_calls  minutes_spent    sms_spent  \\\n",
       "count  2229.000000  2229.000000      2229.000000    2229.000000  2229.000000   \n",
       "mean   1246.506505     8.346792        58.463437     417.934948    33.384029   \n",
       "std     146.119496     2.920316        25.939858     190.313730    28.227876   \n",
       "min    1001.000000     1.000000         0.000000       0.000000     0.000000   \n",
       "25%    1121.000000     6.000000        40.000000     282.000000    10.000000   \n",
       "50%    1239.000000     9.000000        60.000000     422.000000    28.000000   \n",
       "75%    1376.000000    11.000000        76.000000     545.000000    51.000000   \n",
       "max    1499.000000    12.000000       198.000000    1435.000000   143.000000   \n",
       "\n",
       "            mb_used          age  messages_included  mb_per_month_included  \\\n",
       "count   2229.000000  2229.000000             2229.0                 2229.0   \n",
       "mean   16208.386990    46.556303               50.0                15360.0   \n",
       "std     5870.476681    16.353371                0.0                    0.0   \n",
       "min        0.000000    18.000000               50.0                15360.0   \n",
       "25%    12643.010000    32.000000               50.0                15360.0   \n",
       "50%    16506.840000    47.000000               50.0                15360.0   \n",
       "75%    20042.930000    62.000000               50.0                15360.0   \n",
       "max    38552.450000    75.000000               50.0                15360.0   \n",
       "\n",
       "       minutes_included  rub_monthly_fee  rub_per_gb  rub_per_message  \\\n",
       "count            2229.0           2229.0      2229.0           2229.0   \n",
       "mean              500.0            550.0       200.0              3.0   \n",
       "std                 0.0              0.0         0.0              0.0   \n",
       "min               500.0            550.0       200.0              3.0   \n",
       "25%               500.0            550.0       200.0              3.0   \n",
       "50%               500.0            550.0       200.0              3.0   \n",
       "75%               500.0            550.0       200.0              3.0   \n",
       "max               500.0            550.0       200.0              3.0   \n",
       "\n",
       "       rub_per_minute  monthly_profit  \n",
       "count          2229.0     2229.000000  \n",
       "mean              3.0     1289.973531  \n",
       "std               0.0      818.404367  \n",
       "min               3.0      550.000000  \n",
       "25%               3.0      550.000000  \n",
       "50%               3.0     1023.000000  \n",
       "75%               3.0     1750.000000  \n",
       "max               3.0     6770.000000  "
      ]
     },
     "execution_count": 43,
     "metadata": {},
     "output_type": "execute_result"
    }
   ],
   "source": [
    "# анализ медианы, среднего и стандартного отклонения\n",
    "report.describe()"
   ]
  },
  {
   "cell_type": "markdown",
   "id": "956471f4",
   "metadata": {},
   "source": [
    "Улучшенная метрика разброса — не просто среднее расстояние между значениями датасета и средним, а средний квадрат этого расстояния. Эта величина называется дисперсия (лат. dispersio, «рассеяние»).\n",
    "\n",
    "Если изначальные данные были измерены, например, в метрах, пользователях или рублях, то дисперсия оказывается измерена в квадратах тех же единиц. Это часто бывает неудобно.Чтобы вернуться к изначальным единицам, из дисперсии извлекают квадратный корень. Полученное значение называется стандартное отклонение. \n",
    "\n",
    "Обычно в качестве меры разброса рассчитывают именно стандартное отклонение, ведь оно измеряется в тех же единицах, что и сами данные.\n",
    "\n",
    "\n",
    "Дисперсию совокупности рассчитывают методом var() (от англ. variance — «дисперсия»).Если известно, что датасет — не вся совокупность, а выборка из неё, вместо дисперсии считают её оценку по имеющейся выборке (то есть s², а не σ²). Для этого в методе var() указывают параметр ddof=1. \n",
    "\n",
    "Стандартное отклонение находят методом std() (от англ. standard deviation, «стандартное отклонение») из библиотеки NumPy."
   ]
  },
  {
   "cell_type": "markdown",
   "id": "946abdd6",
   "metadata": {},
   "source": [
    "Рассчитаем дисперсию и стандартное отклонение для `minutes_spent`,\t`sms_spent`,\t`mb_used`."
   ]
  },
  {
   "cell_type": "code",
   "execution_count": 44,
   "id": "f0240e29",
   "metadata": {
    "scrolled": true
   },
   "outputs": [
    {
     "data": {
      "text/plain": [
       "36219.315784344246"
      ]
     },
     "execution_count": 44,
     "metadata": {},
     "output_type": "execute_result"
    }
   ],
   "source": [
    "# minutes_spent дисперсия\n",
    "variance_estimate = np.var(report['minutes_spent'], ddof=1)\n",
    "variance_estimate"
   ]
  },
  {
   "cell_type": "code",
   "execution_count": 45,
   "id": "4afd73a7",
   "metadata": {},
   "outputs": [
    {
     "data": {
      "text/plain": [
       "190.3137298892128"
      ]
     },
     "execution_count": 45,
     "metadata": {},
     "output_type": "execute_result"
    }
   ],
   "source": [
    "# minutes_spent стандартное отклонение \n",
    "standard_deviation = np.std(report['minutes_spent'],ddof=1)\n",
    "standard_deviation"
   ]
  },
  {
   "cell_type": "code",
   "execution_count": 46,
   "id": "80ec7559",
   "metadata": {},
   "outputs": [
    {
     "data": {
      "text/plain": [
       "796.8129584480083"
      ]
     },
     "execution_count": 46,
     "metadata": {},
     "output_type": "execute_result"
    }
   ],
   "source": [
    "# sms_spent дисперсия\n",
    "variance_estimate = np.var(report['sms_spent'], ddof=1)\n",
    "variance_estimate"
   ]
  },
  {
   "cell_type": "code",
   "execution_count": 47,
   "id": "97c7c985",
   "metadata": {},
   "outputs": [
    {
     "data": {
      "text/plain": [
       "28.22787555676141"
      ]
     },
     "execution_count": 47,
     "metadata": {},
     "output_type": "execute_result"
    }
   ],
   "source": [
    "# sms_spent_spent стандартное отклонение \n",
    "standard_deviation = np.std(report['sms_spent'],ddof=1)\n",
    "standard_deviation"
   ]
  },
  {
   "cell_type": "code",
   "execution_count": 48,
   "id": "76ff72e4",
   "metadata": {},
   "outputs": [
    {
     "data": {
      "text/plain": [
       "34462496.46274239"
      ]
     },
     "execution_count": 48,
     "metadata": {},
     "output_type": "execute_result"
    }
   ],
   "source": [
    "# mb_used дисперсия\n",
    "variance_estimate = np.var(report['mb_used'], ddof=1)\n",
    "variance_estimate"
   ]
  },
  {
   "cell_type": "code",
   "execution_count": 49,
   "id": "7672b3fc",
   "metadata": {
    "scrolled": true
   },
   "outputs": [
    {
     "data": {
      "text/plain": [
       "5870.4766810491965"
      ]
     },
     "execution_count": 49,
     "metadata": {},
     "output_type": "execute_result"
    }
   ],
   "source": [
    "# mb_used стандартное отклонение \n",
    "standard_deviation = np.std(report['mb_used'],ddof=1)\n",
    "standard_deviation"
   ]
  },
  {
   "cell_type": "markdown",
   "id": "a2cb108d",
   "metadata": {},
   "source": [
    "Напомним, что для тарифа smart:включено 500 минут разговора, 50 сообщений и 15 Гб интернет-трафика."
   ]
  },
  {
   "cell_type": "markdown",
   "id": "99cbfc70",
   "metadata": {},
   "source": [
    "Заметим, что большинство пользователей тарифа smart тратят на разговоры 422 минуты, 28 sms и 17 Гб интернета. "
   ]
  },
  {
   "cell_type": "markdown",
   "id": "cdf39319",
   "metadata": {},
   "source": [
    "Построим гистограммы для minutes_spent, sms_spent, mb_used."
   ]
  },
  {
   "cell_type": "code",
   "execution_count": 50,
   "id": "20a87f5b",
   "metadata": {
    "scrolled": true
   },
   "outputs": [
    {
     "data": {
      "image/png": "[encoded data removed]",
      "text/plain": [
       "<Figure size 432x288 with 1 Axes>"
      ]
     },
     "metadata": {
      "image/png": {
       "height": 291,
       "width": 401
      },
      "needs_background": "light"
     },
     "output_type": "display_data"
    }
   ],
   "source": [
    "# Построение гистограммы minutes_spent\n",
    "plt.hist(report['minutes_spent'])\n",
    "plt.xlim(0, 1200)\n",
    "plt.grid()\n",
    "plt.xlabel(\"Минуты\"), plt.ylabel(\"Количество пользователей\")\n",
    "plt.title('Распределение потраченных минут \\n пользователей тарифа smart')\n",
    "plt.show()"
   ]
  },
  {
   "cell_type": "markdown",
   "id": "45fb3384",
   "metadata": {},
   "source": [
    "Заметим, что распределение близко к нормальному."
   ]
  },
  {
   "cell_type": "code",
   "execution_count": 51,
   "id": "14f81b15",
   "metadata": {
    "scrolled": true
   },
   "outputs": [
    {
     "data": {
      "image/png": "[encoded data removed]",
      "text/plain": [
       "<Figure size 432x288 with 1 Axes>"
      ]
     },
     "metadata": {
      "image/png": {
       "height": 291,
       "width": 388
      },
      "needs_background": "light"
     },
     "output_type": "display_data"
    }
   ],
   "source": [
    "# Построение гистограммы sms_spent\n",
    "plt.hist(report['sms_spent'])\n",
    "plt.xlim(0, 150)\n",
    "plt.grid()\n",
    "plt.xlabel(\"Количество sms\"), plt.ylabel(\"Количество пользователей\")\n",
    "plt.title('Распределение потраченных sms \\n пользователей тарифа smart')\n",
    "plt.show()"
   ]
  },
  {
   "cell_type": "markdown",
   "id": "133cce41",
   "metadata": {},
   "source": [
    "Заметим, что датасет с положительной скошенностью, ведь дополнительные значения находятся со стороны положительного направления оси."
   ]
  },
  {
   "cell_type": "code",
   "execution_count": 52,
   "id": "c9230cad",
   "metadata": {},
   "outputs": [
    {
     "data": {
      "image/png": "[encoded data removed]",
      "text/plain": [
       "<Figure size 432x288 with 1 Axes>"
      ]
     },
     "metadata": {
      "image/png": {
       "height": 291,
       "width": 388
      },
      "needs_background": "light"
     },
     "output_type": "display_data"
    }
   ],
   "source": [
    "# Построение гистограммы mb_used\n",
    "plt.hist(report['mb_used'])\n",
    "plt.xlim(0, 39000)\n",
    "plt.grid()\n",
    "plt.xlabel(\"Количество мегабайт\"), plt.ylabel(\"Количество пользователей\")\n",
    "plt.title('Распределение потраченных мегабайт \\n пользователей тарифа smart')\n",
    "plt.show()"
   ]
  },
  {
   "cell_type": "markdown",
   "id": "3113940b",
   "metadata": {},
   "source": [
    "Отметим, что датасет с отрицательной скошенностью."
   ]
  },
  {
   "cell_type": "markdown",
   "id": "d3f523eb",
   "metadata": {},
   "source": [
    "Посмотрим разбивку по месяцам."
   ]
  },
  {
   "cell_type": "code",
   "execution_count": 53,
   "id": "c3574fee",
   "metadata": {},
   "outputs": [
    {
     "data": {
      "text/html": [
       "<div>\n",
       "<style scoped>\n",
       "    .dataframe tbody tr th:only-of-type {\n",
       "        vertical-align: middle;\n",
       "    }\n",
       "\n",
       "    .dataframe tbody tr th {\n",
       "        vertical-align: top;\n",
       "    }\n",
       "\n",
       "    .dataframe thead th {\n",
       "        text-align: right;\n",
       "    }\n",
       "</style>\n",
       "<table border=\"1\" class=\"dataframe\">\n",
       "  <thead>\n",
       "    <tr style=\"text-align: right;\">\n",
       "      <th></th>\n",
       "      <th>mb_used</th>\n",
       "      <th>minutes_spent</th>\n",
       "      <th>sms_spent</th>\n",
       "    </tr>\n",
       "    <tr>\n",
       "      <th>month</th>\n",
       "      <th></th>\n",
       "      <th></th>\n",
       "      <th></th>\n",
       "    </tr>\n",
       "  </thead>\n",
       "  <tbody>\n",
       "    <tr>\n",
       "      <th>1</th>\n",
       "      <td>8513.717647</td>\n",
       "      <td>203.852941</td>\n",
       "      <td>18.235294</td>\n",
       "    </tr>\n",
       "    <tr>\n",
       "      <th>2</th>\n",
       "      <td>11597.054310</td>\n",
       "      <td>298.689655</td>\n",
       "      <td>24.086207</td>\n",
       "    </tr>\n",
       "    <tr>\n",
       "      <th>3</th>\n",
       "      <td>15104.159091</td>\n",
       "      <td>390.051948</td>\n",
       "      <td>31.857143</td>\n",
       "    </tr>\n",
       "    <tr>\n",
       "      <th>4</th>\n",
       "      <td>13462.180625</td>\n",
       "      <td>367.133929</td>\n",
       "      <td>30.741071</td>\n",
       "    </tr>\n",
       "    <tr>\n",
       "      <th>5</th>\n",
       "      <td>15805.184326</td>\n",
       "      <td>387.361702</td>\n",
       "      <td>33.773050</td>\n",
       "    </tr>\n",
       "    <tr>\n",
       "      <th>6</th>\n",
       "      <td>15794.647988</td>\n",
       "      <td>395.640244</td>\n",
       "      <td>33.402439</td>\n",
       "    </tr>\n",
       "    <tr>\n",
       "      <th>7</th>\n",
       "      <td>15743.150348</td>\n",
       "      <td>408.353234</td>\n",
       "      <td>33.751244</td>\n",
       "    </tr>\n",
       "    <tr>\n",
       "      <th>8</th>\n",
       "      <td>16610.720085</td>\n",
       "      <td>421.468085</td>\n",
       "      <td>33.638298</td>\n",
       "    </tr>\n",
       "    <tr>\n",
       "      <th>9</th>\n",
       "      <td>16303.578808</td>\n",
       "      <td>428.611538</td>\n",
       "      <td>33.638462</td>\n",
       "    </tr>\n",
       "    <tr>\n",
       "      <th>10</th>\n",
       "      <td>16757.122891</td>\n",
       "      <td>426.136054</td>\n",
       "      <td>33.765306</td>\n",
       "    </tr>\n",
       "    <tr>\n",
       "      <th>11</th>\n",
       "      <td>16895.696646</td>\n",
       "      <td>435.265823</td>\n",
       "      <td>34.075949</td>\n",
       "    </tr>\n",
       "    <tr>\n",
       "      <th>12</th>\n",
       "      <td>18113.662047</td>\n",
       "      <td>478.560831</td>\n",
       "      <td>35.994065</td>\n",
       "    </tr>\n",
       "  </tbody>\n",
       "</table>\n",
       "</div>"
      ],
      "text/plain": [
       "            mb_used  minutes_spent  sms_spent\n",
       "month                                        \n",
       "1       8513.717647     203.852941  18.235294\n",
       "2      11597.054310     298.689655  24.086207\n",
       "3      15104.159091     390.051948  31.857143\n",
       "4      13462.180625     367.133929  30.741071\n",
       "5      15805.184326     387.361702  33.773050\n",
       "6      15794.647988     395.640244  33.402439\n",
       "7      15743.150348     408.353234  33.751244\n",
       "8      16610.720085     421.468085  33.638298\n",
       "9      16303.578808     428.611538  33.638462\n",
       "10     16757.122891     426.136054  33.765306\n",
       "11     16895.696646     435.265823  34.075949\n",
       "12     18113.662047     478.560831  35.994065"
      ]
     },
     "execution_count": 53,
     "metadata": {},
     "output_type": "execute_result"
    }
   ],
   "source": [
    "report = report.pivot_table(index=['month'], values = ['minutes_spent','sms_spent','mb_used'], aggfunc = ['mean'])\n",
    "\n",
    "\n",
    "report.columns = ['mb_used','minutes_spent','sms_spent']\n",
    "\n",
    "report"
   ]
  },
  {
   "cell_type": "code",
   "execution_count": 54,
   "id": "0334850b",
   "metadata": {},
   "outputs": [
    {
     "data": {
      "image/png": "[encoded data removed]",
      "text/plain": [
       "<Figure size 576x360 with 1 Axes>"
      ]
     },
     "metadata": {
      "image/png": {
       "height": 331,
       "width": 501
      },
      "needs_background": "light"
     },
     "output_type": "display_data"
    }
   ],
   "source": [
    "fig, ax = plt.subplots(figsize = (8,5))\n",
    "ax = sns.lineplot(data=report['minutes_spent'])\n",
    "plt.title('Расход минут по месяцам')\n",
    "plt.xticks(np.arange(0, 12, step=1))\n",
    "plt.grid()\n",
    "plt.show()\n"
   ]
  },
  {
   "cell_type": "markdown",
   "id": "fe838a96",
   "metadata": {},
   "source": [
    "Заметим, что в январе на тарифе smart разговаривали меньше, чем в другие месяцы."
   ]
  },
  {
   "cell_type": "code",
   "execution_count": 55,
   "id": "78425a26",
   "metadata": {
    "scrolled": true
   },
   "outputs": [
    {
     "data": {
      "image/png": "[encoded data removed]",
      "text/plain": [
       "<Figure size 576x360 with 1 Axes>"
      ]
     },
     "metadata": {
      "image/png": {
       "height": 331,
       "width": 503
      },
      "needs_background": "light"
     },
     "output_type": "display_data"
    }
   ],
   "source": [
    "fig, ax = plt.subplots(figsize = (8,5))\n",
    "ax = sns.lineplot(data=report['sms_spent'])\n",
    "plt.title('Расход sms по месяцам')\n",
    "plt.xticks(np.arange(0, 12, step=1))\n",
    "plt.grid()\n",
    "plt.show()\n"
   ]
  },
  {
   "cell_type": "markdown",
   "id": "c47ca8fb",
   "metadata": {},
   "source": [
    "Заметим, что в январе на тарифе smart отсылали меньше sms, чем в другие месяцы. Далее по месяцам наблюдается рост числа отправленных sms."
   ]
  },
  {
   "cell_type": "code",
   "execution_count": 56,
   "id": "832f0639",
   "metadata": {
    "scrolled": true
   },
   "outputs": [
    {
     "data": {
      "image/png": "[encoded data removed]",
      "text/plain": [
       "<Figure size 576x360 with 1 Axes>"
      ]
     },
     "metadata": {
      "image/png": {
       "height": 331,
       "width": 513
      },
      "needs_background": "light"
     },
     "output_type": "display_data"
    }
   ],
   "source": [
    "fig, ax = plt.subplots(figsize = (8,5))\n",
    "ax = sns.lineplot(data=report['mb_used'])\n",
    "plt.title('Расход мегабайт по месяцам')\n",
    "plt.xticks(np.arange(0, 12, step=1))\n",
    "plt.grid()\n",
    "plt.show()\n"
   ]
  },
  {
   "cell_type": "markdown",
   "id": "9d851008",
   "metadata": {},
   "source": [
    "Заметим, что в январе на тарифе smart интернетом пользовались меньше, чем в другие месяцы. Далее наблюдается рост по использованию интернета."
   ]
  },
  {
   "cell_type": "markdown",
   "id": "ca6ef543",
   "metadata": {},
   "source": [
    "Отметим, что максимальные расходы приходятся на декабрь и в большинстве месяцев идет превышение над тарифом в 15 Гб по интернет-трафику."
   ]
  },
  {
   "cell_type": "markdown",
   "id": "97d94a60",
   "metadata": {},
   "source": [
    "### Анализ тарифа \"Ультра\""
   ]
  },
  {
   "cell_type": "code",
   "execution_count": 57,
   "id": "542ff275",
   "metadata": {
    "scrolled": false
   },
   "outputs": [
    {
     "data": {
      "text/html": [
       "<div>\n",
       "<style scoped>\n",
       "    .dataframe tbody tr th:only-of-type {\n",
       "        vertical-align: middle;\n",
       "    }\n",
       "\n",
       "    .dataframe tbody tr th {\n",
       "        vertical-align: top;\n",
       "    }\n",
       "\n",
       "    .dataframe thead th {\n",
       "        text-align: right;\n",
       "    }\n",
       "</style>\n",
       "<table border=\"1\" class=\"dataframe\">\n",
       "  <thead>\n",
       "    <tr style=\"text-align: right;\">\n",
       "      <th></th>\n",
       "      <th>user_id</th>\n",
       "      <th>month</th>\n",
       "      <th>number_of_calls</th>\n",
       "      <th>minutes_spent</th>\n",
       "      <th>sms_spent</th>\n",
       "      <th>mb_used</th>\n",
       "      <th>age</th>\n",
       "      <th>churn_date</th>\n",
       "      <th>city</th>\n",
       "      <th>first_name</th>\n",
       "      <th>...</th>\n",
       "      <th>reg_date</th>\n",
       "      <th>tariff</th>\n",
       "      <th>messages_included</th>\n",
       "      <th>mb_per_month_included</th>\n",
       "      <th>minutes_included</th>\n",
       "      <th>rub_monthly_fee</th>\n",
       "      <th>rub_per_gb</th>\n",
       "      <th>rub_per_message</th>\n",
       "      <th>rub_per_minute</th>\n",
       "      <th>monthly_profit</th>\n",
       "    </tr>\n",
       "  </thead>\n",
       "  <tbody>\n",
       "    <tr>\n",
       "      <th>0</th>\n",
       "      <td>1000</td>\n",
       "      <td>5</td>\n",
       "      <td>22</td>\n",
       "      <td>159</td>\n",
       "      <td>22</td>\n",
       "      <td>2253.49</td>\n",
       "      <td>52</td>\n",
       "      <td>NaT</td>\n",
       "      <td>Краснодар</td>\n",
       "      <td>Рафаил</td>\n",
       "      <td>...</td>\n",
       "      <td>2018-05-25</td>\n",
       "      <td>ultra</td>\n",
       "      <td>1000</td>\n",
       "      <td>30720</td>\n",
       "      <td>3000</td>\n",
       "      <td>1950</td>\n",
       "      <td>150</td>\n",
       "      <td>1</td>\n",
       "      <td>1</td>\n",
       "      <td>1950</td>\n",
       "    </tr>\n",
       "    <tr>\n",
       "      <th>1</th>\n",
       "      <td>1000</td>\n",
       "      <td>6</td>\n",
       "      <td>43</td>\n",
       "      <td>172</td>\n",
       "      <td>60</td>\n",
       "      <td>23233.77</td>\n",
       "      <td>52</td>\n",
       "      <td>NaT</td>\n",
       "      <td>Краснодар</td>\n",
       "      <td>Рафаил</td>\n",
       "      <td>...</td>\n",
       "      <td>2018-05-25</td>\n",
       "      <td>ultra</td>\n",
       "      <td>1000</td>\n",
       "      <td>30720</td>\n",
       "      <td>3000</td>\n",
       "      <td>1950</td>\n",
       "      <td>150</td>\n",
       "      <td>1</td>\n",
       "      <td>1</td>\n",
       "      <td>1950</td>\n",
       "    </tr>\n",
       "    <tr>\n",
       "      <th>2</th>\n",
       "      <td>1000</td>\n",
       "      <td>7</td>\n",
       "      <td>47</td>\n",
       "      <td>340</td>\n",
       "      <td>75</td>\n",
       "      <td>14003.64</td>\n",
       "      <td>52</td>\n",
       "      <td>NaT</td>\n",
       "      <td>Краснодар</td>\n",
       "      <td>Рафаил</td>\n",
       "      <td>...</td>\n",
       "      <td>2018-05-25</td>\n",
       "      <td>ultra</td>\n",
       "      <td>1000</td>\n",
       "      <td>30720</td>\n",
       "      <td>3000</td>\n",
       "      <td>1950</td>\n",
       "      <td>150</td>\n",
       "      <td>1</td>\n",
       "      <td>1</td>\n",
       "      <td>1950</td>\n",
       "    </tr>\n",
       "    <tr>\n",
       "      <th>3</th>\n",
       "      <td>1000</td>\n",
       "      <td>8</td>\n",
       "      <td>52</td>\n",
       "      <td>408</td>\n",
       "      <td>81</td>\n",
       "      <td>14055.93</td>\n",
       "      <td>52</td>\n",
       "      <td>NaT</td>\n",
       "      <td>Краснодар</td>\n",
       "      <td>Рафаил</td>\n",
       "      <td>...</td>\n",
       "      <td>2018-05-25</td>\n",
       "      <td>ultra</td>\n",
       "      <td>1000</td>\n",
       "      <td>30720</td>\n",
       "      <td>3000</td>\n",
       "      <td>1950</td>\n",
       "      <td>150</td>\n",
       "      <td>1</td>\n",
       "      <td>1</td>\n",
       "      <td>1950</td>\n",
       "    </tr>\n",
       "    <tr>\n",
       "      <th>4</th>\n",
       "      <td>1000</td>\n",
       "      <td>9</td>\n",
       "      <td>58</td>\n",
       "      <td>466</td>\n",
       "      <td>57</td>\n",
       "      <td>14568.91</td>\n",
       "      <td>52</td>\n",
       "      <td>NaT</td>\n",
       "      <td>Краснодар</td>\n",
       "      <td>Рафаил</td>\n",
       "      <td>...</td>\n",
       "      <td>2018-05-25</td>\n",
       "      <td>ultra</td>\n",
       "      <td>1000</td>\n",
       "      <td>30720</td>\n",
       "      <td>3000</td>\n",
       "      <td>1950</td>\n",
       "      <td>150</td>\n",
       "      <td>1</td>\n",
       "      <td>1</td>\n",
       "      <td>1950</td>\n",
       "    </tr>\n",
       "  </tbody>\n",
       "</table>\n",
       "<p>5 rows × 21 columns</p>\n",
       "</div>"
      ],
      "text/plain": [
       "   user_id  month  number_of_calls  minutes_spent  sms_spent   mb_used  age  \\\n",
       "0     1000      5               22            159         22   2253.49   52   \n",
       "1     1000      6               43            172         60  23233.77   52   \n",
       "2     1000      7               47            340         75  14003.64   52   \n",
       "3     1000      8               52            408         81  14055.93   52   \n",
       "4     1000      9               58            466         57  14568.91   52   \n",
       "\n",
       "  churn_date       city first_name  ...   reg_date tariff messages_included  \\\n",
       "0        NaT  Краснодар     Рафаил  ... 2018-05-25  ultra              1000   \n",
       "1        NaT  Краснодар     Рафаил  ... 2018-05-25  ultra              1000   \n",
       "2        NaT  Краснодар     Рафаил  ... 2018-05-25  ultra              1000   \n",
       "3        NaT  Краснодар     Рафаил  ... 2018-05-25  ultra              1000   \n",
       "4        NaT  Краснодар     Рафаил  ... 2018-05-25  ultra              1000   \n",
       "\n",
       "   mb_per_month_included  minutes_included  rub_monthly_fee  rub_per_gb  \\\n",
       "0                  30720              3000             1950         150   \n",
       "1                  30720              3000             1950         150   \n",
       "2                  30720              3000             1950         150   \n",
       "3                  30720              3000             1950         150   \n",
       "4                  30720              3000             1950         150   \n",
       "\n",
       "   rub_per_message  rub_per_minute  monthly_profit  \n",
       "0                1               1            1950  \n",
       "1                1               1            1950  \n",
       "2                1               1            1950  \n",
       "3                1               1            1950  \n",
       "4                1               1            1950  \n",
       "\n",
       "[5 rows x 21 columns]"
      ]
     },
     "execution_count": 57,
     "metadata": {},
     "output_type": "execute_result"
    }
   ],
   "source": [
    "# создание таблицы для тарифа ultra\n",
    "report = df_merge_final.query('tariff == \"ultra\"')\n",
    "report.head()"
   ]
  },
  {
   "cell_type": "code",
   "execution_count": 58,
   "id": "39c6ec55",
   "metadata": {},
   "outputs": [
    {
     "data": {
      "text/plain": [
       "985"
      ]
     },
     "execution_count": 58,
     "metadata": {},
     "output_type": "execute_result"
    }
   ],
   "source": [
    "# кол-во наблюдений\n",
    "report['user_id'].count()"
   ]
  },
  {
   "cell_type": "code",
   "execution_count": 59,
   "id": "96a2a61f",
   "metadata": {
    "scrolled": true
   },
   "outputs": [
    {
     "data": {
      "text/html": [
       "<div>\n",
       "<style scoped>\n",
       "    .dataframe tbody tr th:only-of-type {\n",
       "        vertical-align: middle;\n",
       "    }\n",
       "\n",
       "    .dataframe tbody tr th {\n",
       "        vertical-align: top;\n",
       "    }\n",
       "\n",
       "    .dataframe thead th {\n",
       "        text-align: right;\n",
       "    }\n",
       "</style>\n",
       "<table border=\"1\" class=\"dataframe\">\n",
       "  <thead>\n",
       "    <tr style=\"text-align: right;\">\n",
       "      <th></th>\n",
       "      <th>user_id</th>\n",
       "      <th>month</th>\n",
       "      <th>number_of_calls</th>\n",
       "      <th>minutes_spent</th>\n",
       "      <th>sms_spent</th>\n",
       "      <th>mb_used</th>\n",
       "      <th>age</th>\n",
       "      <th>messages_included</th>\n",
       "      <th>mb_per_month_included</th>\n",
       "      <th>minutes_included</th>\n",
       "      <th>rub_monthly_fee</th>\n",
       "      <th>rub_per_gb</th>\n",
       "      <th>rub_per_message</th>\n",
       "      <th>rub_per_minute</th>\n",
       "      <th>monthly_profit</th>\n",
       "    </tr>\n",
       "  </thead>\n",
       "  <tbody>\n",
       "    <tr>\n",
       "      <th>count</th>\n",
       "      <td>985.000000</td>\n",
       "      <td>985.000000</td>\n",
       "      <td>985.000000</td>\n",
       "      <td>985.000000</td>\n",
       "      <td>985.000000</td>\n",
       "      <td>985.000000</td>\n",
       "      <td>985.000000</td>\n",
       "      <td>985.0</td>\n",
       "      <td>985.0</td>\n",
       "      <td>985.0</td>\n",
       "      <td>985.0</td>\n",
       "      <td>985.0</td>\n",
       "      <td>985.0</td>\n",
       "      <td>985.0</td>\n",
       "      <td>985.000000</td>\n",
       "    </tr>\n",
       "    <tr>\n",
       "      <th>mean</th>\n",
       "      <td>1263.094416</td>\n",
       "      <td>8.250761</td>\n",
       "      <td>73.392893</td>\n",
       "      <td>526.623350</td>\n",
       "      <td>49.363452</td>\n",
       "      <td>19468.805208</td>\n",
       "      <td>46.834518</td>\n",
       "      <td>1000.0</td>\n",
       "      <td>30720.0</td>\n",
       "      <td>3000.0</td>\n",
       "      <td>1950.0</td>\n",
       "      <td>150.0</td>\n",
       "      <td>1.0</td>\n",
       "      <td>1.0</td>\n",
       "      <td>2070.152284</td>\n",
       "    </tr>\n",
       "    <tr>\n",
       "      <th>std</th>\n",
       "      <td>140.694908</td>\n",
       "      <td>2.871762</td>\n",
       "      <td>43.916853</td>\n",
       "      <td>317.606098</td>\n",
       "      <td>47.804457</td>\n",
       "      <td>10087.170752</td>\n",
       "      <td>17.107979</td>\n",
       "      <td>0.0</td>\n",
       "      <td>0.0</td>\n",
       "      <td>0.0</td>\n",
       "      <td>0.0</td>\n",
       "      <td>0.0</td>\n",
       "      <td>0.0</td>\n",
       "      <td>0.0</td>\n",
       "      <td>376.187114</td>\n",
       "    </tr>\n",
       "    <tr>\n",
       "      <th>min</th>\n",
       "      <td>1000.000000</td>\n",
       "      <td>1.000000</td>\n",
       "      <td>0.000000</td>\n",
       "      <td>0.000000</td>\n",
       "      <td>0.000000</td>\n",
       "      <td>0.000000</td>\n",
       "      <td>18.000000</td>\n",
       "      <td>1000.0</td>\n",
       "      <td>30720.0</td>\n",
       "      <td>3000.0</td>\n",
       "      <td>1950.0</td>\n",
       "      <td>150.0</td>\n",
       "      <td>1.0</td>\n",
       "      <td>1.0</td>\n",
       "      <td>1950.000000</td>\n",
       "    </tr>\n",
       "    <tr>\n",
       "      <th>25%</th>\n",
       "      <td>1143.000000</td>\n",
       "      <td>6.000000</td>\n",
       "      <td>41.000000</td>\n",
       "      <td>284.000000</td>\n",
       "      <td>6.000000</td>\n",
       "      <td>11770.260000</td>\n",
       "      <td>30.000000</td>\n",
       "      <td>1000.0</td>\n",
       "      <td>30720.0</td>\n",
       "      <td>3000.0</td>\n",
       "      <td>1950.0</td>\n",
       "      <td>150.0</td>\n",
       "      <td>1.0</td>\n",
       "      <td>1.0</td>\n",
       "      <td>1950.000000</td>\n",
       "    </tr>\n",
       "    <tr>\n",
       "      <th>50%</th>\n",
       "      <td>1277.000000</td>\n",
       "      <td>9.000000</td>\n",
       "      <td>74.000000</td>\n",
       "      <td>518.000000</td>\n",
       "      <td>38.000000</td>\n",
       "      <td>19308.010000</td>\n",
       "      <td>45.000000</td>\n",
       "      <td>1000.0</td>\n",
       "      <td>30720.0</td>\n",
       "      <td>3000.0</td>\n",
       "      <td>1950.0</td>\n",
       "      <td>150.0</td>\n",
       "      <td>1.0</td>\n",
       "      <td>1.0</td>\n",
       "      <td>1950.000000</td>\n",
       "    </tr>\n",
       "    <tr>\n",
       "      <th>75%</th>\n",
       "      <td>1381.000000</td>\n",
       "      <td>11.000000</td>\n",
       "      <td>104.000000</td>\n",
       "      <td>752.000000</td>\n",
       "      <td>79.000000</td>\n",
       "      <td>26837.690000</td>\n",
       "      <td>63.000000</td>\n",
       "      <td>1000.0</td>\n",
       "      <td>30720.0</td>\n",
       "      <td>3000.0</td>\n",
       "      <td>1950.0</td>\n",
       "      <td>150.0</td>\n",
       "      <td>1.0</td>\n",
       "      <td>1.0</td>\n",
       "      <td>1950.000000</td>\n",
       "    </tr>\n",
       "    <tr>\n",
       "      <th>max</th>\n",
       "      <td>1495.000000</td>\n",
       "      <td>12.000000</td>\n",
       "      <td>244.000000</td>\n",
       "      <td>1673.000000</td>\n",
       "      <td>224.000000</td>\n",
       "      <td>49745.690000</td>\n",
       "      <td>75.000000</td>\n",
       "      <td>1000.0</td>\n",
       "      <td>30720.0</td>\n",
       "      <td>3000.0</td>\n",
       "      <td>1950.0</td>\n",
       "      <td>150.0</td>\n",
       "      <td>1.0</td>\n",
       "      <td>1.0</td>\n",
       "      <td>4800.000000</td>\n",
       "    </tr>\n",
       "  </tbody>\n",
       "</table>\n",
       "</div>"
      ],
      "text/plain": [
       "           user_id       month  number_of_calls  minutes_spent   sms_spent  \\\n",
       "count   985.000000  985.000000       985.000000     985.000000  985.000000   \n",
       "mean   1263.094416    8.250761        73.392893     526.623350   49.363452   \n",
       "std     140.694908    2.871762        43.916853     317.606098   47.804457   \n",
       "min    1000.000000    1.000000         0.000000       0.000000    0.000000   \n",
       "25%    1143.000000    6.000000        41.000000     284.000000    6.000000   \n",
       "50%    1277.000000    9.000000        74.000000     518.000000   38.000000   \n",
       "75%    1381.000000   11.000000       104.000000     752.000000   79.000000   \n",
       "max    1495.000000   12.000000       244.000000    1673.000000  224.000000   \n",
       "\n",
       "            mb_used         age  messages_included  mb_per_month_included  \\\n",
       "count    985.000000  985.000000              985.0                  985.0   \n",
       "mean   19468.805208   46.834518             1000.0                30720.0   \n",
       "std    10087.170752   17.107979                0.0                    0.0   \n",
       "min        0.000000   18.000000             1000.0                30720.0   \n",
       "25%    11770.260000   30.000000             1000.0                30720.0   \n",
       "50%    19308.010000   45.000000             1000.0                30720.0   \n",
       "75%    26837.690000   63.000000             1000.0                30720.0   \n",
       "max    49745.690000   75.000000             1000.0                30720.0   \n",
       "\n",
       "       minutes_included  rub_monthly_fee  rub_per_gb  rub_per_message  \\\n",
       "count             985.0            985.0       985.0            985.0   \n",
       "mean             3000.0           1950.0       150.0              1.0   \n",
       "std                 0.0              0.0         0.0              0.0   \n",
       "min              3000.0           1950.0       150.0              1.0   \n",
       "25%              3000.0           1950.0       150.0              1.0   \n",
       "50%              3000.0           1950.0       150.0              1.0   \n",
       "75%              3000.0           1950.0       150.0              1.0   \n",
       "max              3000.0           1950.0       150.0              1.0   \n",
       "\n",
       "       rub_per_minute  monthly_profit  \n",
       "count           985.0      985.000000  \n",
       "mean              1.0     2070.152284  \n",
       "std               0.0      376.187114  \n",
       "min               1.0     1950.000000  \n",
       "25%               1.0     1950.000000  \n",
       "50%               1.0     1950.000000  \n",
       "75%               1.0     1950.000000  \n",
       "max               1.0     4800.000000  "
      ]
     },
     "execution_count": 59,
     "metadata": {},
     "output_type": "execute_result"
    }
   ],
   "source": [
    "# анализ медианы, среднего и стандартного отклонения\n",
    "report.describe()"
   ]
  },
  {
   "cell_type": "markdown",
   "id": "18d323cd",
   "metadata": {},
   "source": [
    "Рассчитаем дисперсию и стандартное отклонение для `minutes_spent`,\t`sms_spent`,\t`mb_used`."
   ]
  },
  {
   "cell_type": "code",
   "execution_count": 60,
   "id": "d27e5250",
   "metadata": {
    "scrolled": true
   },
   "outputs": [
    {
     "data": {
      "text/plain": [
       "100873.63339730092"
      ]
     },
     "execution_count": 60,
     "metadata": {},
     "output_type": "execute_result"
    }
   ],
   "source": [
    "# minutes_spent дисперсия\n",
    "variance_estimate = np.var(report['minutes_spent'], ddof=1)\n",
    "variance_estimate"
   ]
  },
  {
   "cell_type": "code",
   "execution_count": 61,
   "id": "d9d6ae91",
   "metadata": {},
   "outputs": [
    {
     "data": {
      "text/plain": [
       "317.6060978591263"
      ]
     },
     "execution_count": 61,
     "metadata": {},
     "output_type": "execute_result"
    }
   ],
   "source": [
    "# minutes_spent стандартное отклонение \n",
    "standard_deviation = np.std(report['minutes_spent'],ddof=1)\n",
    "standard_deviation"
   ]
  },
  {
   "cell_type": "code",
   "execution_count": 62,
   "id": "1f5d78fe",
   "metadata": {},
   "outputs": [
    {
     "data": {
      "text/plain": [
       "2285.2661425446836"
      ]
     },
     "execution_count": 62,
     "metadata": {},
     "output_type": "execute_result"
    }
   ],
   "source": [
    "# sms_spent дисперсия\n",
    "variance_estimate = np.var(report['sms_spent'], ddof=1)\n",
    "variance_estimate"
   ]
  },
  {
   "cell_type": "code",
   "execution_count": 63,
   "id": "d966be50",
   "metadata": {},
   "outputs": [
    {
     "data": {
      "text/plain": [
       "47.80445735017482"
      ]
     },
     "execution_count": 63,
     "metadata": {},
     "output_type": "execute_result"
    }
   ],
   "source": [
    "# sms_spent_spent стандартное отклонение \n",
    "standard_deviation = np.std(report['sms_spent'],ddof=1)\n",
    "standard_deviation"
   ]
  },
  {
   "cell_type": "code",
   "execution_count": 64,
   "id": "4d85ddbd",
   "metadata": {},
   "outputs": [
    {
     "data": {
      "text/plain": [
       "101751013.78335379"
      ]
     },
     "execution_count": 64,
     "metadata": {},
     "output_type": "execute_result"
    }
   ],
   "source": [
    "# mb_used дисперсия\n",
    "variance_estimate = np.var(report['mb_used'], ddof=1)\n",
    "variance_estimate"
   ]
  },
  {
   "cell_type": "code",
   "execution_count": 65,
   "id": "d5128f41",
   "metadata": {
    "scrolled": false
   },
   "outputs": [
    {
     "data": {
      "text/plain": [
       "10087.17075216603"
      ]
     },
     "execution_count": 65,
     "metadata": {},
     "output_type": "execute_result"
    }
   ],
   "source": [
    "# mb_used стандартное отклонение \n",
    "standard_deviation = np.std(report['mb_used'],ddof=1)\n",
    "standard_deviation"
   ]
  },
  {
   "cell_type": "markdown",
   "id": "5f02881e",
   "metadata": {},
   "source": [
    "Напомним, что для тарифа ultra:включено 3000 минут разговора, 1000 сообщений и 30 Гб интернет-трафика."
   ]
  },
  {
   "cell_type": "markdown",
   "id": "be141b7a",
   "metadata": {},
   "source": [
    "Заметим, что большинство пользователей тарифа ultra тратят на разговоры 518 минут, 38 sms и 20 Гб интернета. "
   ]
  },
  {
   "cell_type": "markdown",
   "id": "0bf4ff12",
   "metadata": {},
   "source": [
    "Пользователи не исчерпывают лимит,заложенный в тарифе."
   ]
  },
  {
   "cell_type": "markdown",
   "id": "9543af49",
   "metadata": {},
   "source": [
    "Построим гистограммы для minutes_spent, sms_spent, mb_used."
   ]
  },
  {
   "cell_type": "code",
   "execution_count": 66,
   "id": "ddb55dbe",
   "metadata": {
    "scrolled": true
   },
   "outputs": [
    {
     "data": {
      "image/png": "[encoded data removed]",
      "text/plain": [
       "<Figure size 432x288 with 1 Axes>"
      ]
     },
     "metadata": {
      "image/png": {
       "height": 291,
       "width": 388
      },
      "needs_background": "light"
     },
     "output_type": "display_data"
    }
   ],
   "source": [
    "# Построение гистограммы minutes_spent\n",
    "plt.hist(report['minutes_spent'])\n",
    "plt.xlim(0, 1700)\n",
    "plt.grid()\n",
    "plt.xlabel(\"Минуты\"), plt.ylabel(\"Количество пользователей\")\n",
    "plt.title('Распределение потраченных минут \\n пользователей тарифа smart')\n",
    "plt.show()"
   ]
  },
  {
   "cell_type": "markdown",
   "id": "4cdd23b7",
   "metadata": {},
   "source": [
    "Заметим, что датасет скошен влево."
   ]
  },
  {
   "cell_type": "code",
   "execution_count": 67,
   "id": "0fc32289",
   "metadata": {
    "scrolled": true
   },
   "outputs": [
    {
     "data": {
      "image/png": "[encoded data removed]",
      "text/plain": [
       "<Figure size 432x288 with 1 Axes>"
      ]
     },
     "metadata": {
      "image/png": {
       "height": 291,
       "width": 398
      },
      "needs_background": "light"
     },
     "output_type": "display_data"
    }
   ],
   "source": [
    "# Построение гистограммы sms_spent\n",
    "plt.hist(report['sms_spent'])\n",
    "plt.xlim(0, 225)\n",
    "plt.grid()\n",
    "plt.xlabel(\"Количество sms\"), plt.ylabel(\"Количество пользователей\")\n",
    "plt.title('Распределение потраченных sms \\n пользователей тарифа smart')\n",
    "plt.show()"
   ]
  },
  {
   "cell_type": "markdown",
   "id": "88811d42",
   "metadata": {},
   "source": [
    "Заметим, что датасет с положительной скошенностью, ведь дополнительные значения находятся со стороны положительного направления оси."
   ]
  },
  {
   "cell_type": "code",
   "execution_count": 68,
   "id": "c6858eb0",
   "metadata": {},
   "outputs": [
    {
     "data": {
      "image/png": "[encoded data removed]",
      "text/plain": [
       "<Figure size 432x288 with 1 Axes>"
      ]
     },
     "metadata": {
      "image/png": {
       "height": 291,
       "width": 405
      },
      "needs_background": "light"
     },
     "output_type": "display_data"
    }
   ],
   "source": [
    "# Построение гистограммы mb_used\n",
    "plt.hist(report['mb_used'])\n",
    "plt.xlim(0, 50000)\n",
    "plt.grid()\n",
    "plt.xlabel(\"Количество мегабайт\"), plt.ylabel(\"Количество пользователей\")\n",
    "plt.title('Распределение потраченных мегабайт \\n пользователей тарифа smart')\n",
    "plt.show()"
   ]
  },
  {
   "cell_type": "markdown",
   "id": "cb6490cd",
   "metadata": {},
   "source": [
    "Отметим, что датасет с отрицательной скошенностью."
   ]
  },
  {
   "cell_type": "markdown",
   "id": "2b502fcd",
   "metadata": {},
   "source": [
    "Посмотрим разбивку по месяцам."
   ]
  },
  {
   "cell_type": "code",
   "execution_count": 69,
   "id": "5f97c90a",
   "metadata": {
    "scrolled": true
   },
   "outputs": [
    {
     "data": {
      "text/html": [
       "<div>\n",
       "<style scoped>\n",
       "    .dataframe tbody tr th:only-of-type {\n",
       "        vertical-align: middle;\n",
       "    }\n",
       "\n",
       "    .dataframe tbody tr th {\n",
       "        vertical-align: top;\n",
       "    }\n",
       "\n",
       "    .dataframe thead th {\n",
       "        text-align: right;\n",
       "    }\n",
       "</style>\n",
       "<table border=\"1\" class=\"dataframe\">\n",
       "  <thead>\n",
       "    <tr style=\"text-align: right;\">\n",
       "      <th></th>\n",
       "      <th>mb_used</th>\n",
       "      <th>minutes_spent</th>\n",
       "      <th>sms_spent</th>\n",
       "    </tr>\n",
       "    <tr>\n",
       "      <th>month</th>\n",
       "      <th></th>\n",
       "      <th></th>\n",
       "      <th></th>\n",
       "    </tr>\n",
       "  </thead>\n",
       "  <tbody>\n",
       "    <tr>\n",
       "      <th>1</th>\n",
       "      <td>13140.681111</td>\n",
       "      <td>428.111111</td>\n",
       "      <td>33.777778</td>\n",
       "    </tr>\n",
       "    <tr>\n",
       "      <th>2</th>\n",
       "      <td>11775.937500</td>\n",
       "      <td>297.125000</td>\n",
       "      <td>21.958333</td>\n",
       "    </tr>\n",
       "    <tr>\n",
       "      <th>3</th>\n",
       "      <td>17535.550270</td>\n",
       "      <td>489.648649</td>\n",
       "      <td>32.297297</td>\n",
       "    </tr>\n",
       "    <tr>\n",
       "      <th>4</th>\n",
       "      <td>16828.134364</td>\n",
       "      <td>458.018182</td>\n",
       "      <td>31.563636</td>\n",
       "    </tr>\n",
       "    <tr>\n",
       "      <th>5</th>\n",
       "      <td>19363.152985</td>\n",
       "      <td>510.328358</td>\n",
       "      <td>37.850746</td>\n",
       "    </tr>\n",
       "    <tr>\n",
       "      <th>6</th>\n",
       "      <td>18924.939286</td>\n",
       "      <td>479.702381</td>\n",
       "      <td>41.726190</td>\n",
       "    </tr>\n",
       "    <tr>\n",
       "      <th>7</th>\n",
       "      <td>20495.665165</td>\n",
       "      <td>545.791209</td>\n",
       "      <td>49.846154</td>\n",
       "    </tr>\n",
       "    <tr>\n",
       "      <th>8</th>\n",
       "      <td>19576.054673</td>\n",
       "      <td>510.775701</td>\n",
       "      <td>48.439252</td>\n",
       "    </tr>\n",
       "    <tr>\n",
       "      <th>9</th>\n",
       "      <td>19204.277130</td>\n",
       "      <td>539.443478</td>\n",
       "      <td>52.286957</td>\n",
       "    </tr>\n",
       "    <tr>\n",
       "      <th>10</th>\n",
       "      <td>20045.337317</td>\n",
       "      <td>558.081301</td>\n",
       "      <td>58.430894</td>\n",
       "    </tr>\n",
       "    <tr>\n",
       "      <th>11</th>\n",
       "      <td>19786.812463</td>\n",
       "      <td>541.380597</td>\n",
       "      <td>55.791045</td>\n",
       "    </tr>\n",
       "    <tr>\n",
       "      <th>12</th>\n",
       "      <td>21793.172590</td>\n",
       "      <td>592.805755</td>\n",
       "      <td>60.611511</td>\n",
       "    </tr>\n",
       "  </tbody>\n",
       "</table>\n",
       "</div>"
      ],
      "text/plain": [
       "            mb_used  minutes_spent  sms_spent\n",
       "month                                        \n",
       "1      13140.681111     428.111111  33.777778\n",
       "2      11775.937500     297.125000  21.958333\n",
       "3      17535.550270     489.648649  32.297297\n",
       "4      16828.134364     458.018182  31.563636\n",
       "5      19363.152985     510.328358  37.850746\n",
       "6      18924.939286     479.702381  41.726190\n",
       "7      20495.665165     545.791209  49.846154\n",
       "8      19576.054673     510.775701  48.439252\n",
       "9      19204.277130     539.443478  52.286957\n",
       "10     20045.337317     558.081301  58.430894\n",
       "11     19786.812463     541.380597  55.791045\n",
       "12     21793.172590     592.805755  60.611511"
      ]
     },
     "execution_count": 69,
     "metadata": {},
     "output_type": "execute_result"
    }
   ],
   "source": [
    "report = report.pivot_table(index=['month'], values = ['minutes_spent','sms_spent','mb_used'], aggfunc = ['mean'])\n",
    "\n",
    "\n",
    "report.columns = ['mb_used','minutes_spent','sms_spent']\n",
    "#report = report.sort_values(by = ['кол-во объявлений'], ascending= False)\n",
    "report"
   ]
  },
  {
   "cell_type": "code",
   "execution_count": 70,
   "id": "e1926fee",
   "metadata": {
    "scrolled": true
   },
   "outputs": [
    {
     "data": {
      "image/png": "[encoded data removed]",
      "text/plain": [
       "<Figure size 576x360 with 1 Axes>"
      ]
     },
     "metadata": {
      "image/png": {
       "height": 331,
       "width": 501
      },
      "needs_background": "light"
     },
     "output_type": "display_data"
    }
   ],
   "source": [
    "fig, ax = plt.subplots(figsize = (8,5))\n",
    "ax = sns.lineplot(data=report['minutes_spent'])\n",
    "plt.title('Расход минут по месяцам')\n",
    "plt.xticks(np.arange(0, 12, step=1))\n",
    "plt.grid()\n",
    "plt.show()\n"
   ]
  },
  {
   "cell_type": "markdown",
   "id": "0fcf2c25",
   "metadata": {},
   "source": [
    "Заметим, что в феврале на тарифе ultra разговаривали меньше, чем в другие месяцы."
   ]
  },
  {
   "cell_type": "code",
   "execution_count": 71,
   "id": "4174cf8b",
   "metadata": {
    "scrolled": true
   },
   "outputs": [
    {
     "data": {
      "image/png": "[encoded data removed]",
      "text/plain": [
       "<Figure size 576x360 with 1 Axes>"
      ]
     },
     "metadata": {
      "image/png": {
       "height": 331,
       "width": 494
      },
      "needs_background": "light"
     },
     "output_type": "display_data"
    }
   ],
   "source": [
    "fig, ax = plt.subplots(figsize = (8,5))\n",
    "ax = sns.lineplot(data=report['sms_spent'])\n",
    "plt.title('Расход sms по месяцам')\n",
    "plt.xticks(np.arange(0, 12, step=1))\n",
    "plt.grid()\n",
    "plt.show()\n"
   ]
  },
  {
   "cell_type": "markdown",
   "id": "cd1c4109",
   "metadata": {},
   "source": [
    "Заметим, что в феврале на тарифе ultra отсылали меньше sms, чем в другие месяцы. С февраля наблюдается рост числа отправленных sms."
   ]
  },
  {
   "cell_type": "code",
   "execution_count": 72,
   "id": "825ddb4e",
   "metadata": {
    "scrolled": false
   },
   "outputs": [
    {
     "data": {
      "image/png": "[encoded data removed]",
      "text/plain": [
       "<Figure size 576x360 with 1 Axes>"
      ]
     },
     "metadata": {
      "image/png": {
       "height": 331,
       "width": 513
      },
      "needs_background": "light"
     },
     "output_type": "display_data"
    }
   ],
   "source": [
    "fig, ax = plt.subplots(figsize = (8,5))\n",
    "ax = sns.lineplot(data=report['mb_used'])\n",
    "plt.title('Расход мегабайт по месяцам')\n",
    "plt.xticks(np.arange(0, 12, step=1))\n",
    "plt.grid()\n",
    "plt.show()\n"
   ]
  },
  {
   "cell_type": "markdown",
   "id": "ca615f32",
   "metadata": {},
   "source": [
    "Заметим, что в феврале на тарифе ultra интернетом пользовались меньше, чем в другие месяцы. С февраля наблюдается рост использования интернета."
   ]
  },
  {
   "cell_type": "markdown",
   "id": "e324cbbe",
   "metadata": {},
   "source": [
    "Максимальные расходы на интернет были в июле, ноябре и декабре, в то время как на sms и минуты - в декабре. "
   ]
  },
  {
   "cell_type": "markdown",
   "id": "9948eb43",
   "metadata": {},
   "source": [
    "### Совместный анализ тарифов по месяцам."
   ]
  },
  {
   "cell_type": "markdown",
   "id": "5451560e",
   "metadata": {},
   "source": [
    "Построим столбчатые диаграммы зависимости 'minutes_spent','sms_spent','mb_used' для двух тарифов."
   ]
  },
  {
   "cell_type": "code",
   "execution_count": 73,
   "id": "26858a17",
   "metadata": {},
   "outputs": [
    {
     "data": {
      "image/png": "[encoded data removed]",
      "text/plain": [
       "<Figure size 432x288 with 1 Axes>"
      ]
     },
     "metadata": {
      "image/png": {
       "height": 261,
       "width": 389
      },
      "needs_background": "light"
     },
     "output_type": "display_data"
    }
   ],
   "source": [
    "# зависимость кол-ва потраченных минут от месяца\n",
    "sns.barplot(x='month', y='minutes_spent', data=df_merge_final, ci=None, hue='tariff')\n",
    "plt.show()"
   ]
  },
  {
   "cell_type": "markdown",
   "id": "21f214e3",
   "metadata": {},
   "source": [
    "Отметим, что максимальное кол-во минут на обоих тарифах было истрачено в декабре, в то время как в феврале наблюдалось примерное равенство."
   ]
  },
  {
   "cell_type": "code",
   "execution_count": 74,
   "id": "283ebc58",
   "metadata": {},
   "outputs": [
    {
     "data": {
      "image/png": "[encoded data removed]",
      "text/plain": [
       "<Figure size 432x288 with 1 Axes>"
      ]
     },
     "metadata": {
      "image/png": {
       "height": 261,
       "width": 382
      },
      "needs_background": "light"
     },
     "output_type": "display_data"
    }
   ],
   "source": [
    "# зависимость кол-ва потраченных sms от месяца\n",
    "sns.barplot(x='month', y='sms_spent', data=df_merge_final, ci=None, hue='tariff')\n",
    "plt.show()"
   ]
  },
  {
   "cell_type": "markdown",
   "id": "6a904e8c",
   "metadata": {},
   "source": [
    "Отметим, что пользователи тарифа smart в среднем отправляли по 30-34 sms в течении года, исключая январь и февраль. Пользователи тарифа ultra, начиная с февраля постепенно отсылали все больше и больше sms, доходя в декабре до уровня в 60 sms."
   ]
  },
  {
   "cell_type": "code",
   "execution_count": 75,
   "id": "e01f608d",
   "metadata": {},
   "outputs": [
    {
     "data": {
      "image/png": "[encoded data removed]",
      "text/plain": [
       "<Figure size 432x288 with 1 Axes>"
      ]
     },
     "metadata": {
      "image/png": {
       "height": 261,
       "width": 402
      },
      "needs_background": "light"
     },
     "output_type": "display_data"
    }
   ],
   "source": [
    "# зависимость кол-ва потраченных мегабайт от месяца\n",
    "sns.barplot(x='month', y='mb_used', data=df_merge_final, ci=None, hue='tariff')\n",
    "plt.show()"
   ]
  },
  {
   "cell_type": "markdown",
   "id": "cb099ef5",
   "metadata": {},
   "source": [
    "Возможно, наименьший расход в январе-феврале связан с новогодними праздниками. В этот момент пользователи могут использовать домашний интернет более часто. В целом заметно превышение расхода для тарифа smart в большинстве месяцев и недорасход для тарифа ultra."
   ]
  },
  {
   "cell_type": "markdown",
   "id": "f932faf0",
   "metadata": {},
   "source": [
    "### Вывод "
   ]
  },
  {
   "cell_type": "markdown",
   "id": "0cbc851a",
   "metadata": {},
   "source": [
    "Мы посмотрели cколько минут разговора, сколько сообщений и какой объём интернет-трафика требуется пользователям каждого тарифа в месяц.Посчитали среднее количество, дисперсию и стандартное отклонение. Построили гистограммы.\n",
    "\n",
    "Приступим к проверке гипотез."
   ]
  },
  {
   "cell_type": "markdown",
   "id": "161ee4f1",
   "metadata": {},
   "source": [
    "## Проверка гипотез"
   ]
  },
  {
   "cell_type": "markdown",
   "id": "10616b98",
   "metadata": {},
   "source": [
    "Нам необходимо проверить две гипотезы:\n",
    "\n",
    "- средняя выручка пользователей тарифов «Ультра» и «Смарт» различаются;\n",
    "- средняя выручка пользователей из Москвы отличается от выручки пользователей из других регионов."
   ]
  },
  {
   "cell_type": "markdown",
   "id": "0b7ee273",
   "metadata": {},
   "source": [
    "Никакие экспериментально полученные данные не подтвердят гипотезу. Это фундаментальное ограничение. При условии, что гипотеза верна, данные могут лишь не противоречить ей или, наоборот, показывать очень маловероятные результаты.\n",
    "\n",
    "Но и в том, и в другом случае нет оснований утверждать, что выдвинутая гипотеза доказана.\n",
    "\n",
    "Итак, если данные гипотезе не противоречат, тогда мы её не отвергаем. Если же мы приходии к выводу, что вероятность получить такие данные очень низка, появляется основание отбросить эту гипотезу. Задача статистического теста как раз в том, чтобы эту вероятность найти.\n",
    "\n",
    "Статистическая гипотеза — на то и статистическая, чтобы утверждать что-то о параметре распределения всей генеральной совокупности исследуемых объектов.\n",
    "\n",
    "Проверка гипотез начинается с формулировки нулевой гипотезы H₀ (от англ. hypothesis — «гипотеза»).\n",
    "\n",
    "Исходя из H₀ формулируется альтернативная гипотеза H₁. Это утверждение, которое принимается верным, если отбрасывается H₀.\n",
    "\n",
    "Когда мы сформулировали нулевую и альтернативную гипотезу, остается только на основе данных сделать выбор: отклонить нулевую гипотезу в пользу альтернативной или нет.\n",
    "\n",
    "\n",
    "Для этого нужно посчитать вероятность получить наблюдаемое на выборке значение (чаще всего, среднее) при условии, что нулевая гипотеза верна. Если вероятность большая — отвергать нулевую гипотезу вряд ли стоит.\n",
    "\n",
    "В Python есть специальный метод для проверки гипотезы о равенстве среднего двух генеральных совокупностей по взятым из них выборкам: scipy.stats.ttest_ind (array1, array2,equal_var).\n",
    "Методу передают параметры:\n",
    "array1, array2 — массивы, содержащие выборки;\n",
    "equal_var (от англ. equal variance — «равная дисперсия») — необязательный параметр, задающий, считать ли равными дисперсии выборок. Передаётся как equal_var = True или equal_var = False (True — считать, False — не считать).\n",
    "\n",
    "Перейдем к проверке гипотез."
   ]
  },
  {
   "cell_type": "markdown",
   "id": "748e2638",
   "metadata": {},
   "source": [
    "### Проверка первой гипотезы"
   ]
  },
  {
   "cell_type": "markdown",
   "id": "f29f7d12",
   "metadata": {},
   "source": [
    "Итак, возьмем столбец выручки, разделить его на части по тарифам, найдем для этих частей средние, сравним их, а потом проведем стат-тест, чтобы понять есть ли реальное различие между средними."
   ]
  },
  {
   "cell_type": "code",
   "execution_count": 76,
   "id": "f41c1de7",
   "metadata": {},
   "outputs": [
    {
     "data": {
      "text/plain": [
       "1289.9735307312696"
      ]
     },
     "execution_count": 76,
     "metadata": {},
     "output_type": "execute_result"
    }
   ],
   "source": [
    "# выбор столбца выручки тарифа smart и определение среднего\n",
    "report = df_merge_final.query('tariff == \"smart\"')\n",
    "sample_1 = report['monthly_profit']\n",
    "sample_1.mean()"
   ]
  },
  {
   "cell_type": "code",
   "execution_count": 77,
   "id": "96803d71",
   "metadata": {},
   "outputs": [
    {
     "data": {
      "text/plain": [
       "2070.1522842639592"
      ]
     },
     "execution_count": 77,
     "metadata": {},
     "output_type": "execute_result"
    }
   ],
   "source": [
    "# выбор столбца выручки тарифа ultra и определение среднего\n",
    "report = df_merge_final.query('tariff == \"ultra\"')\n",
    "sample_2 = report['monthly_profit']\n",
    "sample_2.mean()"
   ]
  },
  {
   "cell_type": "code",
   "execution_count": 78,
   "id": "a08d3b14",
   "metadata": {},
   "outputs": [
    {
     "data": {
      "text/plain": [
       "1.6048021412427091"
      ]
     },
     "execution_count": 78,
     "metadata": {},
     "output_type": "execute_result"
    }
   ],
   "source": [
    "sample_2.mean() / sample_1.mean()"
   ]
  },
  {
   "cell_type": "markdown",
   "id": "96f42ce5",
   "metadata": {},
   "source": [
    "Среднее по тарифу ultra в 1.6 раза больше,чем на тарифе smart."
   ]
  },
  {
   "cell_type": "markdown",
   "id": "41612a72",
   "metadata": {},
   "source": [
    "Проведем стат-тест."
   ]
  },
  {
   "cell_type": "markdown",
   "id": "4297b61b",
   "metadata": {},
   "source": [
    "Сформулируем нулевую и альтернативную гипотезы.\n",
    "\n",
    "\n",
    "Нулевая гипотеза: средняя выручка пользователей тарифов «Ультра» и «Смарт» не различаются.\n",
    "\n",
    "Альтернативная гипотеза: средняя выручка пользователей тарифов «Ультра» и «Смарт» различаются.\n"
   ]
  },
  {
   "cell_type": "code",
   "execution_count": 79,
   "id": "502977da",
   "metadata": {},
   "outputs": [],
   "source": [
    "alpha = .05 # критический уровень статистической значимости\n",
    "# если p-value окажется меньше него - отвергнем нулевую гипотезу"
   ]
  },
  {
   "cell_type": "code",
   "execution_count": 80,
   "id": "2f068a72",
   "metadata": {},
   "outputs": [],
   "source": [
    "results = st.ttest_ind(\n",
    "    sample_1, \n",
    "    sample_2)"
   ]
  },
  {
   "cell_type": "code",
   "execution_count": 81,
   "id": "18b1be75",
   "metadata": {
    "scrolled": true
   },
   "outputs": [
    {
     "name": "stdout",
     "output_type": "stream",
     "text": [
      "p-значение:  1.4229814360764067e-160\n",
      "Отвергаем нулевую гипотезу\n"
     ]
    }
   ],
   "source": [
    "print('p-значение: ', results.pvalue)\n",
    "\n",
    "if results.pvalue < alpha:\n",
    "    print(\"Отвергаем нулевую гипотезу\")\n",
    "else:\n",
    "    print(\"Не получилось отвергнуть нулевую гипотезу\") "
   ]
  },
  {
   "cell_type": "markdown",
   "id": "ee7e59b1",
   "metadata": {},
   "source": [
    "Полученное значение p-value говорит о том, что вероятность получить такое или большее различие случайно даже меньше 1%,  средняя выручка из разных тарифов неодинакова. Поэтому, делаем вывод о значимом различии между средней выручкой на тарифах."
   ]
  },
  {
   "cell_type": "markdown",
   "id": "bc01eeb2",
   "metadata": {},
   "source": [
    "### Проверка второй гипотезы"
   ]
  },
  {
   "cell_type": "markdown",
   "id": "5c59712f",
   "metadata": {},
   "source": [
    "Итак, возьмем столбец выручки, разделить его на на две части Москва - другие, найдем для этих частей средние, сравним их, а потом проведем стат-тест, чтобы понять есть ли реальное различие между средними."
   ]
  },
  {
   "cell_type": "code",
   "execution_count": 82,
   "id": "5d9228ba",
   "metadata": {},
   "outputs": [
    {
     "data": {
      "text/html": [
       "<div>\n",
       "<style scoped>\n",
       "    .dataframe tbody tr th:only-of-type {\n",
       "        vertical-align: middle;\n",
       "    }\n",
       "\n",
       "    .dataframe tbody tr th {\n",
       "        vertical-align: top;\n",
       "    }\n",
       "\n",
       "    .dataframe thead th {\n",
       "        text-align: right;\n",
       "    }\n",
       "</style>\n",
       "<table border=\"1\" class=\"dataframe\">\n",
       "  <thead>\n",
       "    <tr style=\"text-align: right;\">\n",
       "      <th></th>\n",
       "      <th>user_id</th>\n",
       "      <th>month</th>\n",
       "      <th>number_of_calls</th>\n",
       "      <th>minutes_spent</th>\n",
       "      <th>sms_spent</th>\n",
       "      <th>mb_used</th>\n",
       "      <th>age</th>\n",
       "      <th>churn_date</th>\n",
       "      <th>city</th>\n",
       "      <th>first_name</th>\n",
       "      <th>...</th>\n",
       "      <th>reg_date</th>\n",
       "      <th>tariff</th>\n",
       "      <th>messages_included</th>\n",
       "      <th>mb_per_month_included</th>\n",
       "      <th>minutes_included</th>\n",
       "      <th>rub_monthly_fee</th>\n",
       "      <th>rub_per_gb</th>\n",
       "      <th>rub_per_message</th>\n",
       "      <th>rub_per_minute</th>\n",
       "      <th>monthly_profit</th>\n",
       "    </tr>\n",
       "  </thead>\n",
       "  <tbody>\n",
       "    <tr>\n",
       "      <th>0</th>\n",
       "      <td>1000</td>\n",
       "      <td>5</td>\n",
       "      <td>22</td>\n",
       "      <td>159</td>\n",
       "      <td>22</td>\n",
       "      <td>2253.49</td>\n",
       "      <td>52</td>\n",
       "      <td>NaT</td>\n",
       "      <td>Краснодар</td>\n",
       "      <td>Рафаил</td>\n",
       "      <td>...</td>\n",
       "      <td>2018-05-25</td>\n",
       "      <td>ultra</td>\n",
       "      <td>1000</td>\n",
       "      <td>30720</td>\n",
       "      <td>3000</td>\n",
       "      <td>1950</td>\n",
       "      <td>150</td>\n",
       "      <td>1</td>\n",
       "      <td>1</td>\n",
       "      <td>1950</td>\n",
       "    </tr>\n",
       "    <tr>\n",
       "      <th>1</th>\n",
       "      <td>1000</td>\n",
       "      <td>6</td>\n",
       "      <td>43</td>\n",
       "      <td>172</td>\n",
       "      <td>60</td>\n",
       "      <td>23233.77</td>\n",
       "      <td>52</td>\n",
       "      <td>NaT</td>\n",
       "      <td>Краснодар</td>\n",
       "      <td>Рафаил</td>\n",
       "      <td>...</td>\n",
       "      <td>2018-05-25</td>\n",
       "      <td>ultra</td>\n",
       "      <td>1000</td>\n",
       "      <td>30720</td>\n",
       "      <td>3000</td>\n",
       "      <td>1950</td>\n",
       "      <td>150</td>\n",
       "      <td>1</td>\n",
       "      <td>1</td>\n",
       "      <td>1950</td>\n",
       "    </tr>\n",
       "    <tr>\n",
       "      <th>2</th>\n",
       "      <td>1000</td>\n",
       "      <td>7</td>\n",
       "      <td>47</td>\n",
       "      <td>340</td>\n",
       "      <td>75</td>\n",
       "      <td>14003.64</td>\n",
       "      <td>52</td>\n",
       "      <td>NaT</td>\n",
       "      <td>Краснодар</td>\n",
       "      <td>Рафаил</td>\n",
       "      <td>...</td>\n",
       "      <td>2018-05-25</td>\n",
       "      <td>ultra</td>\n",
       "      <td>1000</td>\n",
       "      <td>30720</td>\n",
       "      <td>3000</td>\n",
       "      <td>1950</td>\n",
       "      <td>150</td>\n",
       "      <td>1</td>\n",
       "      <td>1</td>\n",
       "      <td>1950</td>\n",
       "    </tr>\n",
       "    <tr>\n",
       "      <th>3</th>\n",
       "      <td>1000</td>\n",
       "      <td>8</td>\n",
       "      <td>52</td>\n",
       "      <td>408</td>\n",
       "      <td>81</td>\n",
       "      <td>14055.93</td>\n",
       "      <td>52</td>\n",
       "      <td>NaT</td>\n",
       "      <td>Краснодар</td>\n",
       "      <td>Рафаил</td>\n",
       "      <td>...</td>\n",
       "      <td>2018-05-25</td>\n",
       "      <td>ultra</td>\n",
       "      <td>1000</td>\n",
       "      <td>30720</td>\n",
       "      <td>3000</td>\n",
       "      <td>1950</td>\n",
       "      <td>150</td>\n",
       "      <td>1</td>\n",
       "      <td>1</td>\n",
       "      <td>1950</td>\n",
       "    </tr>\n",
       "    <tr>\n",
       "      <th>4</th>\n",
       "      <td>1000</td>\n",
       "      <td>9</td>\n",
       "      <td>58</td>\n",
       "      <td>466</td>\n",
       "      <td>57</td>\n",
       "      <td>14568.91</td>\n",
       "      <td>52</td>\n",
       "      <td>NaT</td>\n",
       "      <td>Краснодар</td>\n",
       "      <td>Рафаил</td>\n",
       "      <td>...</td>\n",
       "      <td>2018-05-25</td>\n",
       "      <td>ultra</td>\n",
       "      <td>1000</td>\n",
       "      <td>30720</td>\n",
       "      <td>3000</td>\n",
       "      <td>1950</td>\n",
       "      <td>150</td>\n",
       "      <td>1</td>\n",
       "      <td>1</td>\n",
       "      <td>1950</td>\n",
       "    </tr>\n",
       "  </tbody>\n",
       "</table>\n",
       "<p>5 rows × 21 columns</p>\n",
       "</div>"
      ],
      "text/plain": [
       "   user_id  month  number_of_calls  minutes_spent  sms_spent   mb_used  age  \\\n",
       "0     1000      5               22            159         22   2253.49   52   \n",
       "1     1000      6               43            172         60  23233.77   52   \n",
       "2     1000      7               47            340         75  14003.64   52   \n",
       "3     1000      8               52            408         81  14055.93   52   \n",
       "4     1000      9               58            466         57  14568.91   52   \n",
       "\n",
       "  churn_date       city first_name  ...   reg_date tariff messages_included  \\\n",
       "0        NaT  Краснодар     Рафаил  ... 2018-05-25  ultra              1000   \n",
       "1        NaT  Краснодар     Рафаил  ... 2018-05-25  ultra              1000   \n",
       "2        NaT  Краснодар     Рафаил  ... 2018-05-25  ultra              1000   \n",
       "3        NaT  Краснодар     Рафаил  ... 2018-05-25  ultra              1000   \n",
       "4        NaT  Краснодар     Рафаил  ... 2018-05-25  ultra              1000   \n",
       "\n",
       "   mb_per_month_included  minutes_included  rub_monthly_fee  rub_per_gb  \\\n",
       "0                  30720              3000             1950         150   \n",
       "1                  30720              3000             1950         150   \n",
       "2                  30720              3000             1950         150   \n",
       "3                  30720              3000             1950         150   \n",
       "4                  30720              3000             1950         150   \n",
       "\n",
       "   rub_per_message  rub_per_minute  monthly_profit  \n",
       "0                1               1            1950  \n",
       "1                1               1            1950  \n",
       "2                1               1            1950  \n",
       "3                1               1            1950  \n",
       "4                1               1            1950  \n",
       "\n",
       "[5 rows x 21 columns]"
      ]
     },
     "execution_count": 82,
     "metadata": {},
     "output_type": "execute_result"
    }
   ],
   "source": [
    "df_merge_final.head()"
   ]
  },
  {
   "cell_type": "code",
   "execution_count": 83,
   "id": "599027c6",
   "metadata": {},
   "outputs": [
    {
     "data": {
      "text/plain": [
       "1546.7135842880523"
      ]
     },
     "execution_count": 83,
     "metadata": {},
     "output_type": "execute_result"
    }
   ],
   "source": [
    "# выбор столбца выручки для Москвы и определение среднего\n",
    "report = df_merge_final.query('city == \"Москва\"')\n",
    "sample_1 = report['monthly_profit']\n",
    "sample_1.mean()"
   ]
  },
  {
   "cell_type": "code",
   "execution_count": 84,
   "id": "59755e4c",
   "metadata": {},
   "outputs": [
    {
     "data": {
      "text/plain": [
       "1524.9362274298885"
      ]
     },
     "execution_count": 84,
     "metadata": {},
     "output_type": "execute_result"
    }
   ],
   "source": [
    "# выбор столбца выручки, исключая Москву и определение среднего\n",
    "report = df_merge_final.query('city != \"Москва\"')\n",
    "sample_2 = report['monthly_profit']\n",
    "sample_2.mean()"
   ]
  },
  {
   "cell_type": "code",
   "execution_count": 85,
   "id": "d4ea61f1",
   "metadata": {},
   "outputs": [
    {
     "data": {
      "text/plain": [
       "0.9859202394810621"
      ]
     },
     "execution_count": 85,
     "metadata": {},
     "output_type": "execute_result"
    }
   ],
   "source": [
    "sample_2.mean() / sample_1.mean()"
   ]
  },
  {
   "cell_type": "markdown",
   "id": "7dce20a5",
   "metadata": {},
   "source": [
    "Средние практически одинаковы."
   ]
  },
  {
   "cell_type": "markdown",
   "id": "af202d89",
   "metadata": {},
   "source": [
    "Проведем стат-тест."
   ]
  },
  {
   "cell_type": "markdown",
   "id": "6fb49c26",
   "metadata": {},
   "source": [
    "Сформулируем нулевую и альтернативную гипотезы.\n",
    "\n",
    "Нулевая гипотеза: средняя выручка пользователей из Москвы не отличается от выручки пользователей из других регионов.\n",
    "\n",
    "Альтернативная гипотеза: средняя выручка пользователей из Москвы  отличается от выручки пользователей из других регионов.\n"
   ]
  },
  {
   "cell_type": "code",
   "execution_count": 86,
   "id": "aa5bd8f7",
   "metadata": {},
   "outputs": [],
   "source": [
    "alpha = .05 # критический уровень статистической значимости\n",
    "# если p-value окажется меньше него - отвергнем нулевую гипотезу"
   ]
  },
  {
   "cell_type": "code",
   "execution_count": 87,
   "id": "af85ac8b",
   "metadata": {},
   "outputs": [],
   "source": [
    "results = st.ttest_ind(\n",
    "    sample_1, \n",
    "    sample_2)"
   ]
  },
  {
   "cell_type": "code",
   "execution_count": 88,
   "id": "1f0d2bee",
   "metadata": {
    "scrolled": true
   },
   "outputs": [
    {
     "name": "stdout",
     "output_type": "stream",
     "text": [
      "p-значение:  0.5440152911670224\n",
      "Не получилось отвергнуть нулевую гипотезу\n"
     ]
    }
   ],
   "source": [
    "print('p-значение: ', results.pvalue)\n",
    "\n",
    "if results.pvalue < alpha:\n",
    "    print(\"Отвергаем нулевую гипотезу\")\n",
    "else:\n",
    "    print(\"Не получилось отвергнуть нулевую гипотезу\") "
   ]
  },
  {
   "cell_type": "markdown",
   "id": "c112c2ff",
   "metadata": {},
   "source": [
    "Полученное значение p-value говорит о том, что вероятность получить такое или большее различие случайно почти 55%.  Средняя выручка из Москвы и регионов достаточно близка. Это явно слишком большая вероятность, чтобы делать вывод о значимом различии между средними выручками пользователей из Москвы и регионов."
   ]
  },
  {
   "cell_type": "markdown",
   "id": "6717f21e",
   "metadata": {},
   "source": [
    "### Вывод "
   ]
  },
  {
   "cell_type": "markdown",
   "id": "3313d703",
   "metadata": {},
   "source": [
    "Мы не опровергли гипотезу, что средняя выручка пользователей тарифов «Ультра» и «Смарт» различаются.\n",
    "\n",
    "И пришли к выводу, что средняя выручка пользователей из Москвы не отличается от выручки пользователей из других регионов."
   ]
  },
  {
   "cell_type": "markdown",
   "id": "03ffcfae",
   "metadata": {},
   "source": [
    "## Общий вывод"
   ]
  },
  {
   "cell_type": "markdown",
   "id": "608f6de3",
   "metadata": {},
   "source": [
    "Мы  проанализировали  поведение клиентов на небольшой выборке и можем дать следующую рекомендацию коммерческому департаменту.\n",
    "\n",
    "\n",
    "Необходимо увеличить рекламный бюджет для тарифного плана «Ультра», т.к. он приносит больше денег и в большинстве случаев клиенты не расходуют полностью опции(sms,минуты,Гб), включенные в тариф."
   ]
  }
 ],
 "metadata": {
  "ExecuteTimeLog": [
   {
    "duration": 1550,
    "start_time": "2022-02-23T02:29:40.981Z"
   },
   {
    "duration": 322,
    "start_time": "2022-02-23T02:30:54.787Z"
   },
   {
    "duration": 297,
    "start_time": "2022-02-23T02:31:33.602Z"
   },
   {
    "duration": 296,
    "start_time": "2022-02-23T02:31:37.275Z"
   },
   {
    "duration": 66,
    "start_time": "2022-02-23T02:33:16.579Z"
   },
   {
    "duration": 69,
    "start_time": "2022-02-23T02:33:21.908Z"
   },
   {
    "duration": 247,
    "start_time": "2022-02-23T02:33:47.770Z"
   },
   {
    "duration": 1065,
    "start_time": "2022-03-16T16:05:25.100Z"
   },
   {
    "duration": 2,
    "start_time": "2022-03-16T16:05:26.167Z"
   },
   {
    "duration": 375,
    "start_time": "2022-03-16T16:05:26.171Z"
   },
   {
    "duration": 11,
    "start_time": "2022-03-16T16:05:26.548Z"
   },
   {
    "duration": 6,
    "start_time": "2022-03-16T16:05:26.561Z"
   },
   {
    "duration": 13,
    "start_time": "2022-03-16T16:05:26.569Z"
   },
   {
    "duration": 20,
    "start_time": "2022-03-16T16:05:26.583Z"
   },
   {
    "duration": 6,
    "start_time": "2022-03-16T16:05:26.604Z"
   },
   {
    "duration": 12,
    "start_time": "2022-03-16T16:05:26.612Z"
   },
   {
    "duration": 11,
    "start_time": "2022-03-16T16:05:26.626Z"
   },
   {
    "duration": 7,
    "start_time": "2022-03-16T16:05:26.638Z"
   },
   {
    "duration": 14,
    "start_time": "2022-03-16T16:05:26.647Z"
   },
   {
    "duration": 56,
    "start_time": "2022-03-16T16:05:26.663Z"
   },
   {
    "duration": 6,
    "start_time": "2022-03-16T16:05:26.721Z"
   },
   {
    "duration": 19,
    "start_time": "2022-03-16T16:05:26.728Z"
   },
   {
    "duration": 24,
    "start_time": "2022-03-16T16:05:26.748Z"
   },
   {
    "duration": 81,
    "start_time": "2022-03-16T16:05:26.773Z"
   },
   {
    "duration": 6,
    "start_time": "2022-03-16T16:05:26.856Z"
   },
   {
    "duration": 15,
    "start_time": "2022-03-16T16:05:26.863Z"
   },
   {
    "duration": 22,
    "start_time": "2022-03-16T16:05:26.879Z"
   },
   {
    "duration": 11,
    "start_time": "2022-03-16T16:05:26.903Z"
   },
   {
    "duration": 8,
    "start_time": "2022-03-16T16:05:26.915Z"
   },
   {
    "duration": 5,
    "start_time": "2022-03-16T16:05:26.925Z"
   },
   {
    "duration": 6,
    "start_time": "2022-03-16T16:05:26.931Z"
   },
   {
    "duration": 6,
    "start_time": "2022-03-16T16:05:26.939Z"
   },
   {
    "duration": 5,
    "start_time": "2022-03-16T16:05:26.947Z"
   },
   {
    "duration": 4,
    "start_time": "2022-03-16T16:05:26.957Z"
   },
   {
    "duration": 45,
    "start_time": "2022-03-16T16:05:27.000Z"
   },
   {
    "duration": 7,
    "start_time": "2022-03-16T16:05:27.046Z"
   },
   {
    "duration": 9,
    "start_time": "2022-03-16T16:05:27.055Z"
   },
   {
    "duration": 6,
    "start_time": "2022-03-16T16:05:27.065Z"
   },
   {
    "duration": 48,
    "start_time": "2022-03-16T16:05:27.073Z"
   },
   {
    "duration": 20,
    "start_time": "2022-03-16T16:05:27.122Z"
   },
   {
    "duration": 17,
    "start_time": "2022-03-16T16:05:27.144Z"
   },
   {
    "duration": 39,
    "start_time": "2022-03-16T16:05:27.162Z"
   },
   {
    "duration": 5,
    "start_time": "2022-03-16T16:05:27.202Z"
   },
   {
    "duration": 9,
    "start_time": "2022-03-16T16:05:27.208Z"
   },
   {
    "duration": 9,
    "start_time": "2022-03-16T16:05:27.218Z"
   },
   {
    "duration": 8,
    "start_time": "2022-03-16T16:05:27.229Z"
   },
   {
    "duration": 10,
    "start_time": "2022-03-16T16:05:27.238Z"
   },
   {
    "duration": 17,
    "start_time": "2022-03-16T16:05:27.250Z"
   },
   {
    "duration": 41,
    "start_time": "2022-03-16T16:05:27.269Z"
   },
   {
    "duration": 4,
    "start_time": "2022-03-16T16:05:27.312Z"
   },
   {
    "duration": 4,
    "start_time": "2022-03-16T16:05:27.317Z"
   },
   {
    "duration": 9,
    "start_time": "2022-03-16T16:05:27.323Z"
   },
   {
    "duration": 19,
    "start_time": "2022-03-16T16:05:27.333Z"
   },
   {
    "duration": 7,
    "start_time": "2022-03-16T16:05:27.353Z"
   },
   {
    "duration": 208,
    "start_time": "2022-03-16T16:05:27.361Z"
   },
   {
    "duration": 18,
    "start_time": "2022-03-16T16:05:27.571Z"
   },
   {
    "duration": 16,
    "start_time": "2022-03-16T16:05:27.590Z"
   },
   {
    "duration": 20,
    "start_time": "2022-03-16T16:05:27.608Z"
   },
   {
    "duration": 4,
    "start_time": "2022-03-16T16:05:27.629Z"
   },
   {
    "duration": 41,
    "start_time": "2022-03-16T16:05:27.635Z"
   },
   {
    "duration": 25,
    "start_time": "2022-03-16T16:05:27.678Z"
   },
   {
    "duration": 6,
    "start_time": "2022-03-16T16:05:27.705Z"
   },
   {
    "duration": 5,
    "start_time": "2022-03-16T16:05:27.713Z"
   },
   {
    "duration": 6,
    "start_time": "2022-03-16T16:05:27.720Z"
   },
   {
    "duration": 7,
    "start_time": "2022-03-16T16:05:27.727Z"
   },
   {
    "duration": 9,
    "start_time": "2022-03-16T16:05:27.735Z"
   },
   {
    "duration": 283,
    "start_time": "2022-03-16T16:05:27.745Z"
   },
   {
    "duration": 267,
    "start_time": "2022-03-16T16:05:28.030Z"
   },
   {
    "duration": 267,
    "start_time": "2022-03-16T16:05:28.300Z"
   },
   {
    "duration": 16,
    "start_time": "2022-03-16T16:05:28.568Z"
   },
   {
    "duration": 310,
    "start_time": "2022-03-16T16:05:28.586Z"
   },
   {
    "duration": 350,
    "start_time": "2022-03-16T16:05:28.900Z"
   },
   {
    "duration": 305,
    "start_time": "2022-03-16T16:05:29.252Z"
   },
   {
    "duration": 20,
    "start_time": "2022-03-16T16:05:29.559Z"
   },
   {
    "duration": 22,
    "start_time": "2022-03-16T16:05:29.580Z"
   },
   {
    "duration": 42,
    "start_time": "2022-03-16T16:05:29.603Z"
   },
   {
    "duration": 4,
    "start_time": "2022-03-16T16:05:29.647Z"
   },
   {
    "duration": 5,
    "start_time": "2022-03-16T16:05:29.653Z"
   },
   {
    "duration": 6,
    "start_time": "2022-03-16T16:05:29.659Z"
   },
   {
    "duration": 8,
    "start_time": "2022-03-16T16:05:29.666Z"
   },
   {
    "duration": 26,
    "start_time": "2022-03-16T16:05:29.676Z"
   },
   {
    "duration": 4,
    "start_time": "2022-03-16T16:05:29.703Z"
   },
   {
    "duration": 273,
    "start_time": "2022-03-16T16:05:29.709Z"
   },
   {
    "duration": 258,
    "start_time": "2022-03-16T16:05:29.983Z"
   },
   {
    "duration": 271,
    "start_time": "2022-03-16T16:05:30.243Z"
   },
   {
    "duration": 16,
    "start_time": "2022-03-16T16:05:30.515Z"
   },
   {
    "duration": 310,
    "start_time": "2022-03-16T16:05:30.532Z"
   },
   {
    "duration": 310,
    "start_time": "2022-03-16T16:05:30.847Z"
   },
   {
    "duration": 309,
    "start_time": "2022-03-16T16:05:31.158Z"
   },
   {
    "duration": 283,
    "start_time": "2022-03-16T16:05:31.469Z"
   },
   {
    "duration": 282,
    "start_time": "2022-03-16T16:05:31.754Z"
   },
   {
    "duration": 298,
    "start_time": "2022-03-16T16:05:32.038Z"
   },
   {
    "duration": 7,
    "start_time": "2022-03-16T16:05:32.337Z"
   },
   {
    "duration": 7,
    "start_time": "2022-03-16T16:05:32.346Z"
   },
   {
    "duration": 6,
    "start_time": "2022-03-16T16:05:32.355Z"
   },
   {
    "duration": 4,
    "start_time": "2022-03-16T16:05:32.363Z"
   },
   {
    "duration": 32,
    "start_time": "2022-03-16T16:05:32.369Z"
   },
   {
    "duration": 4,
    "start_time": "2022-03-16T16:05:32.403Z"
   },
   {
    "duration": 18,
    "start_time": "2022-03-16T16:05:32.408Z"
   },
   {
    "duration": 7,
    "start_time": "2022-03-16T16:05:32.427Z"
   },
   {
    "duration": 8,
    "start_time": "2022-03-16T16:05:32.436Z"
   },
   {
    "duration": 8,
    "start_time": "2022-03-16T16:05:32.445Z"
   },
   {
    "duration": 8,
    "start_time": "2022-03-16T16:05:32.455Z"
   },
   {
    "duration": 99,
    "start_time": "2022-03-16T16:05:32.465Z"
   },
   {
    "duration": 6,
    "start_time": "2022-03-16T16:05:32.565Z"
   },
   {
    "duration": 3,
    "start_time": "2022-03-16T16:50:25.002Z"
   },
   {
    "duration": 22,
    "start_time": "2022-03-16T16:59:36.120Z"
   },
   {
    "duration": 1782,
    "start_time": "2022-03-17T06:41:10.758Z"
   },
   {
    "duration": 3,
    "start_time": "2022-03-17T06:41:12.543Z"
   },
   {
    "duration": 504,
    "start_time": "2022-03-17T06:41:12.548Z"
   },
   {
    "duration": 20,
    "start_time": "2022-03-17T06:41:13.054Z"
   },
   {
    "duration": 15,
    "start_time": "2022-03-17T06:41:13.077Z"
   },
   {
    "duration": 21,
    "start_time": "2022-03-17T06:41:13.094Z"
   },
   {
    "duration": 39,
    "start_time": "2022-03-17T06:41:13.117Z"
   },
   {
    "duration": 13,
    "start_time": "2022-03-17T06:41:13.159Z"
   },
   {
    "duration": 28,
    "start_time": "2022-03-17T06:41:13.174Z"
   },
   {
    "duration": 52,
    "start_time": "2022-03-17T06:41:13.204Z"
   },
   {
    "duration": 13,
    "start_time": "2022-03-17T06:41:13.259Z"
   },
   {
    "duration": 36,
    "start_time": "2022-03-17T06:41:13.275Z"
   },
   {
    "duration": 69,
    "start_time": "2022-03-17T06:41:13.313Z"
   },
   {
    "duration": 12,
    "start_time": "2022-03-17T06:41:13.388Z"
   },
   {
    "duration": 60,
    "start_time": "2022-03-17T06:41:13.402Z"
   },
   {
    "duration": 35,
    "start_time": "2022-03-17T06:41:13.464Z"
   },
   {
    "duration": 123,
    "start_time": "2022-03-17T06:41:13.501Z"
   },
   {
    "duration": 26,
    "start_time": "2022-03-17T06:41:13.626Z"
   },
   {
    "duration": 28,
    "start_time": "2022-03-17T06:41:13.655Z"
   },
   {
    "duration": 24,
    "start_time": "2022-03-17T06:41:13.686Z"
   },
   {
    "duration": 58,
    "start_time": "2022-03-17T06:41:13.712Z"
   },
   {
    "duration": 13,
    "start_time": "2022-03-17T06:41:13.772Z"
   },
   {
    "duration": 9,
    "start_time": "2022-03-17T06:41:13.787Z"
   },
   {
    "duration": 12,
    "start_time": "2022-03-17T06:41:13.798Z"
   },
   {
    "duration": 39,
    "start_time": "2022-03-17T06:41:13.812Z"
   },
   {
    "duration": 5,
    "start_time": "2022-03-17T06:41:13.853Z"
   },
   {
    "duration": 6,
    "start_time": "2022-03-17T06:41:13.861Z"
   },
   {
    "duration": 98,
    "start_time": "2022-03-17T06:41:13.870Z"
   },
   {
    "duration": 12,
    "start_time": "2022-03-17T06:41:13.970Z"
   },
   {
    "duration": 14,
    "start_time": "2022-03-17T06:41:13.985Z"
   },
   {
    "duration": 13,
    "start_time": "2022-03-17T06:41:14.001Z"
   },
   {
    "duration": 72,
    "start_time": "2022-03-17T06:41:14.016Z"
   },
   {
    "duration": 29,
    "start_time": "2022-03-17T06:41:14.091Z"
   },
   {
    "duration": 55,
    "start_time": "2022-03-17T06:41:14.123Z"
   },
   {
    "duration": 20,
    "start_time": "2022-03-17T06:41:14.180Z"
   },
   {
    "duration": 6,
    "start_time": "2022-03-17T06:41:14.202Z"
   },
   {
    "duration": 55,
    "start_time": "2022-03-17T06:41:14.211Z"
   },
   {
    "duration": 19,
    "start_time": "2022-03-17T06:41:14.268Z"
   },
   {
    "duration": 13,
    "start_time": "2022-03-17T06:41:14.290Z"
   },
   {
    "duration": 10,
    "start_time": "2022-03-17T06:41:14.306Z"
   },
   {
    "duration": 21,
    "start_time": "2022-03-17T06:41:14.354Z"
   },
   {
    "duration": 73,
    "start_time": "2022-03-17T06:41:14.378Z"
   },
   {
    "duration": 9,
    "start_time": "2022-03-17T06:41:14.453Z"
   },
   {
    "duration": 6,
    "start_time": "2022-03-17T06:41:14.464Z"
   },
   {
    "duration": 14,
    "start_time": "2022-03-17T06:41:14.472Z"
   },
   {
    "duration": 26,
    "start_time": "2022-03-17T06:41:14.488Z"
   },
   {
    "duration": 8,
    "start_time": "2022-03-17T06:41:14.516Z"
   },
   {
    "duration": 208,
    "start_time": "2022-03-17T06:41:14.552Z"
   },
   {
    "duration": 43,
    "start_time": "2022-03-17T06:41:14.763Z"
   },
   {
    "duration": 47,
    "start_time": "2022-03-17T06:41:14.808Z"
   },
   {
    "duration": 39,
    "start_time": "2022-03-17T06:41:14.857Z"
   },
   {
    "duration": 6,
    "start_time": "2022-03-17T06:41:14.898Z"
   },
   {
    "duration": 97,
    "start_time": "2022-03-17T06:41:14.907Z"
   },
   {
    "duration": 7,
    "start_time": "2022-03-17T06:41:15.007Z"
   },
   {
    "duration": 10,
    "start_time": "2022-03-17T06:41:15.016Z"
   },
   {
    "duration": 8,
    "start_time": "2022-03-17T06:41:15.050Z"
   },
   {
    "duration": 12,
    "start_time": "2022-03-17T06:41:15.061Z"
   },
   {
    "duration": 10,
    "start_time": "2022-03-17T06:41:15.076Z"
   },
   {
    "duration": 17,
    "start_time": "2022-03-17T06:41:15.089Z"
   },
   {
    "duration": 370,
    "start_time": "2022-03-17T06:41:15.108Z"
   },
   {
    "duration": 373,
    "start_time": "2022-03-17T06:41:15.481Z"
   },
   {
    "duration": 495,
    "start_time": "2022-03-17T06:41:15.856Z"
   },
   {
    "duration": 32,
    "start_time": "2022-03-17T06:41:16.353Z"
   },
   {
    "duration": 427,
    "start_time": "2022-03-17T06:41:16.388Z"
   },
   {
    "duration": 404,
    "start_time": "2022-03-17T06:41:16.817Z"
   },
   {
    "duration": 394,
    "start_time": "2022-03-17T06:41:17.224Z"
   },
   {
    "duration": 44,
    "start_time": "2022-03-17T06:41:17.620Z"
   },
   {
    "duration": 18,
    "start_time": "2022-03-17T06:41:17.666Z"
   },
   {
    "duration": 150,
    "start_time": "2022-03-17T06:41:17.687Z"
   },
   {
    "duration": 7,
    "start_time": "2022-03-17T06:41:17.839Z"
   },
   {
    "duration": 7,
    "start_time": "2022-03-17T06:41:17.852Z"
   },
   {
    "duration": 9,
    "start_time": "2022-03-17T06:41:17.861Z"
   },
   {
    "duration": 13,
    "start_time": "2022-03-17T06:41:17.872Z"
   },
   {
    "duration": 24,
    "start_time": "2022-03-17T06:41:17.887Z"
   },
   {
    "duration": 13,
    "start_time": "2022-03-17T06:41:17.914Z"
   },
   {
    "duration": 347,
    "start_time": "2022-03-17T06:41:17.951Z"
   },
   {
    "duration": 328,
    "start_time": "2022-03-17T06:41:18.301Z"
   },
   {
    "duration": 331,
    "start_time": "2022-03-17T06:41:18.633Z"
   },
   {
    "duration": 30,
    "start_time": "2022-03-17T06:41:18.966Z"
   },
   {
    "duration": 419,
    "start_time": "2022-03-17T06:41:18.998Z"
   },
   {
    "duration": 412,
    "start_time": "2022-03-17T06:41:19.419Z"
   },
   {
    "duration": 501,
    "start_time": "2022-03-17T06:41:19.834Z"
   },
   {
    "duration": 405,
    "start_time": "2022-03-17T06:41:20.338Z"
   },
   {
    "duration": 389,
    "start_time": "2022-03-17T06:41:20.745Z"
   },
   {
    "duration": 402,
    "start_time": "2022-03-17T06:41:21.137Z"
   },
   {
    "duration": 15,
    "start_time": "2022-03-17T06:41:21.542Z"
   },
   {
    "duration": 10,
    "start_time": "2022-03-17T06:41:21.560Z"
   },
   {
    "duration": 7,
    "start_time": "2022-03-17T06:41:21.572Z"
   },
   {
    "duration": 4,
    "start_time": "2022-03-17T06:41:21.581Z"
   },
   {
    "duration": 5,
    "start_time": "2022-03-17T06:41:21.587Z"
   },
   {
    "duration": 6,
    "start_time": "2022-03-17T06:41:21.595Z"
   },
   {
    "duration": 29,
    "start_time": "2022-03-17T06:41:21.652Z"
   },
   {
    "duration": 12,
    "start_time": "2022-03-17T06:41:21.684Z"
   },
   {
    "duration": 13,
    "start_time": "2022-03-17T06:41:21.699Z"
   },
   {
    "duration": 39,
    "start_time": "2022-03-17T06:41:21.714Z"
   },
   {
    "duration": 4,
    "start_time": "2022-03-17T06:41:21.756Z"
   },
   {
    "duration": 7,
    "start_time": "2022-03-17T06:41:21.762Z"
   },
   {
    "duration": 7,
    "start_time": "2022-03-17T06:41:21.771Z"
   },
   {
    "duration": 314,
    "start_time": "2022-03-17T06:41:50.337Z"
   },
   {
    "duration": 13,
    "start_time": "2022-03-17T07:40:06.271Z"
   },
   {
    "duration": 419,
    "start_time": "2022-03-17T07:42:41.349Z"
   },
   {
    "duration": 1481,
    "start_time": "2022-03-17T08:01:40.611Z"
   },
   {
    "duration": 4,
    "start_time": "2022-03-17T08:01:42.094Z"
   },
   {
    "duration": 491,
    "start_time": "2022-03-17T08:01:42.100Z"
   },
   {
    "duration": 20,
    "start_time": "2022-03-17T08:01:42.593Z"
   },
   {
    "duration": 16,
    "start_time": "2022-03-17T08:01:42.616Z"
   },
   {
    "duration": 21,
    "start_time": "2022-03-17T08:01:42.650Z"
   },
   {
    "duration": 11,
    "start_time": "2022-03-17T08:01:42.673Z"
   },
   {
    "duration": 10,
    "start_time": "2022-03-17T08:01:42.687Z"
   },
   {
    "duration": 60,
    "start_time": "2022-03-17T08:01:42.699Z"
   },
   {
    "duration": 17,
    "start_time": "2022-03-17T08:01:42.761Z"
   },
   {
    "duration": 10,
    "start_time": "2022-03-17T08:01:42.781Z"
   },
   {
    "duration": 58,
    "start_time": "2022-03-17T08:01:42.793Z"
   },
   {
    "duration": 35,
    "start_time": "2022-03-17T08:01:42.853Z"
   },
   {
    "duration": 11,
    "start_time": "2022-03-17T08:01:42.892Z"
   },
   {
    "duration": 62,
    "start_time": "2022-03-17T08:01:42.905Z"
   },
   {
    "duration": 34,
    "start_time": "2022-03-17T08:01:42.969Z"
   },
   {
    "duration": 116,
    "start_time": "2022-03-17T08:01:43.005Z"
   },
   {
    "duration": 28,
    "start_time": "2022-03-17T08:01:43.123Z"
   },
   {
    "duration": 25,
    "start_time": "2022-03-17T08:01:43.154Z"
   },
   {
    "duration": 20,
    "start_time": "2022-03-17T08:01:43.181Z"
   },
   {
    "duration": 57,
    "start_time": "2022-03-17T08:01:43.203Z"
   },
   {
    "duration": 13,
    "start_time": "2022-03-17T08:01:43.262Z"
   },
   {
    "duration": 9,
    "start_time": "2022-03-17T08:01:43.277Z"
   },
   {
    "duration": 10,
    "start_time": "2022-03-17T08:01:43.288Z"
   },
   {
    "duration": 7,
    "start_time": "2022-03-17T08:01:43.300Z"
   },
   {
    "duration": 4,
    "start_time": "2022-03-17T08:01:43.310Z"
   },
   {
    "duration": 6,
    "start_time": "2022-03-17T08:01:43.351Z"
   },
   {
    "duration": 67,
    "start_time": "2022-03-17T08:01:43.359Z"
   },
   {
    "duration": 28,
    "start_time": "2022-03-17T08:01:43.428Z"
   },
   {
    "duration": 17,
    "start_time": "2022-03-17T08:01:43.458Z"
   },
   {
    "duration": 11,
    "start_time": "2022-03-17T08:01:43.477Z"
   },
   {
    "duration": 73,
    "start_time": "2022-03-17T08:01:43.491Z"
   },
   {
    "duration": 30,
    "start_time": "2022-03-17T08:01:43.566Z"
   },
   {
    "duration": 54,
    "start_time": "2022-03-17T08:01:43.598Z"
   },
   {
    "duration": 20,
    "start_time": "2022-03-17T08:01:43.654Z"
   },
   {
    "duration": 6,
    "start_time": "2022-03-17T08:01:43.677Z"
   },
   {
    "duration": 18,
    "start_time": "2022-03-17T08:01:43.685Z"
   },
   {
    "duration": 46,
    "start_time": "2022-03-17T08:01:43.706Z"
   },
   {
    "duration": 12,
    "start_time": "2022-03-17T08:01:43.754Z"
   },
   {
    "duration": 9,
    "start_time": "2022-03-17T08:01:43.768Z"
   },
   {
    "duration": 19,
    "start_time": "2022-03-17T08:01:43.785Z"
   },
   {
    "duration": 73,
    "start_time": "2022-03-17T08:01:43.806Z"
   },
   {
    "duration": 7,
    "start_time": "2022-03-17T08:01:43.881Z"
   },
   {
    "duration": 9,
    "start_time": "2022-03-17T08:01:43.890Z"
   },
   {
    "duration": 9,
    "start_time": "2022-03-17T08:01:43.901Z"
   },
   {
    "duration": 47,
    "start_time": "2022-03-17T08:01:43.912Z"
   },
   {
    "duration": 9,
    "start_time": "2022-03-17T08:01:43.961Z"
   },
   {
    "duration": 210,
    "start_time": "2022-03-17T08:01:43.971Z"
   },
   {
    "duration": 30,
    "start_time": "2022-03-17T08:01:44.183Z"
   },
   {
    "duration": 39,
    "start_time": "2022-03-17T08:01:44.215Z"
   },
   {
    "duration": 33,
    "start_time": "2022-03-17T08:01:44.256Z"
   },
   {
    "duration": 6,
    "start_time": "2022-03-17T08:01:44.292Z"
   },
   {
    "duration": 100,
    "start_time": "2022-03-17T08:01:44.300Z"
   },
   {
    "duration": 6,
    "start_time": "2022-03-17T08:01:44.402Z"
   },
   {
    "duration": 14,
    "start_time": "2022-03-17T08:01:44.411Z"
   },
   {
    "duration": 26,
    "start_time": "2022-03-17T08:01:44.427Z"
   },
   {
    "duration": 18,
    "start_time": "2022-03-17T08:01:44.456Z"
   },
   {
    "duration": 16,
    "start_time": "2022-03-17T08:01:44.477Z"
   },
   {
    "duration": 9,
    "start_time": "2022-03-17T08:01:44.495Z"
   },
   {
    "duration": 345,
    "start_time": "2022-03-17T08:01:44.506Z"
   },
   {
    "duration": 345,
    "start_time": "2022-03-17T08:01:44.853Z"
   },
   {
    "duration": 346,
    "start_time": "2022-03-17T08:01:45.200Z"
   },
   {
    "duration": 29,
    "start_time": "2022-03-17T08:01:45.552Z"
   },
   {
    "duration": 408,
    "start_time": "2022-03-17T08:01:45.583Z"
   },
   {
    "duration": 408,
    "start_time": "2022-03-17T08:01:45.993Z"
   },
   {
    "duration": 404,
    "start_time": "2022-03-17T08:01:46.404Z"
   },
   {
    "duration": 46,
    "start_time": "2022-03-17T08:01:46.810Z"
   },
   {
    "duration": 20,
    "start_time": "2022-03-17T08:01:46.858Z"
   },
   {
    "duration": 151,
    "start_time": "2022-03-17T08:01:46.880Z"
   },
   {
    "duration": 18,
    "start_time": "2022-03-17T08:01:47.034Z"
   },
   {
    "duration": 13,
    "start_time": "2022-03-17T08:01:47.054Z"
   },
   {
    "duration": 25,
    "start_time": "2022-03-17T08:01:47.069Z"
   },
   {
    "duration": 28,
    "start_time": "2022-03-17T08:01:47.096Z"
   },
   {
    "duration": 31,
    "start_time": "2022-03-17T08:01:47.127Z"
   },
   {
    "duration": 31,
    "start_time": "2022-03-17T08:01:47.160Z"
   },
   {
    "duration": 443,
    "start_time": "2022-03-17T08:01:47.193Z"
   },
   {
    "duration": 444,
    "start_time": "2022-03-17T08:01:47.639Z"
   },
   {
    "duration": 488,
    "start_time": "2022-03-17T08:01:48.085Z"
   },
   {
    "duration": 29,
    "start_time": "2022-03-17T08:01:48.576Z"
   },
   {
    "duration": 414,
    "start_time": "2022-03-17T08:01:48.607Z"
   },
   {
    "duration": 414,
    "start_time": "2022-03-17T08:01:49.023Z"
   },
   {
    "duration": 412,
    "start_time": "2022-03-17T08:01:49.439Z"
   },
   {
    "duration": 419,
    "start_time": "2022-03-17T08:01:49.853Z"
   },
   {
    "duration": 400,
    "start_time": "2022-03-17T08:01:50.274Z"
   },
   {
    "duration": 402,
    "start_time": "2022-03-17T08:01:50.677Z"
   },
   {
    "duration": 12,
    "start_time": "2022-03-17T08:01:51.081Z"
   },
   {
    "duration": 10,
    "start_time": "2022-03-17T08:01:51.095Z"
   },
   {
    "duration": 6,
    "start_time": "2022-03-17T08:01:51.108Z"
   },
   {
    "duration": 36,
    "start_time": "2022-03-17T08:01:51.115Z"
   },
   {
    "duration": 8,
    "start_time": "2022-03-17T08:01:51.154Z"
   },
   {
    "duration": 7,
    "start_time": "2022-03-17T08:01:51.164Z"
   },
   {
    "duration": 27,
    "start_time": "2022-03-17T08:01:51.174Z"
   },
   {
    "duration": 51,
    "start_time": "2022-03-17T08:01:51.203Z"
   },
   {
    "duration": 20,
    "start_time": "2022-03-17T08:01:51.256Z"
   },
   {
    "duration": 27,
    "start_time": "2022-03-17T08:01:51.279Z"
   },
   {
    "duration": 10,
    "start_time": "2022-03-17T08:01:51.308Z"
   },
   {
    "duration": 25,
    "start_time": "2022-03-17T08:01:51.320Z"
   },
   {
    "duration": 9,
    "start_time": "2022-03-17T08:01:51.346Z"
   },
   {
    "duration": 1790,
    "start_time": "2022-03-20T06:56:55.678Z"
   },
   {
    "duration": 4,
    "start_time": "2022-03-20T06:56:57.471Z"
   },
   {
    "duration": 482,
    "start_time": "2022-03-20T06:56:57.482Z"
   },
   {
    "duration": 6,
    "start_time": "2022-03-20T06:56:57.966Z"
   },
   {
    "duration": 653,
    "start_time": "2022-03-20T06:56:57.975Z"
   },
   {
    "duration": 6,
    "start_time": "2022-03-20T06:56:58.631Z"
   },
   {
    "duration": 118,
    "start_time": "2022-03-20T06:56:58.639Z"
   },
   {
    "duration": 24,
    "start_time": "2022-03-20T06:56:58.760Z"
   },
   {
    "duration": 27,
    "start_time": "2022-03-20T06:56:58.787Z"
   },
   {
    "duration": 21,
    "start_time": "2022-03-20T06:56:58.816Z"
   },
   {
    "duration": 57,
    "start_time": "2022-03-20T06:56:58.839Z"
   },
   {
    "duration": 12,
    "start_time": "2022-03-20T06:56:58.898Z"
   },
   {
    "duration": 5,
    "start_time": "2022-03-20T06:56:58.913Z"
   },
   {
    "duration": 7,
    "start_time": "2022-03-20T06:56:58.923Z"
   },
   {
    "duration": 7,
    "start_time": "2022-03-20T06:56:58.933Z"
   },
   {
    "duration": 7,
    "start_time": "2022-03-20T06:56:58.982Z"
   },
   {
    "duration": 11,
    "start_time": "2022-03-20T06:56:58.991Z"
   },
   {
    "duration": 95,
    "start_time": "2022-03-20T06:56:59.005Z"
   },
   {
    "duration": 23,
    "start_time": "2022-03-20T06:56:59.102Z"
   },
   {
    "duration": 12,
    "start_time": "2022-03-20T06:56:59.128Z"
   },
   {
    "duration": 14,
    "start_time": "2022-03-20T06:56:59.142Z"
   },
   {
    "duration": 64,
    "start_time": "2022-03-20T06:56:59.158Z"
   },
   {
    "duration": 27,
    "start_time": "2022-03-20T06:56:59.224Z"
   },
   {
    "duration": 53,
    "start_time": "2022-03-20T06:56:59.253Z"
   },
   {
    "duration": 22,
    "start_time": "2022-03-20T06:56:59.309Z"
   },
   {
    "duration": 6,
    "start_time": "2022-03-20T06:56:59.333Z"
   },
   {
    "duration": 51,
    "start_time": "2022-03-20T06:56:59.342Z"
   },
   {
    "duration": 14,
    "start_time": "2022-03-20T06:56:59.395Z"
   },
   {
    "duration": 14,
    "start_time": "2022-03-20T06:56:59.411Z"
   },
   {
    "duration": 9,
    "start_time": "2022-03-20T06:56:59.427Z"
   },
   {
    "duration": 46,
    "start_time": "2022-03-20T06:56:59.438Z"
   },
   {
    "duration": 43,
    "start_time": "2022-03-20T06:56:59.487Z"
   },
   {
    "duration": 8,
    "start_time": "2022-03-20T06:56:59.532Z"
   },
   {
    "duration": 10,
    "start_time": "2022-03-20T06:56:59.543Z"
   },
   {
    "duration": 31,
    "start_time": "2022-03-20T06:56:59.555Z"
   },
   {
    "duration": 25,
    "start_time": "2022-03-20T06:56:59.588Z"
   },
   {
    "duration": 8,
    "start_time": "2022-03-20T06:56:59.615Z"
   },
   {
    "duration": 207,
    "start_time": "2022-03-20T06:56:59.625Z"
   },
   {
    "duration": 31,
    "start_time": "2022-03-20T06:56:59.834Z"
   },
   {
    "duration": 20,
    "start_time": "2022-03-20T06:56:59.883Z"
   },
   {
    "duration": 32,
    "start_time": "2022-03-20T06:56:59.912Z"
   },
   {
    "duration": 6,
    "start_time": "2022-03-20T06:56:59.946Z"
   },
   {
    "duration": 72,
    "start_time": "2022-03-20T06:56:59.983Z"
   },
   {
    "duration": 25,
    "start_time": "2022-03-20T06:57:00.058Z"
   },
   {
    "duration": 6,
    "start_time": "2022-03-20T06:57:00.086Z"
   },
   {
    "duration": 8,
    "start_time": "2022-03-20T06:57:00.094Z"
   },
   {
    "duration": 21,
    "start_time": "2022-03-20T06:57:00.104Z"
   },
   {
    "duration": 15,
    "start_time": "2022-03-20T06:57:00.127Z"
   },
   {
    "duration": 17,
    "start_time": "2022-03-20T06:57:00.144Z"
   },
   {
    "duration": 346,
    "start_time": "2022-03-20T06:57:00.163Z"
   },
   {
    "duration": 346,
    "start_time": "2022-03-20T06:57:00.511Z"
   },
   {
    "duration": 338,
    "start_time": "2022-03-20T06:57:00.859Z"
   },
   {
    "duration": 30,
    "start_time": "2022-03-20T06:57:01.199Z"
   },
   {
    "duration": 413,
    "start_time": "2022-03-20T06:57:01.231Z"
   },
   {
    "duration": 398,
    "start_time": "2022-03-20T06:57:01.646Z"
   },
   {
    "duration": 402,
    "start_time": "2022-03-20T06:57:02.046Z"
   },
   {
    "duration": 49,
    "start_time": "2022-03-20T06:57:02.451Z"
   },
   {
    "duration": 8,
    "start_time": "2022-03-20T06:57:02.502Z"
   },
   {
    "duration": 158,
    "start_time": "2022-03-20T06:57:02.512Z"
   },
   {
    "duration": 11,
    "start_time": "2022-03-20T06:57:02.672Z"
   },
   {
    "duration": 6,
    "start_time": "2022-03-20T06:57:02.685Z"
   },
   {
    "duration": 9,
    "start_time": "2022-03-20T06:57:02.693Z"
   },
   {
    "duration": 7,
    "start_time": "2022-03-20T06:57:02.704Z"
   },
   {
    "duration": 9,
    "start_time": "2022-03-20T06:57:02.713Z"
   },
   {
    "duration": 9,
    "start_time": "2022-03-20T06:57:02.724Z"
   },
   {
    "duration": 366,
    "start_time": "2022-03-20T06:57:02.735Z"
   },
   {
    "duration": 368,
    "start_time": "2022-03-20T06:57:03.103Z"
   },
   {
    "duration": 336,
    "start_time": "2022-03-20T06:57:03.473Z"
   },
   {
    "duration": 28,
    "start_time": "2022-03-20T06:57:03.812Z"
   },
   {
    "duration": 418,
    "start_time": "2022-03-20T06:57:03.843Z"
   },
   {
    "duration": 413,
    "start_time": "2022-03-20T06:57:04.263Z"
   },
   {
    "duration": 403,
    "start_time": "2022-03-20T06:57:04.682Z"
   },
   {
    "duration": 405,
    "start_time": "2022-03-20T06:57:05.088Z"
   },
   {
    "duration": 400,
    "start_time": "2022-03-20T06:57:05.495Z"
   },
   {
    "duration": 403,
    "start_time": "2022-03-20T06:57:05.897Z"
   },
   {
    "duration": 11,
    "start_time": "2022-03-20T06:57:06.302Z"
   },
   {
    "duration": 13,
    "start_time": "2022-03-20T06:57:06.315Z"
   },
   {
    "duration": 6,
    "start_time": "2022-03-20T06:57:06.330Z"
   },
   {
    "duration": 6,
    "start_time": "2022-03-20T06:57:06.338Z"
   },
   {
    "duration": 37,
    "start_time": "2022-03-20T06:57:06.347Z"
   },
   {
    "duration": 7,
    "start_time": "2022-03-20T06:57:06.386Z"
   },
   {
    "duration": 26,
    "start_time": "2022-03-20T06:57:06.396Z"
   },
   {
    "duration": 11,
    "start_time": "2022-03-20T06:57:06.424Z"
   },
   {
    "duration": 10,
    "start_time": "2022-03-20T06:57:06.437Z"
   },
   {
    "duration": 5,
    "start_time": "2022-03-20T06:57:06.483Z"
   },
   {
    "duration": 5,
    "start_time": "2022-03-20T06:57:06.491Z"
   },
   {
    "duration": 7,
    "start_time": "2022-03-20T06:57:06.498Z"
   },
   {
    "duration": 7,
    "start_time": "2022-03-20T06:57:06.507Z"
   },
   {
    "duration": 137,
    "start_time": "2022-03-20T06:57:55.428Z"
   },
   {
    "duration": 142,
    "start_time": "2022-03-20T06:57:58.659Z"
   },
   {
    "duration": 12,
    "start_time": "2022-03-20T07:06:30.570Z"
   },
   {
    "duration": 13,
    "start_time": "2022-03-20T07:14:45.078Z"
   },
   {
    "duration": 7,
    "start_time": "2022-03-20T07:21:42.233Z"
   },
   {
    "duration": 5,
    "start_time": "2022-03-20T07:21:53.100Z"
   },
   {
    "duration": 11,
    "start_time": "2022-03-20T07:22:25.630Z"
   },
   {
    "duration": 20,
    "start_time": "2022-03-20T07:27:35.928Z"
   },
   {
    "duration": 19,
    "start_time": "2022-03-20T07:57:58.379Z"
   },
   {
    "duration": 5,
    "start_time": "2022-03-20T08:04:46.683Z"
   },
   {
    "duration": 5,
    "start_time": "2022-03-20T08:04:59.435Z"
   },
   {
    "duration": 6,
    "start_time": "2022-03-20T08:05:23.726Z"
   },
   {
    "duration": 6,
    "start_time": "2022-03-20T08:05:58.861Z"
   },
   {
    "duration": 6,
    "start_time": "2022-03-20T08:06:17.326Z"
   },
   {
    "duration": 9,
    "start_time": "2022-03-20T08:06:19.197Z"
   },
   {
    "duration": 1592,
    "start_time": "2022-03-20T08:37:39.779Z"
   },
   {
    "duration": 8,
    "start_time": "2022-03-20T08:37:41.374Z"
   },
   {
    "duration": 501,
    "start_time": "2022-03-20T08:37:41.384Z"
   },
   {
    "duration": 7,
    "start_time": "2022-03-20T08:37:41.888Z"
   },
   {
    "duration": 686,
    "start_time": "2022-03-20T08:37:41.898Z"
   },
   {
    "duration": 6,
    "start_time": "2022-03-20T08:37:42.587Z"
   },
   {
    "duration": 122,
    "start_time": "2022-03-20T08:37:42.596Z"
   },
   {
    "duration": 17,
    "start_time": "2022-03-20T08:37:42.720Z"
   },
   {
    "duration": 45,
    "start_time": "2022-03-20T08:37:42.740Z"
   },
   {
    "duration": 21,
    "start_time": "2022-03-20T08:37:42.788Z"
   },
   {
    "duration": 22,
    "start_time": "2022-03-20T08:37:42.812Z"
   },
   {
    "duration": 10,
    "start_time": "2022-03-20T08:37:42.837Z"
   },
   {
    "duration": 37,
    "start_time": "2022-03-20T08:37:42.849Z"
   },
   {
    "duration": 7,
    "start_time": "2022-03-20T08:37:42.891Z"
   },
   {
    "duration": 9,
    "start_time": "2022-03-20T08:37:42.901Z"
   },
   {
    "duration": 5,
    "start_time": "2022-03-20T08:37:42.912Z"
   },
   {
    "duration": 7,
    "start_time": "2022-03-20T08:37:42.919Z"
   },
   {
    "duration": 115,
    "start_time": "2022-03-20T08:37:42.929Z"
   },
   {
    "duration": 13,
    "start_time": "2022-03-20T08:37:43.047Z"
   },
   {
    "duration": 33,
    "start_time": "2022-03-20T08:37:43.062Z"
   },
   {
    "duration": 16,
    "start_time": "2022-03-20T08:37:43.098Z"
   },
   {
    "duration": 86,
    "start_time": "2022-03-20T08:37:43.117Z"
   },
   {
    "duration": 43,
    "start_time": "2022-03-20T08:37:43.206Z"
   },
   {
    "duration": 59,
    "start_time": "2022-03-20T08:37:43.252Z"
   },
   {
    "duration": 22,
    "start_time": "2022-03-20T08:37:43.313Z"
   },
   {
    "duration": 6,
    "start_time": "2022-03-20T08:37:43.338Z"
   },
   {
    "duration": 49,
    "start_time": "2022-03-20T08:37:43.346Z"
   },
   {
    "duration": 18,
    "start_time": "2022-03-20T08:37:43.397Z"
   },
   {
    "duration": 14,
    "start_time": "2022-03-20T08:37:43.417Z"
   },
   {
    "duration": 9,
    "start_time": "2022-03-20T08:37:43.433Z"
   },
   {
    "duration": 51,
    "start_time": "2022-03-20T08:37:43.444Z"
   },
   {
    "duration": 48,
    "start_time": "2022-03-20T08:37:43.497Z"
   },
   {
    "duration": 7,
    "start_time": "2022-03-20T08:37:43.547Z"
   },
   {
    "duration": 32,
    "start_time": "2022-03-20T08:37:43.557Z"
   },
   {
    "duration": 13,
    "start_time": "2022-03-20T08:37:43.592Z"
   },
   {
    "duration": 32,
    "start_time": "2022-03-20T08:37:43.607Z"
   },
   {
    "duration": 10,
    "start_time": "2022-03-20T08:37:43.642Z"
   },
   {
    "duration": 331,
    "start_time": "2022-03-20T08:37:43.654Z"
   },
   {
    "duration": 33,
    "start_time": "2022-03-20T08:37:43.988Z"
   },
   {
    "duration": 17,
    "start_time": "2022-03-20T08:37:44.024Z"
   },
   {
    "duration": 63,
    "start_time": "2022-03-20T08:37:44.048Z"
   },
   {
    "duration": 6,
    "start_time": "2022-03-20T08:37:44.113Z"
   },
   {
    "duration": 91,
    "start_time": "2022-03-20T08:37:44.121Z"
   },
   {
    "duration": 6,
    "start_time": "2022-03-20T08:37:44.214Z"
   },
   {
    "duration": 9,
    "start_time": "2022-03-20T08:37:44.223Z"
   },
   {
    "duration": 12,
    "start_time": "2022-03-20T08:37:44.234Z"
   },
   {
    "duration": 40,
    "start_time": "2022-03-20T08:37:44.249Z"
   },
   {
    "duration": 10,
    "start_time": "2022-03-20T08:37:44.291Z"
   },
   {
    "duration": 8,
    "start_time": "2022-03-20T08:37:44.303Z"
   },
   {
    "duration": 350,
    "start_time": "2022-03-20T08:37:44.314Z"
   },
   {
    "duration": 527,
    "start_time": "2022-03-20T08:37:44.666Z"
   },
   {
    "duration": 355,
    "start_time": "2022-03-20T08:37:45.195Z"
   },
   {
    "duration": 42,
    "start_time": "2022-03-20T08:37:45.552Z"
   },
   {
    "duration": 411,
    "start_time": "2022-03-20T08:37:45.596Z"
   },
   {
    "duration": 422,
    "start_time": "2022-03-20T08:37:46.010Z"
   },
   {
    "duration": 411,
    "start_time": "2022-03-20T08:37:46.434Z"
   },
   {
    "duration": 48,
    "start_time": "2022-03-20T08:37:46.847Z"
   },
   {
    "duration": 6,
    "start_time": "2022-03-20T08:37:46.897Z"
   },
   {
    "duration": 158,
    "start_time": "2022-03-20T08:37:46.906Z"
   },
   {
    "duration": 17,
    "start_time": "2022-03-20T08:37:47.066Z"
   },
   {
    "duration": 7,
    "start_time": "2022-03-20T08:37:47.086Z"
   },
   {
    "duration": 7,
    "start_time": "2022-03-20T08:37:47.095Z"
   },
   {
    "duration": 7,
    "start_time": "2022-03-20T08:37:47.104Z"
   },
   {
    "duration": 8,
    "start_time": "2022-03-20T08:37:47.114Z"
   },
   {
    "duration": 7,
    "start_time": "2022-03-20T08:37:47.125Z"
   },
   {
    "duration": 372,
    "start_time": "2022-03-20T08:37:47.183Z"
   },
   {
    "duration": 363,
    "start_time": "2022-03-20T08:37:47.558Z"
   },
   {
    "duration": 340,
    "start_time": "2022-03-20T08:37:47.924Z"
   },
   {
    "duration": 40,
    "start_time": "2022-03-20T08:37:48.266Z"
   },
   {
    "duration": 401,
    "start_time": "2022-03-20T08:37:48.309Z"
   },
   {
    "duration": 583,
    "start_time": "2022-03-20T08:37:48.713Z"
   },
   {
    "duration": 407,
    "start_time": "2022-03-20T08:37:49.299Z"
   },
   {
    "duration": 400,
    "start_time": "2022-03-20T08:37:49.709Z"
   },
   {
    "duration": 407,
    "start_time": "2022-03-20T08:37:50.111Z"
   },
   {
    "duration": 405,
    "start_time": "2022-03-20T08:37:50.520Z"
   },
   {
    "duration": 10,
    "start_time": "2022-03-20T08:37:50.929Z"
   },
   {
    "duration": 10,
    "start_time": "2022-03-20T08:37:50.942Z"
   },
   {
    "duration": 31,
    "start_time": "2022-03-20T08:37:50.954Z"
   },
   {
    "duration": 5,
    "start_time": "2022-03-20T08:37:50.987Z"
   },
   {
    "duration": 10,
    "start_time": "2022-03-20T08:37:50.994Z"
   },
   {
    "duration": 7,
    "start_time": "2022-03-20T08:37:51.006Z"
   },
   {
    "duration": 29,
    "start_time": "2022-03-20T08:37:51.015Z"
   },
   {
    "duration": 39,
    "start_time": "2022-03-20T08:37:51.046Z"
   },
   {
    "duration": 15,
    "start_time": "2022-03-20T08:37:51.088Z"
   },
   {
    "duration": 11,
    "start_time": "2022-03-20T08:37:51.105Z"
   },
   {
    "duration": 5,
    "start_time": "2022-03-20T08:37:51.118Z"
   },
   {
    "duration": 11,
    "start_time": "2022-03-20T08:37:51.125Z"
   },
   {
    "duration": 7,
    "start_time": "2022-03-20T08:37:51.138Z"
   }
  ],
  "kernelspec": {
   "display_name": "Python 3 (ipykernel)",
   "language": "python",
   "name": "python3"
  },
  "language_info": {
   "codemirror_mode": {
    "name": "ipython",
    "version": 3
   },
   "file_extension": ".py",
   "mimetype": "text/x-python",
   "name": "python",
   "nbconvert_exporter": "python",
   "pygments_lexer": "ipython3",
   "version": "3.9.7"
  },
  "toc": {
   "base_numbering": 1,
   "nav_menu": {},
   "number_sections": true,
   "sideBar": true,
   "skip_h1_title": true,
   "title_cell": "Содержание",
   "title_sidebar": "Contents",
   "toc_cell": true,
   "toc_position": {
    "height": "calc(100% - 180px)",
    "left": "10px",
    "top": "150px",
    "width": "310.994px"
   },
   "toc_section_display": true,
   "toc_window_display": false
  }
 },
 "nbformat": 4,
 "nbformat_minor": 5
}
